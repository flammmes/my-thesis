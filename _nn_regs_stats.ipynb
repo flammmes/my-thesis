{
 "cells": [
  {
   "cell_type": "code",
   "execution_count": 1,
   "id": "e20ff980",
   "metadata": {},
   "outputs": [],
   "source": [
    "import numpy as np\n",
    "import pandas as pd\n",
    "import matplotlib.pyplot as plt\n",
    "import sklearn\n",
    "import joblib\n",
    "from sklearn.metrics import mean_squared_error\n",
    "import tensorflow as tf\n",
    "from tensorflow import keras\n",
    "#from sklearn.preprocessing import StandardScaler\n",
    "%store -r X_features\n",
    "%store -r X_features_poly\n",
    "%store -r y_labels\n",
    "\n",
    "%store -r totaldf\n"
   ]
  },
  {
   "cell_type": "code",
   "execution_count": 2,
   "id": "8fe55a25",
   "metadata": {},
   "outputs": [],
   "source": [
    "seq_model = keras.models.load_model('D:\\python\\\\partial data\\\\first')\n",
    "func_model = keras.models.load_model('D:\\python\\\\partial data\\\\second')\n",
    "rnd_model = keras.models.load_model('D:\\python\\\\partial data\\\\third')\n",
    "poly_model = keras.models.load_model('D:\\python\\\\partial data\\\\fourth')"
   ]
  },
  {
   "cell_type": "code",
   "execution_count": 3,
   "id": "79f69a51",
   "metadata": {},
   "outputs": [
    {
     "name": "stdout",
     "output_type": "stream",
     "text": [
      "72/72 [==============================] - 0s 1ms/step\n",
      "72/72 [==============================] - 0s 1ms/step\n",
      "72/72 [==============================] - 0s 2ms/step\n",
      "72/72 [==============================] - 0s 2ms/step\n"
     ]
    }
   ],
   "source": [
    "totaldf.insert(5,'sequential', (np.exp(np.power(seq_model.predict(X_features[2]),2)) -0.0012))\n",
    "totaldf.insert(6,'functional',(np.exp(np.power(func_model.predict(X_features[2]),2)) -0.0012))\n",
    "totaldf.insert(7,'3layerdeep',(np.exp(np.power(rnd_model.predict(X_features[2]),2)) -0.0012))\n",
    "totaldf.insert(8,'poly',(np.exp(np.power(poly_model.predict(X_features[2]),2)) -0.0012))\n",
    "totaldf.sequential = totaldf.sequential*totaldf.μob\n",
    "totaldf.functional = totaldf.functional*totaldf.μob\n",
    "totaldf['3layerdeep'] = totaldf['3layerdeep']*totaldf.μob\n",
    "totaldf.poly = totaldf.poly*totaldf.μob"
   ]
  },
  {
   "cell_type": "code",
   "execution_count": 4,
   "id": "7837cccd",
   "metadata": {},
   "outputs": [
    {
     "data": {
      "text/html": [
       "<div>\n",
       "<style scoped>\n",
       "    .dataframe tbody tr th:only-of-type {\n",
       "        vertical-align: middle;\n",
       "    }\n",
       "\n",
       "    .dataframe tbody tr th {\n",
       "        vertical-align: top;\n",
       "    }\n",
       "\n",
       "    .dataframe thead th {\n",
       "        text-align: right;\n",
       "    }\n",
       "</style>\n",
       "<table border=\"1\" class=\"dataframe\">\n",
       "  <thead>\n",
       "    <tr style=\"text-align: right;\">\n",
       "      <th></th>\n",
       "      <th>Pb</th>\n",
       "      <th>P</th>\n",
       "      <th>ΔP</th>\n",
       "      <th>μob</th>\n",
       "      <th>μ</th>\n",
       "      <th>sequential</th>\n",
       "      <th>functional</th>\n",
       "      <th>3layerdeep</th>\n",
       "      <th>poly</th>\n",
       "    </tr>\n",
       "  </thead>\n",
       "  <tbody>\n",
       "    <tr>\n",
       "      <th>0</th>\n",
       "      <td>2200.290403</td>\n",
       "      <td>2200.290403</td>\n",
       "      <td>0.000000</td>\n",
       "      <td>0.998694</td>\n",
       "      <td>0.998694</td>\n",
       "      <td>0.998435</td>\n",
       "      <td>0.998765</td>\n",
       "      <td>0.998713</td>\n",
       "      <td>0.998699</td>\n",
       "    </tr>\n",
       "    <tr>\n",
       "      <th>1</th>\n",
       "      <td>2200.290403</td>\n",
       "      <td>2348.433431</td>\n",
       "      <td>148.143028</td>\n",
       "      <td>0.998694</td>\n",
       "      <td>1.007933</td>\n",
       "      <td>1.008968</td>\n",
       "      <td>1.010086</td>\n",
       "      <td>1.009684</td>\n",
       "      <td>1.008329</td>\n",
       "    </tr>\n",
       "    <tr>\n",
       "      <th>2</th>\n",
       "      <td>2200.290403</td>\n",
       "      <td>2496.576459</td>\n",
       "      <td>296.286056</td>\n",
       "      <td>0.998694</td>\n",
       "      <td>1.017506</td>\n",
       "      <td>1.020441</td>\n",
       "      <td>1.017143</td>\n",
       "      <td>1.018474</td>\n",
       "      <td>1.016427</td>\n",
       "    </tr>\n",
       "    <tr>\n",
       "      <th>3</th>\n",
       "      <td>2200.290403</td>\n",
       "      <td>2644.719487</td>\n",
       "      <td>444.429084</td>\n",
       "      <td>0.998694</td>\n",
       "      <td>1.027358</td>\n",
       "      <td>1.030747</td>\n",
       "      <td>1.024869</td>\n",
       "      <td>1.027799</td>\n",
       "      <td>1.024526</td>\n",
       "    </tr>\n",
       "    <tr>\n",
       "      <th>4</th>\n",
       "      <td>2200.290403</td>\n",
       "      <td>2792.862515</td>\n",
       "      <td>592.572112</td>\n",
       "      <td>0.998694</td>\n",
       "      <td>1.037444</td>\n",
       "      <td>1.041297</td>\n",
       "      <td>1.033625</td>\n",
       "      <td>1.035797</td>\n",
       "      <td>1.036461</td>\n",
       "    </tr>\n",
       "    <tr>\n",
       "      <th>...</th>\n",
       "      <td>...</td>\n",
       "      <td>...</td>\n",
       "      <td>...</td>\n",
       "      <td>...</td>\n",
       "      <td>...</td>\n",
       "      <td>...</td>\n",
       "      <td>...</td>\n",
       "      <td>...</td>\n",
       "      <td>...</td>\n",
       "    </tr>\n",
       "    <tr>\n",
       "      <th>15</th>\n",
       "      <td>3910.215923</td>\n",
       "      <td>5560.049012</td>\n",
       "      <td>1649.833090</td>\n",
       "      <td>0.125504</td>\n",
       "      <td>0.155127</td>\n",
       "      <td>0.147039</td>\n",
       "      <td>0.149691</td>\n",
       "      <td>0.158257</td>\n",
       "      <td>0.153111</td>\n",
       "    </tr>\n",
       "    <tr>\n",
       "      <th>16</th>\n",
       "      <td>3910.215923</td>\n",
       "      <td>5670.037885</td>\n",
       "      <td>1759.821962</td>\n",
       "      <td>0.125504</td>\n",
       "      <td>0.157137</td>\n",
       "      <td>0.148420</td>\n",
       "      <td>0.150986</td>\n",
       "      <td>0.160312</td>\n",
       "      <td>0.154231</td>\n",
       "    </tr>\n",
       "    <tr>\n",
       "      <th>17</th>\n",
       "      <td>3910.215923</td>\n",
       "      <td>5780.026758</td>\n",
       "      <td>1869.810835</td>\n",
       "      <td>0.125504</td>\n",
       "      <td>0.159150</td>\n",
       "      <td>0.149802</td>\n",
       "      <td>0.152174</td>\n",
       "      <td>0.162370</td>\n",
       "      <td>0.155114</td>\n",
       "    </tr>\n",
       "    <tr>\n",
       "      <th>18</th>\n",
       "      <td>3910.215923</td>\n",
       "      <td>5890.015630</td>\n",
       "      <td>1979.799708</td>\n",
       "      <td>0.125504</td>\n",
       "      <td>0.161165</td>\n",
       "      <td>0.151187</td>\n",
       "      <td>0.153359</td>\n",
       "      <td>0.164436</td>\n",
       "      <td>0.155964</td>\n",
       "    </tr>\n",
       "    <tr>\n",
       "      <th>19</th>\n",
       "      <td>3910.215923</td>\n",
       "      <td>6000.004503</td>\n",
       "      <td>2089.788580</td>\n",
       "      <td>0.125504</td>\n",
       "      <td>0.163183</td>\n",
       "      <td>0.152572</td>\n",
       "      <td>0.154542</td>\n",
       "      <td>0.166511</td>\n",
       "      <td>0.157185</td>\n",
       "    </tr>\n",
       "  </tbody>\n",
       "</table>\n",
       "<p>2300 rows × 9 columns</p>\n",
       "</div>"
      ],
      "text/plain": [
       "             Pb            P           ΔP       μob         μ  sequential  \\\n",
       "0   2200.290403  2200.290403     0.000000  0.998694  0.998694    0.998435   \n",
       "1   2200.290403  2348.433431   148.143028  0.998694  1.007933    1.008968   \n",
       "2   2200.290403  2496.576459   296.286056  0.998694  1.017506    1.020441   \n",
       "3   2200.290403  2644.719487   444.429084  0.998694  1.027358    1.030747   \n",
       "4   2200.290403  2792.862515   592.572112  0.998694  1.037444    1.041297   \n",
       "..          ...          ...          ...       ...       ...         ...   \n",
       "15  3910.215923  5560.049012  1649.833090  0.125504  0.155127    0.147039   \n",
       "16  3910.215923  5670.037885  1759.821962  0.125504  0.157137    0.148420   \n",
       "17  3910.215923  5780.026758  1869.810835  0.125504  0.159150    0.149802   \n",
       "18  3910.215923  5890.015630  1979.799708  0.125504  0.161165    0.151187   \n",
       "19  3910.215923  6000.004503  2089.788580  0.125504  0.163183    0.152572   \n",
       "\n",
       "    functional  3layerdeep      poly  \n",
       "0     0.998765    0.998713  0.998699  \n",
       "1     1.010086    1.009684  1.008329  \n",
       "2     1.017143    1.018474  1.016427  \n",
       "3     1.024869    1.027799  1.024526  \n",
       "4     1.033625    1.035797  1.036461  \n",
       "..         ...         ...       ...  \n",
       "15    0.149691    0.158257  0.153111  \n",
       "16    0.150986    0.160312  0.154231  \n",
       "17    0.152174    0.162370  0.155114  \n",
       "18    0.153359    0.164436  0.155964  \n",
       "19    0.154542    0.166511  0.157185  \n",
       "\n",
       "[2300 rows x 9 columns]"
      ]
     },
     "execution_count": 4,
     "metadata": {},
     "output_type": "execute_result"
    }
   ],
   "source": [
    "totaldf"
   ]
  },
  {
   "cell_type": "code",
   "execution_count": 16,
   "id": "9608c500",
   "metadata": {},
   "outputs": [
    {
     "data": {
      "text/html": [
       "<div>\n",
       "<style scoped>\n",
       "    .dataframe tbody tr th:only-of-type {\n",
       "        vertical-align: middle;\n",
       "    }\n",
       "\n",
       "    .dataframe tbody tr th {\n",
       "        vertical-align: top;\n",
       "    }\n",
       "\n",
       "    .dataframe thead th {\n",
       "        text-align: right;\n",
       "    }\n",
       "</style>\n",
       "<table border=\"1\" class=\"dataframe\">\n",
       "  <thead>\n",
       "    <tr style=\"text-align: right;\">\n",
       "      <th></th>\n",
       "      <th>% AE</th>\n",
       "      <th>% Std Dev AE</th>\n",
       "      <th>%AAE</th>\n",
       "      <th>% Std Dev AAE</th>\n",
       "    </tr>\n",
       "  </thead>\n",
       "  <tbody>\n",
       "    <tr>\n",
       "      <th>1 hidden layer</th>\n",
       "      <td>-1.062161</td>\n",
       "      <td>4.898415</td>\n",
       "      <td>2.893299</td>\n",
       "      <td>4.092857</td>\n",
       "    </tr>\n",
       "    <tr>\n",
       "      <th>2 hidden layers</th>\n",
       "      <td>-0.660996</td>\n",
       "      <td>4.699448</td>\n",
       "      <td>2.820842</td>\n",
       "      <td>3.816356</td>\n",
       "    </tr>\n",
       "    <tr>\n",
       "      <th>3 hidden layers</th>\n",
       "      <td>-0.572776</td>\n",
       "      <td>4.829153</td>\n",
       "      <td>2.854177</td>\n",
       "      <td>3.937317</td>\n",
       "    </tr>\n",
       "    <tr>\n",
       "      <th>4 hidden layers</th>\n",
       "      <td>-1.105574</td>\n",
       "      <td>4.888584</td>\n",
       "      <td>2.974521</td>\n",
       "      <td>4.033953</td>\n",
       "    </tr>\n",
       "  </tbody>\n",
       "</table>\n",
       "</div>"
      ],
      "text/plain": [
       "                     % AE  % Std Dev AE      %AAE  % Std Dev AAE\n",
       "1 hidden layer  -1.062161      4.898415  2.893299       4.092857\n",
       "2 hidden layers -0.660996      4.699448  2.820842       3.816356\n",
       "3 hidden layers -0.572776      4.829153  2.854177       3.937317\n",
       "4 hidden layers -1.105574      4.888584  2.974521       4.033953"
      ]
     },
     "execution_count": 16,
     "metadata": {},
     "output_type": "execute_result"
    }
   ],
   "source": [
    "def Stats_matrix(a):\n",
    "    average_error = []\n",
    "    standard_deviation = []\n",
    "    absolute_average_error = []\n",
    "    absolute_standard_deviation =[]\n",
    "    for i in range(4):\n",
    "        average_error.append(np.average((a.iloc[:,i+5]-a.μ)/a.μ*100))\n",
    "        standard_deviation.append(np.std((a.iloc[:,i+5]-a.μ)/a.μ*100))\n",
    "        absolute_average_error.append(np.average(np.absolute((a.iloc[:,i+5]-a.μ)/a.μ*100)))\n",
    "        absolute_standard_deviation.append(np.std(np.absolute((a.iloc[:,i+5]-a.μ)/totaldf.μ*100)))\n",
    "    statistics  = pd.DataFrame(list(zip(average_error,standard_deviation,absolute_average_error,\n",
    "                                        absolute_standard_deviation)),columns = ['% AE','% Std Dev AE','%AAE','% Std Dev AAE'],index =  ['1 hidden layer','2 hidden layers','3 hidden layers','4 hidden layers'])\n",
    "    return statistics\n",
    "\n",
    "Stats_matrix(totaldf)"
   ]
  },
  {
   "cell_type": "code",
   "execution_count": 6,
   "id": "f102cfdd",
   "metadata": {},
   "outputs": [
    {
     "data": {
      "text/html": [
       "<div>\n",
       "<style scoped>\n",
       "    .dataframe tbody tr th:only-of-type {\n",
       "        vertical-align: middle;\n",
       "    }\n",
       "\n",
       "    .dataframe tbody tr th {\n",
       "        vertical-align: top;\n",
       "    }\n",
       "\n",
       "    .dataframe thead th {\n",
       "        text-align: right;\n",
       "    }\n",
       "</style>\n",
       "<table border=\"1\" class=\"dataframe\">\n",
       "  <thead>\n",
       "    <tr style=\"text-align: right;\">\n",
       "      <th></th>\n",
       "      <th>% AE</th>\n",
       "      <th>% Std Dev AE</th>\n",
       "      <th>%AAE</th>\n",
       "      <th>% Std Dev AAE</th>\n",
       "    </tr>\n",
       "  </thead>\n",
       "  <tbody>\n",
       "    <tr>\n",
       "      <th>sequential</th>\n",
       "      <td>-0.504868</td>\n",
       "      <td>3.267943</td>\n",
       "      <td>2.074556</td>\n",
       "      <td>3.942634</td>\n",
       "    </tr>\n",
       "    <tr>\n",
       "      <th>functional</th>\n",
       "      <td>-0.599416</td>\n",
       "      <td>3.400277</td>\n",
       "      <td>2.159783</td>\n",
       "      <td>4.122492</td>\n",
       "    </tr>\n",
       "    <tr>\n",
       "      <th>3layerdeep</th>\n",
       "      <td>-0.312232</td>\n",
       "      <td>3.388904</td>\n",
       "      <td>2.138888</td>\n",
       "      <td>3.880563</td>\n",
       "    </tr>\n",
       "    <tr>\n",
       "      <th>poly</th>\n",
       "      <td>-0.860724</td>\n",
       "      <td>3.381426</td>\n",
       "      <td>2.237353</td>\n",
       "      <td>4.258878</td>\n",
       "    </tr>\n",
       "  </tbody>\n",
       "</table>\n",
       "</div>"
      ],
      "text/plain": [
       "                % AE  % Std Dev AE      %AAE  % Std Dev AAE\n",
       "sequential -0.504868      3.267943  2.074556       3.942634\n",
       "functional -0.599416      3.400277  2.159783       4.122492\n",
       "3layerdeep -0.312232      3.388904  2.138888       3.880563\n",
       "poly       -0.860724      3.381426  2.237353       4.258878"
      ]
     },
     "execution_count": 6,
     "metadata": {},
     "output_type": "execute_result"
    }
   ],
   "source": [
    "visc_0_1 = totaldf.loc[(totaldf.μob<1) & (totaldf.μob>0)]\n",
    "Stats_matrix(visc_0_1)"
   ]
  },
  {
   "cell_type": "code",
   "execution_count": 7,
   "id": "a3d1302a",
   "metadata": {},
   "outputs": [
    {
     "data": {
      "text/html": [
       "<div>\n",
       "<style scoped>\n",
       "    .dataframe tbody tr th:only-of-type {\n",
       "        vertical-align: middle;\n",
       "    }\n",
       "\n",
       "    .dataframe tbody tr th {\n",
       "        vertical-align: top;\n",
       "    }\n",
       "\n",
       "    .dataframe thead th {\n",
       "        text-align: right;\n",
       "    }\n",
       "</style>\n",
       "<table border=\"1\" class=\"dataframe\">\n",
       "  <thead>\n",
       "    <tr style=\"text-align: right;\">\n",
       "      <th></th>\n",
       "      <th>% AE</th>\n",
       "      <th>% Std Dev AE</th>\n",
       "      <th>%AAE</th>\n",
       "      <th>% Std Dev AAE</th>\n",
       "    </tr>\n",
       "  </thead>\n",
       "  <tbody>\n",
       "    <tr>\n",
       "      <th>sequential</th>\n",
       "      <td>-2.887446</td>\n",
       "      <td>6.626246</td>\n",
       "      <td>4.599088</td>\n",
       "      <td>96.600027</td>\n",
       "    </tr>\n",
       "    <tr>\n",
       "      <th>functional</th>\n",
       "      <td>-1.417570</td>\n",
       "      <td>6.321835</td>\n",
       "      <td>3.999821</td>\n",
       "      <td>87.434637</td>\n",
       "    </tr>\n",
       "    <tr>\n",
       "      <th>3layerdeep</th>\n",
       "      <td>-1.883050</td>\n",
       "      <td>6.277252</td>\n",
       "      <td>4.102567</td>\n",
       "      <td>89.571823</td>\n",
       "    </tr>\n",
       "    <tr>\n",
       "      <th>poly</th>\n",
       "      <td>-2.221033</td>\n",
       "      <td>6.152967</td>\n",
       "      <td>4.036343</td>\n",
       "      <td>88.847544</td>\n",
       "    </tr>\n",
       "  </tbody>\n",
       "</table>\n",
       "</div>"
      ],
      "text/plain": [
       "                % AE  % Std Dev AE      %AAE  % Std Dev AAE\n",
       "sequential -2.887446      6.626246  4.599088      96.600027\n",
       "functional -1.417570      6.321835  3.999821      87.434637\n",
       "3layerdeep -1.883050      6.277252  4.102567      89.571823\n",
       "poly       -2.221033      6.152967  4.036343      88.847544"
      ]
     },
     "execution_count": 7,
     "metadata": {},
     "output_type": "execute_result"
    }
   ],
   "source": [
    "visc_1_5 = totaldf.loc[(totaldf.μob>1) & (totaldf.μob<5)]\n",
    "Stats_matrix(visc_1_5)"
   ]
  },
  {
   "cell_type": "code",
   "execution_count": 8,
   "id": "4805b22f",
   "metadata": {},
   "outputs": [
    {
     "data": {
      "text/html": [
       "<div>\n",
       "<style scoped>\n",
       "    .dataframe tbody tr th:only-of-type {\n",
       "        vertical-align: middle;\n",
       "    }\n",
       "\n",
       "    .dataframe tbody tr th {\n",
       "        vertical-align: top;\n",
       "    }\n",
       "\n",
       "    .dataframe thead th {\n",
       "        text-align: right;\n",
       "    }\n",
       "</style>\n",
       "<table border=\"1\" class=\"dataframe\">\n",
       "  <thead>\n",
       "    <tr style=\"text-align: right;\">\n",
       "      <th></th>\n",
       "      <th>% AE</th>\n",
       "      <th>% Std Dev AE</th>\n",
       "      <th>%AAE</th>\n",
       "      <th>% Std Dev AAE</th>\n",
       "    </tr>\n",
       "  </thead>\n",
       "  <tbody>\n",
       "    <tr>\n",
       "      <th>sequential</th>\n",
       "      <td>-1.946900</td>\n",
       "      <td>5.475792</td>\n",
       "      <td>3.224669</td>\n",
       "      <td>161.756115</td>\n",
       "    </tr>\n",
       "    <tr>\n",
       "      <th>functional</th>\n",
       "      <td>-0.852549</td>\n",
       "      <td>5.236724</td>\n",
       "      <td>3.242967</td>\n",
       "      <td>157.182288</td>\n",
       "    </tr>\n",
       "    <tr>\n",
       "      <th>3layerdeep</th>\n",
       "      <td>-1.208191</td>\n",
       "      <td>5.325683</td>\n",
       "      <td>3.314563</td>\n",
       "      <td>149.713064</td>\n",
       "    </tr>\n",
       "    <tr>\n",
       "      <th>poly</th>\n",
       "      <td>-0.830107</td>\n",
       "      <td>5.262994</td>\n",
       "      <td>3.388083</td>\n",
       "      <td>148.704768</td>\n",
       "    </tr>\n",
       "  </tbody>\n",
       "</table>\n",
       "</div>"
      ],
      "text/plain": [
       "                % AE  % Std Dev AE      %AAE  % Std Dev AAE\n",
       "sequential -1.946900      5.475792  3.224669     161.756115\n",
       "functional -0.852549      5.236724  3.242967     157.182288\n",
       "3layerdeep -1.208191      5.325683  3.314563     149.713064\n",
       "poly       -0.830107      5.262994  3.388083     148.704768"
      ]
     },
     "execution_count": 8,
     "metadata": {},
     "output_type": "execute_result"
    }
   ],
   "source": [
    "visc_5_20 = totaldf.loc[(totaldf.μob>5) & (totaldf.μob<20)]\n",
    "Stats_matrix(visc_5_20)"
   ]
  },
  {
   "cell_type": "code",
   "execution_count": 9,
   "id": "3cb7e477",
   "metadata": {},
   "outputs": [
    {
     "data": {
      "text/html": [
       "<div>\n",
       "<style scoped>\n",
       "    .dataframe tbody tr th:only-of-type {\n",
       "        vertical-align: middle;\n",
       "    }\n",
       "\n",
       "    .dataframe tbody tr th {\n",
       "        vertical-align: top;\n",
       "    }\n",
       "\n",
       "    .dataframe thead th {\n",
       "        text-align: right;\n",
       "    }\n",
       "</style>\n",
       "<table border=\"1\" class=\"dataframe\">\n",
       "  <thead>\n",
       "    <tr style=\"text-align: right;\">\n",
       "      <th></th>\n",
       "      <th>% AE</th>\n",
       "      <th>% Std Dev AE</th>\n",
       "      <th>%AAE</th>\n",
       "      <th>% Std Dev AAE</th>\n",
       "    </tr>\n",
       "  </thead>\n",
       "  <tbody>\n",
       "    <tr>\n",
       "      <th>sequential</th>\n",
       "      <td>3.004194</td>\n",
       "      <td>7.095680</td>\n",
       "      <td>4.512895</td>\n",
       "      <td>1281.936536</td>\n",
       "    </tr>\n",
       "    <tr>\n",
       "      <th>functional</th>\n",
       "      <td>3.009794</td>\n",
       "      <td>6.740489</td>\n",
       "      <td>4.828306</td>\n",
       "      <td>1152.006294</td>\n",
       "    </tr>\n",
       "    <tr>\n",
       "      <th>3layerdeep</th>\n",
       "      <td>4.327974</td>\n",
       "      <td>7.564463</td>\n",
       "      <td>5.165048</td>\n",
       "      <td>1439.562142</td>\n",
       "    </tr>\n",
       "    <tr>\n",
       "      <th>poly</th>\n",
       "      <td>0.779909</td>\n",
       "      <td>10.250493</td>\n",
       "      <td>6.715915</td>\n",
       "      <td>1652.059352</td>\n",
       "    </tr>\n",
       "  </tbody>\n",
       "</table>\n",
       "</div>"
      ],
      "text/plain": [
       "                % AE  % Std Dev AE      %AAE  % Std Dev AAE\n",
       "sequential  3.004194      7.095680  4.512895    1281.936536\n",
       "functional  3.009794      6.740489  4.828306    1152.006294\n",
       "3layerdeep  4.327974      7.564463  5.165048    1439.562142\n",
       "poly        0.779909     10.250493  6.715915    1652.059352"
      ]
     },
     "execution_count": 9,
     "metadata": {},
     "output_type": "execute_result"
    }
   ],
   "source": [
    "visc_20_plus = totaldf.loc[(totaldf.μob>20) ]\n",
    "Stats_matrix(visc_20_plus)"
   ]
  },
  {
   "cell_type": "code",
   "execution_count": 10,
   "id": "8741cec3",
   "metadata": {},
   "outputs": [],
   "source": [
    "def UndersatErrorPlot(a):\n",
    "    models = ['sequential','functional','3layerdeep','poly']\n",
    "    b = models.index(a)\n",
    "    plt.scatter((totaldf.ΔP),(totaldf.iloc[:,b+5]-totaldf.μ)/totaldf.μ*100,facecolors='none', edgecolors='b')\n",
    "    plt.title(f'Undersaturated Oil Viscosity \\n {a}')\n",
    "    plt.xlabel('Presure-Bubble point pressure(Psia)')\n",
    "    plt.ylabel('% Error')\n",
    "    plt.figure(figsize=(12,8))\n",
    "    \n"
   ]
  },
  {
   "cell_type": "code",
   "execution_count": 11,
   "id": "8a46a840",
   "metadata": {
    "scrolled": true
   },
   "outputs": [
    {
     "data": {
      "image/png": "[encoded data removed]",
      "text/plain": [
       "<Figure size 432x288 with 1 Axes>"
      ]
     },
     "metadata": {
      "needs_background": "light"
     },
     "output_type": "display_data"
    },
    {
     "data": {
      "text/plain": [
       "<Figure size 864x576 with 0 Axes>"
      ]
     },
     "metadata": {},
     "output_type": "display_data"
    }
   ],
   "source": [
    "UndersatErrorPlot('functional')"
   ]
  },
  {
   "cell_type": "code",
   "execution_count": 12,
   "id": "6ac57fef",
   "metadata": {},
   "outputs": [
    {
     "data": {
      "image/png": "[encoded data removed]",
      "text/plain": [
       "<Figure size 432x288 with 1 Axes>"
      ]
     },
     "metadata": {
      "needs_background": "light"
     },
     "output_type": "display_data"
    },
    {
     "data": {
      "text/plain": [
       "<Figure size 864x576 with 0 Axes>"
      ]
     },
     "metadata": {},
     "output_type": "display_data"
    }
   ],
   "source": [
    "UndersatErrorPlot('3layerdeep')"
   ]
  },
  {
   "cell_type": "code",
   "execution_count": 13,
   "id": "5f21c600",
   "metadata": {},
   "outputs": [],
   "source": [
    "def UndersatViscPlot(a):\n",
    "    models = ['sequential','functional','3layerdeep']\n",
    "    b = models.index(a)\n",
    "    plt.scatter(totaldf.μ,totaldf.iloc[:,b+5],facecolors ='none', edgecolors='b')\n",
    "    plt.title(f'Undersaturated Oil Viscosity \\n {a}')\n",
    "    plt.xlabel('Measured Viscosity(cp)')\n",
    "    plt.ylabel('Calculated Viscosity(cp)')\n",
    "   "
   ]
  },
  {
   "cell_type": "code",
   "execution_count": 14,
   "id": "a741a2e8",
   "metadata": {},
   "outputs": [
    {
     "data": {
      "image/png": "[encoded data removed]",
      "text/plain": [
       "<Figure size 432x288 with 1 Axes>"
      ]
     },
     "metadata": {
      "needs_background": "light"
     },
     "output_type": "display_data"
    }
   ],
   "source": [
    "UndersatViscPlot('3layerdeep')"
   ]
  },
  {
   "cell_type": "code",
   "execution_count": 17,
   "id": "eeebc848",
   "metadata": {},
   "outputs": [
    {
     "data": {
      "text/plain": [
       "Text(0, 0.5, '% Average Absolute Error')"
      ]
     },
     "execution_count": 17,
     "metadata": {},
     "output_type": "execute_result"
    },
    {
     "data": {
      "image/png": "[encoded data removed]",
      "text/plain": [
       "<Figure size 1080x576 with 1 Axes>"
      ]
     },
     "metadata": {
      "needs_background": "light"
     },
     "output_type": "display_data"
    }
   ],
   "source": [
    "press_0_25 = totaldf.loc[(totaldf.ΔP<2500)]\n",
    "press_25_50 = totaldf.loc[(totaldf.ΔP<5000)&(totaldf.ΔP>2500)]\n",
    "press_50_100 = totaldf.loc[(totaldf.ΔP<10000)&(totaldf.ΔP>5000)]\n",
    "visc_0_1 = totaldf.loc[(totaldf.μob>0) & (totaldf.μob<1)]\n",
    "visc_1_5 = totaldf.loc[(totaldf.μob>1) & (totaldf.μob<5)]\n",
    "visc_5_20 = totaldf.loc[(totaldf.μob>5) & (totaldf.μob<20)]\n",
    "visc_20_plus = totaldf.loc[(totaldf.μob>20) ]\n",
    "\n",
    "full_data = {\n",
    "    'Pdif 0-2500' : Stats_matrix(press_0_25).iloc[:,2],\n",
    "    'Pdif 2500-5000' : Stats_matrix(press_25_50).iloc[:,2],\n",
    "    'Pdif 5000-10000' : Stats_matrix(press_50_100).iloc[:,2],\n",
    "    'BP V 0-1' : Stats_matrix(visc_0_1).iloc[:,2],\n",
    "    'BP V 1-5' : Stats_matrix(visc_1_5).iloc[:,2],\n",
    "    'BP V 5-20' : Stats_matrix(visc_5_20).iloc[:,2],\n",
    "    'BP V 20+' : Stats_matrix(visc_20_plus).iloc[:,2],\n",
    "}   \n",
    "models =   ['1 hidden layer','2 hidden layers','3 hidden layers','4 hidden layers']\n",
    "\n",
    "%run my_bar_plot.ipynb\n",
    "fig, ax = plt.subplots()\n",
    "plt.rcParams['figure.figsize'] = (15, 8)\n",
    "bar_plot(ax, full_data, total_width=.8, single_width=.9,)\n",
    "plt.xticks(range(4), models)\n",
    "plt.title('Undersaturated Oil Viscosity ')\n",
    "plt.ylabel(\"% Average Absolute Error\")"
   ]
  },
  {
   "cell_type": "code",
   "execution_count": null,
   "id": "1788b76c",
   "metadata": {},
   "outputs": [],
   "source": []
  }
 ],
 "metadata": {
  "kernelspec": {
   "display_name": "Python 3 (ipykernel)",
   "language": "python",
   "name": "python3"
  },
  "language_info": {
   "codemirror_mode": {
    "name": "ipython",
    "version": 3
   },
   "file_extension": ".py",
   "mimetype": "text/x-python",
   "name": "python",
   "nbconvert_exporter": "python",
   "pygments_lexer": "ipython3",
   "version": "3.10.1"
  }
 },
 "nbformat": 4,
 "nbformat_minor": 5
}
