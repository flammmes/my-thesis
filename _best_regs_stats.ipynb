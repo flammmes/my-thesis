{
 "cells": [
  {
   "cell_type": "code",
   "execution_count": 1,
   "id": "96b01f7c",
   "metadata": {},
   "outputs": [],
   "source": [
    "import numpy as np\n",
    "import pandas as pd\n",
    "import matplotlib.pyplot as plt\n",
    "import sklearn\n",
    "import joblib\n",
    "from sklearn.metrics import mean_squared_error\n",
    "import tensorflow as tf\n",
    "from tensorflow import keras\n",
    "#from sklearn.preprocessing import StandardScaler\n",
    "\n",
    "\n",
    "%store -r X_features_full\n",
    "%store -r X_features_poly_full\n",
    "%store -r y_labels_full\n",
    "\n",
    "%store -r totaldf_full\n",
    "totaldf = totaldf_full\n",
    "X_features = X_features_full\n",
    "X_features_poly = X_features_poly_full\n",
    "y_labels = y_labels_full"
   ]
  },
  {
   "cell_type": "code",
   "execution_count": 2,
   "id": "a544778c",
   "metadata": {},
   "outputs": [],
   "source": [
    "voting_reg = joblib.load(\"voting_reg.pkl\")\n",
    "poly_ridge_reg = joblib.load(\"poly_ridge_reg.pkl\")\n",
    "svm_rbf_reg = joblib.load(\"svm_rbf_reg.pkl\")\n",
    "forest_reg = joblib.load(\"forest_regressor.pkl\")\n",
    "seq_model = keras.models.load_model('D:\\python\\\\full data\\\\first')\n",
    "\n"
   ]
  },
  {
   "cell_type": "code",
   "execution_count": 3,
   "id": "fdb384ef",
   "metadata": {},
   "outputs": [
    {
     "name": "stdout",
     "output_type": "stream",
     "text": [
      "72/72 [==============================] - 0s 1ms/step\n"
     ]
    }
   ],
   "source": [
    "totaldf.insert(7,'poly ridge μ', totaldf.μob*(np.exp(np.power(poly_ridge_reg.predict(X_features_poly[2]),2)) -0.0012))\n",
    "totaldf.insert(8,'rbf μ', totaldf.μob*(np.exp(np.power(svm_rbf_reg.predict(X_features[2]),2)) -0.0012))\n",
    "totaldf.insert(9,'forest μ', totaldf.μob*(np.exp(np.power(forest_reg.predict(X_features[2]),2)) -0.0012))\n",
    "totaldf.insert(10,'voting μ', totaldf.μob*(np.exp(np.power(voting_reg.predict(X_features[2]),2)) -0.0012))\n",
    "totaldf.insert(11,'sequential', (np.exp(np.power(seq_model.predict(X_features[2]),2)) -0.0012))\n",
    "totaldf.sequential = totaldf.sequential*totaldf.μob\n",
    "totaldf.insert(12,'Almehaideb', totaldf.μob*np.power(totaldf.P/totaldf.Pb,0.134819+1.94345*np.power(10,-4.0)*totaldf.Rsob-1.93106*np.power(10,-9.0)*np.power(totaldf.Rsob,2)))\n",
    "X = 0.776644115+0.987658646*np.log10(totaldf.μob)-0.190564677*np.log10(totaldf.Rsob)+0.009147711*totaldf.μob*np.log10(totaldf.Rsob)-0.000019111*(totaldf.P-totaldf.Pb)\n",
    "\n",
    "totaldf.insert(13,'Dindoruk and Christman',totaldf.μob +0.00006334*totaldf.ΔP*np.power(10,X))"
   ]
  },
  {
   "cell_type": "code",
   "execution_count": 4,
   "id": "d3c7645c",
   "metadata": {},
   "outputs": [
    {
     "data": {
      "text/html": [
       "<div>\n",
       "<style scoped>\n",
       "    .dataframe tbody tr th:only-of-type {\n",
       "        vertical-align: middle;\n",
       "    }\n",
       "\n",
       "    .dataframe tbody tr th {\n",
       "        vertical-align: top;\n",
       "    }\n",
       "\n",
       "    .dataframe thead th {\n",
       "        text-align: right;\n",
       "    }\n",
       "</style>\n",
       "<table border=\"1\" class=\"dataframe\">\n",
       "  <thead>\n",
       "    <tr style=\"text-align: right;\">\n",
       "      <th></th>\n",
       "      <th>% AE</th>\n",
       "      <th>% Std Dev AE</th>\n",
       "      <th>%AAE</th>\n",
       "      <th>% Std Dev AAE</th>\n",
       "    </tr>\n",
       "  </thead>\n",
       "  <tbody>\n",
       "    <tr>\n",
       "      <th>Ridge Regression</th>\n",
       "      <td>-0.061266</td>\n",
       "      <td>4.654700</td>\n",
       "      <td>2.921706</td>\n",
       "      <td>3.624033</td>\n",
       "    </tr>\n",
       "    <tr>\n",
       "      <th>SVM RBF kernel</th>\n",
       "      <td>-0.530577</td>\n",
       "      <td>4.454980</td>\n",
       "      <td>2.750931</td>\n",
       "      <td>3.544113</td>\n",
       "    </tr>\n",
       "    <tr>\n",
       "      <th>Random Forest</th>\n",
       "      <td>0.033931</td>\n",
       "      <td>4.617648</td>\n",
       "      <td>2.792770</td>\n",
       "      <td>3.677535</td>\n",
       "    </tr>\n",
       "    <tr>\n",
       "      <th>Voting Regressor</th>\n",
       "      <td>-0.288119</td>\n",
       "      <td>4.392745</td>\n",
       "      <td>2.680833</td>\n",
       "      <td>3.491756</td>\n",
       "    </tr>\n",
       "    <tr>\n",
       "      <th>ANN with 1 layer</th>\n",
       "      <td>-0.049976</td>\n",
       "      <td>4.628986</td>\n",
       "      <td>2.703566</td>\n",
       "      <td>3.757757</td>\n",
       "    </tr>\n",
       "    <tr>\n",
       "      <th>Beal</th>\n",
       "      <td>2.868533</td>\n",
       "      <td>10.281060</td>\n",
       "      <td>6.464934</td>\n",
       "      <td>8.493134</td>\n",
       "    </tr>\n",
       "    <tr>\n",
       "      <th>Kouzel</th>\n",
       "      <td>6.067123</td>\n",
       "      <td>15.541939</td>\n",
       "      <td>7.501041</td>\n",
       "      <td>14.902894</td>\n",
       "    </tr>\n",
       "  </tbody>\n",
       "</table>\n",
       "</div>"
      ],
      "text/plain": [
       "                      % AE  % Std Dev AE      %AAE  % Std Dev AAE\n",
       "Ridge Regression -0.061266      4.654700  2.921706       3.624033\n",
       "SVM RBF kernel   -0.530577      4.454980  2.750931       3.544113\n",
       "Random Forest     0.033931      4.617648  2.792770       3.677535\n",
       "Voting Regressor -0.288119      4.392745  2.680833       3.491756\n",
       "ANN with 1 layer -0.049976      4.628986  2.703566       3.757757\n",
       "Beal              2.868533     10.281060  6.464934       8.493134\n",
       "Kouzel            6.067123     15.541939  7.501041      14.902894"
      ]
     },
     "execution_count": 4,
     "metadata": {},
     "output_type": "execute_result"
    }
   ],
   "source": [
    "def Stats_matrix(a):\n",
    "    average_error = []\n",
    "    standard_deviation = []\n",
    "    absolute_average_error = []\n",
    "    absolute_standard_deviation =[]\n",
    "    for i in range(7):\n",
    "        average_error.append(np.average((a.iloc[:,i+7]-a.μ)/a.μ*100))\n",
    "        standard_deviation.append(np.std((a.iloc[:,i+7]-a.μ)/a.μ*100))\n",
    "        absolute_average_error.append(np.average(np.absolute((a.iloc[:,i+7]-a.μ)/a.μ*100)))\n",
    "        absolute_standard_deviation.append(np.std(np.absolute((a.iloc[:,i+7]-a.μ)/totaldf.μ*100)))\n",
    "    statistics  = pd.DataFrame(list(zip(average_error,standard_deviation,absolute_average_error,\n",
    "                                        absolute_standard_deviation)),columns = ['% AE','% Std Dev AE','%AAE','% Std Dev AAE'],index = ['Ridge Regression','SVM RBF kernel','Random Forest','Voting Regressor','ANN with 1 layer','Beal','Kouzel'])\n",
    "    return statistics\n",
    "\n",
    "Stats_matrix(totaldf)"
   ]
  }
 ],
 "metadata": {
  "kernelspec": {
   "display_name": "Python 3 (ipykernel)",
   "language": "python",
   "name": "python3"
  },
  "language_info": {
   "codemirror_mode": {
    "name": "ipython",
    "version": 3
   },
   "file_extension": ".py",
   "mimetype": "text/x-python",
   "name": "python",
   "nbconvert_exporter": "python",
   "pygments_lexer": "ipython3",
   "version": "3.10.1"
  }
 },
 "nbformat": 4,
 "nbformat_minor": 5
}
