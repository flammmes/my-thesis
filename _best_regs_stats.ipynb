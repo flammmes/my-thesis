{
 "cells": [
  {
   "cell_type": "code",
   "execution_count": 1,
   "id": "f5999f98",
   "metadata": {},
   "outputs": [],
   "source": [
    "import numpy as np\n",
    "import pandas as pd\n",
    "import matplotlib.pyplot as plt\n",
    "import sklearn\n",
    "import joblib\n",
    "from sklearn.metrics import mean_squared_error\n",
    "import tensorflow as tf\n",
    "from tensorflow import keras\n",
    "#from sklearn.preprocessing import StandardScaler\n",
    "\n",
    "\n",
    "%store -r X_features\n",
    "%store -r X_features_poly\n",
    "%store -r y_labels\n",
    "\n",
    "%store -r totaldf\n",
    "totaldf = totaldf\n"
   ]
  },
  {
   "cell_type": "code",
   "execution_count": 2,
   "id": "935a9d06",
   "metadata": {},
   "outputs": [],
   "source": [
    "voting_reg = joblib.load(\"voting_reg.pkl\")\n",
    "poly_ridge_reg = joblib.load(\"poly_ridge_reg.pkl\")\n",
    "svm_rbf_reg = joblib.load(\"svm_rbf_reg.pkl\")\n",
    "forest_reg = joblib.load(\"forest_regressor.pkl\")\n",
    "seq_model = keras.models.load_model('D:\\python\\\\partial data\\\\first')\n",
    "\n"
   ]
  },
  {
   "cell_type": "code",
   "execution_count": 3,
   "id": "6ac6a7af",
   "metadata": {},
   "outputs": [
    {
     "name": "stdout",
     "output_type": "stream",
     "text": [
      "72/72 [==============================] - 0s 2ms/step\n"
     ]
    }
   ],
   "source": [
    "totaldf.insert(5,'poly ridge μ', totaldf.μob*(np.exp(np.power(poly_ridge_reg.predict(X_features_poly[2]),2)) -0.0012))\n",
    "totaldf.insert(6,'rbf μ', totaldf.μob*(np.exp(np.power(svm_rbf_reg.predict(X_features[2]),2)) -0.0012))\n",
    "totaldf.insert(7,'forest μ', totaldf.μob*(np.exp(np.power(forest_reg.predict(X_features[2]),2)) -0.0012))\n",
    "totaldf.insert(8,'voting μ', totaldf.μob*(np.exp(np.power(voting_reg.predict(X_features[2]),2)) -0.0012))\n",
    "totaldf.insert(9,'sequential', (np.exp(np.power(seq_model.predict(X_features[2]),2)) -0.0012))\n",
    "totaldf.sequential = totaldf.sequential*totaldf.μob\n",
    "totaldf.insert(10,'Beal', totaldf['μob'] +(0.001*totaldf['ΔP'])*(0.024*np.power(totaldf['μob'] ,1.6)+0.038*np.power(totaldf['μob'] ,0.56)))\n",
    "totaldf.insert(11,'Kouzel modified',totaldf['μob']*np.exp((-2.34864*np.power(10,-5.0)+9.30705*np.power(10,-5.0)*np.power(totaldf['μob'],0.181))*totaldf.ΔP))"
   ]
  },
  {
   "cell_type": "code",
   "execution_count": 4,
   "id": "c4f15490",
   "metadata": {},
   "outputs": [
    {
     "data": {
      "text/html": [
       "<div>\n",
       "<style scoped>\n",
       "    .dataframe tbody tr th:only-of-type {\n",
       "        vertical-align: middle;\n",
       "    }\n",
       "\n",
       "    .dataframe tbody tr th {\n",
       "        vertical-align: top;\n",
       "    }\n",
       "\n",
       "    .dataframe thead th {\n",
       "        text-align: right;\n",
       "    }\n",
       "</style>\n",
       "<table border=\"1\" class=\"dataframe\">\n",
       "  <thead>\n",
       "    <tr style=\"text-align: right;\">\n",
       "      <th></th>\n",
       "      <th>% AE</th>\n",
       "      <th>% Std Dev AE</th>\n",
       "      <th>%AAE</th>\n",
       "      <th>% Std Dev AAE</th>\n",
       "    </tr>\n",
       "  </thead>\n",
       "  <tbody>\n",
       "    <tr>\n",
       "      <th>Ridge Regression</th>\n",
       "      <td>-0.472932</td>\n",
       "      <td>5.881186</td>\n",
       "      <td>3.606496</td>\n",
       "      <td>4.669604</td>\n",
       "    </tr>\n",
       "    <tr>\n",
       "      <th>SVM RBF kernel</th>\n",
       "      <td>-0.794406</td>\n",
       "      <td>5.763032</td>\n",
       "      <td>3.475656</td>\n",
       "      <td>4.665130</td>\n",
       "    </tr>\n",
       "    <tr>\n",
       "      <th>Random Forest</th>\n",
       "      <td>-0.303854</td>\n",
       "      <td>5.549532</td>\n",
       "      <td>3.493291</td>\n",
       "      <td>4.322794</td>\n",
       "    </tr>\n",
       "    <tr>\n",
       "      <th>Voting Regressor</th>\n",
       "      <td>-0.580324</td>\n",
       "      <td>5.574630</td>\n",
       "      <td>3.402190</td>\n",
       "      <td>4.454030</td>\n",
       "    </tr>\n",
       "    <tr>\n",
       "      <th>ANN with 1 layer</th>\n",
       "      <td>-1.023799</td>\n",
       "      <td>5.710593</td>\n",
       "      <td>3.438392</td>\n",
       "      <td>4.672954</td>\n",
       "    </tr>\n",
       "    <tr>\n",
       "      <th>Beal</th>\n",
       "      <td>-2.175139</td>\n",
       "      <td>5.988947</td>\n",
       "      <td>3.832978</td>\n",
       "      <td>5.089891</td>\n",
       "    </tr>\n",
       "    <tr>\n",
       "      <th>Kouzel</th>\n",
       "      <td>-2.154380</td>\n",
       "      <td>6.641349</td>\n",
       "      <td>4.222523</td>\n",
       "      <td>5.560501</td>\n",
       "    </tr>\n",
       "  </tbody>\n",
       "</table>\n",
       "</div>"
      ],
      "text/plain": [
       "                      % AE  % Std Dev AE      %AAE  % Std Dev AAE\n",
       "Ridge Regression -0.472932      5.881186  3.606496       4.669604\n",
       "SVM RBF kernel   -0.794406      5.763032  3.475656       4.665130\n",
       "Random Forest    -0.303854      5.549532  3.493291       4.322794\n",
       "Voting Regressor -0.580324      5.574630  3.402190       4.454030\n",
       "ANN with 1 layer -1.023799      5.710593  3.438392       4.672954\n",
       "Beal             -2.175139      5.988947  3.832978       5.089891\n",
       "Kouzel           -2.154380      6.641349  4.222523       5.560501"
      ]
     },
     "execution_count": 4,
     "metadata": {},
     "output_type": "execute_result"
    }
   ],
   "source": [
    "def Stats_matrix(a):\n",
    "    average_error = []\n",
    "    standard_deviation = []\n",
    "    absolute_average_error = []\n",
    "    absolute_standard_deviation =[]\n",
    "    for i in range(7):\n",
    "        average_error.append(np.average((a.iloc[:,i+5]-a.μ)/a.μ*100))\n",
    "        standard_deviation.append(np.std((a.iloc[:,i+5]-a.μ)/a.μ*100))\n",
    "        absolute_average_error.append(np.average(np.absolute((a.iloc[:,i+5]-a.μ)/a.μ*100)))\n",
    "        absolute_standard_deviation.append(np.std(np.absolute((a.iloc[:,i+5]-a.μ)/totaldf.μ*100)))\n",
    "    statistics  = pd.DataFrame(list(zip(average_error,standard_deviation,absolute_average_error,\n",
    "                                        absolute_standard_deviation)),columns = ['% AE','% Std Dev AE','%AAE','% Std Dev AAE'],index = ['Ridge Regression','SVM RBF kernel','Random Forest','Voting Regressor','ANN with 1 layer','Beal','Kouzel'])\n",
    "    return statistics\n",
    "\n",
    "Stats_matrix(totaldf)"
   ]
  },
  {
   "cell_type": "code",
   "execution_count": 5,
   "id": "b4859f67",
   "metadata": {},
   "outputs": [
    {
     "data": {
      "text/html": [
       "<div>\n",
       "<style scoped>\n",
       "    .dataframe tbody tr th:only-of-type {\n",
       "        vertical-align: middle;\n",
       "    }\n",
       "\n",
       "    .dataframe tbody tr th {\n",
       "        vertical-align: top;\n",
       "    }\n",
       "\n",
       "    .dataframe thead th {\n",
       "        text-align: right;\n",
       "    }\n",
       "</style>\n",
       "<table border=\"1\" class=\"dataframe\">\n",
       "  <thead>\n",
       "    <tr style=\"text-align: right;\">\n",
       "      <th></th>\n",
       "      <th>% AE</th>\n",
       "      <th>% Std Dev AE</th>\n",
       "      <th>%AAE</th>\n",
       "      <th>% Std Dev AAE</th>\n",
       "    </tr>\n",
       "  </thead>\n",
       "  <tbody>\n",
       "    <tr>\n",
       "      <th>Ridge Regression</th>\n",
       "      <td>0.072108</td>\n",
       "      <td>6.509248</td>\n",
       "      <td>3.838866</td>\n",
       "      <td>6.806503</td>\n",
       "    </tr>\n",
       "    <tr>\n",
       "      <th>SVM RBF kernel</th>\n",
       "      <td>-0.532077</td>\n",
       "      <td>6.373293</td>\n",
       "      <td>3.631990</td>\n",
       "      <td>6.790930</td>\n",
       "    </tr>\n",
       "    <tr>\n",
       "      <th>Random Forest</th>\n",
       "      <td>-0.116098</td>\n",
       "      <td>5.971904</td>\n",
       "      <td>3.594845</td>\n",
       "      <td>6.934348</td>\n",
       "    </tr>\n",
       "    <tr>\n",
       "      <th>Voting Regressor</th>\n",
       "      <td>-0.371507</td>\n",
       "      <td>6.126770</td>\n",
       "      <td>3.553393</td>\n",
       "      <td>6.810214</td>\n",
       "    </tr>\n",
       "    <tr>\n",
       "      <th>ANN with 1 layer</th>\n",
       "      <td>-0.507048</td>\n",
       "      <td>6.291255</td>\n",
       "      <td>3.594151</td>\n",
       "      <td>7.070670</td>\n",
       "    </tr>\n",
       "    <tr>\n",
       "      <th>Beal</th>\n",
       "      <td>-1.162894</td>\n",
       "      <td>6.450436</td>\n",
       "      <td>3.680171</td>\n",
       "      <td>8.143270</td>\n",
       "    </tr>\n",
       "    <tr>\n",
       "      <th>Kouzel</th>\n",
       "      <td>-3.298770</td>\n",
       "      <td>7.359645</td>\n",
       "      <td>4.604329</td>\n",
       "      <td>7.877434</td>\n",
       "    </tr>\n",
       "  </tbody>\n",
       "</table>\n",
       "</div>"
      ],
      "text/plain": [
       "                      % AE  % Std Dev AE      %AAE  % Std Dev AAE\n",
       "Ridge Regression  0.072108      6.509248  3.838866       6.806503\n",
       "SVM RBF kernel   -0.532077      6.373293  3.631990       6.790930\n",
       "Random Forest    -0.116098      5.971904  3.594845       6.934348\n",
       "Voting Regressor -0.371507      6.126770  3.553393       6.810214\n",
       "ANN with 1 layer -0.507048      6.291255  3.594151       7.070670\n",
       "Beal             -1.162894      6.450436  3.680171       8.143270\n",
       "Kouzel           -3.298770      7.359645  4.604329       7.877434"
      ]
     },
     "execution_count": 5,
     "metadata": {},
     "output_type": "execute_result"
    }
   ],
   "source": [
    "visc_0_1 = totaldf.loc[(totaldf.μob<1) & (totaldf.μob>0)]\n",
    "Stats_matrix(visc_0_1)"
   ]
  },
  {
   "cell_type": "code",
   "execution_count": 6,
   "id": "22ef8eab",
   "metadata": {},
   "outputs": [
    {
     "data": {
      "text/html": [
       "<div>\n",
       "<style scoped>\n",
       "    .dataframe tbody tr th:only-of-type {\n",
       "        vertical-align: middle;\n",
       "    }\n",
       "\n",
       "    .dataframe tbody tr th {\n",
       "        vertical-align: top;\n",
       "    }\n",
       "\n",
       "    .dataframe thead th {\n",
       "        text-align: right;\n",
       "    }\n",
       "</style>\n",
       "<table border=\"1\" class=\"dataframe\">\n",
       "  <thead>\n",
       "    <tr style=\"text-align: right;\">\n",
       "      <th></th>\n",
       "      <th>% AE</th>\n",
       "      <th>% Std Dev AE</th>\n",
       "      <th>%AAE</th>\n",
       "      <th>% Std Dev AAE</th>\n",
       "    </tr>\n",
       "  </thead>\n",
       "  <tbody>\n",
       "    <tr>\n",
       "      <th>Ridge Regression</th>\n",
       "      <td>-1.018508</td>\n",
       "      <td>5.025986</td>\n",
       "      <td>3.407843</td>\n",
       "      <td>42.415641</td>\n",
       "    </tr>\n",
       "    <tr>\n",
       "      <th>SVM RBF kernel</th>\n",
       "      <td>-1.422955</td>\n",
       "      <td>5.197634</td>\n",
       "      <td>3.566062</td>\n",
       "      <td>44.900586</td>\n",
       "    </tr>\n",
       "    <tr>\n",
       "      <th>Random Forest</th>\n",
       "      <td>-0.635388</td>\n",
       "      <td>5.269928</td>\n",
       "      <td>3.605800</td>\n",
       "      <td>43.950757</td>\n",
       "    </tr>\n",
       "    <tr>\n",
       "      <th>Voting Regressor</th>\n",
       "      <td>-1.037631</td>\n",
       "      <td>5.085633</td>\n",
       "      <td>3.463900</td>\n",
       "      <td>42.913525</td>\n",
       "    </tr>\n",
       "    <tr>\n",
       "      <th>ANN with 1 layer</th>\n",
       "      <td>-1.621323</td>\n",
       "      <td>4.959520</td>\n",
       "      <td>3.437040</td>\n",
       "      <td>43.873312</td>\n",
       "    </tr>\n",
       "    <tr>\n",
       "      <th>Beal</th>\n",
       "      <td>-4.357824</td>\n",
       "      <td>5.175205</td>\n",
       "      <td>4.836688</td>\n",
       "      <td>55.144181</td>\n",
       "    </tr>\n",
       "    <tr>\n",
       "      <th>Kouzel</th>\n",
       "      <td>-1.180694</td>\n",
       "      <td>4.970269</td>\n",
       "      <td>3.596200</td>\n",
       "      <td>39.466727</td>\n",
       "    </tr>\n",
       "  </tbody>\n",
       "</table>\n",
       "</div>"
      ],
      "text/plain": [
       "                      % AE  % Std Dev AE      %AAE  % Std Dev AAE\n",
       "Ridge Regression -1.018508      5.025986  3.407843      42.415641\n",
       "SVM RBF kernel   -1.422955      5.197634  3.566062      44.900586\n",
       "Random Forest    -0.635388      5.269928  3.605800      43.950757\n",
       "Voting Regressor -1.037631      5.085633  3.463900      42.913525\n",
       "ANN with 1 layer -1.621323      4.959520  3.437040      43.873312\n",
       "Beal             -4.357824      5.175205  4.836688      55.144181\n",
       "Kouzel           -1.180694      4.970269  3.596200      39.466727"
      ]
     },
     "execution_count": 6,
     "metadata": {},
     "output_type": "execute_result"
    }
   ],
   "source": [
    "visc_1_5 = totaldf.loc[(totaldf.μob>1) & (totaldf.μob<5)]\n",
    "Stats_matrix(visc_1_5)"
   ]
  },
  {
   "cell_type": "code",
   "execution_count": 7,
   "id": "aaf30181",
   "metadata": {},
   "outputs": [
    {
     "data": {
      "text/html": [
       "<div>\n",
       "<style scoped>\n",
       "    .dataframe tbody tr th:only-of-type {\n",
       "        vertical-align: middle;\n",
       "    }\n",
       "\n",
       "    .dataframe tbody tr th {\n",
       "        vertical-align: top;\n",
       "    }\n",
       "\n",
       "    .dataframe thead th {\n",
       "        text-align: right;\n",
       "    }\n",
       "</style>\n",
       "<table border=\"1\" class=\"dataframe\">\n",
       "  <thead>\n",
       "    <tr style=\"text-align: right;\">\n",
       "      <th></th>\n",
       "      <th>% AE</th>\n",
       "      <th>% Std Dev AE</th>\n",
       "      <th>%AAE</th>\n",
       "      <th>% Std Dev AAE</th>\n",
       "    </tr>\n",
       "  </thead>\n",
       "  <tbody>\n",
       "    <tr>\n",
       "      <th>Ridge Regression</th>\n",
       "      <td>-1.162761</td>\n",
       "      <td>4.119965</td>\n",
       "      <td>2.773814</td>\n",
       "      <td>157.228270</td>\n",
       "    </tr>\n",
       "    <tr>\n",
       "      <th>SVM RBF kernel</th>\n",
       "      <td>-0.427637</td>\n",
       "      <td>3.905952</td>\n",
       "      <td>2.625764</td>\n",
       "      <td>135.115206</td>\n",
       "    </tr>\n",
       "    <tr>\n",
       "      <th>Random Forest</th>\n",
       "      <td>-0.075540</td>\n",
       "      <td>3.973671</td>\n",
       "      <td>2.708963</td>\n",
       "      <td>131.734675</td>\n",
       "    </tr>\n",
       "    <tr>\n",
       "      <th>Voting Regressor</th>\n",
       "      <td>-0.252817</td>\n",
       "      <td>3.824722</td>\n",
       "      <td>2.557161</td>\n",
       "      <td>128.761582</td>\n",
       "    </tr>\n",
       "    <tr>\n",
       "      <th>ANN with 1 layer</th>\n",
       "      <td>-1.454037</td>\n",
       "      <td>3.867069</td>\n",
       "      <td>2.443161</td>\n",
       "      <td>151.236454</td>\n",
       "    </tr>\n",
       "    <tr>\n",
       "      <th>Beal</th>\n",
       "      <td>-1.963531</td>\n",
       "      <td>4.324108</td>\n",
       "      <td>2.537759</td>\n",
       "      <td>154.457237</td>\n",
       "    </tr>\n",
       "    <tr>\n",
       "      <th>Kouzel</th>\n",
       "      <td>0.989467</td>\n",
       "      <td>4.925511</td>\n",
       "      <td>3.658870</td>\n",
       "      <td>155.166079</td>\n",
       "    </tr>\n",
       "  </tbody>\n",
       "</table>\n",
       "</div>"
      ],
      "text/plain": [
       "                      % AE  % Std Dev AE      %AAE  % Std Dev AAE\n",
       "Ridge Regression -1.162761      4.119965  2.773814     157.228270\n",
       "SVM RBF kernel   -0.427637      3.905952  2.625764     135.115206\n",
       "Random Forest    -0.075540      3.973671  2.708963     131.734675\n",
       "Voting Regressor -0.252817      3.824722  2.557161     128.761582\n",
       "ANN with 1 layer -1.454037      3.867069  2.443161     151.236454\n",
       "Beal             -1.963531      4.324108  2.537759     154.457237\n",
       "Kouzel            0.989467      4.925511  3.658870     155.166079"
      ]
     },
     "execution_count": 7,
     "metadata": {},
     "output_type": "execute_result"
    }
   ],
   "source": [
    "visc_5_20 = totaldf.loc[(totaldf.μob>5) & (totaldf.μob<20)]\n",
    "Stats_matrix(visc_5_20)"
   ]
  },
  {
   "cell_type": "code",
   "execution_count": 8,
   "id": "916d5f8e",
   "metadata": {},
   "outputs": [],
   "source": [
    "def UndersatErrorPlot(a):\n",
    "    models = ['forest','svm rbf','svm lin poly','ridge']\n",
    "    b = models.index(a)\n",
    "    plt.scatter((totaldf.ΔP),(totaldf.iloc[:,b+7]-totaldf.μ)/totaldf.μ*100,facecolors='none', edgecolors='b')\n",
    "    plt.title(f'Undersaturated Oil Viscosity \\n {a}')\n",
    "    plt.xlabel('Presure-Bubble point pressure(Psia)')\n",
    "    plt.ylabel('% Error')\n",
    "    plt.figure(figsize=(12,8))\n",
    "    \n"
   ]
  },
  {
   "cell_type": "code",
   "execution_count": 9,
   "id": "7252d999",
   "metadata": {},
   "outputs": [
    {
     "data": {
      "image/png": "[encoded data removed]",
      "text/plain": [
       "<Figure size 432x288 with 1 Axes>"
      ]
     },
     "metadata": {
      "needs_background": "light"
     },
     "output_type": "display_data"
    },
    {
     "data": {
      "text/plain": [
       "<Figure size 864x576 with 0 Axes>"
      ]
     },
     "metadata": {},
     "output_type": "display_data"
    }
   ],
   "source": [
    "UndersatErrorPlot('svm rbf')"
   ]
  },
  {
   "cell_type": "code",
   "execution_count": 10,
   "id": "097631ce",
   "metadata": {},
   "outputs": [
    {
     "data": {
      "image/png": "[encoded data removed]",
      "text/plain": [
       "<Figure size 432x288 with 1 Axes>"
      ]
     },
     "metadata": {
      "needs_background": "light"
     },
     "output_type": "display_data"
    },
    {
     "data": {
      "text/plain": [
       "<Figure size 864x576 with 0 Axes>"
      ]
     },
     "metadata": {},
     "output_type": "display_data"
    }
   ],
   "source": [
    "UndersatErrorPlot('svm lin poly')"
   ]
  },
  {
   "cell_type": "code",
   "execution_count": 11,
   "id": "d38858d9",
   "metadata": {},
   "outputs": [],
   "source": [
    "def UndersatViscPlot(a):\n",
    "    models = ['forest','svm rbf','svm lin poly','ridge']\n",
    "    b = models.index(a)\n",
    "    plt.scatter(totaldf.μ,totaldf.iloc[:,b+7],facecolors ='none', edgecolors='b')\n",
    "    plt.title(f'Undersaturated Oil Viscosity \\n {a}')\n",
    "    plt.xlabel('Measured Viscosity(cp)')\n",
    "    plt.ylabel('Calculated Viscosity(cp)')\n",
    "   "
   ]
  }
 ],
 "metadata": {
  "kernelspec": {
   "display_name": "Python 3 (ipykernel)",
   "language": "python",
   "name": "python3"
  },
  "language_info": {
   "codemirror_mode": {
    "name": "ipython",
    "version": 3
   },
   "file_extension": ".py",
   "mimetype": "text/x-python",
   "name": "python",
   "nbconvert_exporter": "python",
   "pygments_lexer": "ipython3",
   "version": "3.10.1"
  }
 },
 "nbformat": 4,
 "nbformat_minor": 5
}
