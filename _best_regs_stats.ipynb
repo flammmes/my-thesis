{
 "cells": [
  {
   "cell_type": "code",
   "execution_count": 1,
   "id": "96b01f7c",
   "metadata": {},
   "outputs": [],
   "source": [
    "import numpy as np\n",
    "import pandas as pd\n",
    "import matplotlib.pyplot as plt\n",
    "import sklearn\n",
    "import joblib\n",
    "from sklearn.metrics import mean_squared_error\n",
    "import tensorflow as tf\n",
    "from tensorflow import keras\n",
    "#from sklearn.preprocessing import StandardScaler\n",
    "\n",
    "\n",
    "%store -r X_features_full\n",
    "%store -r X_features_poly_full\n",
    "%store -r y_labels_full\n",
    "\n",
    "%store -r totaldf_full\n",
    "totaldf = totaldf_full\n",
    "X_features = X_features_full\n",
    "X_features_poly = X_features_poly_full\n",
    "y_labels = y_labels_full"
   ]
  },
  {
   "cell_type": "code",
   "execution_count": 2,
   "id": "a544778c",
   "metadata": {},
   "outputs": [],
   "source": [
    "voting_reg = joblib.load(\"voting_reg.pkl\")\n",
    "poly_ridge_reg = joblib.load(\"poly_ridge_reg.pkl\")\n",
    "svm_rbf_reg = joblib.load(\"svm_rbf_reg.pkl\")\n",
    "forest_reg = joblib.load(\"forest_regressor.pkl\")\n",
    "seq_model = keras.models.load_model('D:\\python\\\\full data\\\\first')\n",
    "\n"
   ]
  },
  {
   "cell_type": "code",
   "execution_count": null,
   "id": "d3d1a42d",
   "metadata": {},
   "outputs": [],
   "source": []
  },
  {
   "cell_type": "code",
   "execution_count": null,
   "id": "b9755833",
   "metadata": {},
   "outputs": [],
   "source": []
  },
  {
   "cell_type": "code",
   "execution_count": 3,
   "id": "fdb384ef",
   "metadata": {},
   "outputs": [
    {
     "name": "stdout",
     "output_type": "stream",
     "text": [
      "72/72 [==============================] - 0s 1ms/step\n"
     ]
    }
   ],
   "source": [
    "totaldf.insert(7,'poly ridge μ', totaldf.μob*(np.exp(np.power(poly_ridge_reg.predict(X_features_poly[2]),2)) -0.0012))\n",
    "totaldf.insert(8,'rbf μ', totaldf.μob*(np.exp(np.power(svm_rbf_reg.predict(X_features[2]),2)) -0.0012))\n",
    "totaldf.insert(9,'forest μ', totaldf.μob*(np.exp(np.power(forest_reg.predict(X_features[2]),2)) -0.0012))\n",
    "totaldf.insert(10,'voting μ', totaldf.μob*(np.exp(np.power(voting_reg.predict(X_features[2]),2)) -0.0012))\n",
    "totaldf.insert(11,'sequential', (np.exp(np.power(seq_model.predict(X_features[2]),2)) -0.0012))\n",
    "totaldf.sequential = totaldf.sequential*totaldf.μob\n",
    "totaldf.insert(12,'Almehaideb', totaldf.μob*np.power(totaldf.P/totaldf.Pb,0.134819+1.94345*np.power(10,-4.0)*totaldf.Rsob-1.93106*np.power(10,-9.0)*np.power(totaldf.Rsob,2)))\n",
    "X = 0.776644115+0.987658646*np.log10(totaldf.μob)-0.190564677*np.log10(totaldf.Rsob)+0.009147711*totaldf.μob*np.log10(totaldf.Rsob)-0.000019111*(totaldf.P-totaldf.Pb)\n",
    "\n",
    "totaldf.insert(13,'Dindoruk and Christman',totaldf.μob +0.00006334*totaldf.ΔP*np.power(10,X))"
   ]
  },
  {
   "cell_type": "code",
   "execution_count": 42,
   "id": "e0b958d0",
   "metadata": {},
   "outputs": [
    {
     "data": {
      "text/plain": [
       "0    3.330969\n",
       "1    3.142564\n",
       "2    3.057571\n",
       "3    3.050594\n",
       "4    3.310500\n",
       "5    7.207309\n",
       "6    6.781396\n",
       "dtype: float64"
      ]
     },
     "execution_count": 42,
     "metadata": {},
     "output_type": "execute_result"
    }
   ],
   "source": [
    "def Stats_matrix(a):\n",
    "    absolute_average_error = []\n",
    "    for i in range(7):\n",
    "        absolute_average_error.append(np.average(np.absolute((a.iloc[:,i+7]-a.μ)/a.μ*100)))\n",
    "    statistics  = pd.Series(absolute_average_error)\n",
    "    return statistics\n",
    "\n",
    "Stats_matrix(totaldf)"
   ]
  },
  {
   "cell_type": "code",
   "execution_count": 43,
   "id": "b8e1cb20",
   "metadata": {},
   "outputs": [],
   "source": [
    "y = Stats_matrix(totaldf)"
   ]
  },
  {
   "cell_type": "code",
   "execution_count": 47,
   "id": "9456d4e4",
   "metadata": {},
   "outputs": [
    {
     "data": {
      "text/plain": [
       "[3.33096942124699,\n",
       " 3.1425644536963255,\n",
       " 3.057570817645391,\n",
       " 3.0505939684710857,\n",
       " 3.3104998648975585,\n",
       " 7.207309452538061,\n",
       " 6.78139588388417]"
      ]
     },
     "execution_count": 47,
     "metadata": {},
     "output_type": "execute_result"
    }
   ],
   "source": [
    "y.values.tolist()"
   ]
  },
  {
   "cell_type": "code",
   "execution_count": 48,
   "id": "77a2ce50",
   "metadata": {},
   "outputs": [
    {
     "data": {
      "text/plain": [
       "0    3.330969\n",
       "1    3.142564\n",
       "2    3.057571\n",
       "3    3.050594\n",
       "4    3.310500\n",
       "5    7.207309\n",
       "6    6.781396\n",
       "dtype: float64"
      ]
     },
     "execution_count": 48,
     "metadata": {},
     "output_type": "execute_result"
    }
   ],
   "source": [
    "y"
   ]
  },
  {
   "cell_type": "code",
   "execution_count": 32,
   "id": "baf88be8",
   "metadata": {},
   "outputs": [
    {
     "ename": "AttributeError",
     "evalue": "'list' object has no attribute 'type'",
     "output_type": "error",
     "traceback": [
      "\u001b[1;31m---------------------------------------------------------------------------\u001b[0m",
      "\u001b[1;31mAttributeError\u001b[0m                            Traceback (most recent call last)",
      "\u001b[1;32m~\\AppData\\Local\\Temp/ipykernel_2328/2218299701.py\u001b[0m in \u001b[0;36m<module>\u001b[1;34m\u001b[0m\n\u001b[1;32m----> 1\u001b[1;33m \u001b[0mc\u001b[0m\u001b[1;33m.\u001b[0m\u001b[0mtype\u001b[0m\u001b[1;33m(\u001b[0m\u001b[1;33m)\u001b[0m\u001b[1;33m\u001b[0m\u001b[1;33m\u001b[0m\u001b[0m\n\u001b[0m",
      "\u001b[1;31mAttributeError\u001b[0m: 'list' object has no attribute 'type'"
     ]
    }
   ],
   "source": []
  },
  {
   "cell_type": "code",
   "execution_count": null,
   "id": "728d4413",
   "metadata": {},
   "outputs": [],
   "source": []
  }
 ],
 "metadata": {
  "kernelspec": {
   "display_name": "Python 3 (ipykernel)",
   "language": "python",
   "name": "python3"
  },
  "language_info": {
   "codemirror_mode": {
    "name": "ipython",
    "version": 3
   },
   "file_extension": ".py",
   "mimetype": "text/x-python",
   "name": "python",
   "nbconvert_exporter": "python",
   "pygments_lexer": "ipython3",
   "version": "3.10.1"
  }
 },
 "nbformat": 4,
 "nbformat_minor": 5
}
