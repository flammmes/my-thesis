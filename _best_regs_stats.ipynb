{
 "cells": [
  {
   "cell_type": "code",
   "execution_count": 1,
   "id": "f5999f98",
   "metadata": {},
   "outputs": [],
   "source": [
    "import numpy as np\n",
    "import pandas as pd\n",
    "import matplotlib.pyplot as plt\n",
    "import sklearn\n",
    "import joblib\n",
    "from sklearn.metrics import mean_squared_error\n",
    "import tensorflow as tf\n",
    "from tensorflow import keras\n",
    "#from sklearn.preprocessing import StandardScaler\n",
    "\n",
    "\n",
    "%store -r X_features\n",
    "%store -r X_features_poly\n",
    "%store -r y_labels\n",
    "\n",
    "%store -r totaldf\n",
    "totaldf = totaldf\n"
   ]
  },
  {
   "cell_type": "code",
   "execution_count": 2,
   "id": "935a9d06",
   "metadata": {},
   "outputs": [],
   "source": [
    "voting_reg = joblib.load(\"voting_reg.pkl\")\n",
    "poly_ridge_reg = joblib.load(\"poly_ridge_reg.pkl\")\n",
    "svm_rbf_reg = joblib.load(\"svm_rbf_reg.pkl\")\n",
    "forest_reg = joblib.load(\"forest_regressor.pkl\")\n",
    "seq_model = keras.models.load_model('D:\\python\\\\partial data\\\\first')\n",
    "\n"
   ]
  },
  {
   "cell_type": "code",
   "execution_count": 3,
   "id": "6ac6a7af",
   "metadata": {},
   "outputs": [
    {
     "name": "stdout",
     "output_type": "stream",
     "text": [
      "72/72 [==============================] - 0s 2ms/step\n"
     ]
    }
   ],
   "source": [
    "totaldf.insert(5,'poly ridge μ', totaldf.μob*(np.exp(np.power(poly_ridge_reg.predict(X_features_poly[2]),2)) -0.0012))\n",
    "totaldf.insert(6,'rbf μ', totaldf.μob*(np.exp(np.power(svm_rbf_reg.predict(X_features[2]),2)) -0.0012))\n",
    "totaldf.insert(7,'forest μ', totaldf.μob*(np.exp(np.power(forest_reg.predict(X_features[2]),2)) -0.0012))\n",
    "totaldf.insert(8,'voting μ', totaldf.μob*(np.exp(np.power(voting_reg.predict(X_features[2]),2)) -0.0012))\n",
    "totaldf.insert(9,'sequential', (np.exp(np.power(seq_model.predict(X_features[2]),2)) -0.0012))\n",
    "totaldf.sequential = totaldf.sequential*totaldf.μob\n",
    "totaldf.insert(10,'Beal', totaldf['μob'] +(0.001*totaldf['ΔP'])*(0.024*np.power(totaldf['μob'] ,1.6)+0.038*np.power(totaldf['μob'] ,0.56)))\n",
    "totaldf.insert(11,'Kouzel modified',totaldf['μob']*np.exp((-2.34864*np.power(10,-5.0)+9.30705*np.power(10,-5.0)*np.power(totaldf['μob'],0.181))*totaldf.ΔP))"
   ]
  },
  {
   "cell_type": "code",
   "execution_count": 4,
   "id": "c4f15490",
   "metadata": {},
   "outputs": [
    {
     "data": {
      "text/html": [
       "<div>\n",
       "<style scoped>\n",
       "    .dataframe tbody tr th:only-of-type {\n",
       "        vertical-align: middle;\n",
       "    }\n",
       "\n",
       "    .dataframe tbody tr th {\n",
       "        vertical-align: top;\n",
       "    }\n",
       "\n",
       "    .dataframe thead th {\n",
       "        text-align: right;\n",
       "    }\n",
       "</style>\n",
       "<table border=\"1\" class=\"dataframe\">\n",
       "  <thead>\n",
       "    <tr style=\"text-align: right;\">\n",
       "      <th></th>\n",
       "      <th>% AE</th>\n",
       "      <th>% Std Dev AE</th>\n",
       "      <th>%AAE</th>\n",
       "      <th>% Std Dev AAE</th>\n",
       "    </tr>\n",
       "  </thead>\n",
       "  <tbody>\n",
       "    <tr>\n",
       "      <th>Ridge Regression</th>\n",
       "      <td>-0.472932</td>\n",
       "      <td>5.881186</td>\n",
       "      <td>3.606496</td>\n",
       "      <td>4.669604</td>\n",
       "    </tr>\n",
       "    <tr>\n",
       "      <th>SVM RBF kernel</th>\n",
       "      <td>-0.794406</td>\n",
       "      <td>5.763032</td>\n",
       "      <td>3.475656</td>\n",
       "      <td>4.665130</td>\n",
       "    </tr>\n",
       "    <tr>\n",
       "      <th>Random Forest</th>\n",
       "      <td>-0.303854</td>\n",
       "      <td>5.549532</td>\n",
       "      <td>3.493291</td>\n",
       "      <td>4.322794</td>\n",
       "    </tr>\n",
       "    <tr>\n",
       "      <th>Voting Regressor</th>\n",
       "      <td>-0.580324</td>\n",
       "      <td>5.574630</td>\n",
       "      <td>3.402190</td>\n",
       "      <td>4.454030</td>\n",
       "    </tr>\n",
       "    <tr>\n",
       "      <th>ANN with 1 layer</th>\n",
       "      <td>-1.023799</td>\n",
       "      <td>5.710593</td>\n",
       "      <td>3.438392</td>\n",
       "      <td>4.672954</td>\n",
       "    </tr>\n",
       "    <tr>\n",
       "      <th>Beal</th>\n",
       "      <td>-2.175139</td>\n",
       "      <td>5.988947</td>\n",
       "      <td>3.832978</td>\n",
       "      <td>5.089891</td>\n",
       "    </tr>\n",
       "    <tr>\n",
       "      <th>Kouzel</th>\n",
       "      <td>-2.154380</td>\n",
       "      <td>6.641349</td>\n",
       "      <td>4.222523</td>\n",
       "      <td>5.560501</td>\n",
       "    </tr>\n",
       "  </tbody>\n",
       "</table>\n",
       "</div>"
      ],
      "text/plain": [
       "                      % AE  % Std Dev AE      %AAE  % Std Dev AAE\n",
       "Ridge Regression -0.472932      5.881186  3.606496       4.669604\n",
       "SVM RBF kernel   -0.794406      5.763032  3.475656       4.665130\n",
       "Random Forest    -0.303854      5.549532  3.493291       4.322794\n",
       "Voting Regressor -0.580324      5.574630  3.402190       4.454030\n",
       "ANN with 1 layer -1.023799      5.710593  3.438392       4.672954\n",
       "Beal             -2.175139      5.988947  3.832978       5.089891\n",
       "Kouzel           -2.154380      6.641349  4.222523       5.560501"
      ]
     },
     "execution_count": 4,
     "metadata": {},
     "output_type": "execute_result"
    }
   ],
   "source": [
    "def Stats_matrix(a):\n",
    "    average_error = []\n",
    "    standard_deviation = []\n",
    "    absolute_average_error = []\n",
    "    absolute_standard_deviation =[]\n",
    "    for i in range(7):\n",
    "        average_error.append(np.average((a.iloc[:,i+5]-a.μ)/a.μ*100))\n",
    "        standard_deviation.append(np.std((a.iloc[:,i+5]-a.μ)/a.μ*100))\n",
    "        absolute_average_error.append(np.average(np.absolute((a.iloc[:,i+5]-a.μ)/a.μ*100)))\n",
    "        absolute_standard_deviation.append(np.std(np.absolute((a.iloc[:,i+5]-a.μ)/totaldf.μ*100)))\n",
    "    statistics  = pd.DataFrame(list(zip(average_error,standard_deviation,absolute_average_error,\n",
    "                                        absolute_standard_deviation)),columns = ['% AE','% Std Dev AE','%AAE','% Std Dev AAE'],index = ['Ridge Regression','SVM RBF kernel','Random Forest','Voting Regressor','ANN with 1 layer','Beal','Kouzel'])\n",
    "    return statistics\n",
    "\n",
    "Stats_matrix(totaldf)"
   ]
  }
 ],
 "metadata": {
  "kernelspec": {
   "display_name": "Python 3 (ipykernel)",
   "language": "python",
   "name": "python3"
  },
  "language_info": {
   "codemirror_mode": {
    "name": "ipython",
    "version": 3
   },
   "file_extension": ".py",
   "mimetype": "text/x-python",
   "name": "python",
   "nbconvert_exporter": "python",
   "pygments_lexer": "ipython3",
   "version": "3.10.1"
  }
 },
 "nbformat": 4,
 "nbformat_minor": 5
}
