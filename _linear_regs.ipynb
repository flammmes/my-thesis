{
 "cells": [
  {
   "cell_type": "code",
   "execution_count": 1,
   "id": "3641ea11",
   "metadata": {},
   "outputs": [],
   "source": [
    "import numpy as np\n",
    "import pandas as pd\n",
    "import matplotlib.pyplot as plt\n",
    "import sklearn\n",
    "import joblib\n",
    "%store -r X_features\n",
    "%store -r X_features_poly\n",
    "%store -r y_labels\n",
    "from sklearn.metrics import mean_absolute_percentage_error\n"
   ]
  },
  {
   "cell_type": "code",
   "execution_count": 2,
   "id": "76f4f5a9",
   "metadata": {},
   "outputs": [
    {
     "data": {
      "text/plain": [
       "0.037240387056195"
      ]
     },
     "execution_count": 2,
     "metadata": {},
     "output_type": "execute_result"
    }
   ],
   "source": [
    "from sklearn.linear_model import LinearRegression\n",
    "\n",
    "lin_reg = LinearRegression()\n",
    "lin_reg.fit(X_features[0], y_labels[0])\n",
    "from sklearn.metrics import mean_squared_error\n",
    "\n",
    "visc_predictions = np.exp(np.power(lin_reg.predict(X_features[1]),2))-0.0012\n",
    "lin_mse = mean_absolute_percentage_error(np.exp(np.power(y_labels[1],2))-0.0012, visc_predictions)\n",
    "lin_rmse = np.sqrt(lin_mse)\n",
    "lin_mse"
   ]
  },
  {
   "cell_type": "code",
   "execution_count": 3,
   "id": "796d9c2c",
   "metadata": {},
   "outputs": [
    {
     "data": {
      "text/plain": [
       "['linear_regressor.pkl']"
      ]
     },
     "execution_count": 3,
     "metadata": {},
     "output_type": "execute_result"
    }
   ],
   "source": [
    "joblib.dump(lin_reg, \"linear_regressor.pkl\")"
   ]
  },
  {
   "cell_type": "code",
   "execution_count": 4,
   "id": "360b1cee",
   "metadata": {},
   "outputs": [
    {
     "data": {
      "text/plain": [
       "0.03856517705408018"
      ]
     },
     "execution_count": 4,
     "metadata": {},
     "output_type": "execute_result"
    }
   ],
   "source": [
    "from sklearn.linear_model import SGDRegressor\n",
    "\n",
    "sgd_reg = SGDRegressor(loss='squared_error', penalty =None,max_iter=100000, tol=1e-3, eta0=0.001)\n",
    "sgd_reg.fit(X_features_poly[0], y_labels[0])\n",
    "\n",
    "visc_predictions = np.exp(np.power(sgd_reg.predict(X_features_poly[1]),2))-0.0012\n",
    "sgd_mse = mean_absolute_percentage_error(np.exp(np.power(y_labels[1],2))-0.0012, visc_predictions)\n",
    "sgd_rmse = np.sqrt(sgd_mse)\n",
    "sgd_mse"
   ]
  },
  {
   "cell_type": "code",
   "execution_count": 5,
   "id": "cde82b94",
   "metadata": {},
   "outputs": [
    {
     "data": {
      "text/plain": [
       "['sgd_reg.pkl']"
      ]
     },
     "execution_count": 5,
     "metadata": {},
     "output_type": "execute_result"
    }
   ],
   "source": [
    "joblib.dump(sgd_reg, \"sgd_reg.pkl\")"
   ]
  },
  {
   "cell_type": "code",
   "execution_count": 6,
   "id": "8a708801",
   "metadata": {
    "scrolled": true
   },
   "outputs": [
    {
     "data": {
      "text/plain": [
       "0.03607861766588805"
      ]
     },
     "execution_count": 6,
     "metadata": {},
     "output_type": "execute_result"
    }
   ],
   "source": [
    "lin_reg = LinearRegression()\n",
    "lin_reg.fit(X_features_poly[0], y_labels[0])\n",
    "\n",
    "visc_predictions = np.exp(np.power(lin_reg.predict(X_features_poly[1]),2))-0.0012\n",
    "lin_mse = mean_absolute_percentage_error(np.exp(np.power(y_labels[1],2))-0.0012, visc_predictions)\n",
    "lin_rmse = np.sqrt(lin_mse)\n",
    "lin_mse"
   ]
  },
  {
   "cell_type": "code",
   "execution_count": 7,
   "id": "b863a65b",
   "metadata": {},
   "outputs": [
    {
     "data": {
      "text/plain": [
       "['poly_lin_reg.pkl']"
      ]
     },
     "execution_count": 7,
     "metadata": {},
     "output_type": "execute_result"
    }
   ],
   "source": [
    "joblib.dump(lin_reg, \"poly_lin_reg.pkl\")"
   ]
  },
  {
   "cell_type": "code",
   "execution_count": 8,
   "id": "632f806a",
   "metadata": {
    "scrolled": true
   },
   "outputs": [
    {
     "data": {
      "text/plain": [
       "0.03535555382338442"
      ]
     },
     "execution_count": 8,
     "metadata": {},
     "output_type": "execute_result"
    }
   ],
   "source": [
    "from sklearn.linear_model import Ridge\n",
    "ridge_reg = Ridge(alpha=0.2, solver=\"cholesky\")\n",
    "ridge_reg.fit(X_features_poly[0], y_labels[0])\n",
    "\n",
    "visc_predictions = np.exp(np.power(ridge_reg.predict(X_features_poly[1]),2))-0.0012\n",
    "ridge_mse = mean_absolute_percentage_error(np.exp(np.power(y_labels[1],2))-0.0012, visc_predictions)\n",
    "ridge_rmse = np.sqrt(ridge_mse)\n",
    "ridge_mse"
   ]
  },
  {
   "cell_type": "code",
   "execution_count": 9,
   "id": "581be919",
   "metadata": {},
   "outputs": [
    {
     "data": {
      "text/plain": [
       "['poly_ridge_reg.pkl']"
      ]
     },
     "execution_count": 9,
     "metadata": {},
     "output_type": "execute_result"
    }
   ],
   "source": [
    "joblib.dump(ridge_reg, \"poly_ridge_reg.pkl\")"
   ]
  },
  {
   "cell_type": "code",
   "execution_count": 10,
   "id": "1a25f202",
   "metadata": {},
   "outputs": [
    {
     "data": {
      "text/plain": [
       "0.037347566889632096"
      ]
     },
     "execution_count": 10,
     "metadata": {},
     "output_type": "execute_result"
    }
   ],
   "source": [
    "from sklearn.linear_model import Lasso\n",
    "lasso_reg = Lasso(alpha=0.001)\n",
    "lasso_reg.fit(X_features_poly[0], y_labels[0])\n",
    "visc_predictions = np.exp(np.power(lasso_reg.predict(X_features_poly[1]),2))-0.0012\n",
    "lasso_mse = mean_absolute_percentage_error(np.exp(np.power(y_labels[1],2))-0.0012, visc_predictions)\n",
    "lasso_rmse = np.sqrt(lasso_mse)\n",
    "lasso_mse"
   ]
  },
  {
   "cell_type": "code",
   "execution_count": 11,
   "id": "8cf3cf54",
   "metadata": {},
   "outputs": [
    {
     "data": {
      "text/plain": [
       "['poly_lasso_reg.pkl']"
      ]
     },
     "execution_count": 11,
     "metadata": {},
     "output_type": "execute_result"
    }
   ],
   "source": [
    "joblib.dump(lasso_reg, \"poly_lasso_reg.pkl\")"
   ]
  },
  {
   "cell_type": "code",
   "execution_count": 12,
   "id": "549fb2e4",
   "metadata": {},
   "outputs": [
    {
     "name": "stderr",
     "output_type": "stream",
     "text": [
      "C:\\Users\\flammmes\\AppData\\Roaming\\Python\\Python310\\site-packages\\sklearn\\linear_model\\_coordinate_descent.py:648: ConvergenceWarning: Objective did not converge. You might want to increase the number of iterations, check the scale of the features or consider increasing regularisation. Duality gap: 1.971e-02, tolerance: 1.911e-02\n",
      "  model = cd_fast.enet_coordinate_descent(\n"
     ]
    },
    {
     "data": {
      "text/plain": [
       "0.03714157607911999"
      ]
     },
     "execution_count": 12,
     "metadata": {},
     "output_type": "execute_result"
    }
   ],
   "source": [
    "from sklearn.linear_model import ElasticNet\n",
    "elastic_net = ElasticNet(alpha=0.001, l1_ratio=0.4)\n",
    "elastic_net.fit(X_features_poly[0], y_labels[0])\n",
    "visc_predictions = np.exp(np.power(elastic_net.predict(X_features_poly[1]),2))-0.0012\n",
    "elastic_mse = mean_absolute_percentage_error(np.exp(np.power(y_labels[1],2))-0.0012, visc_predictions)\n",
    "elastic_rmse = np.sqrt(elastic_mse)\n",
    "elastic_mse"
   ]
  },
  {
   "cell_type": "code",
   "execution_count": 13,
   "id": "cc6f3660",
   "metadata": {},
   "outputs": [
    {
     "data": {
      "text/plain": [
       "['poly_elastic_reg.pkl']"
      ]
     },
     "execution_count": 13,
     "metadata": {},
     "output_type": "execute_result"
    }
   ],
   "source": [
    "joblib.dump(elastic_net, \"poly_elastic_reg.pkl\")"
   ]
  },
  {
   "cell_type": "code",
   "execution_count": null,
   "id": "b68c35e3",
   "metadata": {},
   "outputs": [],
   "source": []
  }
 ],
 "metadata": {
  "kernelspec": {
   "display_name": "Python 3 (ipykernel)",
   "language": "python",
   "name": "python3"
  },
  "language_info": {
   "codemirror_mode": {
    "name": "ipython",
    "version": 3
   },
   "file_extension": ".py",
   "mimetype": "text/x-python",
   "name": "python",
   "nbconvert_exporter": "python",
   "pygments_lexer": "ipython3",
   "version": "3.10.1"
  }
 },
 "nbformat": 4,
 "nbformat_minor": 5
}
