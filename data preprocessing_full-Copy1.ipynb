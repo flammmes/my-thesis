{
 "cells": [
  {
   "cell_type": "code",
   "execution_count": 1,
   "id": "71d38029",
   "metadata": {},
   "outputs": [],
   "source": [
    "import numpy as np\n",
    "import pandas as pd\n",
    "import matplotlib.pyplot as plt\n",
    "import sklearn\n",
    "import joblib"
   ]
  },
  {
   "cell_type": "code",
   "execution_count": 2,
   "id": "0832312a",
   "metadata": {
    "scrolled": false
   },
   "outputs": [],
   "source": [
    "df = pd.read_csv('D:\\\\Users\\\\flammmes\\\\Downloads\\\\Book1.csv')\n",
    "df['d']=df['d'].str.replace(',','')\n",
    "df['Rsob']=df['Rsob'].str.replace(',','')\n",
    "dfn = pd.read_csv('D:\\\\Users\\\\flammmes\\\\Downloads\\\\composition.csv')\n",
    "\n",
    "\n",
    "dd = df.d.astype('float')\n",
    "df.d = df.d.astype('float')\n",
    "df['Rsob']= df['Rsob'].astype('float')\n",
    "df['Rsob']= np.abs(df['Rsob'])\n",
    "x = df.iloc[:,1]/df.iloc[:,8]\n",
    "mu = 1000*(df.iloc[:,3]*x*x+df.iloc[:,4]*x+df.iloc[:,5])/(df.iloc[:,6]*x+1)\n",
    "df.insert(9,'μob',mu)\n",
    "df.insert(12,'Tr',dfn.Tres)\n",
    "\n",
    "df = df[df['μob']<=50] \n"
   ]
  },
  {
   "cell_type": "code",
   "execution_count": 3,
   "id": "f20f9da5",
   "metadata": {
    "scrolled": false
   },
   "outputs": [],
   "source": [
    "##strat1\n",
    "#from sklearn.impute import SimpleImputer\n",
    "#imputer = SimpleImputer(strategy='median')\n",
    "#df = pd.DataFrame(imputer.fit_transform(df), columns=df.columns)\n",
    "\n",
    "\n",
    "\n",
    "\n",
    "##strat2\n",
    "#df.dropna(inplace=True)\n",
    "\n",
    "\n",
    "##strat3\n",
    "#from sklearn.impute import KNNImputer\n",
    "#imputer = KNNImputer(n_neighbors=5, weights=\"uniform\")\n",
    "#df = pd.DataFrame(imputer.fit_transform(df), columns=df.columns)\n",
    "\n"
   ]
  },
  {
   "cell_type": "code",
   "execution_count": 4,
   "id": "1c02a84c",
   "metadata": {
    "scrolled": false
   },
   "outputs": [
    {
     "name": "stderr",
     "output_type": "stream",
     "text": [
      "C:\\Users\\flammmes\\AppData\\Local\\Temp/ipykernel_13832/794019730.py:20: SettingWithCopyWarning: \n",
      "A value is trying to be set on a copy of a slice from a DataFrame\n",
      "\n",
      "See the caveats in the documentation: https://pandas.pydata.org/pandas-docs/stable/user_guide/indexing.html#returning-a-view-versus-a-copy\n",
      "  df['Rsob'][df['Rsob'].isnull().values] = forest_reg.predict(dat2)\n",
      "C:\\Users\\flammmes\\AppData\\Local\\Temp/ipykernel_13832/794019730.py:38: SettingWithCopyWarning: \n",
      "A value is trying to be set on a copy of a slice from a DataFrame\n",
      "\n",
      "See the caveats in the documentation: https://pandas.pydata.org/pandas-docs/stable/user_guide/indexing.html#returning-a-view-versus-a-copy\n",
      "  df['STO'][df['STO'].isnull().values] = lin_reg.predict(dat2)\n",
      "C:\\Users\\flammmes\\AppData\\Local\\Temp/ipykernel_13832/794019730.py:56: SettingWithCopyWarning: \n",
      "A value is trying to be set on a copy of a slice from a DataFrame\n",
      "\n",
      "See the caveats in the documentation: https://pandas.pydata.org/pandas-docs/stable/user_guide/indexing.html#returning-a-view-versus-a-copy\n",
      "  df['Tr'][df['Tr'].isnull().values] = forest_reg.predict(dat2)\n"
     ]
    }
   ],
   "source": [
    "##strat4\n",
    "#df.Rsob[df.Rsob==0] = np.nan\n",
    "df.μob = 1/np.power(df.μob,1/1.5)\n",
    "my_new = pd.DataFrame({\n",
    "    'Pb':df.Pb,'μob':df.μob ,'Rs':df.Rsob\n",
    "})\n",
    "bb = my_new[my_new['Rs'].isnull().values]\n",
    "aa = my_new[my_new['Rs'].notnull().values]\n",
    "dat = aa.iloc[:,0:2].to_numpy()\n",
    "from sklearn.preprocessing import StandardScaler\n",
    "scaler = StandardScaler()\n",
    "dat =scaler.fit_transform(dat)\n",
    "from sklearn.ensemble import RandomForestRegressor\n",
    "\n",
    "forest_reg = RandomForestRegressor(n_estimators=100)\n",
    "forest_reg.fit(dat, aa.Rs)\n",
    "\n",
    "dat2 =bb.iloc[:,0:2].to_numpy()\n",
    "dat2 =scaler.transform(dat2)\n",
    "df['Rsob'][df['Rsob'].isnull().values] = forest_reg.predict(dat2)\n",
    "df.μob = 1/np.power(df.μob,1.5)\n",
    "\n",
    "df.μob = np.log(df.μob)\n",
    "my_new = pd.DataFrame({\n",
    "    'μob':df.μob, 'STO':df.STO\n",
    "})\n",
    "bb = my_new[my_new['STO'].isnull().values]\n",
    "aa = my_new[my_new['STO'].notnull().values]\n",
    "dat = aa.μob.to_numpy().reshape(-1,1)\n",
    "scaler2 = StandardScaler()\n",
    "dat =scaler2.fit_transform(dat)\n",
    "from sklearn.linear_model import LinearRegression\n",
    "\n",
    "lin_reg = LinearRegression()\n",
    "lin_reg.fit(dat, aa.STO)\n",
    "dat2 = bb.μob.to_numpy().reshape(-1,1)\n",
    "dat2 =scaler2.transform(dat2)\n",
    "df['STO'][df['STO'].isnull().values] = lin_reg.predict(dat2)\n",
    "df.μob = np.exp(df.μob)\n",
    "\n",
    "\n",
    "my_new = pd.DataFrame({\n",
    "    'Pb':df.Pb,'Pmax':df.Pmax ,'Rs':df.Rsob,'Tr':df.Tr\n",
    "})\n",
    "bb = my_new[my_new['Tr'].isnull().values]\n",
    "aa = my_new[my_new['Tr'].notnull().values]\n",
    "dat = aa.iloc[:,0:3].to_numpy()\n",
    "scaler3 = StandardScaler()\n",
    "dat =scaler3.fit_transform(dat)\n",
    "from sklearn.ensemble import RandomForestRegressor\n",
    "\n",
    "forest_reg = RandomForestRegressor(n_estimators=100)\n",
    "forest_reg.fit(dat, aa.Tr)\n",
    "dat2 =bb.iloc[:,0:3].to_numpy()\n",
    "dat2 =scaler3.transform(dat2)\n",
    "df['Tr'][df['Tr'].isnull().values] = forest_reg.predict(dat2)"
   ]
  },
  {
   "cell_type": "code",
   "execution_count": 5,
   "id": "ef9c1843",
   "metadata": {},
   "outputs": [],
   "source": [
    "df[\"μob_cat\"] = pd.cut(df[\"μob\"],\n",
    "                               bins=[0., 5, np.inf],\n",
    "                               labels=[1, 2])"
   ]
  },
  {
   "cell_type": "code",
   "execution_count": 6,
   "id": "3eff34e4",
   "metadata": {},
   "outputs": [],
   "source": [
    "from sklearn.model_selection import StratifiedShuffleSplit\n",
    "\n",
    "split = StratifiedShuffleSplit(n_splits=1, test_size=0.2,random_state=3)\n",
    "for train_index, test_index in split.split(df, df[\"μob_cat\"]):\n",
    "    strat_train_set = df.iloc[train_index]\n",
    "    strat_test_set = df.iloc[test_index]"
   ]
  },
  {
   "cell_type": "code",
   "execution_count": 7,
   "id": "c9329412",
   "metadata": {},
   "outputs": [
    {
     "name": "stderr",
     "output_type": "stream",
     "text": [
      "C:\\Users\\flammmes\\AppData\\Roaming\\Python\\Python310\\site-packages\\pandas\\core\\frame.py:4906: SettingWithCopyWarning: \n",
      "A value is trying to be set on a copy of a slice from a DataFrame\n",
      "\n",
      "See the caveats in the documentation: https://pandas.pydata.org/pandas-docs/stable/user_guide/indexing.html#returning-a-view-versus-a-copy\n",
      "  return super().drop(\n"
     ]
    }
   ],
   "source": [
    "for set_ in (strat_train_set, strat_test_set):\n",
    "    set_.drop(\"μob_cat\", axis=1, inplace=True)\n",
    "    #set_.drop(\"μob\", axis=1, inplace=True)\n",
    "   "
   ]
  },
  {
   "cell_type": "code",
   "execution_count": 8,
   "id": "0b705300",
   "metadata": {},
   "outputs": [],
   "source": [
    "df1 = strat_train_set.copy()\n",
    "df2 = strat_test_set.copy()"
   ]
  },
  {
   "cell_type": "code",
   "execution_count": 9,
   "id": "b1899ba5",
   "metadata": {},
   "outputs": [],
   "source": [
    "df1[\"μob_cat\"] = pd.cut(df1[\"μob\"],\n",
    "                               bins=[0., 5, np.inf],\n",
    "                               labels=[1, 2])"
   ]
  },
  {
   "cell_type": "code",
   "execution_count": 10,
   "id": "e3b7d4a3",
   "metadata": {},
   "outputs": [],
   "source": [
    "split = StratifiedShuffleSplit(n_splits=1, test_size=0.2,random_state=3)\n",
    "for ti, tei in split.split(df1, df1[\"μob_cat\"]):\n",
    "    strat_tr_set = df1.iloc[ti]\n",
    "    strat_val_set = df1.iloc[tei]\n",
    "    "
   ]
  },
  {
   "cell_type": "code",
   "execution_count": 11,
   "id": "4d345108",
   "metadata": {},
   "outputs": [
    {
     "name": "stderr",
     "output_type": "stream",
     "text": [
      "C:\\Users\\flammmes\\AppData\\Roaming\\Python\\Python310\\site-packages\\pandas\\core\\frame.py:4906: SettingWithCopyWarning: \n",
      "A value is trying to be set on a copy of a slice from a DataFrame\n",
      "\n",
      "See the caveats in the documentation: https://pandas.pydata.org/pandas-docs/stable/user_guide/indexing.html#returning-a-view-versus-a-copy\n",
      "  return super().drop(\n"
     ]
    }
   ],
   "source": [
    "for set_ in (strat_tr_set, strat_val_set):\n",
    "    set_.drop(\"μob_cat\", axis=1, inplace=True)\n",
    "    #set_.drop(\"μob\", axis=1, inplace=True)"
   ]
  },
  {
   "cell_type": "code",
   "execution_count": 12,
   "id": "f5450b08",
   "metadata": {},
   "outputs": [],
   "source": [
    "df_train = strat_tr_set.copy()\n",
    "df_val = strat_val_set.copy()\n"
   ]
  },
  {
   "cell_type": "code",
   "execution_count": 13,
   "id": "158c913f",
   "metadata": {},
   "outputs": [],
   "source": [
    "def gen_func(a):\n",
    "    \n",
    "    dflist = []\n",
    "    for i in range(len(a)):\n",
    "        \n",
    "        \n",
    "        correlations_select = pd.DataFrame({'P':P_i,'μ':mu_i,'Rsob':instance[10],'API':instance[11],'Tr':instance[12]})\n",
    "        pressure_bubble_point = correlations_select.iloc[0,0]*np.linspace(1,1,20)\n",
    "        visc_bubble_point = correlations_select.iloc[0,1]*np.linspace(1,1,20)\n",
    "        correlations_select.insert(0,\"Pb\",pressure_bubble_point)\n",
    "        correlations_select.insert(2,'μob',visc_bubble_point)\n",
    "        dflist.append(correlations_select)\n",
    "        \n",
    "    \n",
    "    totaldf = pd.concat(dflist)\n",
    "    totaldf.Pb = totaldf.Pb*145.038\n",
    "    totaldf.P = totaldf.P*145.038\n",
    "    totaldf.insert(2,'ΔP', totaldf.P-totaldf.Pb)\n",
    "    \n",
    "    totaldf.API = 141.5*1000/totaldf.API -131.5\n",
    "    totaldf.Rsob = totaldf.Rsob*5.614583333333333\n",
    "    #totaldf = totaldf[totaldf.μ != totaldf.μob]\n",
    "    #totaldf.drop('P',axis=1,inplace=True)\n",
    "    return totaldf"
   ]
  },
  {
   "cell_type": "code",
   "execution_count": 14,
   "id": "073deb2d",
   "metadata": {},
   "outputs": [],
   "source": [
    "test_data = gen_func(df2)\n",
    "train_data = gen_func(df_train)\n",
    "val_data = gen_func(df_val)\n",
    "\n",
    "#y = test_data[test_data.ΔP==0]\n",
    "#x =  val_data[val_data.ΔP==0]\n",
    "#train_data = pd.concat([train_data,y,x])\n",
    "all_data = gen_func(df)"
   ]
  },
  {
   "cell_type": "code",
   "execution_count": 15,
   "id": "56731908",
   "metadata": {},
   "outputs": [],
   "source": [
    "for a in [test_data,train_data,val_data,all_data]:\n",
    "    a.μ = np.sqrt(np.log(a.μ/a.μob+0.0012))\n",
    "    a.ΔP = np.power(a.ΔP,0.5)\n",
    "    #a.ΔP = np.log(a.ΔP+1)\n",
    "    #a.insert(0,'x1',a.ΔP*np.power(a.P/a.Pb,0.2))\n",
    "    a.μob = a.ΔP*np.power(a.μob,0.07)\n",
    "\n",
    "    #a.insert(4,'logμob',a.μob*np.log(a.μob))\n",
    "    a.Pb = a.ΔP/np.log(a.Pb+400)\n",
    "    a.P = a.ΔP*np.power(a.P,-0.15)\n",
    "    a.API = a.ΔP/np.power(a.API,0.3)\n",
    "    a.Rsob = a.ΔP/np.log(a.Rsob+150)\n",
    "    #a.drop('μob',axis=1,inplace=True)\n",
    "    a.Tr = a.ΔP*np.power(a.Tr,-1.)"
   ]
  },
  {
   "cell_type": "code",
   "execution_count": 16,
   "id": "66e24cf2",
   "metadata": {
    "scrolled": true
   },
   "outputs": [
    {
     "data": {
      "text/plain": [
       "μ       1.000000\n",
       "μob     0.893792\n",
       "API     0.891319\n",
       "Rsob    0.886864\n",
       "Pb      0.881542\n",
       "Tr      0.879285\n",
       "P       0.877724\n",
       "ΔP      0.868429\n",
       "Name: μ, dtype: float64"
      ]
     },
     "execution_count": 16,
     "metadata": {},
     "output_type": "execute_result"
    }
   ],
   "source": [
    "corr_matrix = all_data.corr()\n",
    "corr_matrix[\"μ\"].sort_values(ascending=False)"
   ]
  },
  {
   "cell_type": "code",
   "execution_count": 17,
   "id": "5ed04e68",
   "metadata": {},
   "outputs": [
    {
     "data": {
      "text/plain": [
       "array([[<AxesSubplot:title={'center':'Pb'}>,\n",
       "        <AxesSubplot:title={'center':'P'}>,\n",
       "        <AxesSubplot:title={'center':'ΔP'}>],\n",
       "       [<AxesSubplot:title={'center':'μob'}>,\n",
       "        <AxesSubplot:title={'center':'μ'}>,\n",
       "        <AxesSubplot:title={'center':'Rsob'}>],\n",
       "       [<AxesSubplot:title={'center':'API'}>,\n",
       "        <AxesSubplot:title={'center':'Tr'}>, <AxesSubplot:>]],\n",
       "      dtype=object)"
      ]
     },
     "execution_count": 17,
     "metadata": {},
     "output_type": "execute_result"
    },
    {
     "data": {
      "image/png": "[encoded data removed]",
      "text/plain": [
       "<Figure size 1152x648 with 9 Axes>"
      ]
     },
     "metadata": {
      "needs_background": "light"
     },
     "output_type": "display_data"
    }
   ],
   "source": [
    "all_data.hist(bins=100,figsize=(16,9))\n"
   ]
  },
  {
   "cell_type": "code",
   "execution_count": 18,
   "id": "4986712f",
   "metadata": {},
   "outputs": [],
   "source": [
    "from sklearn.preprocessing import StandardScaler\n",
    "from sklearn.preprocessing import PolynomialFeatures\n",
    "\n",
    "X_train = train_data.drop([\"μ\"], axis=1) \n",
    "y_train = train_data[\"μ\"].copy()\n",
    "X_val = val_data.drop([\"μ\"], axis=1) \n",
    "y_val = val_data[\"μ\"].copy()\n",
    "X_test = test_data.drop([\"μ\"], axis=1) # drop labels for training set\n",
    "y_test = test_data[\"μ\"].copy()\n"
   ]
  },
  {
   "cell_type": "code",
   "execution_count": 19,
   "id": "9052894e",
   "metadata": {},
   "outputs": [],
   "source": [
    "poly_features = PolynomialFeatures(degree=2, include_bias=False)\n",
    "X_train_poly = poly_features.fit_transform(X_train)\n",
    "X_val_poly = poly_features.fit_transform(X_val)\n",
    "X_test_poly = poly_features.fit_transform(X_test)\n",
    "poly_scaler = StandardScaler()\n",
    "X_train_poly = poly_scaler.fit_transform(X_train_poly)\n",
    "X_val_poly = poly_scaler.transform(X_val_poly)\n",
    "X_test_poly = poly_scaler.transform(X_test_poly)\n"
   ]
  },
  {
   "cell_type": "code",
   "execution_count": 20,
   "id": "eee84125",
   "metadata": {},
   "outputs": [],
   "source": [
    "scaler = StandardScaler()\n",
    "X_train= scaler.fit_transform(X_train)\n",
    "X_val= scaler.transform(X_val)\n",
    "X_test= scaler.transform(X_test)\n"
   ]
  },
  {
   "cell_type": "code",
   "execution_count": 21,
   "id": "e7f2c69a",
   "metadata": {},
   "outputs": [],
   "source": [
    "X_features_full = [X_train,X_val,X_test]\n",
    "X_features_poly_full = [X_train_poly,X_val_poly,X_test_poly]\n",
    "y_labels_full = [y_train,y_val,y_test]\n"
   ]
  },
  {
   "cell_type": "code",
   "execution_count": 22,
   "id": "6173d002",
   "metadata": {
    "scrolled": true
   },
   "outputs": [
    {
     "name": "stdout",
     "output_type": "stream",
     "text": [
      "Stored 'X_features_full' (list)\n",
      "Stored 'X_features_poly_full' (list)\n",
      "Stored 'y_labels_full' (list)\n"
     ]
    }
   ],
   "source": [
    "%store X_features_full\n",
    "%store X_features_poly_full\n",
    "%store y_labels_full\n"
   ]
  },
  {
   "cell_type": "code",
   "execution_count": 23,
   "id": "76220197",
   "metadata": {
    "scrolled": false
   },
   "outputs": [
    {
     "name": "stdout",
     "output_type": "stream",
     "text": [
      "Stored 'totaldf_full' (DataFrame)\n",
      "Stored 'all_data_full' (DataFrame)\n"
     ]
    }
   ],
   "source": [
    "totaldf_full = gen_func(df2)\n",
    "%store totaldf_full\n",
    "totaldf_full\n",
    "all_data_full = gen_func(df)\n",
    "%store all_data_full"
   ]
  },
  {
   "cell_type": "code",
   "execution_count": 24,
   "id": "4e202180",
   "metadata": {},
   "outputs": [
    {
     "data": {
      "text/plain": [
       "array([ 4.73480618, 10.45996323, 36.05279401, 36.44620067,  5.59370402,\n",
       "       12.77004143,  0.09816896])"
      ]
     },
     "execution_count": 24,
     "metadata": {},
     "output_type": "execute_result"
    }
   ],
   "source": [
    "scaler.mean_"
   ]
  },
  {
   "cell_type": "code",
   "execution_count": 25,
   "id": "b6be452e",
   "metadata": {},
   "outputs": [
    {
     "data": {
      "text/plain": [
       "array([5.29100268e+00, 2.05784009e+01, 2.81406809e+02, 3.15476005e+02,\n",
       "       7.68736219e+00, 3.86796612e+01, 2.05977533e-03])"
      ]
     },
     "execution_count": 25,
     "metadata": {},
     "output_type": "execute_result"
    }
   ],
   "source": [
    "scaler.var_"
   ]
  },
  {
   "cell_type": "code",
   "execution_count": null,
   "id": "abcf3a6a",
   "metadata": {},
   "outputs": [],
   "source": []
  }
 ],
 "metadata": {
  "kernelspec": {
   "display_name": "Python 3 (ipykernel)",
   "language": "python",
   "name": "python3"
  },
  "language_info": {
   "codemirror_mode": {
    "name": "ipython",
    "version": 3
   },
   "file_extension": ".py",
   "mimetype": "text/x-python",
   "name": "python",
   "nbconvert_exporter": "python",
   "pygments_lexer": "ipython3",
   "version": "3.10.1"
  }
 },
 "nbformat": 4,
 "nbformat_minor": 5
}
