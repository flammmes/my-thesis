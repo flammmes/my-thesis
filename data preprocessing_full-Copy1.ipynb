{
 "cells": [
  {
   "cell_type": "code",
   "execution_count": 1,
   "id": "71d38029",
   "metadata": {},
   "outputs": [],
   "source": [
    "import numpy as np\n",
    "import pandas as pd\n",
    "import matplotlib.pyplot as plt\n",
    "import sklearn\n",
    "import joblib"
   ]
  },
  {
   "cell_type": "code",
   "execution_count": 2,
   "id": "0832312a",
   "metadata": {
    "scrolled": false
   },
   "outputs": [],
   "source": [
    "df = pd.read_csv('D:\\\\Users\\\\flammmes\\\\Downloads\\\\Book1.csv')\n",
    "df['d']=df['d'].str.replace(',','')\n",
    "df['Rsob']=df['Rsob'].str.replace(',','')\n",
    "dfn = pd.read_csv('D:\\\\Users\\\\flammmes\\\\Downloads\\\\composition.csv')\n",
    "\n",
    "\n",
    "dd = df.d.astype('float')\n",
    "df.d = df.d.astype('float')\n",
    "df['Rsob']= df['Rsob'].astype('float')\n",
    "df['Rsob']= np.abs(df['Rsob'])\n",
    "x = df.iloc[:,1]/df.iloc[:,8]\n",
    "mu = 1000*(df.iloc[:,3]*x*x+df.iloc[:,4]*x+df.iloc[:,5])/(df.iloc[:,6]*x+1)\n",
    "df.insert(9,'μob',mu)\n",
    "df.insert(12,'Tr',dfn.Tres)\n",
    "\n",
    "df = df[df['μob']<=50] #50,338\n"
   ]
  },
  {
   "cell_type": "code",
   "execution_count": 3,
   "id": "f20f9da5",
   "metadata": {
    "scrolled": false
   },
   "outputs": [],
   "source": [
    "##strat1\n",
    "#from sklearn.impute import SimpleImputer\n",
    "#imputer = SimpleImputer(strategy='median')\n",
    "#df = pd.DataFrame(imputer.fit_transform(df), columns=df.columns)\n",
    "\n",
    "\n",
    "\n",
    "\n",
    "##strat2\n",
    "#df.dropna(inplace=True)\n",
    "\n",
    "\n",
    "##strat3\n",
    "#from sklearn.impute import KNNImputer\n",
    "#imputer = KNNImputer(n_neighbors=5, weights=\"uniform\")\n",
    "#df = pd.DataFrame(imputer.fit_transform(df), columns=df.columns)\n",
    "\n"
   ]
  },
  {
   "cell_type": "code",
   "execution_count": 4,
   "id": "1c02a84c",
   "metadata": {
    "scrolled": false
   },
   "outputs": [
    {
     "name": "stderr",
     "output_type": "stream",
     "text": [
      "C:\\Users\\flammmes\\AppData\\Local\\Temp/ipykernel_9464/794019730.py:20: SettingWithCopyWarning: \n",
      "A value is trying to be set on a copy of a slice from a DataFrame\n",
      "\n",
      "See the caveats in the documentation: https://pandas.pydata.org/pandas-docs/stable/user_guide/indexing.html#returning-a-view-versus-a-copy\n",
      "  df['Rsob'][df['Rsob'].isnull().values] = forest_reg.predict(dat2)\n",
      "C:\\Users\\flammmes\\AppData\\Local\\Temp/ipykernel_9464/794019730.py:38: SettingWithCopyWarning: \n",
      "A value is trying to be set on a copy of a slice from a DataFrame\n",
      "\n",
      "See the caveats in the documentation: https://pandas.pydata.org/pandas-docs/stable/user_guide/indexing.html#returning-a-view-versus-a-copy\n",
      "  df['STO'][df['STO'].isnull().values] = lin_reg.predict(dat2)\n",
      "C:\\Users\\flammmes\\AppData\\Local\\Temp/ipykernel_9464/794019730.py:56: SettingWithCopyWarning: \n",
      "A value is trying to be set on a copy of a slice from a DataFrame\n",
      "\n",
      "See the caveats in the documentation: https://pandas.pydata.org/pandas-docs/stable/user_guide/indexing.html#returning-a-view-versus-a-copy\n",
      "  df['Tr'][df['Tr'].isnull().values] = forest_reg.predict(dat2)\n"
     ]
    }
   ],
   "source": [
    "##strat4\n",
    "#df.Rsob[df.Rsob==0] = np.nan\n",
    "df.μob = 1/np.power(df.μob,1/1.5)\n",
    "my_new = pd.DataFrame({\n",
    "    'Pb':df.Pb,'μob':df.μob ,'Rs':df.Rsob\n",
    "})\n",
    "bb = my_new[my_new['Rs'].isnull().values]\n",
    "aa = my_new[my_new['Rs'].notnull().values]\n",
    "dat = aa.iloc[:,0:2].to_numpy()\n",
    "from sklearn.preprocessing import StandardScaler\n",
    "scaler = StandardScaler()\n",
    "dat =scaler.fit_transform(dat)\n",
    "from sklearn.ensemble import RandomForestRegressor\n",
    "\n",
    "forest_reg = RandomForestRegressor(n_estimators=100)\n",
    "forest_reg.fit(dat, aa.Rs)\n",
    "\n",
    "dat2 =bb.iloc[:,0:2].to_numpy()\n",
    "dat2 =scaler.transform(dat2)\n",
    "df['Rsob'][df['Rsob'].isnull().values] = forest_reg.predict(dat2)\n",
    "df.μob = 1/np.power(df.μob,1.5)\n",
    "\n",
    "df.μob = np.log(df.μob)\n",
    "my_new = pd.DataFrame({\n",
    "    'μob':df.μob, 'STO':df.STO\n",
    "})\n",
    "bb = my_new[my_new['STO'].isnull().values]\n",
    "aa = my_new[my_new['STO'].notnull().values]\n",
    "dat = aa.μob.to_numpy().reshape(-1,1)\n",
    "scaler2 = StandardScaler()\n",
    "dat =scaler2.fit_transform(dat)\n",
    "from sklearn.linear_model import LinearRegression\n",
    "\n",
    "lin_reg = LinearRegression()\n",
    "lin_reg.fit(dat, aa.STO)\n",
    "dat2 = bb.μob.to_numpy().reshape(-1,1)\n",
    "dat2 =scaler2.transform(dat2)\n",
    "df['STO'][df['STO'].isnull().values] = lin_reg.predict(dat2)\n",
    "df.μob = np.exp(df.μob)\n",
    "\n",
    "\n",
    "my_new = pd.DataFrame({\n",
    "    'Pb':df.Pb,'Pmax':df.Pmax ,'Rs':df.Rsob,'Tr':df.Tr\n",
    "})\n",
    "bb = my_new[my_new['Tr'].isnull().values]\n",
    "aa = my_new[my_new['Tr'].notnull().values]\n",
    "dat = aa.iloc[:,0:3].to_numpy()\n",
    "scaler3 = StandardScaler()\n",
    "dat =scaler3.fit_transform(dat)\n",
    "from sklearn.ensemble import RandomForestRegressor\n",
    "\n",
    "forest_reg = RandomForestRegressor(n_estimators=100)\n",
    "forest_reg.fit(dat, aa.Tr)\n",
    "dat2 =bb.iloc[:,0:3].to_numpy()\n",
    "dat2 =scaler3.transform(dat2)\n",
    "df['Tr'][df['Tr'].isnull().values] = forest_reg.predict(dat2)"
   ]
  },
  {
   "cell_type": "code",
   "execution_count": 5,
   "id": "ef9c1843",
   "metadata": {},
   "outputs": [],
   "source": [
    "df[\"μob_cat\"] = pd.cut(df[\"μob\"],\n",
    "                               bins=[0., 5, np.inf],\n",
    "                               labels=[1, 2])"
   ]
  },
  {
   "cell_type": "code",
   "execution_count": 6,
   "id": "abdb0d2f",
   "metadata": {},
   "outputs": [
    {
     "data": {
      "text/plain": [
       "1    485\n",
       "2     86\n",
       "Name: μob_cat, dtype: int64"
      ]
     },
     "execution_count": 6,
     "metadata": {},
     "output_type": "execute_result"
    }
   ],
   "source": [
    "df[\"μob_cat\"].value_counts()"
   ]
  },
  {
   "cell_type": "code",
   "execution_count": 7,
   "id": "3eff34e4",
   "metadata": {},
   "outputs": [],
   "source": [
    "from sklearn.model_selection import StratifiedShuffleSplit\n",
    "\n",
    "split = StratifiedShuffleSplit(n_splits=1, test_size=0.2,random_state=13)\n",
    "for train_index, test_index in split.split(df, df[\"μob_cat\"]):\n",
    "    strat_train_set = df.iloc[train_index]\n",
    "    strat_test_set = df.iloc[test_index]"
   ]
  },
  {
   "cell_type": "code",
   "execution_count": 8,
   "id": "c9329412",
   "metadata": {},
   "outputs": [
    {
     "name": "stderr",
     "output_type": "stream",
     "text": [
      "C:\\Users\\flammmes\\AppData\\Roaming\\Python\\Python310\\site-packages\\pandas\\core\\frame.py:4906: SettingWithCopyWarning: \n",
      "A value is trying to be set on a copy of a slice from a DataFrame\n",
      "\n",
      "See the caveats in the documentation: https://pandas.pydata.org/pandas-docs/stable/user_guide/indexing.html#returning-a-view-versus-a-copy\n",
      "  return super().drop(\n"
     ]
    }
   ],
   "source": [
    "for set_ in (strat_train_set, strat_test_set):\n",
    "    set_.drop(\"μob_cat\", axis=1, inplace=True)\n",
    "    #set_.drop(\"μob\", axis=1, inplace=True)\n",
    "   "
   ]
  },
  {
   "cell_type": "code",
   "execution_count": 9,
   "id": "0b705300",
   "metadata": {},
   "outputs": [],
   "source": [
    "df1 = strat_train_set.copy()\n",
    "df2 = strat_test_set.copy()"
   ]
  },
  {
   "cell_type": "code",
   "execution_count": 10,
   "id": "b1899ba5",
   "metadata": {},
   "outputs": [],
   "source": [
    "df1[\"μob_cat\"] = pd.cut(df1[\"μob\"],\n",
    "                               bins=[0., 5, np.inf],\n",
    "                               labels=[1, 2])"
   ]
  },
  {
   "cell_type": "code",
   "execution_count": 11,
   "id": "e3b7d4a3",
   "metadata": {},
   "outputs": [],
   "source": [
    "split = StratifiedShuffleSplit(n_splits=1, test_size=0.2,random_state=13)\n",
    "for ti, tei in split.split(df1, df1[\"μob_cat\"]):\n",
    "    strat_tr_set = df1.iloc[ti]\n",
    "    strat_val_set = df1.iloc[tei]\n",
    "    "
   ]
  },
  {
   "cell_type": "code",
   "execution_count": 12,
   "id": "4d345108",
   "metadata": {},
   "outputs": [
    {
     "name": "stderr",
     "output_type": "stream",
     "text": [
      "C:\\Users\\flammmes\\AppData\\Roaming\\Python\\Python310\\site-packages\\pandas\\core\\frame.py:4906: SettingWithCopyWarning: \n",
      "A value is trying to be set on a copy of a slice from a DataFrame\n",
      "\n",
      "See the caveats in the documentation: https://pandas.pydata.org/pandas-docs/stable/user_guide/indexing.html#returning-a-view-versus-a-copy\n",
      "  return super().drop(\n"
     ]
    }
   ],
   "source": [
    "for set_ in (strat_tr_set, strat_val_set):\n",
    "    set_.drop(\"μob_cat\", axis=1, inplace=True)\n",
    "    #set_.drop(\"μob\", axis=1, inplace=True)"
   ]
  },
  {
   "cell_type": "code",
   "execution_count": 13,
   "id": "f5450b08",
   "metadata": {},
   "outputs": [],
   "source": [
    "df_train = strat_tr_set.copy()\n",
    "df_val = strat_val_set.copy()\n"
   ]
  },
  {
   "cell_type": "code",
   "execution_count": 14,
   "id": "158c913f",
   "metadata": {},
   "outputs": [],
   "source": [
    "def gen_func(a):\n",
    "    \n",
    "    dflist = []\n",
    "    for i in range(len(a)):\n",
    "        \n",
    "        instance = a.iloc[i,:].to_numpy(dtype=float)\n",
    "        P_i=np.linspace(instance[1],instance[2],num=20)\n",
    "        x_i = P_i/instance[8]\n",
    "        mu_i = 1000*(instance[3]*x_i*x_i+instance[4]*x_i+instance[5])/(instance[6]*x_i+1)\n",
    "        correlations_select = pd.DataFrame({'P':P_i,'μ':mu_i,'Rsob':instance[10],'API':instance[11],'Tr':instance[12]})\n",
    "        pressure_bubble_point = correlations_select.iloc[0,0]*np.linspace(1,1,20)\n",
    "        visc_bubble_point = correlations_select.iloc[0,1]*np.linspace(1,1,20)\n",
    "        correlations_select.insert(0,\"Pb\",pressure_bubble_point)\n",
    "        correlations_select.insert(2,'μob',visc_bubble_point)\n",
    "        dflist.append(correlations_select)\n",
    "        \n",
    "    \n",
    "    totaldf = pd.concat(dflist)\n",
    "    totaldf.Pb = totaldf.Pb*145.038\n",
    "    totaldf.P = totaldf.P*145.038\n",
    "    totaldf.insert(2,'ΔP', totaldf.P-totaldf.Pb)\n",
    "    \n",
    "    totaldf.API = 141.5*1000/totaldf.API -131.5\n",
    "    totaldf.Rsob = totaldf.Rsob*5.614583333333333\n",
    "    #totaldf = totaldf[totaldf.μ != totaldf.μob]\n",
    "    #totaldf.drop('P',axis=1,inplace=True)\n",
    "    return totaldf"
   ]
  },
  {
   "cell_type": "code",
   "execution_count": 15,
   "id": "073deb2d",
   "metadata": {},
   "outputs": [],
   "source": [
    "test_data = gen_func(df2)\n",
    "train_data = gen_func(df_train)\n",
    "val_data = gen_func(df_val)\n",
    "\n",
    "#y = test_data[test_data.ΔP==0]\n",
    "#x =  val_data[val_data.ΔP==0]\n",
    "#train_data = pd.concat([train_data,y,x])\n",
    "all_data = gen_func(df)"
   ]
  },
  {
   "cell_type": "code",
   "execution_count": null,
   "id": "660a2321",
   "metadata": {},
   "outputs": [],
   "source": []
  },
  {
   "cell_type": "code",
   "execution_count": 16,
   "id": "9abcea21",
   "metadata": {},
   "outputs": [
    {
     "data": {
      "text/plain": [
       "39.32676969185716"
      ]
     },
     "execution_count": 16,
     "metadata": {},
     "output_type": "execute_result"
    }
   ],
   "source": [
    "np.sqrt(all_data.ΔP.mean())"
   ]
  },
  {
   "cell_type": "code",
   "execution_count": 17,
   "id": "56731908",
   "metadata": {},
   "outputs": [],
   "source": [
    "for a in [test_data,train_data,val_data,all_data]:\n",
    "    a.μ = np.sqrt(np.log(a.μ/a.μob+0.0012))\n",
    "    a.ΔP = np.power(a.ΔP,0.5)\n",
    "    #a.ΔP = np.log(a.ΔP+1)\n",
    "    #a.insert(0,'x1',a.ΔP*np.power(a.P/a.Pb,0.2))\n",
    "    a.μob = a.ΔP*np.power(a.μob,0.07)\n",
    "\n",
    "    #a.insert(4,'logμob',a.μob*np.log(a.μob))\n",
    "    a.Pb = a.ΔP/np.log(a.Pb+400)\n",
    "    a.P = a.ΔP*np.power(a.P,-0.15)\n",
    "    a.API = a.ΔP/np.power(a.API,0.3)\n",
    "    a.Rsob = a.ΔP/np.log(a.Rsob+150)\n",
    "    #a.drop('μob',axis=1,inplace=True)\n",
    "    a.Tr = a.ΔP*np.power(a.Tr,-1.)"
   ]
  },
  {
   "cell_type": "code",
   "execution_count": 18,
   "id": "66e24cf2",
   "metadata": {
    "scrolled": true
   },
   "outputs": [
    {
     "data": {
      "text/plain": [
       "μ       1.000000\n",
       "μob     0.893792\n",
       "API     0.891319\n",
       "Rsob    0.887188\n",
       "Pb      0.881542\n",
       "Tr      0.879291\n",
       "P       0.877724\n",
       "ΔP      0.868429\n",
       "Name: μ, dtype: float64"
      ]
     },
     "execution_count": 18,
     "metadata": {},
     "output_type": "execute_result"
    }
   ],
   "source": [
    "corr_matrix = all_data.corr()\n",
    "corr_matrix[\"μ\"].sort_values(ascending=False)"
   ]
  },
  {
   "cell_type": "code",
   "execution_count": null,
   "id": "f07e9494",
   "metadata": {},
   "outputs": [],
   "source": []
  },
  {
   "cell_type": "code",
   "execution_count": 19,
   "id": "cec80a97",
   "metadata": {},
   "outputs": [
    {
     "data": {
      "text/plain": [
       "(array([  1., 574.,  11.,  49., 144., 195., 273., 313., 351., 372., 414.,\n",
       "        435., 483., 508., 518., 524., 535., 539., 506., 490., 491., 444.,\n",
       "        430., 406., 337., 300., 266., 221., 213., 188., 153., 130., 115.,\n",
       "         94.,  77.,  58.,  53.,  41.,  34.,  27.,  26.,  21.,  12.,  12.,\n",
       "         11.,  11.,   3.,   6.,   2.,   3.]),\n",
       " array([0.00188016, 0.02084077, 0.03980137, 0.05876198, 0.07772259,\n",
       "        0.0966832 , 0.1156438 , 0.13460441, 0.15356502, 0.17252563,\n",
       "        0.19148623, 0.21044684, 0.22940745, 0.24836806, 0.26732866,\n",
       "        0.28628927, 0.30524988, 0.32421048, 0.34317109, 0.3621317 ,\n",
       "        0.38109231, 0.40005291, 0.41901352, 0.43797413, 0.45693474,\n",
       "        0.47589534, 0.49485595, 0.51381656, 0.53277716, 0.55173777,\n",
       "        0.57069838, 0.58965899, 0.60861959, 0.6275802 , 0.64654081,\n",
       "        0.66550142, 0.68446202, 0.70342263, 0.72238324, 0.74134384,\n",
       "        0.76030445, 0.77926506, 0.79822567, 0.81718627, 0.83614688,\n",
       "        0.85510749, 0.8740681 , 0.8930287 , 0.91198931, 0.93094992,\n",
       "        0.94991052]),\n",
       " <BarContainer object of 50 artists>)"
      ]
     },
     "execution_count": 19,
     "metadata": {},
     "output_type": "execute_result"
    },
    {
     "data": {
      "image/png": "[encoded data removed]",
      "text/plain": [
       "<Figure size 432x288 with 1 Axes>"
      ]
     },
     "metadata": {
      "needs_background": "light"
     },
     "output_type": "display_data"
    }
   ],
   "source": [
    "plt.hist(all_data.μ,bins=50)"
   ]
  },
  {
   "cell_type": "code",
   "execution_count": null,
   "id": "4643fed1",
   "metadata": {},
   "outputs": [],
   "source": []
  },
  {
   "cell_type": "code",
   "execution_count": 20,
   "id": "5ed04e68",
   "metadata": {},
   "outputs": [
    {
     "data": {
      "text/plain": [
       "array([[<AxesSubplot:title={'center':'Pb'}>,\n",
       "        <AxesSubplot:title={'center':'P'}>,\n",
       "        <AxesSubplot:title={'center':'ΔP'}>],\n",
       "       [<AxesSubplot:title={'center':'μob'}>,\n",
       "        <AxesSubplot:title={'center':'μ'}>,\n",
       "        <AxesSubplot:title={'center':'Rsob'}>],\n",
       "       [<AxesSubplot:title={'center':'API'}>,\n",
       "        <AxesSubplot:title={'center':'Tr'}>, <AxesSubplot:>]],\n",
       "      dtype=object)"
      ]
     },
     "execution_count": 20,
     "metadata": {},
     "output_type": "execute_result"
    },
    {
     "data": {
      "image/png": "[encoded data removed]",
      "text/plain": [
       "<Figure size 1152x648 with 9 Axes>"
      ]
     },
     "metadata": {
      "needs_background": "light"
     },
     "output_type": "display_data"
    }
   ],
   "source": [
    "all_data.hist(bins=100,figsize=(16,9))\n"
   ]
  },
  {
   "cell_type": "code",
   "execution_count": 21,
   "id": "89dae075",
   "metadata": {},
   "outputs": [
    {
     "data": {
      "text/html": [
       "<div>\n",
       "<style scoped>\n",
       "    .dataframe tbody tr th:only-of-type {\n",
       "        vertical-align: middle;\n",
       "    }\n",
       "\n",
       "    .dataframe tbody tr th {\n",
       "        vertical-align: top;\n",
       "    }\n",
       "\n",
       "    .dataframe thead th {\n",
       "        text-align: right;\n",
       "    }\n",
       "</style>\n",
       "<table border=\"1\" class=\"dataframe\">\n",
       "  <thead>\n",
       "    <tr style=\"text-align: right;\">\n",
       "      <th></th>\n",
       "      <th>Pb</th>\n",
       "      <th>P</th>\n",
       "      <th>ΔP</th>\n",
       "      <th>μob</th>\n",
       "      <th>μ</th>\n",
       "      <th>Rsob</th>\n",
       "      <th>API</th>\n",
       "      <th>Tr</th>\n",
       "    </tr>\n",
       "  </thead>\n",
       "  <tbody>\n",
       "    <tr>\n",
       "      <th>0</th>\n",
       "      <td>0.000000</td>\n",
       "      <td>0.000000</td>\n",
       "      <td>0.000000</td>\n",
       "      <td>0.000000</td>\n",
       "      <td>0.034631</td>\n",
       "      <td>0.000000</td>\n",
       "      <td>0.000000</td>\n",
       "      <td>0.000000</td>\n",
       "    </tr>\n",
       "    <tr>\n",
       "      <th>1</th>\n",
       "      <td>1.910324</td>\n",
       "      <td>4.752203</td>\n",
       "      <td>14.123531</td>\n",
       "      <td>15.004605</td>\n",
       "      <td>0.116077</td>\n",
       "      <td>2.353238</td>\n",
       "      <td>4.986188</td>\n",
       "      <td>0.038679</td>\n",
       "    </tr>\n",
       "    <tr>\n",
       "      <th>2</th>\n",
       "      <td>2.701606</td>\n",
       "      <td>6.589802</td>\n",
       "      <td>19.973689</td>\n",
       "      <td>21.219716</td>\n",
       "      <td>0.179595</td>\n",
       "      <td>3.327982</td>\n",
       "      <td>7.051535</td>\n",
       "      <td>0.054700</td>\n",
       "    </tr>\n",
       "    <tr>\n",
       "      <th>3</th>\n",
       "      <td>3.308778</td>\n",
       "      <td>7.931781</td>\n",
       "      <td>24.462673</td>\n",
       "      <td>25.988738</td>\n",
       "      <td>0.228066</td>\n",
       "      <td>4.075929</td>\n",
       "      <td>8.636332</td>\n",
       "      <td>0.066993</td>\n",
       "    </tr>\n",
       "    <tr>\n",
       "      <th>4</th>\n",
       "      <td>3.820648</td>\n",
       "      <td>9.017313</td>\n",
       "      <td>28.247061</td>\n",
       "      <td>30.009210</td>\n",
       "      <td>0.268089</td>\n",
       "      <td>4.706477</td>\n",
       "      <td>9.972377</td>\n",
       "      <td>0.077357</td>\n",
       "    </tr>\n",
       "    <tr>\n",
       "      <th>...</th>\n",
       "      <td>...</td>\n",
       "      <td>...</td>\n",
       "      <td>...</td>\n",
       "      <td>...</td>\n",
       "      <td>...</td>\n",
       "      <td>...</td>\n",
       "      <td>...</td>\n",
       "      <td>...</td>\n",
       "    </tr>\n",
       "    <tr>\n",
       "      <th>15</th>\n",
       "      <td>6.137712</td>\n",
       "      <td>13.756415</td>\n",
       "      <td>52.226794</td>\n",
       "      <td>50.263283</td>\n",
       "      <td>0.290937</td>\n",
       "      <td>7.132412</td>\n",
       "      <td>18.064873</td>\n",
       "      <td>0.134361</td>\n",
       "    </tr>\n",
       "    <tr>\n",
       "      <th>16</th>\n",
       "      <td>6.339002</td>\n",
       "      <td>14.155137</td>\n",
       "      <td>53.939601</td>\n",
       "      <td>51.911695</td>\n",
       "      <td>0.302167</td>\n",
       "      <td>7.366323</td>\n",
       "      <td>18.657321</td>\n",
       "      <td>0.138767</td>\n",
       "    </tr>\n",
       "    <tr>\n",
       "      <th>17</th>\n",
       "      <td>6.534094</td>\n",
       "      <td>14.538234</td>\n",
       "      <td>55.599669</td>\n",
       "      <td>53.509351</td>\n",
       "      <td>0.313081</td>\n",
       "      <td>7.593032</td>\n",
       "      <td>19.231526</td>\n",
       "      <td>0.143038</td>\n",
       "    </tr>\n",
       "    <tr>\n",
       "      <th>18</th>\n",
       "      <td>6.723527</td>\n",
       "      <td>14.907105</td>\n",
       "      <td>57.211587</td>\n",
       "      <td>55.060668</td>\n",
       "      <td>0.323699</td>\n",
       "      <td>7.813166</td>\n",
       "      <td>19.789077</td>\n",
       "      <td>0.147185</td>\n",
       "    </tr>\n",
       "    <tr>\n",
       "      <th>19</th>\n",
       "      <td>6.907767</td>\n",
       "      <td>15.262964</td>\n",
       "      <td>58.779318</td>\n",
       "      <td>56.569458</td>\n",
       "      <td>0.334039</td>\n",
       "      <td>8.027264</td>\n",
       "      <td>20.331344</td>\n",
       "      <td>0.151218</td>\n",
       "    </tr>\n",
       "  </tbody>\n",
       "</table>\n",
       "<p>11420 rows × 8 columns</p>\n",
       "</div>"
      ],
      "text/plain": [
       "          Pb          P         ΔP        μob         μ      Rsob        API  \\\n",
       "0   0.000000   0.000000   0.000000   0.000000  0.034631  0.000000   0.000000   \n",
       "1   1.910324   4.752203  14.123531  15.004605  0.116077  2.353238   4.986188   \n",
       "2   2.701606   6.589802  19.973689  21.219716  0.179595  3.327982   7.051535   \n",
       "3   3.308778   7.931781  24.462673  25.988738  0.228066  4.075929   8.636332   \n",
       "4   3.820648   9.017313  28.247061  30.009210  0.268089  4.706477   9.972377   \n",
       "..       ...        ...        ...        ...       ...       ...        ...   \n",
       "15  6.137712  13.756415  52.226794  50.263283  0.290937  7.132412  18.064873   \n",
       "16  6.339002  14.155137  53.939601  51.911695  0.302167  7.366323  18.657321   \n",
       "17  6.534094  14.538234  55.599669  53.509351  0.313081  7.593032  19.231526   \n",
       "18  6.723527  14.907105  57.211587  55.060668  0.323699  7.813166  19.789077   \n",
       "19  6.907767  15.262964  58.779318  56.569458  0.334039  8.027264  20.331344   \n",
       "\n",
       "          Tr  \n",
       "0   0.000000  \n",
       "1   0.038679  \n",
       "2   0.054700  \n",
       "3   0.066993  \n",
       "4   0.077357  \n",
       "..       ...  \n",
       "15  0.134361  \n",
       "16  0.138767  \n",
       "17  0.143038  \n",
       "18  0.147185  \n",
       "19  0.151218  \n",
       "\n",
       "[11420 rows x 8 columns]"
      ]
     },
     "execution_count": 21,
     "metadata": {},
     "output_type": "execute_result"
    }
   ],
   "source": [
    "all_data"
   ]
  },
  {
   "cell_type": "code",
   "execution_count": 22,
   "id": "4986712f",
   "metadata": {},
   "outputs": [],
   "source": [
    "from sklearn.preprocessing import StandardScaler\n",
    "from sklearn.preprocessing import PolynomialFeatures\n",
    "\n",
    "X_train = train_data.drop([\"μ\"], axis=1) \n",
    "y_train = train_data[\"μ\"].copy()\n",
    "X_val = val_data.drop([\"μ\"], axis=1) \n",
    "y_val = val_data[\"μ\"].copy()\n",
    "X_test = test_data.drop([\"μ\"], axis=1) # drop labels for training set\n",
    "y_test = test_data[\"μ\"].copy()\n"
   ]
  },
  {
   "cell_type": "code",
   "execution_count": 23,
   "id": "9052894e",
   "metadata": {},
   "outputs": [],
   "source": [
    "poly_features = PolynomialFeatures(degree=2, include_bias=False)\n",
    "X_train_poly = poly_features.fit_transform(X_train)\n",
    "X_val_poly = poly_features.fit_transform(X_val)\n",
    "X_test_poly = poly_features.fit_transform(X_test)\n",
    "poly_scaler = StandardScaler()\n",
    "X_train_poly = poly_scaler.fit_transform(X_train_poly)\n",
    "X_val_poly = poly_scaler.transform(X_val_poly)\n",
    "X_test_poly = poly_scaler.transform(X_test_poly)\n"
   ]
  },
  {
   "cell_type": "code",
   "execution_count": 24,
   "id": "f571bc3c",
   "metadata": {},
   "outputs": [
    {
     "data": {
      "text/plain": [
       "array([[-2.03772153, -2.27848118, -2.14789758, ..., -1.16643581,\n",
       "        -1.23504049, -1.2703793 ],\n",
       "       [-1.08886032, -1.10686692, -1.14276735, ..., -0.99849722,\n",
       "        -1.03254514, -1.03557666],\n",
       "       [-0.69582914, -0.65223951, -0.72642878, ..., -0.83055863,\n",
       "        -0.83004979, -0.80077401],\n",
       "       ...,\n",
       "       [ 0.87852561,  0.97764685,  1.14251862, ...,  0.57219397,\n",
       "         0.6780285 ,  0.75393303],\n",
       "       [ 0.96307202,  1.05816253,  1.23791276, ...,  0.67446631,\n",
       "         0.79056197,  0.87301023],\n",
       "       [ 1.04530076,  1.13577053,  1.33069186, ...,  0.77673865,\n",
       "         0.90309544,  0.99208742]])"
      ]
     },
     "execution_count": 24,
     "metadata": {},
     "output_type": "execute_result"
    }
   ],
   "source": [
    "X_train_poly"
   ]
  },
  {
   "cell_type": "code",
   "execution_count": 25,
   "id": "eee84125",
   "metadata": {},
   "outputs": [],
   "source": [
    "scaler = StandardScaler()\n",
    "X_train= scaler.fit_transform(X_train)\n",
    "X_val= scaler.transform(X_val)\n",
    "X_test= scaler.transform(X_test)\n"
   ]
  },
  {
   "cell_type": "code",
   "execution_count": 26,
   "id": "e7f2c69a",
   "metadata": {},
   "outputs": [],
   "source": [
    "X_features_full = [X_train,X_val,X_test]\n",
    "X_features_poly_full = [X_train_poly,X_val_poly,X_test_poly]\n",
    "y_labels_full = [y_train,y_val,y_test]\n"
   ]
  },
  {
   "cell_type": "code",
   "execution_count": 27,
   "id": "6173d002",
   "metadata": {
    "scrolled": true
   },
   "outputs": [
    {
     "name": "stdout",
     "output_type": "stream",
     "text": [
      "Stored 'X_features_full' (list)\n",
      "Stored 'X_features_poly_full' (list)\n",
      "Stored 'y_labels_full' (list)\n"
     ]
    }
   ],
   "source": [
    "%store X_features_full\n",
    "%store X_features_poly_full\n",
    "%store y_labels_full\n"
   ]
  },
  {
   "cell_type": "code",
   "execution_count": 28,
   "id": "76220197",
   "metadata": {
    "scrolled": false
   },
   "outputs": [
    {
     "name": "stdout",
     "output_type": "stream",
     "text": [
      "Stored 'totaldf_full' (DataFrame)\n",
      "Stored 'all_data_full' (DataFrame)\n"
     ]
    }
   ],
   "source": [
    "totaldf_full = gen_func(df2)\n",
    "%store totaldf_full\n",
    "totaldf_full\n",
    "all_data_full = gen_func(df)\n",
    "%store all_data_full"
   ]
  },
  {
   "cell_type": "code",
   "execution_count": 29,
   "id": "f47f76fd",
   "metadata": {},
   "outputs": [
    {
     "data": {
      "text/plain": [
       "array([[-2.03772153, -2.27848118, -2.14789758, ..., -1.99367471,\n",
       "        -2.04531475, -2.14149021],\n",
       "       [-1.08886032, -1.10686692, -1.14276735, ..., -1.12875036,\n",
       "        -1.18144449, -1.1253948 ],\n",
       "       [-0.69582914, -0.65223951, -0.72642878, ..., -0.77048697,\n",
       "        -0.82361772, -0.7045143 ],\n",
       "       ...,\n",
       "       [ 0.87852561,  0.97764685,  1.14251862, ...,  0.24934596,\n",
       "         0.73425021,  0.84198035],\n",
       "       [ 0.96307202,  1.05816253,  1.23791276, ...,  0.31437452,\n",
       "         0.814834  ,  0.92847567],\n",
       "       [ 1.04530076,  1.13577053,  1.33069186, ...,  0.37762046,\n",
       "         0.89320875,  1.0125999 ]])"
      ]
     },
     "execution_count": 29,
     "metadata": {},
     "output_type": "execute_result"
    }
   ],
   "source": [
    "X_features_full[0]"
   ]
  },
  {
   "cell_type": "code",
   "execution_count": 30,
   "id": "d37324a1",
   "metadata": {
    "scrolled": false
   },
   "outputs": [
    {
     "data": {
      "text/plain": [
       "μ       1.000000\n",
       "μob     0.893792\n",
       "API     0.891319\n",
       "Rsob    0.887188\n",
       "Pb      0.881542\n",
       "Tr      0.879291\n",
       "P       0.877724\n",
       "ΔP      0.868429\n",
       "Name: μ, dtype: float64"
      ]
     },
     "execution_count": 30,
     "metadata": {},
     "output_type": "execute_result"
    }
   ],
   "source": [
    "corr_matrix = all_data.corr()\n",
    "corr_matrix[\"μ\"].sort_values(ascending=False)"
   ]
  },
  {
   "cell_type": "code",
   "execution_count": null,
   "id": "e4935a3d",
   "metadata": {},
   "outputs": [],
   "source": []
  },
  {
   "cell_type": "code",
   "execution_count": null,
   "id": "e94df3a4",
   "metadata": {},
   "outputs": [],
   "source": []
  },
  {
   "cell_type": "code",
   "execution_count": 31,
   "id": "371829f6",
   "metadata": {
    "scrolled": false
   },
   "outputs": [],
   "source": [
    "#from pandas.plotting import scatter_matrix\n",
    "\n",
    "#attributes = [\"Pb\",'Rsob','P','API','ΔP','μ','μob','Tr']\n",
    "#scatter_matrix(all_data[attributes], figsize=(12, 8))"
   ]
  },
  {
   "cell_type": "code",
   "execution_count": null,
   "id": "da4722e9",
   "metadata": {},
   "outputs": [],
   "source": []
  },
  {
   "cell_type": "code",
   "execution_count": 32,
   "id": "29516d8b",
   "metadata": {},
   "outputs": [
    {
     "data": {
      "text/plain": [
       "<matplotlib.collections.PathCollection at 0x25ac6f24250>"
      ]
     },
     "execution_count": 32,
     "metadata": {},
     "output_type": "execute_result"
    },
    {
     "data": {
      "image/png": "[encoded data removed]",
      "text/plain": [
       "<Figure size 432x288 with 1 Axes>"
      ]
     },
     "metadata": {
      "needs_background": "light"
     },
     "output_type": "display_data"
    }
   ],
   "source": [
    "plt.scatter(all_data.ΔP,all_data.μ)\n"
   ]
  },
  {
   "cell_type": "code",
   "execution_count": 33,
   "id": "90e80129",
   "metadata": {},
   "outputs": [
    {
     "data": {
      "text/html": [
       "<div>\n",
       "<style scoped>\n",
       "    .dataframe tbody tr th:only-of-type {\n",
       "        vertical-align: middle;\n",
       "    }\n",
       "\n",
       "    .dataframe tbody tr th {\n",
       "        vertical-align: top;\n",
       "    }\n",
       "\n",
       "    .dataframe thead th {\n",
       "        text-align: right;\n",
       "    }\n",
       "</style>\n",
       "<table border=\"1\" class=\"dataframe\">\n",
       "  <thead>\n",
       "    <tr style=\"text-align: right;\">\n",
       "      <th></th>\n",
       "      <th>Pb</th>\n",
       "      <th>P</th>\n",
       "      <th>ΔP</th>\n",
       "      <th>μob</th>\n",
       "      <th>μ</th>\n",
       "      <th>Rsob</th>\n",
       "      <th>API</th>\n",
       "      <th>Tr</th>\n",
       "    </tr>\n",
       "  </thead>\n",
       "  <tbody>\n",
       "  </tbody>\n",
       "</table>\n",
       "</div>"
      ],
      "text/plain": [
       "Empty DataFrame\n",
       "Columns: [Pb, P, ΔP, μob, μ, Rsob, API, Tr]\n",
       "Index: []"
      ]
     },
     "execution_count": 33,
     "metadata": {},
     "output_type": "execute_result"
    }
   ],
   "source": [
    "pp = all_data.loc[all_data.μ<=0.5 ]\n",
    "pp[pp.ΔP>100]"
   ]
  },
  {
   "cell_type": "code",
   "execution_count": 34,
   "id": "b0745abd",
   "metadata": {},
   "outputs": [
    {
     "data": {
      "text/html": [
       "<div>\n",
       "<style scoped>\n",
       "    .dataframe tbody tr th:only-of-type {\n",
       "        vertical-align: middle;\n",
       "    }\n",
       "\n",
       "    .dataframe tbody tr th {\n",
       "        vertical-align: top;\n",
       "    }\n",
       "\n",
       "    .dataframe thead th {\n",
       "        text-align: right;\n",
       "    }\n",
       "</style>\n",
       "<table border=\"1\" class=\"dataframe\">\n",
       "  <thead>\n",
       "    <tr style=\"text-align: right;\">\n",
       "      <th></th>\n",
       "      <th>Pb</th>\n",
       "      <th>P</th>\n",
       "      <th>ΔP</th>\n",
       "      <th>μob</th>\n",
       "      <th>μ</th>\n",
       "      <th>Rsob</th>\n",
       "      <th>API</th>\n",
       "      <th>Tr</th>\n",
       "    </tr>\n",
       "  </thead>\n",
       "  <tbody>\n",
       "    <tr>\n",
       "      <th>0</th>\n",
       "      <td>0.000000</td>\n",
       "      <td>0.000000</td>\n",
       "      <td>0.000000</td>\n",
       "      <td>0.000000</td>\n",
       "      <td>0.034631</td>\n",
       "      <td>0.000000</td>\n",
       "      <td>0.000000</td>\n",
       "      <td>0.000000</td>\n",
       "    </tr>\n",
       "    <tr>\n",
       "      <th>1</th>\n",
       "      <td>1.910324</td>\n",
       "      <td>4.752203</td>\n",
       "      <td>14.123531</td>\n",
       "      <td>15.004605</td>\n",
       "      <td>0.116077</td>\n",
       "      <td>2.353238</td>\n",
       "      <td>4.986188</td>\n",
       "      <td>0.038679</td>\n",
       "    </tr>\n",
       "    <tr>\n",
       "      <th>2</th>\n",
       "      <td>2.701606</td>\n",
       "      <td>6.589802</td>\n",
       "      <td>19.973689</td>\n",
       "      <td>21.219716</td>\n",
       "      <td>0.179595</td>\n",
       "      <td>3.327982</td>\n",
       "      <td>7.051535</td>\n",
       "      <td>0.054700</td>\n",
       "    </tr>\n",
       "    <tr>\n",
       "      <th>3</th>\n",
       "      <td>3.308778</td>\n",
       "      <td>7.931781</td>\n",
       "      <td>24.462673</td>\n",
       "      <td>25.988738</td>\n",
       "      <td>0.228066</td>\n",
       "      <td>4.075929</td>\n",
       "      <td>8.636332</td>\n",
       "      <td>0.066993</td>\n",
       "    </tr>\n",
       "    <tr>\n",
       "      <th>4</th>\n",
       "      <td>3.820648</td>\n",
       "      <td>9.017313</td>\n",
       "      <td>28.247061</td>\n",
       "      <td>30.009210</td>\n",
       "      <td>0.268089</td>\n",
       "      <td>4.706477</td>\n",
       "      <td>9.972377</td>\n",
       "      <td>0.077357</td>\n",
       "    </tr>\n",
       "    <tr>\n",
       "      <th>...</th>\n",
       "      <td>...</td>\n",
       "      <td>...</td>\n",
       "      <td>...</td>\n",
       "      <td>...</td>\n",
       "      <td>...</td>\n",
       "      <td>...</td>\n",
       "      <td>...</td>\n",
       "      <td>...</td>\n",
       "    </tr>\n",
       "    <tr>\n",
       "      <th>15</th>\n",
       "      <td>6.137712</td>\n",
       "      <td>13.756415</td>\n",
       "      <td>52.226794</td>\n",
       "      <td>50.263283</td>\n",
       "      <td>0.290937</td>\n",
       "      <td>7.132412</td>\n",
       "      <td>18.064873</td>\n",
       "      <td>0.134361</td>\n",
       "    </tr>\n",
       "    <tr>\n",
       "      <th>16</th>\n",
       "      <td>6.339002</td>\n",
       "      <td>14.155137</td>\n",
       "      <td>53.939601</td>\n",
       "      <td>51.911695</td>\n",
       "      <td>0.302167</td>\n",
       "      <td>7.366323</td>\n",
       "      <td>18.657321</td>\n",
       "      <td>0.138767</td>\n",
       "    </tr>\n",
       "    <tr>\n",
       "      <th>17</th>\n",
       "      <td>6.534094</td>\n",
       "      <td>14.538234</td>\n",
       "      <td>55.599669</td>\n",
       "      <td>53.509351</td>\n",
       "      <td>0.313081</td>\n",
       "      <td>7.593032</td>\n",
       "      <td>19.231526</td>\n",
       "      <td>0.143038</td>\n",
       "    </tr>\n",
       "    <tr>\n",
       "      <th>18</th>\n",
       "      <td>6.723527</td>\n",
       "      <td>14.907105</td>\n",
       "      <td>57.211587</td>\n",
       "      <td>55.060668</td>\n",
       "      <td>0.323699</td>\n",
       "      <td>7.813166</td>\n",
       "      <td>19.789077</td>\n",
       "      <td>0.147185</td>\n",
       "    </tr>\n",
       "    <tr>\n",
       "      <th>19</th>\n",
       "      <td>6.907767</td>\n",
       "      <td>15.262964</td>\n",
       "      <td>58.779318</td>\n",
       "      <td>56.569458</td>\n",
       "      <td>0.334039</td>\n",
       "      <td>8.027264</td>\n",
       "      <td>20.331344</td>\n",
       "      <td>0.151218</td>\n",
       "    </tr>\n",
       "  </tbody>\n",
       "</table>\n",
       "<p>9716 rows × 8 columns</p>\n",
       "</div>"
      ],
      "text/plain": [
       "          Pb          P         ΔP        μob         μ      Rsob        API  \\\n",
       "0   0.000000   0.000000   0.000000   0.000000  0.034631  0.000000   0.000000   \n",
       "1   1.910324   4.752203  14.123531  15.004605  0.116077  2.353238   4.986188   \n",
       "2   2.701606   6.589802  19.973689  21.219716  0.179595  3.327982   7.051535   \n",
       "3   3.308778   7.931781  24.462673  25.988738  0.228066  4.075929   8.636332   \n",
       "4   3.820648   9.017313  28.247061  30.009210  0.268089  4.706477   9.972377   \n",
       "..       ...        ...        ...        ...       ...       ...        ...   \n",
       "15  6.137712  13.756415  52.226794  50.263283  0.290937  7.132412  18.064873   \n",
       "16  6.339002  14.155137  53.939601  51.911695  0.302167  7.366323  18.657321   \n",
       "17  6.534094  14.538234  55.599669  53.509351  0.313081  7.593032  19.231526   \n",
       "18  6.723527  14.907105  57.211587  55.060668  0.323699  7.813166  19.789077   \n",
       "19  6.907767  15.262964  58.779318  56.569458  0.334039  8.027264  20.331344   \n",
       "\n",
       "          Tr  \n",
       "0   0.000000  \n",
       "1   0.038679  \n",
       "2   0.054700  \n",
       "3   0.066993  \n",
       "4   0.077357  \n",
       "..       ...  \n",
       "15  0.134361  \n",
       "16  0.138767  \n",
       "17  0.143038  \n",
       "18  0.147185  \n",
       "19  0.151218  \n",
       "\n",
       "[9716 rows x 8 columns]"
      ]
     },
     "execution_count": 34,
     "metadata": {},
     "output_type": "execute_result"
    }
   ],
   "source": [
    "pp = all_data.loc[all_data.μ<=0.5 ]\n",
    "pp[pp.ΔP<600]"
   ]
  },
  {
   "cell_type": "code",
   "execution_count": 35,
   "id": "1ee20e05",
   "metadata": {},
   "outputs": [
    {
     "data": {
      "text/plain": [
       "<matplotlib.collections.PathCollection at 0x25ac6f5afb0>"
      ]
     },
     "execution_count": 35,
     "metadata": {},
     "output_type": "execute_result"
    },
    {
     "data": {
      "image/png": "[encoded data removed]",
      "text/plain": [
       "<Figure size 432x288 with 1 Axes>"
      ]
     },
     "metadata": {
      "needs_background": "light"
     },
     "output_type": "display_data"
    }
   ],
   "source": [
    "plt.scatter(all_data.Rsob,all_data.Pb)\n"
   ]
  },
  {
   "cell_type": "code",
   "execution_count": 36,
   "id": "c38752e1",
   "metadata": {},
   "outputs": [
    {
     "data": {
      "text/html": [
       "<div>\n",
       "<style scoped>\n",
       "    .dataframe tbody tr th:only-of-type {\n",
       "        vertical-align: middle;\n",
       "    }\n",
       "\n",
       "    .dataframe tbody tr th {\n",
       "        vertical-align: top;\n",
       "    }\n",
       "\n",
       "    .dataframe thead th {\n",
       "        text-align: right;\n",
       "    }\n",
       "</style>\n",
       "<table border=\"1\" class=\"dataframe\">\n",
       "  <thead>\n",
       "    <tr style=\"text-align: right;\">\n",
       "      <th></th>\n",
       "      <th>Pb</th>\n",
       "      <th>P</th>\n",
       "      <th>ΔP</th>\n",
       "      <th>μob</th>\n",
       "      <th>μ</th>\n",
       "      <th>Rsob</th>\n",
       "      <th>API</th>\n",
       "      <th>Tr</th>\n",
       "    </tr>\n",
       "  </thead>\n",
       "  <tbody>\n",
       "    <tr>\n",
       "      <th>0</th>\n",
       "      <td>0.000000</td>\n",
       "      <td>0.000000</td>\n",
       "      <td>0.000000</td>\n",
       "      <td>0.000000</td>\n",
       "      <td>0.034631</td>\n",
       "      <td>0.000000</td>\n",
       "      <td>0.000000</td>\n",
       "      <td>0.000000</td>\n",
       "    </tr>\n",
       "    <tr>\n",
       "      <th>1</th>\n",
       "      <td>2.457727</td>\n",
       "      <td>6.269954</td>\n",
       "      <td>15.861252</td>\n",
       "      <td>18.395401</td>\n",
       "      <td>0.187439</td>\n",
       "      <td>2.940324</td>\n",
       "      <td>5.873268</td>\n",
       "      <td>0.048057</td>\n",
       "    </tr>\n",
       "    <tr>\n",
       "      <th>2</th>\n",
       "      <td>3.475751</td>\n",
       "      <td>8.329711</td>\n",
       "      <td>22.431198</td>\n",
       "      <td>26.015026</td>\n",
       "      <td>0.264952</td>\n",
       "      <td>4.158247</td>\n",
       "      <td>8.306056</td>\n",
       "      <td>0.067963</td>\n",
       "    </tr>\n",
       "    <tr>\n",
       "      <th>3</th>\n",
       "      <td>4.256908</td>\n",
       "      <td>9.762702</td>\n",
       "      <td>27.472495</td>\n",
       "      <td>31.861769</td>\n",
       "      <td>0.325613</td>\n",
       "      <td>5.092791</td>\n",
       "      <td>10.172799</td>\n",
       "      <td>0.083237</td>\n",
       "    </tr>\n",
       "    <tr>\n",
       "      <th>4</th>\n",
       "      <td>4.915454</td>\n",
       "      <td>10.896450</td>\n",
       "      <td>31.722505</td>\n",
       "      <td>36.790802</td>\n",
       "      <td>0.377229</td>\n",
       "      <td>5.880649</td>\n",
       "      <td>11.746537</td>\n",
       "      <td>0.096114</td>\n",
       "    </tr>\n",
       "    <tr>\n",
       "      <th>...</th>\n",
       "      <td>...</td>\n",
       "      <td>...</td>\n",
       "      <td>...</td>\n",
       "      <td>...</td>\n",
       "      <td>...</td>\n",
       "      <td>...</td>\n",
       "      <td>...</td>\n",
       "      <td>...</td>\n",
       "    </tr>\n",
       "    <tr>\n",
       "      <th>15</th>\n",
       "      <td>5.366468</td>\n",
       "      <td>12.201498</td>\n",
       "      <td>44.964846</td>\n",
       "      <td>40.010577</td>\n",
       "      <td>0.517118</td>\n",
       "      <td>6.003123</td>\n",
       "      <td>15.240554</td>\n",
       "      <td>0.114048</td>\n",
       "    </tr>\n",
       "    <tr>\n",
       "      <th>16</th>\n",
       "      <td>5.542464</td>\n",
       "      <td>12.559562</td>\n",
       "      <td>46.439493</td>\n",
       "      <td>41.322746</td>\n",
       "      <td>0.531937</td>\n",
       "      <td>6.199999</td>\n",
       "      <td>15.740377</td>\n",
       "      <td>0.117789</td>\n",
       "    </tr>\n",
       "    <tr>\n",
       "      <th>17</th>\n",
       "      <td>5.713041</td>\n",
       "      <td>12.903800</td>\n",
       "      <td>47.868734</td>\n",
       "      <td>42.594511</td>\n",
       "      <td>0.546142</td>\n",
       "      <td>6.390812</td>\n",
       "      <td>16.224809</td>\n",
       "      <td>0.121414</td>\n",
       "    </tr>\n",
       "    <tr>\n",
       "      <th>18</th>\n",
       "      <td>5.878671</td>\n",
       "      <td>13.235441</td>\n",
       "      <td>49.256521</td>\n",
       "      <td>43.829391</td>\n",
       "      <td>0.559787</td>\n",
       "      <td>6.576092</td>\n",
       "      <td>16.695191</td>\n",
       "      <td>0.124934</td>\n",
       "    </tr>\n",
       "    <tr>\n",
       "      <th>19</th>\n",
       "      <td>6.039760</td>\n",
       "      <td>13.555547</td>\n",
       "      <td>50.606264</td>\n",
       "      <td>45.030418</td>\n",
       "      <td>0.572916</td>\n",
       "      <td>6.756292</td>\n",
       "      <td>17.152678</td>\n",
       "      <td>0.128357</td>\n",
       "    </tr>\n",
       "  </tbody>\n",
       "</table>\n",
       "<p>2300 rows × 8 columns</p>\n",
       "</div>"
      ],
      "text/plain": [
       "          Pb          P         ΔP        μob         μ      Rsob        API  \\\n",
       "0   0.000000   0.000000   0.000000   0.000000  0.034631  0.000000   0.000000   \n",
       "1   2.457727   6.269954  15.861252  18.395401  0.187439  2.940324   5.873268   \n",
       "2   3.475751   8.329711  22.431198  26.015026  0.264952  4.158247   8.306056   \n",
       "3   4.256908   9.762702  27.472495  31.861769  0.325613  5.092791  10.172799   \n",
       "4   4.915454  10.896450  31.722505  36.790802  0.377229  5.880649  11.746537   \n",
       "..       ...        ...        ...        ...       ...       ...        ...   \n",
       "15  5.366468  12.201498  44.964846  40.010577  0.517118  6.003123  15.240554   \n",
       "16  5.542464  12.559562  46.439493  41.322746  0.531937  6.199999  15.740377   \n",
       "17  5.713041  12.903800  47.868734  42.594511  0.546142  6.390812  16.224809   \n",
       "18  5.878671  13.235441  49.256521  43.829391  0.559787  6.576092  16.695191   \n",
       "19  6.039760  13.555547  50.606264  45.030418  0.572916  6.756292  17.152678   \n",
       "\n",
       "          Tr  \n",
       "0   0.000000  \n",
       "1   0.048057  \n",
       "2   0.067963  \n",
       "3   0.083237  \n",
       "4   0.096114  \n",
       "..       ...  \n",
       "15  0.114048  \n",
       "16  0.117789  \n",
       "17  0.121414  \n",
       "18  0.124934  \n",
       "19  0.128357  \n",
       "\n",
       "[2300 rows x 8 columns]"
      ]
     },
     "execution_count": 36,
     "metadata": {},
     "output_type": "execute_result"
    }
   ],
   "source": [
    "test_data"
   ]
  },
  {
   "cell_type": "code",
   "execution_count": 37,
   "id": "4e202180",
   "metadata": {},
   "outputs": [
    {
     "data": {
      "text/plain": [
       "array([ 4.6257766 , 10.25322628, 35.41671226, 35.76609448,  5.46596891,\n",
       "       12.55058804,  0.09633365])"
      ]
     },
     "execution_count": 37,
     "metadata": {},
     "output_type": "execute_result"
    }
   ],
   "source": [
    "scaler.mean_"
   ]
  },
  {
   "cell_type": "code",
   "execution_count": 38,
   "id": "b6be452e",
   "metadata": {},
   "outputs": [
    {
     "data": {
      "text/plain": [
       "array([5.15323138e+00, 2.02502408e+01, 2.71887567e+02, 3.11359239e+02,\n",
       "       7.51667400e+00, 3.76537164e+01, 2.02359600e-03])"
      ]
     },
     "execution_count": 38,
     "metadata": {},
     "output_type": "execute_result"
    }
   ],
   "source": [
    "scaler.var_"
   ]
  },
  {
   "cell_type": "code",
   "execution_count": null,
   "id": "abcf3a6a",
   "metadata": {},
   "outputs": [],
   "source": []
  }
 ],
 "metadata": {
  "kernelspec": {
   "display_name": "Python 3 (ipykernel)",
   "language": "python",
   "name": "python3"
  },
  "language_info": {
   "codemirror_mode": {
    "name": "ipython",
    "version": 3
   },
   "file_extension": ".py",
   "mimetype": "text/x-python",
   "name": "python",
   "nbconvert_exporter": "python",
   "pygments_lexer": "ipython3",
   "version": "3.10.1"
  }
 },
 "nbformat": 4,
 "nbformat_minor": 5
}
