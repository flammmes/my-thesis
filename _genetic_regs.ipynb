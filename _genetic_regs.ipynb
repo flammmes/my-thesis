{
 "cells": [
  {
   "cell_type": "code",
   "execution_count": 1,
   "id": "42157fd2",
   "metadata": {},
   "outputs": [],
   "source": [
    "import numpy as np\n",
    "import pandas as pd\n",
    "import matplotlib.pyplot as plt\n",
    "import sklearn\n",
    "import joblib\n",
    "%store -r X_features_full\n",
    "%store -r X_features_poly_full\n",
    "%store -r y_labels_full\n",
    "X_features = X_features_full\n",
    "X_features_poly = X_features_poly_full\n",
    "y_labels = y_labels_full\n",
    "from sklearn.metrics import mean_absolute_percentage_error\n"
   ]
  },
  {
   "cell_type": "code",
   "execution_count": 2,
   "id": "d71515ba",
   "metadata": {},
   "outputs": [],
   "source": [
    "from gplearn.fitness import make_fitness\n",
    "def _mape(y, y_pred, w):\n",
    "    \"\"\"Calculate the mean absolute percentage error.\"\"\"\n",
    "    diffs = np.abs(np.divide((np.maximum(0.001, y) - np.maximum(0.001, y_pred)),\n",
    "                             np.maximum(0.001, y)))\n",
    "    return 100. * np.average(diffs, weights=w)\n",
    "mape = make_fitness(function=_mape,\n",
    "                    greater_is_better=False)"
   ]
  },
  {
   "cell_type": "code",
   "execution_count": null,
   "id": "038a438f",
   "metadata": {
    "scrolled": false
   },
   "outputs": [
    {
     "name": "stdout",
     "output_type": "stream",
     "text": [
      "    |   Population Average    |             Best Individual              |\n",
      "---- ------------------------- ------------------------------------------ ----------\n",
      " Gen   Length          Fitness   Length          Fitness      OOB Fitness  Time Left\n",
      "   0    27.26      9.47738e+07        3          8.63199          8.33377      3.87m\n",
      "   1     6.89          253.348        3          8.57487          8.84784      2.34m\n",
      "   2     7.67          791.162        3          8.54846          9.08548      2.24m\n",
      "   3     3.55          62.7623        5           8.4509          9.22649      2.00m\n",
      "   4     3.38          31.9242        5          8.45028          9.23211      2.00m\n",
      "   5     3.64           80.594        5          8.42996          9.41495      1.85m\n",
      "   6     4.36          720.152        5          8.43631          9.35786      1.83m\n"
     ]
    }
   ],
   "source": [
    "from gplearn.genetic import SymbolicRegressor\n",
    "est = SymbolicRegressor(metric = mape, population_size=5000,\n",
    "                           generations=25, stopping_criteria=2,\n",
    "                           p_crossover=0.8, p_subtree_mutation=0.1,\n",
    "                           p_hoist_mutation=0.05, p_point_mutation=0.05,\n",
    "                           max_samples=0.9, verbose=1,\n",
    "                           parsimony_coefficient=0.01)\n",
    "est.fit(X_features[0], y_labels[0])\n",
    "visc_predictions = est.predict(X_features[1])\n",
    "est_mse = mean_absolute_percentage_error(y_labels[1], visc_predictions)\n",
    "est_mse\n"
   ]
  },
  {
   "cell_type": "code",
   "execution_count": null,
   "id": "230ab988",
   "metadata": {
    "scrolled": true
   },
   "outputs": [],
   "source": [
    "print(est._program)"
   ]
  },
  {
   "cell_type": "code",
   "execution_count": null,
   "id": "0184b16e",
   "metadata": {},
   "outputs": [],
   "source": []
  }
 ],
 "metadata": {
  "kernelspec": {
   "display_name": "Python 3 (ipykernel)",
   "language": "python",
   "name": "python3"
  },
  "language_info": {
   "codemirror_mode": {
    "name": "ipython",
    "version": 3
   },
   "file_extension": ".py",
   "mimetype": "text/x-python",
   "name": "python",
   "nbconvert_exporter": "python",
   "pygments_lexer": "ipython3",
   "version": "3.10.1"
  }
 },
 "nbformat": 4,
 "nbformat_minor": 5
}
