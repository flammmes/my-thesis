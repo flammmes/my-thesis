{
 "cells": [
  {
   "cell_type": "code",
   "execution_count": 1,
   "id": "322c7659",
   "metadata": {},
   "outputs": [],
   "source": [
    "import numpy as np\n",
    "import pandas as pd\n",
    "import matplotlib.pyplot as plt\n",
    "import sklearn\n",
    "import joblib\n",
    "%store -r X_features_full\n",
    "%store -r X_features_poly_full\n",
    "%store -r y_labels_full\n",
    "X_features = X_features_full\n",
    "X_features_poly = X_features_poly_full\n",
    "y_labels = y_labels_full\n",
    "\n",
    "from sklearn.metrics import mean_absolute_percentage_error\n"
   ]
  },
  {
   "cell_type": "code",
   "execution_count": 2,
   "id": "48df4f53",
   "metadata": {},
   "outputs": [],
   "source": [
    "from sklearn.ensemble import VotingRegressor\n",
    "from sklearn.ensemble import RandomForestRegressor\n",
    "from sklearn.svm import SVR\n",
    "from sklearn.tree import DecisionTreeRegressor\n",
    "\n",
    "from sklearn.linear_model import Ridge\n",
    "from sklearn.svm import LinearSVR\n",
    "\n"
   ]
  },
  {
   "cell_type": "code",
   "execution_count": 3,
   "id": "89c57626",
   "metadata": {},
   "outputs": [],
   "source": [
    "svm_rbf_reg = SVR(kernel=\"rbf\",C=1,epsilon=0.001)\n",
    "forest_reg = RandomForestRegressor(n_estimators=150,max_samples=5000)\n",
    "\n",
    "poly_svm_rbf_reg = SVR(kernel=\"rbf\",C=1,epsilon=0.001)\n",
    "poly_forest_reg = RandomForestRegressor(n_estimators=100)\n",
    "\n",
    "voting_reg = VotingRegressor(\n",
    "    estimators=[('fr', forest_reg), ('svm', svm_rbf_reg)])\n",
    "\n",
    "poly_voting_reg = VotingRegressor(\n",
    "    estimators=[('pfr', poly_svm_rbf_reg), ('psvm', poly_forest_reg)])"
   ]
  },
  {
   "cell_type": "code",
   "execution_count": 4,
   "id": "1cf661cf",
   "metadata": {},
   "outputs": [
    {
     "data": {
      "text/html": [
       "<style>#sk-container-id-1 {color: black;background-color: white;}#sk-container-id-1 pre{padding: 0;}#sk-container-id-1 div.sk-toggleable {background-color: white;}#sk-container-id-1 label.sk-toggleable__label {cursor: pointer;display: block;width: 100%;margin-bottom: 0;padding: 0.3em;box-sizing: border-box;text-align: center;}#sk-container-id-1 label.sk-toggleable__label-arrow:before {content: \"▸\";float: left;margin-right: 0.25em;color: #696969;}#sk-container-id-1 label.sk-toggleable__label-arrow:hover:before {color: black;}#sk-container-id-1 div.sk-estimator:hover label.sk-toggleable__label-arrow:before {color: black;}#sk-container-id-1 div.sk-toggleable__content {max-height: 0;max-width: 0;overflow: hidden;text-align: left;background-color: #f0f8ff;}#sk-container-id-1 div.sk-toggleable__content pre {margin: 0.2em;color: black;border-radius: 0.25em;background-color: #f0f8ff;}#sk-container-id-1 input.sk-toggleable__control:checked~div.sk-toggleable__content {max-height: 200px;max-width: 100%;overflow: auto;}#sk-container-id-1 input.sk-toggleable__control:checked~label.sk-toggleable__label-arrow:before {content: \"▾\";}#sk-container-id-1 div.sk-estimator input.sk-toggleable__control:checked~label.sk-toggleable__label {background-color: #d4ebff;}#sk-container-id-1 div.sk-label input.sk-toggleable__control:checked~label.sk-toggleable__label {background-color: #d4ebff;}#sk-container-id-1 input.sk-hidden--visually {border: 0;clip: rect(1px 1px 1px 1px);clip: rect(1px, 1px, 1px, 1px);height: 1px;margin: -1px;overflow: hidden;padding: 0;position: absolute;width: 1px;}#sk-container-id-1 div.sk-estimator {font-family: monospace;background-color: #f0f8ff;border: 1px dotted black;border-radius: 0.25em;box-sizing: border-box;margin-bottom: 0.5em;}#sk-container-id-1 div.sk-estimator:hover {background-color: #d4ebff;}#sk-container-id-1 div.sk-parallel-item::after {content: \"\";width: 100%;border-bottom: 1px solid gray;flex-grow: 1;}#sk-container-id-1 div.sk-label:hover label.sk-toggleable__label {background-color: #d4ebff;}#sk-container-id-1 div.sk-serial::before {content: \"\";position: absolute;border-left: 1px solid gray;box-sizing: border-box;top: 0;bottom: 0;left: 50%;z-index: 0;}#sk-container-id-1 div.sk-serial {display: flex;flex-direction: column;align-items: center;background-color: white;padding-right: 0.2em;padding-left: 0.2em;position: relative;}#sk-container-id-1 div.sk-item {position: relative;z-index: 1;}#sk-container-id-1 div.sk-parallel {display: flex;align-items: stretch;justify-content: center;background-color: white;position: relative;}#sk-container-id-1 div.sk-item::before, #sk-container-id-1 div.sk-parallel-item::before {content: \"\";position: absolute;border-left: 1px solid gray;box-sizing: border-box;top: 0;bottom: 0;left: 50%;z-index: -1;}#sk-container-id-1 div.sk-parallel-item {display: flex;flex-direction: column;z-index: 1;position: relative;background-color: white;}#sk-container-id-1 div.sk-parallel-item:first-child::after {align-self: flex-end;width: 50%;}#sk-container-id-1 div.sk-parallel-item:last-child::after {align-self: flex-start;width: 50%;}#sk-container-id-1 div.sk-parallel-item:only-child::after {width: 0;}#sk-container-id-1 div.sk-dashed-wrapped {border: 1px dashed gray;margin: 0 0.4em 0.5em 0.4em;box-sizing: border-box;padding-bottom: 0.4em;background-color: white;}#sk-container-id-1 div.sk-label label {font-family: monospace;font-weight: bold;display: inline-block;line-height: 1.2em;}#sk-container-id-1 div.sk-label-container {text-align: center;}#sk-container-id-1 div.sk-container {/* jupyter's `normalize.less` sets `[hidden] { display: none; }` but bootstrap.min.css set `[hidden] { display: none !important; }` so we also need the `!important` here to be able to override the default hidden behavior on the sphinx rendered scikit-learn.org. See: https://github.com/scikit-learn/scikit-learn/issues/21755 */display: inline-block !important;position: relative;}#sk-container-id-1 div.sk-text-repr-fallback {display: none;}</style><div id=\"sk-container-id-1\" class=\"sk-top-container\"><div class=\"sk-text-repr-fallback\"><pre>VotingRegressor(estimators=[(&#x27;pfr&#x27;, SVR(C=1, epsilon=0.001)),\n",
       "                            (&#x27;psvm&#x27;, RandomForestRegressor())])</pre><b>In a Jupyter environment, please rerun this cell to show the HTML representation or trust the notebook. <br />On GitHub, the HTML representation is unable to render, please try loading this page with nbviewer.org.</b></div><div class=\"sk-container\" hidden><div class=\"sk-item sk-dashed-wrapped\"><div class=\"sk-label-container\"><div class=\"sk-label sk-toggleable\"><input class=\"sk-toggleable__control sk-hidden--visually\" id=\"sk-estimator-id-1\" type=\"checkbox\" ><label for=\"sk-estimator-id-1\" class=\"sk-toggleable__label sk-toggleable__label-arrow\">VotingRegressor</label><div class=\"sk-toggleable__content\"><pre>VotingRegressor(estimators=[(&#x27;pfr&#x27;, SVR(C=1, epsilon=0.001)),\n",
       "                            (&#x27;psvm&#x27;, RandomForestRegressor())])</pre></div></div></div><div class=\"sk-parallel\"><div class=\"sk-parallel-item\"><div class=\"sk-item\"><div class=\"sk-label-container\"><div class=\"sk-label sk-toggleable\"><label>pfr</label></div></div><div class=\"sk-serial\"><div class=\"sk-item\"><div class=\"sk-estimator sk-toggleable\"><input class=\"sk-toggleable__control sk-hidden--visually\" id=\"sk-estimator-id-2\" type=\"checkbox\" ><label for=\"sk-estimator-id-2\" class=\"sk-toggleable__label sk-toggleable__label-arrow\">SVR</label><div class=\"sk-toggleable__content\"><pre>SVR(C=1, epsilon=0.001)</pre></div></div></div></div></div></div><div class=\"sk-parallel-item\"><div class=\"sk-item\"><div class=\"sk-label-container\"><div class=\"sk-label sk-toggleable\"><label>psvm</label></div></div><div class=\"sk-serial\"><div class=\"sk-item\"><div class=\"sk-estimator sk-toggleable\"><input class=\"sk-toggleable__control sk-hidden--visually\" id=\"sk-estimator-id-3\" type=\"checkbox\" ><label for=\"sk-estimator-id-3\" class=\"sk-toggleable__label sk-toggleable__label-arrow\">RandomForestRegressor</label><div class=\"sk-toggleable__content\"><pre>RandomForestRegressor()</pre></div></div></div></div></div></div></div></div></div></div>"
      ],
      "text/plain": [
       "VotingRegressor(estimators=[('pfr', SVR(C=1, epsilon=0.001)),\n",
       "                            ('psvm', RandomForestRegressor())])"
      ]
     },
     "execution_count": 4,
     "metadata": {},
     "output_type": "execute_result"
    }
   ],
   "source": [
    "voting_reg.fit(X_features[0],y_labels[0])\n",
    "poly_voting_reg.fit(X_features_poly[0],y_labels[0])"
   ]
  },
  {
   "cell_type": "code",
   "execution_count": 5,
   "id": "16c7988e",
   "metadata": {},
   "outputs": [
    {
     "data": {
      "text/plain": [
       "0.03546833954618506"
      ]
     },
     "execution_count": 5,
     "metadata": {},
     "output_type": "execute_result"
    }
   ],
   "source": [
    "from sklearn.metrics import mean_absolute_percentage_error\n",
    "\n",
    "visc_predictions = np.exp(np.power(poly_voting_reg.predict(X_features_poly[1]),2))-0.0012\n",
    "poly_voting_mse = mean_absolute_percentage_error(np.exp(np.power(y_labels[1],2))-0.0012, visc_predictions)\n",
    "poly_voting_rmse = np.sqrt(poly_voting_mse)\n",
    "poly_voting_mse"
   ]
  },
  {
   "cell_type": "code",
   "execution_count": 6,
   "id": "a45bee00",
   "metadata": {},
   "outputs": [
    {
     "data": {
      "text/plain": [
       "['poly_voting_reg.pkl']"
      ]
     },
     "execution_count": 6,
     "metadata": {},
     "output_type": "execute_result"
    }
   ],
   "source": [
    "joblib.dump(poly_voting_reg, \"poly_voting_reg.pkl\")"
   ]
  },
  {
   "cell_type": "code",
   "execution_count": 7,
   "id": "10620450",
   "metadata": {},
   "outputs": [
    {
     "data": {
      "text/plain": [
       "0.03483840084039444"
      ]
     },
     "execution_count": 7,
     "metadata": {},
     "output_type": "execute_result"
    }
   ],
   "source": [
    "\n",
    "visc_predictions = np.exp(np.power(voting_reg.predict(X_features[1]),2))-0.0012\n",
    "voting_mse = mean_absolute_percentage_error(np.exp(np.power(y_labels[1],2))-0.0012, visc_predictions)\n",
    "voting_rmse = np.sqrt(voting_mse)\n",
    "voting_mse"
   ]
  },
  {
   "cell_type": "code",
   "execution_count": 8,
   "id": "53c884cb",
   "metadata": {
    "scrolled": true
   },
   "outputs": [
    {
     "data": {
      "text/plain": [
       "['voting_reg.pkl']"
      ]
     },
     "execution_count": 8,
     "metadata": {},
     "output_type": "execute_result"
    }
   ],
   "source": [
    "joblib.dump(voting_reg, \"voting_reg.pkl\")"
   ]
  },
  {
   "cell_type": "markdown",
   "id": "280a6982",
   "metadata": {},
   "source": [
    "### Εδώ πραγματοποιούμε τη μέθοδο bagging για ένα δέντρο η οποία υπό συγκεκριμένες συνθήκες ταυτίζεται με τον random forest regressor."
   ]
  },
  {
   "cell_type": "code",
   "execution_count": 9,
   "id": "f817dc09",
   "metadata": {},
   "outputs": [
    {
     "data": {
      "text/html": [
       "<style>#sk-container-id-2 {color: black;background-color: white;}#sk-container-id-2 pre{padding: 0;}#sk-container-id-2 div.sk-toggleable {background-color: white;}#sk-container-id-2 label.sk-toggleable__label {cursor: pointer;display: block;width: 100%;margin-bottom: 0;padding: 0.3em;box-sizing: border-box;text-align: center;}#sk-container-id-2 label.sk-toggleable__label-arrow:before {content: \"▸\";float: left;margin-right: 0.25em;color: #696969;}#sk-container-id-2 label.sk-toggleable__label-arrow:hover:before {color: black;}#sk-container-id-2 div.sk-estimator:hover label.sk-toggleable__label-arrow:before {color: black;}#sk-container-id-2 div.sk-toggleable__content {max-height: 0;max-width: 0;overflow: hidden;text-align: left;background-color: #f0f8ff;}#sk-container-id-2 div.sk-toggleable__content pre {margin: 0.2em;color: black;border-radius: 0.25em;background-color: #f0f8ff;}#sk-container-id-2 input.sk-toggleable__control:checked~div.sk-toggleable__content {max-height: 200px;max-width: 100%;overflow: auto;}#sk-container-id-2 input.sk-toggleable__control:checked~label.sk-toggleable__label-arrow:before {content: \"▾\";}#sk-container-id-2 div.sk-estimator input.sk-toggleable__control:checked~label.sk-toggleable__label {background-color: #d4ebff;}#sk-container-id-2 div.sk-label input.sk-toggleable__control:checked~label.sk-toggleable__label {background-color: #d4ebff;}#sk-container-id-2 input.sk-hidden--visually {border: 0;clip: rect(1px 1px 1px 1px);clip: rect(1px, 1px, 1px, 1px);height: 1px;margin: -1px;overflow: hidden;padding: 0;position: absolute;width: 1px;}#sk-container-id-2 div.sk-estimator {font-family: monospace;background-color: #f0f8ff;border: 1px dotted black;border-radius: 0.25em;box-sizing: border-box;margin-bottom: 0.5em;}#sk-container-id-2 div.sk-estimator:hover {background-color: #d4ebff;}#sk-container-id-2 div.sk-parallel-item::after {content: \"\";width: 100%;border-bottom: 1px solid gray;flex-grow: 1;}#sk-container-id-2 div.sk-label:hover label.sk-toggleable__label {background-color: #d4ebff;}#sk-container-id-2 div.sk-serial::before {content: \"\";position: absolute;border-left: 1px solid gray;box-sizing: border-box;top: 0;bottom: 0;left: 50%;z-index: 0;}#sk-container-id-2 div.sk-serial {display: flex;flex-direction: column;align-items: center;background-color: white;padding-right: 0.2em;padding-left: 0.2em;position: relative;}#sk-container-id-2 div.sk-item {position: relative;z-index: 1;}#sk-container-id-2 div.sk-parallel {display: flex;align-items: stretch;justify-content: center;background-color: white;position: relative;}#sk-container-id-2 div.sk-item::before, #sk-container-id-2 div.sk-parallel-item::before {content: \"\";position: absolute;border-left: 1px solid gray;box-sizing: border-box;top: 0;bottom: 0;left: 50%;z-index: -1;}#sk-container-id-2 div.sk-parallel-item {display: flex;flex-direction: column;z-index: 1;position: relative;background-color: white;}#sk-container-id-2 div.sk-parallel-item:first-child::after {align-self: flex-end;width: 50%;}#sk-container-id-2 div.sk-parallel-item:last-child::after {align-self: flex-start;width: 50%;}#sk-container-id-2 div.sk-parallel-item:only-child::after {width: 0;}#sk-container-id-2 div.sk-dashed-wrapped {border: 1px dashed gray;margin: 0 0.4em 0.5em 0.4em;box-sizing: border-box;padding-bottom: 0.4em;background-color: white;}#sk-container-id-2 div.sk-label label {font-family: monospace;font-weight: bold;display: inline-block;line-height: 1.2em;}#sk-container-id-2 div.sk-label-container {text-align: center;}#sk-container-id-2 div.sk-container {/* jupyter's `normalize.less` sets `[hidden] { display: none; }` but bootstrap.min.css set `[hidden] { display: none !important; }` so we also need the `!important` here to be able to override the default hidden behavior on the sphinx rendered scikit-learn.org. See: https://github.com/scikit-learn/scikit-learn/issues/21755 */display: inline-block !important;position: relative;}#sk-container-id-2 div.sk-text-repr-fallback {display: none;}</style><div id=\"sk-container-id-2\" class=\"sk-top-container\"><div class=\"sk-text-repr-fallback\"><pre>BaggingRegressor(base_estimator=DecisionTreeRegressor(), max_samples=5000,\n",
       "                 n_estimators=200)</pre><b>In a Jupyter environment, please rerun this cell to show the HTML representation or trust the notebook. <br />On GitHub, the HTML representation is unable to render, please try loading this page with nbviewer.org.</b></div><div class=\"sk-container\" hidden><div class=\"sk-item sk-dashed-wrapped\"><div class=\"sk-label-container\"><div class=\"sk-label sk-toggleable\"><input class=\"sk-toggleable__control sk-hidden--visually\" id=\"sk-estimator-id-4\" type=\"checkbox\" ><label for=\"sk-estimator-id-4\" class=\"sk-toggleable__label sk-toggleable__label-arrow\">BaggingRegressor</label><div class=\"sk-toggleable__content\"><pre>BaggingRegressor(base_estimator=DecisionTreeRegressor(), max_samples=5000,\n",
       "                 n_estimators=200)</pre></div></div></div><div class=\"sk-parallel\"><div class=\"sk-parallel-item\"><div class=\"sk-item\"><div class=\"sk-label-container\"><div class=\"sk-label sk-toggleable\"><input class=\"sk-toggleable__control sk-hidden--visually\" id=\"sk-estimator-id-5\" type=\"checkbox\" ><label for=\"sk-estimator-id-5\" class=\"sk-toggleable__label sk-toggleable__label-arrow\">base_estimator: DecisionTreeRegressor</label><div class=\"sk-toggleable__content\"><pre>DecisionTreeRegressor()</pre></div></div></div><div class=\"sk-serial\"><div class=\"sk-item\"><div class=\"sk-estimator sk-toggleable\"><input class=\"sk-toggleable__control sk-hidden--visually\" id=\"sk-estimator-id-6\" type=\"checkbox\" ><label for=\"sk-estimator-id-6\" class=\"sk-toggleable__label sk-toggleable__label-arrow\">DecisionTreeRegressor</label><div class=\"sk-toggleable__content\"><pre>DecisionTreeRegressor()</pre></div></div></div></div></div></div></div></div></div></div>"
      ],
      "text/plain": [
       "BaggingRegressor(base_estimator=DecisionTreeRegressor(), max_samples=5000,\n",
       "                 n_estimators=200)"
      ]
     },
     "execution_count": 9,
     "metadata": {},
     "output_type": "execute_result"
    }
   ],
   "source": [
    "from sklearn.ensemble import BaggingRegressor\n",
    "\n",
    "bag_reg = BaggingRegressor(\n",
    "    DecisionTreeRegressor( ), n_estimators=200,\n",
    "    max_samples=5000, bootstrap=True)\n",
    "bag_reg.fit(X_features_poly[0],y_labels[0])\n"
   ]
  },
  {
   "cell_type": "code",
   "execution_count": 10,
   "id": "b1346f66",
   "metadata": {
    "scrolled": true
   },
   "outputs": [
    {
     "data": {
      "text/plain": [
       "['bag_reg.pkl']"
      ]
     },
     "execution_count": 10,
     "metadata": {},
     "output_type": "execute_result"
    }
   ],
   "source": [
    "joblib.dump(bag_reg, \"bag_reg.pkl\")"
   ]
  },
  {
   "cell_type": "code",
   "execution_count": 11,
   "id": "fb01aa52",
   "metadata": {},
   "outputs": [
    {
     "data": {
      "text/html": [
       "<style>#sk-container-id-3 {color: black;background-color: white;}#sk-container-id-3 pre{padding: 0;}#sk-container-id-3 div.sk-toggleable {background-color: white;}#sk-container-id-3 label.sk-toggleable__label {cursor: pointer;display: block;width: 100%;margin-bottom: 0;padding: 0.3em;box-sizing: border-box;text-align: center;}#sk-container-id-3 label.sk-toggleable__label-arrow:before {content: \"▸\";float: left;margin-right: 0.25em;color: #696969;}#sk-container-id-3 label.sk-toggleable__label-arrow:hover:before {color: black;}#sk-container-id-3 div.sk-estimator:hover label.sk-toggleable__label-arrow:before {color: black;}#sk-container-id-3 div.sk-toggleable__content {max-height: 0;max-width: 0;overflow: hidden;text-align: left;background-color: #f0f8ff;}#sk-container-id-3 div.sk-toggleable__content pre {margin: 0.2em;color: black;border-radius: 0.25em;background-color: #f0f8ff;}#sk-container-id-3 input.sk-toggleable__control:checked~div.sk-toggleable__content {max-height: 200px;max-width: 100%;overflow: auto;}#sk-container-id-3 input.sk-toggleable__control:checked~label.sk-toggleable__label-arrow:before {content: \"▾\";}#sk-container-id-3 div.sk-estimator input.sk-toggleable__control:checked~label.sk-toggleable__label {background-color: #d4ebff;}#sk-container-id-3 div.sk-label input.sk-toggleable__control:checked~label.sk-toggleable__label {background-color: #d4ebff;}#sk-container-id-3 input.sk-hidden--visually {border: 0;clip: rect(1px 1px 1px 1px);clip: rect(1px, 1px, 1px, 1px);height: 1px;margin: -1px;overflow: hidden;padding: 0;position: absolute;width: 1px;}#sk-container-id-3 div.sk-estimator {font-family: monospace;background-color: #f0f8ff;border: 1px dotted black;border-radius: 0.25em;box-sizing: border-box;margin-bottom: 0.5em;}#sk-container-id-3 div.sk-estimator:hover {background-color: #d4ebff;}#sk-container-id-3 div.sk-parallel-item::after {content: \"\";width: 100%;border-bottom: 1px solid gray;flex-grow: 1;}#sk-container-id-3 div.sk-label:hover label.sk-toggleable__label {background-color: #d4ebff;}#sk-container-id-3 div.sk-serial::before {content: \"\";position: absolute;border-left: 1px solid gray;box-sizing: border-box;top: 0;bottom: 0;left: 50%;z-index: 0;}#sk-container-id-3 div.sk-serial {display: flex;flex-direction: column;align-items: center;background-color: white;padding-right: 0.2em;padding-left: 0.2em;position: relative;}#sk-container-id-3 div.sk-item {position: relative;z-index: 1;}#sk-container-id-3 div.sk-parallel {display: flex;align-items: stretch;justify-content: center;background-color: white;position: relative;}#sk-container-id-3 div.sk-item::before, #sk-container-id-3 div.sk-parallel-item::before {content: \"\";position: absolute;border-left: 1px solid gray;box-sizing: border-box;top: 0;bottom: 0;left: 50%;z-index: -1;}#sk-container-id-3 div.sk-parallel-item {display: flex;flex-direction: column;z-index: 1;position: relative;background-color: white;}#sk-container-id-3 div.sk-parallel-item:first-child::after {align-self: flex-end;width: 50%;}#sk-container-id-3 div.sk-parallel-item:last-child::after {align-self: flex-start;width: 50%;}#sk-container-id-3 div.sk-parallel-item:only-child::after {width: 0;}#sk-container-id-3 div.sk-dashed-wrapped {border: 1px dashed gray;margin: 0 0.4em 0.5em 0.4em;box-sizing: border-box;padding-bottom: 0.4em;background-color: white;}#sk-container-id-3 div.sk-label label {font-family: monospace;font-weight: bold;display: inline-block;line-height: 1.2em;}#sk-container-id-3 div.sk-label-container {text-align: center;}#sk-container-id-3 div.sk-container {/* jupyter's `normalize.less` sets `[hidden] { display: none; }` but bootstrap.min.css set `[hidden] { display: none !important; }` so we also need the `!important` here to be able to override the default hidden behavior on the sphinx rendered scikit-learn.org. See: https://github.com/scikit-learn/scikit-learn/issues/21755 */display: inline-block !important;position: relative;}#sk-container-id-3 div.sk-text-repr-fallback {display: none;}</style><div id=\"sk-container-id-3\" class=\"sk-top-container\"><div class=\"sk-text-repr-fallback\"><pre>AdaBoostRegressor(base_estimator=DecisionTreeRegressor(), learning_rate=0.5,\n",
       "                  n_estimators=200)</pre><b>In a Jupyter environment, please rerun this cell to show the HTML representation or trust the notebook. <br />On GitHub, the HTML representation is unable to render, please try loading this page with nbviewer.org.</b></div><div class=\"sk-container\" hidden><div class=\"sk-item sk-dashed-wrapped\"><div class=\"sk-label-container\"><div class=\"sk-label sk-toggleable\"><input class=\"sk-toggleable__control sk-hidden--visually\" id=\"sk-estimator-id-7\" type=\"checkbox\" ><label for=\"sk-estimator-id-7\" class=\"sk-toggleable__label sk-toggleable__label-arrow\">AdaBoostRegressor</label><div class=\"sk-toggleable__content\"><pre>AdaBoostRegressor(base_estimator=DecisionTreeRegressor(), learning_rate=0.5,\n",
       "                  n_estimators=200)</pre></div></div></div><div class=\"sk-parallel\"><div class=\"sk-parallel-item\"><div class=\"sk-item\"><div class=\"sk-label-container\"><div class=\"sk-label sk-toggleable\"><input class=\"sk-toggleable__control sk-hidden--visually\" id=\"sk-estimator-id-8\" type=\"checkbox\" ><label for=\"sk-estimator-id-8\" class=\"sk-toggleable__label sk-toggleable__label-arrow\">base_estimator: DecisionTreeRegressor</label><div class=\"sk-toggleable__content\"><pre>DecisionTreeRegressor()</pre></div></div></div><div class=\"sk-serial\"><div class=\"sk-item\"><div class=\"sk-estimator sk-toggleable\"><input class=\"sk-toggleable__control sk-hidden--visually\" id=\"sk-estimator-id-9\" type=\"checkbox\" ><label for=\"sk-estimator-id-9\" class=\"sk-toggleable__label sk-toggleable__label-arrow\">DecisionTreeRegressor</label><div class=\"sk-toggleable__content\"><pre>DecisionTreeRegressor()</pre></div></div></div></div></div></div></div></div></div></div>"
      ],
      "text/plain": [
       "AdaBoostRegressor(base_estimator=DecisionTreeRegressor(), learning_rate=0.5,\n",
       "                  n_estimators=200)"
      ]
     },
     "execution_count": 11,
     "metadata": {},
     "output_type": "execute_result"
    }
   ],
   "source": [
    "from sklearn.ensemble import AdaBoostRegressor\n",
    "\n",
    "ada_reg = AdaBoostRegressor(\n",
    "    DecisionTreeRegressor(), n_estimators=200,\n",
    "    learning_rate=0.5)\n",
    "ada_reg.fit(X_features_poly[0],y_labels[0])"
   ]
  },
  {
   "cell_type": "code",
   "execution_count": 12,
   "id": "668059ba",
   "metadata": {
    "scrolled": false
   },
   "outputs": [
    {
     "data": {
      "text/plain": [
       "['ada_reg.pkl']"
      ]
     },
     "execution_count": 12,
     "metadata": {},
     "output_type": "execute_result"
    }
   ],
   "source": [
    "joblib.dump(ada_reg, \"ada_reg.pkl\")"
   ]
  },
  {
   "cell_type": "markdown",
   "id": "265f586f",
   "metadata": {},
   "source": [
    "### Εδώ θα χρησιμοποιήσουμε τη μέθοδο του Boosting."
   ]
  },
  {
   "cell_type": "code",
   "execution_count": 13,
   "id": "9ffebfe7",
   "metadata": {},
   "outputs": [
    {
     "name": "stdout",
     "output_type": "stream",
     "text": [
      "[0]\tvalidation_0-rmse:0.21653\n",
      "[1]\tvalidation_0-rmse:0.19721\n",
      "[2]\tvalidation_0-rmse:0.17996\n",
      "[3]\tvalidation_0-rmse:0.16471\n",
      "[4]\tvalidation_0-rmse:0.15126\n",
      "[5]\tvalidation_0-rmse:0.13944\n",
      "[6]\tvalidation_0-rmse:0.12920\n",
      "[7]\tvalidation_0-rmse:0.12028\n",
      "[8]\tvalidation_0-rmse:0.11251\n",
      "[9]\tvalidation_0-rmse:0.10589\n",
      "[10]\tvalidation_0-rmse:0.10016\n",
      "[11]\tvalidation_0-rmse:0.09527\n",
      "[12]\tvalidation_0-rmse:0.09120\n",
      "[13]\tvalidation_0-rmse:0.08780\n",
      "[14]\tvalidation_0-rmse:0.08486\n",
      "[15]\tvalidation_0-rmse:0.08249\n",
      "[16]\tvalidation_0-rmse:0.08049\n",
      "[17]\tvalidation_0-rmse:0.07888\n",
      "[18]\tvalidation_0-rmse:0.07759\n",
      "[19]\tvalidation_0-rmse:0.07646\n",
      "[20]\tvalidation_0-rmse:0.07553\n",
      "[21]\tvalidation_0-rmse:0.07482\n",
      "[22]\tvalidation_0-rmse:0.07423\n",
      "[23]\tvalidation_0-rmse:0.07383\n",
      "[24]\tvalidation_0-rmse:0.07355\n",
      "[25]\tvalidation_0-rmse:0.07325\n",
      "[26]\tvalidation_0-rmse:0.07302\n",
      "[27]\tvalidation_0-rmse:0.07283\n",
      "[28]\tvalidation_0-rmse:0.07270\n",
      "[29]\tvalidation_0-rmse:0.07263\n",
      "[30]\tvalidation_0-rmse:0.07256\n",
      "[31]\tvalidation_0-rmse:0.07255\n",
      "[32]\tvalidation_0-rmse:0.07248\n",
      "[33]\tvalidation_0-rmse:0.07242\n",
      "[34]\tvalidation_0-rmse:0.07242\n",
      "[35]\tvalidation_0-rmse:0.07245\n",
      "[36]\tvalidation_0-rmse:0.07241\n",
      "[37]\tvalidation_0-rmse:0.07241\n",
      "[38]\tvalidation_0-rmse:0.07240\n",
      "[39]\tvalidation_0-rmse:0.07240\n",
      "[40]\tvalidation_0-rmse:0.07242\n",
      "[41]\tvalidation_0-rmse:0.07243\n",
      "[42]\tvalidation_0-rmse:0.07243\n",
      "[43]\tvalidation_0-rmse:0.07243\n",
      "[44]\tvalidation_0-rmse:0.07243\n",
      "[45]\tvalidation_0-rmse:0.07244\n",
      "[46]\tvalidation_0-rmse:0.07246\n",
      "[47]\tvalidation_0-rmse:0.07246\n",
      "[48]\tvalidation_0-rmse:0.07246\n",
      "[49]\tvalidation_0-rmse:0.07246\n",
      "[50]\tvalidation_0-rmse:0.07246\n",
      "[51]\tvalidation_0-rmse:0.07248\n",
      "[52]\tvalidation_0-rmse:0.07248\n",
      "[53]\tvalidation_0-rmse:0.07247\n",
      "[54]\tvalidation_0-rmse:0.07247\n",
      "[55]\tvalidation_0-rmse:0.07248\n",
      "[56]\tvalidation_0-rmse:0.07248\n",
      "[57]\tvalidation_0-rmse:0.07250\n",
      "[58]\tvalidation_0-rmse:0.07251\n",
      "[59]\tvalidation_0-rmse:0.07251\n",
      "[60]\tvalidation_0-rmse:0.07252\n",
      "[61]\tvalidation_0-rmse:0.07252\n",
      "[62]\tvalidation_0-rmse:0.07254\n",
      "[63]\tvalidation_0-rmse:0.07255\n",
      "[64]\tvalidation_0-rmse:0.07256\n",
      "[65]\tvalidation_0-rmse:0.07258\n",
      "[66]\tvalidation_0-rmse:0.07258\n",
      "[67]\tvalidation_0-rmse:0.07257\n",
      "[68]\tvalidation_0-rmse:0.07257\n",
      "[69]\tvalidation_0-rmse:0.07256\n",
      "[70]\tvalidation_0-rmse:0.07256\n",
      "[71]\tvalidation_0-rmse:0.07257\n",
      "[72]\tvalidation_0-rmse:0.07257\n",
      "[73]\tvalidation_0-rmse:0.07256\n",
      "[74]\tvalidation_0-rmse:0.07257\n",
      "[75]\tvalidation_0-rmse:0.07258\n",
      "[76]\tvalidation_0-rmse:0.07259\n",
      "[77]\tvalidation_0-rmse:0.07259\n",
      "[78]\tvalidation_0-rmse:0.07259\n",
      "[79]\tvalidation_0-rmse:0.07258\n",
      "[80]\tvalidation_0-rmse:0.07256\n",
      "[81]\tvalidation_0-rmse:0.07256\n",
      "[82]\tvalidation_0-rmse:0.07256\n",
      "[83]\tvalidation_0-rmse:0.07256\n",
      "[84]\tvalidation_0-rmse:0.07256\n",
      "[85]\tvalidation_0-rmse:0.07257\n",
      "[86]\tvalidation_0-rmse:0.07257\n",
      "[87]\tvalidation_0-rmse:0.07257\n",
      "[88]\tvalidation_0-rmse:0.07258\n",
      "[89]\tvalidation_0-rmse:0.07258\n",
      "[90]\tvalidation_0-rmse:0.07258\n",
      "[91]\tvalidation_0-rmse:0.07258\n",
      "[92]\tvalidation_0-rmse:0.07258\n",
      "[93]\tvalidation_0-rmse:0.07258\n",
      "[94]\tvalidation_0-rmse:0.07257\n",
      "[95]\tvalidation_0-rmse:0.07256\n",
      "[96]\tvalidation_0-rmse:0.07257\n",
      "[97]\tvalidation_0-rmse:0.07257\n",
      "[98]\tvalidation_0-rmse:0.07257\n",
      "[99]\tvalidation_0-rmse:0.07256\n"
     ]
    },
    {
     "data": {
      "text/html": [
       "<style>#sk-container-id-4 {color: black;background-color: white;}#sk-container-id-4 pre{padding: 0;}#sk-container-id-4 div.sk-toggleable {background-color: white;}#sk-container-id-4 label.sk-toggleable__label {cursor: pointer;display: block;width: 100%;margin-bottom: 0;padding: 0.3em;box-sizing: border-box;text-align: center;}#sk-container-id-4 label.sk-toggleable__label-arrow:before {content: \"▸\";float: left;margin-right: 0.25em;color: #696969;}#sk-container-id-4 label.sk-toggleable__label-arrow:hover:before {color: black;}#sk-container-id-4 div.sk-estimator:hover label.sk-toggleable__label-arrow:before {color: black;}#sk-container-id-4 div.sk-toggleable__content {max-height: 0;max-width: 0;overflow: hidden;text-align: left;background-color: #f0f8ff;}#sk-container-id-4 div.sk-toggleable__content pre {margin: 0.2em;color: black;border-radius: 0.25em;background-color: #f0f8ff;}#sk-container-id-4 input.sk-toggleable__control:checked~div.sk-toggleable__content {max-height: 200px;max-width: 100%;overflow: auto;}#sk-container-id-4 input.sk-toggleable__control:checked~label.sk-toggleable__label-arrow:before {content: \"▾\";}#sk-container-id-4 div.sk-estimator input.sk-toggleable__control:checked~label.sk-toggleable__label {background-color: #d4ebff;}#sk-container-id-4 div.sk-label input.sk-toggleable__control:checked~label.sk-toggleable__label {background-color: #d4ebff;}#sk-container-id-4 input.sk-hidden--visually {border: 0;clip: rect(1px 1px 1px 1px);clip: rect(1px, 1px, 1px, 1px);height: 1px;margin: -1px;overflow: hidden;padding: 0;position: absolute;width: 1px;}#sk-container-id-4 div.sk-estimator {font-family: monospace;background-color: #f0f8ff;border: 1px dotted black;border-radius: 0.25em;box-sizing: border-box;margin-bottom: 0.5em;}#sk-container-id-4 div.sk-estimator:hover {background-color: #d4ebff;}#sk-container-id-4 div.sk-parallel-item::after {content: \"\";width: 100%;border-bottom: 1px solid gray;flex-grow: 1;}#sk-container-id-4 div.sk-label:hover label.sk-toggleable__label {background-color: #d4ebff;}#sk-container-id-4 div.sk-serial::before {content: \"\";position: absolute;border-left: 1px solid gray;box-sizing: border-box;top: 0;bottom: 0;left: 50%;z-index: 0;}#sk-container-id-4 div.sk-serial {display: flex;flex-direction: column;align-items: center;background-color: white;padding-right: 0.2em;padding-left: 0.2em;position: relative;}#sk-container-id-4 div.sk-item {position: relative;z-index: 1;}#sk-container-id-4 div.sk-parallel {display: flex;align-items: stretch;justify-content: center;background-color: white;position: relative;}#sk-container-id-4 div.sk-item::before, #sk-container-id-4 div.sk-parallel-item::before {content: \"\";position: absolute;border-left: 1px solid gray;box-sizing: border-box;top: 0;bottom: 0;left: 50%;z-index: -1;}#sk-container-id-4 div.sk-parallel-item {display: flex;flex-direction: column;z-index: 1;position: relative;background-color: white;}#sk-container-id-4 div.sk-parallel-item:first-child::after {align-self: flex-end;width: 50%;}#sk-container-id-4 div.sk-parallel-item:last-child::after {align-self: flex-start;width: 50%;}#sk-container-id-4 div.sk-parallel-item:only-child::after {width: 0;}#sk-container-id-4 div.sk-dashed-wrapped {border: 1px dashed gray;margin: 0 0.4em 0.5em 0.4em;box-sizing: border-box;padding-bottom: 0.4em;background-color: white;}#sk-container-id-4 div.sk-label label {font-family: monospace;font-weight: bold;display: inline-block;line-height: 1.2em;}#sk-container-id-4 div.sk-label-container {text-align: center;}#sk-container-id-4 div.sk-container {/* jupyter's `normalize.less` sets `[hidden] { display: none; }` but bootstrap.min.css set `[hidden] { display: none !important; }` so we also need the `!important` here to be able to override the default hidden behavior on the sphinx rendered scikit-learn.org. See: https://github.com/scikit-learn/scikit-learn/issues/21755 */display: inline-block !important;position: relative;}#sk-container-id-4 div.sk-text-repr-fallback {display: none;}</style><div id=\"sk-container-id-4\" class=\"sk-top-container\"><div class=\"sk-text-repr-fallback\"><pre>XGBRegressor(base_score=0.5, booster=&#x27;gbtree&#x27;, callbacks=None,\n",
       "             colsample_bylevel=1, colsample_bynode=1, colsample_bytree=1,\n",
       "             early_stopping_rounds=None, enable_categorical=False,\n",
       "             eval_metric=None, gamma=0, gpu_id=-1, grow_policy=&#x27;depthwise&#x27;,\n",
       "             importance_type=None, interaction_constraints=&#x27;&#x27;,\n",
       "             learning_rate=0.1, max_bin=256, max_cat_to_onehot=4,\n",
       "             max_delta_step=0, max_depth=16, max_leaves=0, min_child_weight=1,\n",
       "             missing=nan, monotone_constraints=&#x27;()&#x27;, n_estimators=100, n_jobs=0,\n",
       "             num_parallel_tree=1, predictor=&#x27;auto&#x27;, random_state=0, reg_alpha=0,\n",
       "             reg_lambda=1, ...)</pre><b>In a Jupyter environment, please rerun this cell to show the HTML representation or trust the notebook. <br />On GitHub, the HTML representation is unable to render, please try loading this page with nbviewer.org.</b></div><div class=\"sk-container\" hidden><div class=\"sk-item\"><div class=\"sk-estimator sk-toggleable\"><input class=\"sk-toggleable__control sk-hidden--visually\" id=\"sk-estimator-id-10\" type=\"checkbox\" checked><label for=\"sk-estimator-id-10\" class=\"sk-toggleable__label sk-toggleable__label-arrow\">XGBRegressor</label><div class=\"sk-toggleable__content\"><pre>XGBRegressor(base_score=0.5, booster=&#x27;gbtree&#x27;, callbacks=None,\n",
       "             colsample_bylevel=1, colsample_bynode=1, colsample_bytree=1,\n",
       "             early_stopping_rounds=None, enable_categorical=False,\n",
       "             eval_metric=None, gamma=0, gpu_id=-1, grow_policy=&#x27;depthwise&#x27;,\n",
       "             importance_type=None, interaction_constraints=&#x27;&#x27;,\n",
       "             learning_rate=0.1, max_bin=256, max_cat_to_onehot=4,\n",
       "             max_delta_step=0, max_depth=16, max_leaves=0, min_child_weight=1,\n",
       "             missing=nan, monotone_constraints=&#x27;()&#x27;, n_estimators=100, n_jobs=0,\n",
       "             num_parallel_tree=1, predictor=&#x27;auto&#x27;, random_state=0, reg_alpha=0,\n",
       "             reg_lambda=1, ...)</pre></div></div></div></div></div>"
      ],
      "text/plain": [
       "XGBRegressor(base_score=0.5, booster='gbtree', callbacks=None,\n",
       "             colsample_bylevel=1, colsample_bynode=1, colsample_bytree=1,\n",
       "             early_stopping_rounds=None, enable_categorical=False,\n",
       "             eval_metric=None, gamma=0, gpu_id=-1, grow_policy='depthwise',\n",
       "             importance_type=None, interaction_constraints='',\n",
       "             learning_rate=0.1, max_bin=256, max_cat_to_onehot=4,\n",
       "             max_delta_step=0, max_depth=16, max_leaves=0, min_child_weight=1,\n",
       "             missing=nan, monotone_constraints='()', n_estimators=100, n_jobs=0,\n",
       "             num_parallel_tree=1, predictor='auto', random_state=0, reg_alpha=0,\n",
       "             reg_lambda=1, ...)"
      ]
     },
     "execution_count": 13,
     "metadata": {},
     "output_type": "execute_result"
    }
   ],
   "source": [
    "import xgboost\n",
    "xgb_reg = xgboost.XGBRegressor(max_depth = 16,learning_rate=0.1)\n",
    "xgb_reg.fit(X_features_poly[0],y_labels[0],\n",
    "eval_set=[(X_features_poly[1],y_labels[1])])\n"
   ]
  },
  {
   "cell_type": "code",
   "execution_count": 14,
   "id": "40390acc",
   "metadata": {},
   "outputs": [
    {
     "data": {
      "text/plain": [
       "['xgb_reg.pkl']"
      ]
     },
     "execution_count": 14,
     "metadata": {},
     "output_type": "execute_result"
    }
   ],
   "source": [
    "joblib.dump(xgb_reg, \"xgb_reg.pkl\")"
   ]
  },
  {
   "cell_type": "code",
   "execution_count": 15,
   "id": "56483840",
   "metadata": {},
   "outputs": [
    {
     "name": "stdout",
     "output_type": "stream",
     "text": [
      "[LightGBM] [Warning] Unknown parameter: learning_rage\n",
      "[1]\tvalid_0's l1: 0.1208\tvalid_0's l2: 0.0233265\n",
      "[2]\tvalid_0's l1: 0.111866\tvalid_0's l2: 0.0201562\n",
      "[3]\tvalid_0's l1: 0.10383\tvalid_0's l2: 0.0175885\n",
      "[4]\tvalid_0's l1: 0.0967192\tvalid_0's l2: 0.0154761\n",
      "[5]\tvalid_0's l1: 0.0903918\tvalid_0's l2: 0.0137443\n",
      "[6]\tvalid_0's l1: 0.0848984\tvalid_0's l2: 0.0123378\n",
      "[7]\tvalid_0's l1: 0.0799943\tvalid_0's l2: 0.0111518\n",
      "[8]\tvalid_0's l1: 0.0757732\tvalid_0's l2: 0.010214\n",
      "[9]\tvalid_0's l1: 0.0720889\tvalid_0's l2: 0.0094251\n",
      "[10]\tvalid_0's l1: 0.0688827\tvalid_0's l2: 0.00877938\n",
      "[11]\tvalid_0's l1: 0.0661609\tvalid_0's l2: 0.0082624\n",
      "[12]\tvalid_0's l1: 0.0638519\tvalid_0's l2: 0.00783646\n",
      "[13]\tvalid_0's l1: 0.0618409\tvalid_0's l2: 0.00747694\n",
      "[14]\tvalid_0's l1: 0.0600776\tvalid_0's l2: 0.00717655\n",
      "[15]\tvalid_0's l1: 0.0585724\tvalid_0's l2: 0.00693455\n",
      "[16]\tvalid_0's l1: 0.0573665\tvalid_0's l2: 0.00674479\n",
      "[17]\tvalid_0's l1: 0.0563107\tvalid_0's l2: 0.00657919\n",
      "[18]\tvalid_0's l1: 0.0553822\tvalid_0's l2: 0.00644067\n",
      "[19]\tvalid_0's l1: 0.0546239\tvalid_0's l2: 0.00633526\n",
      "[20]\tvalid_0's l1: 0.0539076\tvalid_0's l2: 0.00623586\n",
      "[21]\tvalid_0's l1: 0.0533543\tvalid_0's l2: 0.00616731\n",
      "[22]\tvalid_0's l1: 0.0528531\tvalid_0's l2: 0.00610441\n",
      "[23]\tvalid_0's l1: 0.0524529\tvalid_0's l2: 0.00605449\n",
      "[24]\tvalid_0's l1: 0.0520609\tvalid_0's l2: 0.00600982\n",
      "[25]\tvalid_0's l1: 0.0517424\tvalid_0's l2: 0.00597398\n",
      "[26]\tvalid_0's l1: 0.0514814\tvalid_0's l2: 0.00593958\n",
      "[27]\tvalid_0's l1: 0.0512051\tvalid_0's l2: 0.00589645\n",
      "[28]\tvalid_0's l1: 0.0510278\tvalid_0's l2: 0.00587317\n",
      "[29]\tvalid_0's l1: 0.0508166\tvalid_0's l2: 0.00585453\n",
      "[30]\tvalid_0's l1: 0.0506647\tvalid_0's l2: 0.00583792\n",
      "[31]\tvalid_0's l1: 0.0505309\tvalid_0's l2: 0.00582537\n",
      "[32]\tvalid_0's l1: 0.0503728\tvalid_0's l2: 0.00580165\n",
      "[33]\tvalid_0's l1: 0.050267\tvalid_0's l2: 0.00579065\n",
      "[34]\tvalid_0's l1: 0.0501908\tvalid_0's l2: 0.00578725\n",
      "[35]\tvalid_0's l1: 0.0501379\tvalid_0's l2: 0.00577151\n",
      "[36]\tvalid_0's l1: 0.0500337\tvalid_0's l2: 0.00576195\n",
      "[37]\tvalid_0's l1: 0.0499638\tvalid_0's l2: 0.00576147\n",
      "[38]\tvalid_0's l1: 0.0499191\tvalid_0's l2: 0.00575094\n",
      "[39]\tvalid_0's l1: 0.049824\tvalid_0's l2: 0.00573435\n",
      "[40]\tvalid_0's l1: 0.0498025\tvalid_0's l2: 0.00573284\n",
      "[41]\tvalid_0's l1: 0.0497651\tvalid_0's l2: 0.00573387\n",
      "[42]\tvalid_0's l1: 0.0496668\tvalid_0's l2: 0.00572102\n",
      "[43]\tvalid_0's l1: 0.0496364\tvalid_0's l2: 0.00572075\n",
      "[44]\tvalid_0's l1: 0.04965\tvalid_0's l2: 0.00572931\n",
      "[45]\tvalid_0's l1: 0.0496397\tvalid_0's l2: 0.00573276\n",
      "[46]\tvalid_0's l1: 0.0495619\tvalid_0's l2: 0.00572268\n",
      "[47]\tvalid_0's l1: 0.0495449\tvalid_0's l2: 0.00572363\n",
      "[48]\tvalid_0's l1: 0.0495013\tvalid_0's l2: 0.00572304\n",
      "[49]\tvalid_0's l1: 0.0494629\tvalid_0's l2: 0.00571924\n",
      "[50]\tvalid_0's l1: 0.049488\tvalid_0's l2: 0.00572384\n",
      "[51]\tvalid_0's l1: 0.049421\tvalid_0's l2: 0.00572408\n",
      "[52]\tvalid_0's l1: 0.0493509\tvalid_0's l2: 0.0057131\n",
      "[53]\tvalid_0's l1: 0.0493826\tvalid_0's l2: 0.00571877\n",
      "[54]\tvalid_0's l1: 0.0493357\tvalid_0's l2: 0.00571488\n",
      "[55]\tvalid_0's l1: 0.0492692\tvalid_0's l2: 0.00571115\n",
      "[56]\tvalid_0's l1: 0.0493026\tvalid_0's l2: 0.00572128\n",
      "[57]\tvalid_0's l1: 0.0492564\tvalid_0's l2: 0.00572362\n",
      "[58]\tvalid_0's l1: 0.0492203\tvalid_0's l2: 0.00571912\n",
      "[59]\tvalid_0's l1: 0.0491992\tvalid_0's l2: 0.0057201\n",
      "[60]\tvalid_0's l1: 0.0491506\tvalid_0's l2: 0.00570934\n",
      "[61]\tvalid_0's l1: 0.0490874\tvalid_0's l2: 0.00569953\n",
      "[62]\tvalid_0's l1: 0.049079\tvalid_0's l2: 0.00569919\n",
      "[63]\tvalid_0's l1: 0.0491139\tvalid_0's l2: 0.00570502\n",
      "[64]\tvalid_0's l1: 0.04909\tvalid_0's l2: 0.00570506\n",
      "[65]\tvalid_0's l1: 0.0490827\tvalid_0's l2: 0.00570658\n",
      "[66]\tvalid_0's l1: 0.0491057\tvalid_0's l2: 0.00571282\n",
      "[67]\tvalid_0's l1: 0.0491244\tvalid_0's l2: 0.00572074\n",
      "[68]\tvalid_0's l1: 0.0491463\tvalid_0's l2: 0.00572788\n",
      "[69]\tvalid_0's l1: 0.0491152\tvalid_0's l2: 0.0057113\n",
      "[70]\tvalid_0's l1: 0.049099\tvalid_0's l2: 0.00571276\n",
      "[71]\tvalid_0's l1: 0.0491006\tvalid_0's l2: 0.00571503\n",
      "[72]\tvalid_0's l1: 0.0491024\tvalid_0's l2: 0.00571989\n",
      "[73]\tvalid_0's l1: 0.049124\tvalid_0's l2: 0.00572848\n",
      "[74]\tvalid_0's l1: 0.0490987\tvalid_0's l2: 0.0057307\n",
      "[75]\tvalid_0's l1: 0.049048\tvalid_0's l2: 0.00572646\n",
      "[76]\tvalid_0's l1: 0.0490344\tvalid_0's l2: 0.00572537\n",
      "[77]\tvalid_0's l1: 0.0490161\tvalid_0's l2: 0.00572486\n",
      "[78]\tvalid_0's l1: 0.0490299\tvalid_0's l2: 0.00572863\n",
      "[79]\tvalid_0's l1: 0.0490288\tvalid_0's l2: 0.00573227\n",
      "[80]\tvalid_0's l1: 0.0490441\tvalid_0's l2: 0.00573635\n",
      "[81]\tvalid_0's l1: 0.0490531\tvalid_0's l2: 0.00574162\n",
      "[82]\tvalid_0's l1: 0.0490167\tvalid_0's l2: 0.0057329\n",
      "[83]\tvalid_0's l1: 0.0490353\tvalid_0's l2: 0.00573968\n",
      "[84]\tvalid_0's l1: 0.0490326\tvalid_0's l2: 0.00574238\n",
      "[85]\tvalid_0's l1: 0.0489639\tvalid_0's l2: 0.00573365\n",
      "[86]\tvalid_0's l1: 0.0489351\tvalid_0's l2: 0.00572968\n",
      "[87]\tvalid_0's l1: 0.0489305\tvalid_0's l2: 0.00573129\n",
      "[88]\tvalid_0's l1: 0.0489336\tvalid_0's l2: 0.00573359\n",
      "[89]\tvalid_0's l1: 0.0489111\tvalid_0's l2: 0.00572737\n",
      "[90]\tvalid_0's l1: 0.04888\tvalid_0's l2: 0.00572268\n",
      "[91]\tvalid_0's l1: 0.0488638\tvalid_0's l2: 0.0057226\n",
      "[92]\tvalid_0's l1: 0.0488532\tvalid_0's l2: 0.0057255\n",
      "[93]\tvalid_0's l1: 0.048867\tvalid_0's l2: 0.00572062\n",
      "[94]\tvalid_0's l1: 0.0488599\tvalid_0's l2: 0.00572221\n",
      "[95]\tvalid_0's l1: 0.0488658\tvalid_0's l2: 0.00572046\n",
      "[96]\tvalid_0's l1: 0.0488565\tvalid_0's l2: 0.00572249\n",
      "[97]\tvalid_0's l1: 0.0487552\tvalid_0's l2: 0.00568749\n",
      "[98]\tvalid_0's l1: 0.0486467\tvalid_0's l2: 0.00566064\n",
      "[99]\tvalid_0's l1: 0.0485764\tvalid_0's l2: 0.00564762\n",
      "[100]\tvalid_0's l1: 0.0485763\tvalid_0's l2: 0.00564822\n"
     ]
    }
   ],
   "source": [
    "import lightgbm as lgb\n",
    "t_data = lgb.Dataset(X_features[0],label=y_labels[0])\n",
    "v_data = lgb.Dataset(X_features[1],label=y_labels[1])\n",
    "\n",
    "params = {\n",
    "    'task': 'train', \n",
    "    'boosting': 'gbdt',\n",
    "    'objective': 'regression',\n",
    "    'num_leaves': 10,\n",
    "    'learning_rage': 0.5,\n",
    "    'metric': {'l2','l1'},\n",
    "    'verbose': -1\n",
    "}\n",
    "light = lgb.train(params,\n",
    "                 train_set=t_data,\n",
    "                 valid_sets=v_data,)\n",
    "  "
   ]
  },
  {
   "cell_type": "code",
   "execution_count": 16,
   "id": "436458b1",
   "metadata": {},
   "outputs": [
    {
     "data": {
      "text/plain": [
       "['light.pkl']"
      ]
     },
     "execution_count": 16,
     "metadata": {},
     "output_type": "execute_result"
    }
   ],
   "source": [
    "joblib.dump(light, \"light.pkl\")"
   ]
  },
  {
   "cell_type": "code",
   "execution_count": 17,
   "id": "caf19864",
   "metadata": {},
   "outputs": [],
   "source": [
    "from sklearn.ensemble import StackingRegressor\n",
    "estimators=[('fr', forest_reg), ('svm', svm_rbf_reg)]\n",
    "reg = StackingRegressor(\n",
    "     estimators=estimators,\n",
    "     final_estimator=RandomForestRegressor(n_estimators=100))"
   ]
  },
  {
   "cell_type": "code",
   "execution_count": 18,
   "id": "cdb73176",
   "metadata": {},
   "outputs": [
    {
     "data": {
      "text/html": [
       "<style>#sk-container-id-5 {color: black;background-color: white;}#sk-container-id-5 pre{padding: 0;}#sk-container-id-5 div.sk-toggleable {background-color: white;}#sk-container-id-5 label.sk-toggleable__label {cursor: pointer;display: block;width: 100%;margin-bottom: 0;padding: 0.3em;box-sizing: border-box;text-align: center;}#sk-container-id-5 label.sk-toggleable__label-arrow:before {content: \"▸\";float: left;margin-right: 0.25em;color: #696969;}#sk-container-id-5 label.sk-toggleable__label-arrow:hover:before {color: black;}#sk-container-id-5 div.sk-estimator:hover label.sk-toggleable__label-arrow:before {color: black;}#sk-container-id-5 div.sk-toggleable__content {max-height: 0;max-width: 0;overflow: hidden;text-align: left;background-color: #f0f8ff;}#sk-container-id-5 div.sk-toggleable__content pre {margin: 0.2em;color: black;border-radius: 0.25em;background-color: #f0f8ff;}#sk-container-id-5 input.sk-toggleable__control:checked~div.sk-toggleable__content {max-height: 200px;max-width: 100%;overflow: auto;}#sk-container-id-5 input.sk-toggleable__control:checked~label.sk-toggleable__label-arrow:before {content: \"▾\";}#sk-container-id-5 div.sk-estimator input.sk-toggleable__control:checked~label.sk-toggleable__label {background-color: #d4ebff;}#sk-container-id-5 div.sk-label input.sk-toggleable__control:checked~label.sk-toggleable__label {background-color: #d4ebff;}#sk-container-id-5 input.sk-hidden--visually {border: 0;clip: rect(1px 1px 1px 1px);clip: rect(1px, 1px, 1px, 1px);height: 1px;margin: -1px;overflow: hidden;padding: 0;position: absolute;width: 1px;}#sk-container-id-5 div.sk-estimator {font-family: monospace;background-color: #f0f8ff;border: 1px dotted black;border-radius: 0.25em;box-sizing: border-box;margin-bottom: 0.5em;}#sk-container-id-5 div.sk-estimator:hover {background-color: #d4ebff;}#sk-container-id-5 div.sk-parallel-item::after {content: \"\";width: 100%;border-bottom: 1px solid gray;flex-grow: 1;}#sk-container-id-5 div.sk-label:hover label.sk-toggleable__label {background-color: #d4ebff;}#sk-container-id-5 div.sk-serial::before {content: \"\";position: absolute;border-left: 1px solid gray;box-sizing: border-box;top: 0;bottom: 0;left: 50%;z-index: 0;}#sk-container-id-5 div.sk-serial {display: flex;flex-direction: column;align-items: center;background-color: white;padding-right: 0.2em;padding-left: 0.2em;position: relative;}#sk-container-id-5 div.sk-item {position: relative;z-index: 1;}#sk-container-id-5 div.sk-parallel {display: flex;align-items: stretch;justify-content: center;background-color: white;position: relative;}#sk-container-id-5 div.sk-item::before, #sk-container-id-5 div.sk-parallel-item::before {content: \"\";position: absolute;border-left: 1px solid gray;box-sizing: border-box;top: 0;bottom: 0;left: 50%;z-index: -1;}#sk-container-id-5 div.sk-parallel-item {display: flex;flex-direction: column;z-index: 1;position: relative;background-color: white;}#sk-container-id-5 div.sk-parallel-item:first-child::after {align-self: flex-end;width: 50%;}#sk-container-id-5 div.sk-parallel-item:last-child::after {align-self: flex-start;width: 50%;}#sk-container-id-5 div.sk-parallel-item:only-child::after {width: 0;}#sk-container-id-5 div.sk-dashed-wrapped {border: 1px dashed gray;margin: 0 0.4em 0.5em 0.4em;box-sizing: border-box;padding-bottom: 0.4em;background-color: white;}#sk-container-id-5 div.sk-label label {font-family: monospace;font-weight: bold;display: inline-block;line-height: 1.2em;}#sk-container-id-5 div.sk-label-container {text-align: center;}#sk-container-id-5 div.sk-container {/* jupyter's `normalize.less` sets `[hidden] { display: none; }` but bootstrap.min.css set `[hidden] { display: none !important; }` so we also need the `!important` here to be able to override the default hidden behavior on the sphinx rendered scikit-learn.org. See: https://github.com/scikit-learn/scikit-learn/issues/21755 */display: inline-block !important;position: relative;}#sk-container-id-5 div.sk-text-repr-fallback {display: none;}</style><div id=\"sk-container-id-5\" class=\"sk-top-container\"><div class=\"sk-text-repr-fallback\"><pre>StackingRegressor(estimators=[(&#x27;fr&#x27;,\n",
       "                               RandomForestRegressor(max_samples=5000,\n",
       "                                                     n_estimators=150)),\n",
       "                              (&#x27;svm&#x27;, SVR(C=1, epsilon=0.001))],\n",
       "                  final_estimator=RandomForestRegressor())</pre><b>In a Jupyter environment, please rerun this cell to show the HTML representation or trust the notebook. <br />On GitHub, the HTML representation is unable to render, please try loading this page with nbviewer.org.</b></div><div class=\"sk-container\" hidden><div class=\"sk-item sk-dashed-wrapped\"><div class=\"sk-label-container\"><div class=\"sk-label sk-toggleable\"><input class=\"sk-toggleable__control sk-hidden--visually\" id=\"sk-estimator-id-11\" type=\"checkbox\" ><label for=\"sk-estimator-id-11\" class=\"sk-toggleable__label sk-toggleable__label-arrow\">StackingRegressor</label><div class=\"sk-toggleable__content\"><pre>StackingRegressor(estimators=[(&#x27;fr&#x27;,\n",
       "                               RandomForestRegressor(max_samples=5000,\n",
       "                                                     n_estimators=150)),\n",
       "                              (&#x27;svm&#x27;, SVR(C=1, epsilon=0.001))],\n",
       "                  final_estimator=RandomForestRegressor())</pre></div></div></div><div class=\"sk-serial\"><div class=\"sk-item\"><div class=\"sk-parallel\"><div class=\"sk-parallel-item\"><div class=\"sk-item\"><div class=\"sk-label-container\"><div class=\"sk-label sk-toggleable\"><label>fr</label></div></div><div class=\"sk-serial\"><div class=\"sk-item\"><div class=\"sk-estimator sk-toggleable\"><input class=\"sk-toggleable__control sk-hidden--visually\" id=\"sk-estimator-id-12\" type=\"checkbox\" ><label for=\"sk-estimator-id-12\" class=\"sk-toggleable__label sk-toggleable__label-arrow\">RandomForestRegressor</label><div class=\"sk-toggleable__content\"><pre>RandomForestRegressor(max_samples=5000, n_estimators=150)</pre></div></div></div></div></div></div><div class=\"sk-parallel-item\"><div class=\"sk-item\"><div class=\"sk-label-container\"><div class=\"sk-label sk-toggleable\"><label>svm</label></div></div><div class=\"sk-serial\"><div class=\"sk-item\"><div class=\"sk-estimator sk-toggleable\"><input class=\"sk-toggleable__control sk-hidden--visually\" id=\"sk-estimator-id-13\" type=\"checkbox\" ><label for=\"sk-estimator-id-13\" class=\"sk-toggleable__label sk-toggleable__label-arrow\">SVR</label><div class=\"sk-toggleable__content\"><pre>SVR(C=1, epsilon=0.001)</pre></div></div></div></div></div></div></div></div><div class=\"sk-item\"><div class=\"sk-parallel\"><div class=\"sk-parallel-item\"><div class=\"sk-item\"><div class=\"sk-label-container\"><div class=\"sk-label sk-toggleable\"><label>final_estimator</label></div></div><div class=\"sk-serial\"><div class=\"sk-item\"><div class=\"sk-estimator sk-toggleable\"><input class=\"sk-toggleable__control sk-hidden--visually\" id=\"sk-estimator-id-14\" type=\"checkbox\" ><label for=\"sk-estimator-id-14\" class=\"sk-toggleable__label sk-toggleable__label-arrow\">RandomForestRegressor</label><div class=\"sk-toggleable__content\"><pre>RandomForestRegressor()</pre></div></div></div></div></div></div></div></div></div></div></div></div>"
      ],
      "text/plain": [
       "StackingRegressor(estimators=[('fr',\n",
       "                               RandomForestRegressor(max_samples=5000,\n",
       "                                                     n_estimators=150)),\n",
       "                              ('svm', SVR(C=1, epsilon=0.001))],\n",
       "                  final_estimator=RandomForestRegressor())"
      ]
     },
     "execution_count": 18,
     "metadata": {},
     "output_type": "execute_result"
    }
   ],
   "source": [
    "reg.fit(X_features[0], y_labels[0])"
   ]
  },
  {
   "cell_type": "code",
   "execution_count": 19,
   "id": "2311b1b1",
   "metadata": {},
   "outputs": [
    {
     "data": {
      "text/plain": [
       "['stack.pkl']"
      ]
     },
     "execution_count": 19,
     "metadata": {},
     "output_type": "execute_result"
    }
   ],
   "source": [
    "joblib.dump(reg, \"stack.pkl\")"
   ]
  },
  {
   "cell_type": "code",
   "execution_count": null,
   "id": "b61d1118",
   "metadata": {},
   "outputs": [],
   "source": []
  }
 ],
 "metadata": {
  "kernelspec": {
   "display_name": "Python 3 (ipykernel)",
   "language": "python",
   "name": "python3"
  },
  "language_info": {
   "codemirror_mode": {
    "name": "ipython",
    "version": 3
   },
   "file_extension": ".py",
   "mimetype": "text/x-python",
   "name": "python",
   "nbconvert_exporter": "python",
   "pygments_lexer": "ipython3",
   "version": "3.10.1"
  }
 },
 "nbformat": 4,
 "nbformat_minor": 5
}
