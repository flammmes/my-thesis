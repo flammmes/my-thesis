{
 "cells": [
  {
   "cell_type": "code",
   "execution_count": 1,
   "id": "71d38029",
   "metadata": {},
   "outputs": [],
   "source": [
    "import numpy as np\n",
    "import pandas as pd\n",
    "import matplotlib.pyplot as plt\n",
    "import sklearn\n",
    "import joblib"
   ]
  },
  {
   "cell_type": "code",
   "execution_count": 2,
   "id": "0832312a",
   "metadata": {
    "scrolled": true
   },
   "outputs": [],
   "source": [
    "df = pd.read_csv('D:\\\\Users\\\\flammmes\\\\Downloads\\\\Book1.csv')\n",
    "df['d']=df['d'].str.replace(',','')\n",
    "dfn = pd.read_csv('D:\\\\Users\\\\flammmes\\\\Downloads\\\\Fluids data.csv')\n",
    "\n",
    "\n",
    "df.dtypes\n",
    "dd = df.d.astype('float')\n",
    "df.d = df.d.astype('float')\n",
    "df.drop(['Rsob','STO'],axis=1,inplace=True)\n",
    "\n",
    "x = df.iloc[:,1]/df.iloc[:,8]\n",
    "mu = 1000*(df.iloc[:,3]*x*x+df.iloc[:,4]*x+df.iloc[:,5])/(df.iloc[:,6]*x+1)\n",
    "df.insert(9,'μob',mu)\n",
    "df = df[df['μob']<=50] \n"
   ]
  },
  {
   "cell_type": "code",
   "execution_count": 3,
   "id": "8c0865a0",
   "metadata": {},
   "outputs": [
    {
     "data": {
      "text/html": [
       "<div>\n",
       "<style scoped>\n",
       "    .dataframe tbody tr th:only-of-type {\n",
       "        vertical-align: middle;\n",
       "    }\n",
       "\n",
       "    .dataframe tbody tr th {\n",
       "        vertical-align: top;\n",
       "    }\n",
       "\n",
       "    .dataframe thead th {\n",
       "        text-align: right;\n",
       "    }\n",
       "</style>\n",
       "<table border=\"1\" class=\"dataframe\">\n",
       "  <thead>\n",
       "    <tr style=\"text-align: right;\">\n",
       "      <th></th>\n",
       "      <th>RN</th>\n",
       "      <th>Pb</th>\n",
       "      <th>Pmax</th>\n",
       "      <th>a</th>\n",
       "      <th>b</th>\n",
       "      <th>c</th>\n",
       "      <th>d</th>\n",
       "      <th>Conv</th>\n",
       "      <th>Pref</th>\n",
       "      <th>μob</th>\n",
       "    </tr>\n",
       "  </thead>\n",
       "  <tbody>\n",
       "    <tr>\n",
       "      <th>0</th>\n",
       "      <td>1</td>\n",
       "      <td>8.44608</td>\n",
       "      <td>34.57722</td>\n",
       "      <td>-5.100580e-06</td>\n",
       "      <td>-0.000235</td>\n",
       "      <td>0.002010</td>\n",
       "      <td>-0.135294</td>\n",
       "      <td>1000</td>\n",
       "      <td>1.00000</td>\n",
       "      <td>2.373815</td>\n",
       "    </tr>\n",
       "    <tr>\n",
       "      <th>1</th>\n",
       "      <td>2</td>\n",
       "      <td>20.27059</td>\n",
       "      <td>34.47380</td>\n",
       "      <td>-7.688310e-07</td>\n",
       "      <td>-0.000024</td>\n",
       "      <td>0.000294</td>\n",
       "      <td>-0.095071</td>\n",
       "      <td>1000</td>\n",
       "      <td>1.00000</td>\n",
       "      <td>0.538609</td>\n",
       "    </tr>\n",
       "    <tr>\n",
       "      <th>2</th>\n",
       "      <td>3</td>\n",
       "      <td>10.26630</td>\n",
       "      <td>34.57722</td>\n",
       "      <td>-1.725490e-06</td>\n",
       "      <td>-0.000107</td>\n",
       "      <td>0.000784</td>\n",
       "      <td>-0.151650</td>\n",
       "      <td>1000</td>\n",
       "      <td>1.00000</td>\n",
       "      <td>0.899221</td>\n",
       "    </tr>\n",
       "    <tr>\n",
       "      <th>3</th>\n",
       "      <td>4</td>\n",
       "      <td>11.94172</td>\n",
       "      <td>20.68428</td>\n",
       "      <td>-4.887290e-07</td>\n",
       "      <td>-0.000039</td>\n",
       "      <td>0.000519</td>\n",
       "      <td>-0.085638</td>\n",
       "      <td>1000</td>\n",
       "      <td>1.00000</td>\n",
       "      <td>0.585943</td>\n",
       "    </tr>\n",
       "    <tr>\n",
       "      <th>4</th>\n",
       "      <td>5</td>\n",
       "      <td>15.85795</td>\n",
       "      <td>24.13166</td>\n",
       "      <td>-4.220620e-06</td>\n",
       "      <td>0.000008</td>\n",
       "      <td>0.000851</td>\n",
       "      <td>-0.065947</td>\n",
       "      <td>1000</td>\n",
       "      <td>1.00000</td>\n",
       "      <td>1.890544</td>\n",
       "    </tr>\n",
       "    <tr>\n",
       "      <th>...</th>\n",
       "      <td>...</td>\n",
       "      <td>...</td>\n",
       "      <td>...</td>\n",
       "      <td>...</td>\n",
       "      <td>...</td>\n",
       "      <td>...</td>\n",
       "      <td>...</td>\n",
       "      <td>...</td>\n",
       "      <td>...</td>\n",
       "      <td>...</td>\n",
       "    </tr>\n",
       "    <tr>\n",
       "      <th>585</th>\n",
       "      <td>586</td>\n",
       "      <td>14.34110</td>\n",
       "      <td>34.57720</td>\n",
       "      <td>8.038200e-02</td>\n",
       "      <td>0.227730</td>\n",
       "      <td>0.046789</td>\n",
       "      <td>909.190000</td>\n",
       "      <td>1000</td>\n",
       "      <td>14.34110</td>\n",
       "      <td>0.389920</td>\n",
       "    </tr>\n",
       "    <tr>\n",
       "      <th>586</th>\n",
       "      <td>587</td>\n",
       "      <td>4.07480</td>\n",
       "      <td>34.57720</td>\n",
       "      <td>4.518200e-07</td>\n",
       "      <td>-0.000006</td>\n",
       "      <td>0.000443</td>\n",
       "      <td>-0.026531</td>\n",
       "      <td>1000</td>\n",
       "      <td>4.07480</td>\n",
       "      <td>0.450271</td>\n",
       "    </tr>\n",
       "    <tr>\n",
       "      <th>587</th>\n",
       "      <td>588</td>\n",
       "      <td>1.61337</td>\n",
       "      <td>34.57720</td>\n",
       "      <td>1.019600e-05</td>\n",
       "      <td>0.000603</td>\n",
       "      <td>0.000604</td>\n",
       "      <td>1.031500</td>\n",
       "      <td>1000</td>\n",
       "      <td>1.61337</td>\n",
       "      <td>0.599496</td>\n",
       "    </tr>\n",
       "    <tr>\n",
       "      <th>588</th>\n",
       "      <td>589</td>\n",
       "      <td>15.98890</td>\n",
       "      <td>34.57720</td>\n",
       "      <td>1.822200e-01</td>\n",
       "      <td>0.384390</td>\n",
       "      <td>0.035904</td>\n",
       "      <td>272.240000</td>\n",
       "      <td>1000</td>\n",
       "      <td>15.98890</td>\n",
       "      <td>2.205072</td>\n",
       "    </tr>\n",
       "    <tr>\n",
       "      <th>589</th>\n",
       "      <td>590</td>\n",
       "      <td>31.44010</td>\n",
       "      <td>55.26150</td>\n",
       "      <td>1.239100e-01</td>\n",
       "      <td>0.314700</td>\n",
       "      <td>0.078320</td>\n",
       "      <td>892.680000</td>\n",
       "      <td>1000</td>\n",
       "      <td>31.44010</td>\n",
       "      <td>0.578429</td>\n",
       "    </tr>\n",
       "  </tbody>\n",
       "</table>\n",
       "<p>571 rows × 10 columns</p>\n",
       "</div>"
      ],
      "text/plain": [
       "      RN        Pb      Pmax             a         b         c           d  \\\n",
       "0      1   8.44608  34.57722 -5.100580e-06 -0.000235  0.002010   -0.135294   \n",
       "1      2  20.27059  34.47380 -7.688310e-07 -0.000024  0.000294   -0.095071   \n",
       "2      3  10.26630  34.57722 -1.725490e-06 -0.000107  0.000784   -0.151650   \n",
       "3      4  11.94172  20.68428 -4.887290e-07 -0.000039  0.000519   -0.085638   \n",
       "4      5  15.85795  24.13166 -4.220620e-06  0.000008  0.000851   -0.065947   \n",
       "..   ...       ...       ...           ...       ...       ...         ...   \n",
       "585  586  14.34110  34.57720  8.038200e-02  0.227730  0.046789  909.190000   \n",
       "586  587   4.07480  34.57720  4.518200e-07 -0.000006  0.000443   -0.026531   \n",
       "587  588   1.61337  34.57720  1.019600e-05  0.000603  0.000604    1.031500   \n",
       "588  589  15.98890  34.57720  1.822200e-01  0.384390  0.035904  272.240000   \n",
       "589  590  31.44010  55.26150  1.239100e-01  0.314700  0.078320  892.680000   \n",
       "\n",
       "     Conv      Pref       μob  \n",
       "0    1000   1.00000  2.373815  \n",
       "1    1000   1.00000  0.538609  \n",
       "2    1000   1.00000  0.899221  \n",
       "3    1000   1.00000  0.585943  \n",
       "4    1000   1.00000  1.890544  \n",
       "..    ...       ...       ...  \n",
       "585  1000  14.34110  0.389920  \n",
       "586  1000   4.07480  0.450271  \n",
       "587  1000   1.61337  0.599496  \n",
       "588  1000  15.98890  2.205072  \n",
       "589  1000  31.44010  0.578429  \n",
       "\n",
       "[571 rows x 10 columns]"
      ]
     },
     "execution_count": 3,
     "metadata": {},
     "output_type": "execute_result"
    }
   ],
   "source": [
    "df"
   ]
  },
  {
   "cell_type": "code",
   "execution_count": 4,
   "id": "ef9c1843",
   "metadata": {},
   "outputs": [],
   "source": [
    "df[\"μob_cat\"] = pd.cut(df[\"μob\"],\n",
    "                               bins=[0., 5, np.inf],\n",
    "                               labels=[1, 2])"
   ]
  },
  {
   "cell_type": "code",
   "execution_count": 5,
   "id": "291fbdf3",
   "metadata": {},
   "outputs": [
    {
     "data": {
      "text/plain": [
       "1    485\n",
       "2     86\n",
       "Name: μob_cat, dtype: int64"
      ]
     },
     "execution_count": 5,
     "metadata": {},
     "output_type": "execute_result"
    }
   ],
   "source": [
    "df[\"μob_cat\"].value_counts()"
   ]
  },
  {
   "cell_type": "code",
   "execution_count": 6,
   "id": "3eff34e4",
   "metadata": {},
   "outputs": [],
   "source": [
    "from sklearn.model_selection import StratifiedShuffleSplit\n",
    "\n",
    "split = StratifiedShuffleSplit(n_splits=1, test_size=0.2,random_state=13)\n",
    "for train_index, test_index in split.split(df, df[\"μob_cat\"]):\n",
    "    strat_train_set = df.iloc[train_index]\n",
    "    strat_test_set = df.iloc[test_index]"
   ]
  },
  {
   "cell_type": "code",
   "execution_count": 7,
   "id": "c9329412",
   "metadata": {},
   "outputs": [
    {
     "name": "stderr",
     "output_type": "stream",
     "text": [
      "C:\\Users\\flammmes\\AppData\\Roaming\\Python\\Python310\\site-packages\\pandas\\core\\frame.py:4906: SettingWithCopyWarning: \n",
      "A value is trying to be set on a copy of a slice from a DataFrame\n",
      "\n",
      "See the caveats in the documentation: https://pandas.pydata.org/pandas-docs/stable/user_guide/indexing.html#returning-a-view-versus-a-copy\n",
      "  return super().drop(\n"
     ]
    }
   ],
   "source": [
    "for set_ in (strat_train_set, strat_test_set):\n",
    "    set_.drop(\"μob_cat\", axis=1, inplace=True)\n",
    "    #set_.drop(\"μob\", axis=1, inplace=True)\n",
    "   "
   ]
  },
  {
   "cell_type": "code",
   "execution_count": 8,
   "id": "0b705300",
   "metadata": {},
   "outputs": [],
   "source": [
    "df1 = strat_train_set.copy()\n",
    "df2 = strat_test_set.copy()"
   ]
  },
  {
   "cell_type": "code",
   "execution_count": 9,
   "id": "b1899ba5",
   "metadata": {},
   "outputs": [],
   "source": [
    "df1[\"μob_cat\"] = pd.cut(df1[\"μob\"],\n",
    "                               bins=[0., 5, np.inf],\n",
    "                               labels=[1, 2])"
   ]
  },
  {
   "cell_type": "code",
   "execution_count": 10,
   "id": "e3b7d4a3",
   "metadata": {},
   "outputs": [],
   "source": [
    "split = StratifiedShuffleSplit(n_splits=1, test_size=0.2,random_state=13)\n",
    "for ti, tei in split.split(df1, df1[\"μob_cat\"]):\n",
    "    strat_tr_set = df1.iloc[ti]\n",
    "    strat_val_set = df1.iloc[tei]\n",
    "    "
   ]
  },
  {
   "cell_type": "code",
   "execution_count": 11,
   "id": "4d345108",
   "metadata": {},
   "outputs": [
    {
     "name": "stderr",
     "output_type": "stream",
     "text": [
      "C:\\Users\\flammmes\\AppData\\Roaming\\Python\\Python310\\site-packages\\pandas\\core\\frame.py:4906: SettingWithCopyWarning: \n",
      "A value is trying to be set on a copy of a slice from a DataFrame\n",
      "\n",
      "See the caveats in the documentation: https://pandas.pydata.org/pandas-docs/stable/user_guide/indexing.html#returning-a-view-versus-a-copy\n",
      "  return super().drop(\n"
     ]
    }
   ],
   "source": [
    "for set_ in (strat_tr_set, strat_val_set):\n",
    "    set_.drop(\"μob_cat\", axis=1, inplace=True)\n",
    "    #set_.drop(\"μob\", axis=1, inplace=True)"
   ]
  },
  {
   "cell_type": "code",
   "execution_count": 12,
   "id": "f5450b08",
   "metadata": {},
   "outputs": [],
   "source": [
    "df_train = strat_tr_set.copy()\n",
    "df_val = strat_val_set.copy()"
   ]
  },
  {
   "cell_type": "code",
   "execution_count": 13,
   "id": "158c913f",
   "metadata": {},
   "outputs": [],
   "source": [
    "def gen_func(a):\n",
    "    \n",
    "    dflist = []\n",
    "    for i in range(len(a)):\n",
    "        \n",
    "        instance = a.iloc[i,:].to_numpy(dtype=float)\n",
    "        P_i=np.linspace(instance[1]+(instance[2]-instance[1])*0.0001,instance[2],num=20)\n",
    "        x_i = P_i/instance[8]\n",
    "        mu_i = 1000*(instance[3]*x_i*x_i+instance[4]*x_i+instance[5])/(instance[6]*x_i+1)\n",
    "        correlations_select = pd.DataFrame({'P':P_i,'μ':mu_i})\n",
    "        pressure_bubble_point = correlations_select.iloc[0,0]*np.linspace(1,1,20)\n",
    "        visc_bubble_point = correlations_select.iloc[0,1]*np.linspace(1,1,20)\n",
    "        correlations_select.insert(0,\"Pb\",pressure_bubble_point)\n",
    "        correlations_select.insert(2,'μob',visc_bubble_point)\n",
    "        dflist.append(correlations_select)\n",
    "        \n",
    "    \n",
    "    totaldf = pd.concat(dflist)\n",
    "    totaldf.Pb = totaldf.Pb*145.038\n",
    "    totaldf.P = totaldf.P*145.038\n",
    "    totaldf.insert(2,'ΔP', totaldf.P-totaldf.Pb)\n",
    "    #totaldf.drop('P',axis=1,inplace=True)\n",
    "    return totaldf"
   ]
  },
  {
   "cell_type": "code",
   "execution_count": 14,
   "id": "7274c986",
   "metadata": {},
   "outputs": [],
   "source": [
    "test_data = gen_func(df2)\n",
    "train_data = gen_func(df_train)\n",
    "val_data = gen_func(df_val)\n",
    "\n",
    "#y = test_data[test_data.ΔP==0]\n",
    "#x =  val_data[val_data.ΔP==0]\n",
    "#train_data = pd.concat([train_data,y,x])\n",
    "all_data = gen_func(df)"
   ]
  },
  {
   "cell_type": "code",
   "execution_count": 15,
   "id": "56731908",
   "metadata": {},
   "outputs": [
    {
     "name": "stdout",
     "output_type": "stream",
     "text": [
      "Stored 'all_data' (DataFrame)\n"
     ]
    }
   ],
   "source": [
    "\n",
    "%store all_data"
   ]
  },
  {
   "cell_type": "code",
   "execution_count": 16,
   "id": "aa671c2a",
   "metadata": {
    "scrolled": false
   },
   "outputs": [],
   "source": [
    "for a in [test_data,train_data,val_data,all_data]:\n",
    "    a.μ = np.sqrt(np.log(a.μ/a.μob+0.0012))\n",
    "    a.ΔP = np.power(a.ΔP,0.5)\n",
    "    #a.ΔP = np.log(a.ΔP+1)\n",
    "    #a.insert(0,'x1',a.ΔP*np.power(a.P/a.Pb,0.2))\n",
    "    a.μob = a.ΔP*np.power(a.μob,0.07)\n",
    "\n",
    "    #a.insert(4,'logμob',a.μob*np.log(a.μob))\n",
    "    a.Pb = a.ΔP/np.log(a.Pb+400)\n",
    "    a.P = a.ΔP*np.power(a.P,-0.15)\n"
   ]
  },
  {
   "cell_type": "code",
   "execution_count": 17,
   "id": "4986712f",
   "metadata": {},
   "outputs": [],
   "source": [
    "from sklearn.preprocessing import StandardScaler\n",
    "from sklearn.preprocessing import PolynomialFeatures\n",
    "\n",
    "X_train = train_data.drop([\"μ\"], axis=1) \n",
    "y_train = train_data[\"μ\"].copy()\n",
    "X_val = val_data.drop([\"μ\"], axis=1) \n",
    "y_val = val_data[\"μ\"].copy()\n",
    "X_test = test_data.drop([\"μ\"], axis=1) # drop labels for training set\n",
    "y_test = test_data[\"μ\"].copy()\n"
   ]
  },
  {
   "cell_type": "code",
   "execution_count": 18,
   "id": "9052894e",
   "metadata": {},
   "outputs": [],
   "source": [
    "poly_features = PolynomialFeatures(degree=2, include_bias=False)\n",
    "X_train_poly = poly_features.fit_transform(X_train)\n",
    "X_val_poly = poly_features.fit_transform(X_val)\n",
    "X_test_poly = poly_features.fit_transform(X_test)\n",
    "poly_scaler = StandardScaler()\n",
    "X_train_poly = poly_scaler.fit_transform(X_train_poly)\n",
    "X_val_poly = poly_scaler.transform(X_val_poly)\n",
    "X_test_poly = poly_scaler.transform(X_test_poly)\n"
   ]
  },
  {
   "cell_type": "code",
   "execution_count": 19,
   "id": "eee84125",
   "metadata": {},
   "outputs": [],
   "source": [
    "scaler = StandardScaler()\n",
    "X_train= scaler.fit_transform(X_train)\n",
    "X_val= scaler.transform(X_val)\n",
    "X_test= scaler.transform(X_test)\n"
   ]
  },
  {
   "cell_type": "code",
   "execution_count": 20,
   "id": "e7f2c69a",
   "metadata": {},
   "outputs": [],
   "source": [
    "X_features = [X_train,X_val,X_test]\n",
    "X_features_poly = [X_train_poly,X_val_poly,X_test_poly]\n",
    "y_labels = [y_train,y_val,y_test]"
   ]
  },
  {
   "cell_type": "code",
   "execution_count": 21,
   "id": "6173d002",
   "metadata": {},
   "outputs": [
    {
     "name": "stdout",
     "output_type": "stream",
     "text": [
      "Stored 'X_features' (list)\n",
      "Stored 'X_features_poly' (list)\n",
      "Stored 'y_labels' (list)\n"
     ]
    }
   ],
   "source": [
    "%store X_features\n",
    "%store X_features_poly\n",
    "%store y_labels"
   ]
  },
  {
   "cell_type": "code",
   "execution_count": 22,
   "id": "384be251",
   "metadata": {},
   "outputs": [
    {
     "data": {
      "text/html": [
       "<div>\n",
       "<style scoped>\n",
       "    .dataframe tbody tr th:only-of-type {\n",
       "        vertical-align: middle;\n",
       "    }\n",
       "\n",
       "    .dataframe tbody tr th {\n",
       "        vertical-align: top;\n",
       "    }\n",
       "\n",
       "    .dataframe thead th {\n",
       "        text-align: right;\n",
       "    }\n",
       "</style>\n",
       "<table border=\"1\" class=\"dataframe\">\n",
       "  <thead>\n",
       "    <tr style=\"text-align: right;\">\n",
       "      <th></th>\n",
       "      <th>Pb</th>\n",
       "      <th>P</th>\n",
       "      <th>ΔP</th>\n",
       "      <th>μob</th>\n",
       "      <th>μ</th>\n",
       "    </tr>\n",
       "  </thead>\n",
       "  <tbody>\n",
       "    <tr>\n",
       "      <th>0</th>\n",
       "      <td>1796.527454</td>\n",
       "      <td>1796.527454</td>\n",
       "      <td>0.000000</td>\n",
       "      <td>0.425976</td>\n",
       "      <td>0.425976</td>\n",
       "    </tr>\n",
       "    <tr>\n",
       "      <th>1</th>\n",
       "      <td>1796.527454</td>\n",
       "      <td>2071.184401</td>\n",
       "      <td>274.656946</td>\n",
       "      <td>0.425976</td>\n",
       "      <td>0.429562</td>\n",
       "    </tr>\n",
       "    <tr>\n",
       "      <th>2</th>\n",
       "      <td>1796.527454</td>\n",
       "      <td>2345.841347</td>\n",
       "      <td>549.313893</td>\n",
       "      <td>0.425976</td>\n",
       "      <td>0.433993</td>\n",
       "    </tr>\n",
       "    <tr>\n",
       "      <th>3</th>\n",
       "      <td>1796.527454</td>\n",
       "      <td>2620.498293</td>\n",
       "      <td>823.970839</td>\n",
       "      <td>0.425976</td>\n",
       "      <td>0.439003</td>\n",
       "    </tr>\n",
       "    <tr>\n",
       "      <th>4</th>\n",
       "      <td>1796.527454</td>\n",
       "      <td>2895.155240</td>\n",
       "      <td>1098.627785</td>\n",
       "      <td>0.425976</td>\n",
       "      <td>0.444428</td>\n",
       "    </tr>\n",
       "    <tr>\n",
       "      <th>...</th>\n",
       "      <td>...</td>\n",
       "      <td>...</td>\n",
       "      <td>...</td>\n",
       "      <td>...</td>\n",
       "      <td>...</td>\n",
       "    </tr>\n",
       "    <tr>\n",
       "      <th>15</th>\n",
       "      <td>3225.335953</td>\n",
       "      <td>5822.443437</td>\n",
       "      <td>2597.107485</td>\n",
       "      <td>0.153853</td>\n",
       "      <td>0.188024</td>\n",
       "    </tr>\n",
       "    <tr>\n",
       "      <th>16</th>\n",
       "      <td>3225.335953</td>\n",
       "      <td>5995.583936</td>\n",
       "      <td>2770.247984</td>\n",
       "      <td>0.153853</td>\n",
       "      <td>0.190505</td>\n",
       "    </tr>\n",
       "    <tr>\n",
       "      <th>17</th>\n",
       "      <td>3225.335953</td>\n",
       "      <td>6168.724435</td>\n",
       "      <td>2943.388483</td>\n",
       "      <td>0.153853</td>\n",
       "      <td>0.193000</td>\n",
       "    </tr>\n",
       "    <tr>\n",
       "      <th>18</th>\n",
       "      <td>3225.335953</td>\n",
       "      <td>6341.864934</td>\n",
       "      <td>3116.528982</td>\n",
       "      <td>0.153853</td>\n",
       "      <td>0.195508</td>\n",
       "    </tr>\n",
       "    <tr>\n",
       "      <th>19</th>\n",
       "      <td>3225.335953</td>\n",
       "      <td>6515.005433</td>\n",
       "      <td>3289.669481</td>\n",
       "      <td>0.153853</td>\n",
       "      <td>0.198026</td>\n",
       "    </tr>\n",
       "  </tbody>\n",
       "</table>\n",
       "<p>7280 rows × 5 columns</p>\n",
       "</div>"
      ],
      "text/plain": [
       "             Pb            P           ΔP       μob         μ\n",
       "0   1796.527454  1796.527454     0.000000  0.425976  0.425976\n",
       "1   1796.527454  2071.184401   274.656946  0.425976  0.429562\n",
       "2   1796.527454  2345.841347   549.313893  0.425976  0.433993\n",
       "3   1796.527454  2620.498293   823.970839  0.425976  0.439003\n",
       "4   1796.527454  2895.155240  1098.627785  0.425976  0.444428\n",
       "..          ...          ...          ...       ...       ...\n",
       "15  3225.335953  5822.443437  2597.107485  0.153853  0.188024\n",
       "16  3225.335953  5995.583936  2770.247984  0.153853  0.190505\n",
       "17  3225.335953  6168.724435  2943.388483  0.153853  0.193000\n",
       "18  3225.335953  6341.864934  3116.528982  0.153853  0.195508\n",
       "19  3225.335953  6515.005433  3289.669481  0.153853  0.198026\n",
       "\n",
       "[7280 rows x 5 columns]"
      ]
     },
     "execution_count": 22,
     "metadata": {},
     "output_type": "execute_result"
    }
   ],
   "source": [
    "gen_func(df_train)"
   ]
  },
  {
   "cell_type": "code",
   "execution_count": 23,
   "id": "94dafa7f",
   "metadata": {},
   "outputs": [],
   "source": [
    "totaldf = gen_func(df2)\n"
   ]
  },
  {
   "cell_type": "code",
   "execution_count": 24,
   "id": "76220197",
   "metadata": {
    "scrolled": false
   },
   "outputs": [
    {
     "name": "stdout",
     "output_type": "stream",
     "text": [
      "Stored 'totaldf' (DataFrame)\n"
     ]
    }
   ],
   "source": [
    "%store totaldf\n"
   ]
  },
  {
   "cell_type": "code",
   "execution_count": 25,
   "id": "294cff3b",
   "metadata": {},
   "outputs": [],
   "source": [
    "dff = gen_func(df)"
   ]
  },
  {
   "cell_type": "code",
   "execution_count": 26,
   "id": "fad4fd6a",
   "metadata": {},
   "outputs": [
    {
     "data": {
      "text/html": [
       "<div>\n",
       "<style scoped>\n",
       "    .dataframe tbody tr th:only-of-type {\n",
       "        vertical-align: middle;\n",
       "    }\n",
       "\n",
       "    .dataframe tbody tr th {\n",
       "        vertical-align: top;\n",
       "    }\n",
       "\n",
       "    .dataframe thead th {\n",
       "        text-align: right;\n",
       "    }\n",
       "</style>\n",
       "<table border=\"1\" class=\"dataframe\">\n",
       "  <thead>\n",
       "    <tr style=\"text-align: right;\">\n",
       "      <th></th>\n",
       "      <th>Pb</th>\n",
       "      <th>P</th>\n",
       "      <th>ΔP</th>\n",
       "      <th>μob</th>\n",
       "      <th>μ</th>\n",
       "    </tr>\n",
       "  </thead>\n",
       "  <tbody>\n",
       "    <tr>\n",
       "      <th>0</th>\n",
       "      <td>1225.381552</td>\n",
       "      <td>1225.381552</td>\n",
       "      <td>0.000000</td>\n",
       "      <td>2.373815</td>\n",
       "      <td>2.373815</td>\n",
       "    </tr>\n",
       "    <tr>\n",
       "      <th>1</th>\n",
       "      <td>1225.381552</td>\n",
       "      <td>1424.835725</td>\n",
       "      <td>199.454173</td>\n",
       "      <td>2.373815</td>\n",
       "      <td>2.403243</td>\n",
       "    </tr>\n",
       "    <tr>\n",
       "      <th>2</th>\n",
       "      <td>1225.381552</td>\n",
       "      <td>1624.289897</td>\n",
       "      <td>398.908346</td>\n",
       "      <td>2.373815</td>\n",
       "      <td>2.448862</td>\n",
       "    </tr>\n",
       "    <tr>\n",
       "      <th>3</th>\n",
       "      <td>1225.381552</td>\n",
       "      <td>1823.744070</td>\n",
       "      <td>598.362518</td>\n",
       "      <td>2.373815</td>\n",
       "      <td>2.497785</td>\n",
       "    </tr>\n",
       "    <tr>\n",
       "      <th>4</th>\n",
       "      <td>1225.381552</td>\n",
       "      <td>2023.198243</td>\n",
       "      <td>797.816691</td>\n",
       "      <td>2.373815</td>\n",
       "      <td>2.547933</td>\n",
       "    </tr>\n",
       "    <tr>\n",
       "      <th>...</th>\n",
       "      <td>...</td>\n",
       "      <td>...</td>\n",
       "      <td>...</td>\n",
       "      <td>...</td>\n",
       "      <td>...</td>\n",
       "    </tr>\n",
       "    <tr>\n",
       "      <th>15</th>\n",
       "      <td>4560.354725</td>\n",
       "      <td>7287.720024</td>\n",
       "      <td>2727.365299</td>\n",
       "      <td>0.578432</td>\n",
       "      <td>0.628829</td>\n",
       "    </tr>\n",
       "    <tr>\n",
       "      <th>16</th>\n",
       "      <td>4560.354725</td>\n",
       "      <td>7469.544377</td>\n",
       "      <td>2909.189653</td>\n",
       "      <td>0.578432</td>\n",
       "      <td>0.633035</td>\n",
       "    </tr>\n",
       "    <tr>\n",
       "      <th>17</th>\n",
       "      <td>4560.354725</td>\n",
       "      <td>7651.368730</td>\n",
       "      <td>3091.014006</td>\n",
       "      <td>0.578432</td>\n",
       "      <td>0.637304</td>\n",
       "    </tr>\n",
       "    <tr>\n",
       "      <th>18</th>\n",
       "      <td>4560.354725</td>\n",
       "      <td>7833.193084</td>\n",
       "      <td>3272.838359</td>\n",
       "      <td>0.578432</td>\n",
       "      <td>0.641632</td>\n",
       "    </tr>\n",
       "    <tr>\n",
       "      <th>19</th>\n",
       "      <td>4560.354725</td>\n",
       "      <td>8015.017437</td>\n",
       "      <td>3454.662712</td>\n",
       "      <td>0.578432</td>\n",
       "      <td>0.646015</td>\n",
       "    </tr>\n",
       "  </tbody>\n",
       "</table>\n",
       "<p>11420 rows × 5 columns</p>\n",
       "</div>"
      ],
      "text/plain": [
       "             Pb            P           ΔP       μob         μ\n",
       "0   1225.381552  1225.381552     0.000000  2.373815  2.373815\n",
       "1   1225.381552  1424.835725   199.454173  2.373815  2.403243\n",
       "2   1225.381552  1624.289897   398.908346  2.373815  2.448862\n",
       "3   1225.381552  1823.744070   598.362518  2.373815  2.497785\n",
       "4   1225.381552  2023.198243   797.816691  2.373815  2.547933\n",
       "..          ...          ...          ...       ...       ...\n",
       "15  4560.354725  7287.720024  2727.365299  0.578432  0.628829\n",
       "16  4560.354725  7469.544377  2909.189653  0.578432  0.633035\n",
       "17  4560.354725  7651.368730  3091.014006  0.578432  0.637304\n",
       "18  4560.354725  7833.193084  3272.838359  0.578432  0.641632\n",
       "19  4560.354725  8015.017437  3454.662712  0.578432  0.646015\n",
       "\n",
       "[11420 rows x 5 columns]"
      ]
     },
     "execution_count": 26,
     "metadata": {},
     "output_type": "execute_result"
    }
   ],
   "source": [
    "dff"
   ]
  },
  {
   "cell_type": "code",
   "execution_count": 27,
   "id": "746fdb21",
   "metadata": {},
   "outputs": [],
   "source": [
    "corr_matrix = all_data.corr()"
   ]
  },
  {
   "cell_type": "code",
   "execution_count": 28,
   "id": "42f7a611",
   "metadata": {},
   "outputs": [
    {
     "data": {
      "text/plain": [
       "μ      1.000000\n",
       "μob    0.893815\n",
       "Pb     0.881562\n",
       "P      0.877742\n",
       "ΔP     0.868450\n",
       "Name: μ, dtype: float64"
      ]
     },
     "execution_count": 28,
     "metadata": {},
     "output_type": "execute_result"
    }
   ],
   "source": [
    "corr_matrix[\"μ\"].sort_values(ascending=False)"
   ]
  },
  {
   "cell_type": "code",
   "execution_count": 29,
   "id": "5484d9f2",
   "metadata": {},
   "outputs": [
    {
     "data": {
      "text/plain": [
       "array([[<AxesSubplot:xlabel='μ', ylabel='μ'>,\n",
       "        <AxesSubplot:xlabel='ΔP', ylabel='μ'>,\n",
       "        <AxesSubplot:xlabel='Pb', ylabel='μ'>,\n",
       "        <AxesSubplot:xlabel='P', ylabel='μ'>],\n",
       "       [<AxesSubplot:xlabel='μ', ylabel='ΔP'>,\n",
       "        <AxesSubplot:xlabel='ΔP', ylabel='ΔP'>,\n",
       "        <AxesSubplot:xlabel='Pb', ylabel='ΔP'>,\n",
       "        <AxesSubplot:xlabel='P', ylabel='ΔP'>],\n",
       "       [<AxesSubplot:xlabel='μ', ylabel='Pb'>,\n",
       "        <AxesSubplot:xlabel='ΔP', ylabel='Pb'>,\n",
       "        <AxesSubplot:xlabel='Pb', ylabel='Pb'>,\n",
       "        <AxesSubplot:xlabel='P', ylabel='Pb'>],\n",
       "       [<AxesSubplot:xlabel='μ', ylabel='P'>,\n",
       "        <AxesSubplot:xlabel='ΔP', ylabel='P'>,\n",
       "        <AxesSubplot:xlabel='Pb', ylabel='P'>,\n",
       "        <AxesSubplot:xlabel='P', ylabel='P'>]], dtype=object)"
      ]
     },
     "execution_count": 29,
     "metadata": {},
     "output_type": "execute_result"
    },
    {
     "data": {
      "image/png": "[encoded data removed]",
      "text/plain": [
       "<Figure size 864x576 with 16 Axes>"
      ]
     },
     "metadata": {
      "needs_background": "light"
     },
     "output_type": "display_data"
    }
   ],
   "source": [
    "from pandas.plotting import scatter_matrix\n",
    "\n",
    "attributes = [\"μ\", \n",
    "              \"ΔP\",'Pb','P']\n",
    "scatter_matrix(train_data[attributes], figsize=(12, 8))"
   ]
  },
  {
   "cell_type": "code",
   "execution_count": null,
   "id": "d04f1e40",
   "metadata": {},
   "outputs": [],
   "source": []
  },
  {
   "cell_type": "code",
   "execution_count": null,
   "id": "3dbe7da6",
   "metadata": {},
   "outputs": [],
   "source": []
  }
 ],
 "metadata": {
  "kernelspec": {
   "display_name": "Python 3 (ipykernel)",
   "language": "python",
   "name": "python3"
  },
  "language_info": {
   "codemirror_mode": {
    "name": "ipython",
    "version": 3
   },
   "file_extension": ".py",
   "mimetype": "text/x-python",
   "name": "python",
   "nbconvert_exporter": "python",
   "pygments_lexer": "ipython3",
   "version": "3.10.1"
  }
 },
 "nbformat": 4,
 "nbformat_minor": 5
}
