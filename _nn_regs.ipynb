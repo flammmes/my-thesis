{
 "cells": [
  {
   "cell_type": "code",
   "execution_count": 30,
   "id": "54e2ed7a",
   "metadata": {},
   "outputs": [],
   "source": [
    "import numpy as np\n",
    "import pandas as pd\n",
    "import matplotlib.pyplot as plt\n",
    "import sklearn\n",
    "import joblib\n",
    "import tensorflow as tf\n",
    "from tensorflow import keras\n",
    "from sklearn.metrics import mean_squared_error\n",
    "\n",
    "%store -r X_features\n",
    "%store -r X_features_poly\n",
    "%store -r y_labels\n"
   ]
  },
  {
   "cell_type": "code",
   "execution_count": 31,
   "id": "cdcb1be9",
   "metadata": {},
   "outputs": [],
   "source": [
    "model = keras.models.Sequential([\n",
    "    keras.layers.Dense(500, activation=\"relu\", input_shape=X_features[0].shape[1:]),\n",
    "    keras.layers.Dense(1)\n",
    "])\n",
    "\n"
   ]
  },
  {
   "cell_type": "code",
   "execution_count": 34,
   "id": "a5078987",
   "metadata": {
    "scrolled": true
   },
   "outputs": [
    {
     "name": "stdout",
     "output_type": "stream",
     "text": [
      "Epoch 1/20\n",
      "455/455 [==============================] - 1s 2ms/step - loss: 14.3901 - val_loss: 13.6227\n",
      "Epoch 2/20\n",
      "455/455 [==============================] - 1s 2ms/step - loss: 14.2800 - val_loss: 14.4075\n",
      "Epoch 3/20\n",
      "455/455 [==============================] - 1s 1ms/step - loss: 13.9575 - val_loss: 13.7474\n",
      "Epoch 4/20\n",
      "455/455 [==============================] - 1s 1ms/step - loss: 13.7227 - val_loss: 14.1571\n",
      "Epoch 5/20\n",
      "455/455 [==============================] - 1s 1ms/step - loss: 13.9473 - val_loss: 16.3675\n",
      "Epoch 6/20\n",
      "455/455 [==============================] - 1s 1ms/step - loss: 14.0502 - val_loss: 13.7386\n",
      "Epoch 7/20\n",
      "455/455 [==============================] - 1s 1ms/step - loss: 14.1196 - val_loss: 14.6523\n",
      "Epoch 8/20\n",
      "455/455 [==============================] - 1s 2ms/step - loss: 14.0397 - val_loss: 14.1945\n",
      "Epoch 9/20\n",
      "455/455 [==============================] - 1s 2ms/step - loss: 13.6661 - val_loss: 13.9035\n",
      "Epoch 10/20\n",
      "455/455 [==============================] - 1s 1ms/step - loss: 13.6811 - val_loss: 15.5748\n",
      "Epoch 11/20\n",
      "455/455 [==============================] - 1s 1ms/step - loss: 13.8931 - val_loss: 13.7260\n",
      "Epoch 12/20\n",
      "455/455 [==============================] - 1s 2ms/step - loss: 13.7522 - val_loss: 13.9485\n",
      "Epoch 13/20\n",
      "455/455 [==============================] - 1s 1ms/step - loss: 13.8840 - val_loss: 13.6047\n",
      "Epoch 14/20\n",
      "455/455 [==============================] - 1s 1ms/step - loss: 13.8226 - val_loss: 14.4221\n",
      "Epoch 15/20\n",
      "455/455 [==============================] - 1s 1ms/step - loss: 14.3300 - val_loss: 14.9020\n",
      "Epoch 16/20\n",
      "455/455 [==============================] - 1s 1ms/step - loss: 13.8349 - val_loss: 14.1987\n",
      "Epoch 17/20\n",
      "455/455 [==============================] - 1s 2ms/step - loss: 13.6763 - val_loss: 17.2972\n",
      "Epoch 18/20\n",
      "455/455 [==============================] - 1s 1ms/step - loss: 13.7746 - val_loss: 14.6021\n",
      "Epoch 19/20\n",
      "455/455 [==============================] - 1s 1ms/step - loss: 13.6700 - val_loss: 14.1689\n",
      "Epoch 20/20\n",
      "455/455 [==============================] - 1s 1ms/step - loss: 13.7958 - val_loss: 13.9856\n"
     ]
    }
   ],
   "source": [
    "model.compile(loss=\"mean_absolute_percentage_error\", optimizer=keras.optimizers.Adam())\n",
    "history = model.fit(X_features[0], y_labels[0], epochs=20,batch_size=16, validation_data=(X_features[1], y_labels[1]))"
   ]
  },
  {
   "cell_type": "code",
   "execution_count": 35,
   "id": "eb85cf0f",
   "metadata": {},
   "outputs": [
    {
     "name": "stdout",
     "output_type": "stream",
     "text": [
      "INFO:tensorflow:Assets written to: D:\\python\\partial data\\first\\assets\n"
     ]
    }
   ],
   "source": [
    "model.save('D:\\python\\\\partial data\\\\first')\n"
   ]
  },
  {
   "cell_type": "code",
   "execution_count": 5,
   "id": "574f624b",
   "metadata": {},
   "outputs": [],
   "source": [
    "input_ = keras.layers.Input(shape=X_features[0].shape[1:])\n",
    "hidden1 = keras.layers.Dense(500, activation=\"relu\")(input_)\n",
    "hidden2 = keras.layers.Dense(200, activation=\"relu\")(hidden1)\n",
    "concat = keras.layers.concatenate([input_, hidden2])\n",
    "output = keras.layers.Dense(1)(hidden2)\n",
    "wd_model = keras.models.Model(inputs=[input_], outputs=[output])"
   ]
  },
  {
   "cell_type": "code",
   "execution_count": 32,
   "id": "1f014078",
   "metadata": {
    "scrolled": true
   },
   "outputs": [
    {
     "name": "stdout",
     "output_type": "stream",
     "text": [
      "Epoch 1/20\n",
      "455/455 [==============================] - 2s 4ms/step - loss: 13.7491 - val_loss: 13.2719\n",
      "Epoch 2/20\n",
      "455/455 [==============================] - 1s 3ms/step - loss: 13.7297 - val_loss: 13.3430\n",
      "Epoch 3/20\n",
      "455/455 [==============================] - 1s 3ms/step - loss: 13.7129 - val_loss: 13.2825\n",
      "Epoch 4/20\n",
      "455/455 [==============================] - 1s 3ms/step - loss: 13.6777 - val_loss: 13.8004\n",
      "Epoch 5/20\n",
      "455/455 [==============================] - 1s 3ms/step - loss: 13.6688 - val_loss: 13.5130\n",
      "Epoch 6/20\n",
      "455/455 [==============================] - 1s 3ms/step - loss: 13.6668 - val_loss: 13.5435\n",
      "Epoch 7/20\n",
      "455/455 [==============================] - 1s 3ms/step - loss: 13.7163 - val_loss: 13.3174\n",
      "Epoch 8/20\n",
      "455/455 [==============================] - 1s 3ms/step - loss: 13.6907 - val_loss: 13.3462\n",
      "Epoch 9/20\n",
      "455/455 [==============================] - 1s 3ms/step - loss: 13.5949 - val_loss: 13.4941\n",
      "Epoch 10/20\n",
      "455/455 [==============================] - 1s 3ms/step - loss: 13.6242 - val_loss: 13.5230\n",
      "Epoch 11/20\n",
      "455/455 [==============================] - 1s 3ms/step - loss: 13.5681 - val_loss: 13.1617\n",
      "Epoch 12/20\n",
      "455/455 [==============================] - 1s 3ms/step - loss: 13.5027 - val_loss: 13.2185\n",
      "Epoch 13/20\n",
      "455/455 [==============================] - 1s 3ms/step - loss: 13.5827 - val_loss: 13.7463\n",
      "Epoch 14/20\n",
      "455/455 [==============================] - 1s 3ms/step - loss: 13.4847 - val_loss: 13.2918\n",
      "Epoch 15/20\n",
      "455/455 [==============================] - 1s 3ms/step - loss: 13.5710 - val_loss: 13.4289\n",
      "Epoch 16/20\n",
      "455/455 [==============================] - 1s 3ms/step - loss: 13.5320 - val_loss: 13.3895\n",
      "Epoch 17/20\n",
      "455/455 [==============================] - 1s 3ms/step - loss: 13.5535 - val_loss: 13.4014\n",
      "Epoch 18/20\n",
      "455/455 [==============================] - 1s 3ms/step - loss: 13.4570 - val_loss: 13.3240\n",
      "Epoch 19/20\n",
      "455/455 [==============================] - 1s 3ms/step - loss: 13.7406 - val_loss: 13.9409\n",
      "Epoch 20/20\n",
      "455/455 [==============================] - 1s 3ms/step - loss: 13.4440 - val_loss: 13.2127\n"
     ]
    }
   ],
   "source": [
    "wd_model.compile(loss=\"mean_absolute_percentage_error\", optimizer=keras.optimizers.Adam())\n",
    "history = wd_model.fit(X_features[0], y_labels[0], epochs=20,batch_size=16,\n",
    "                    validation_data=(X_features[0], y_labels[0]))"
   ]
  },
  {
   "cell_type": "code",
   "execution_count": 33,
   "id": "5d5cf7f3",
   "metadata": {
    "scrolled": false
   },
   "outputs": [
    {
     "name": "stdout",
     "output_type": "stream",
     "text": [
      "INFO:tensorflow:Assets written to: D:\\python\\partial data\\second\\assets\n"
     ]
    }
   ],
   "source": [
    "wd_model.save('D:\\python\\\\partial data\\\\second')\n"
   ]
  },
  {
   "cell_type": "code",
   "execution_count": 8,
   "id": "95857ab8",
   "metadata": {},
   "outputs": [],
   "source": [
    "input_ = keras.layers.Input(shape=X_features[0].shape[1:])\n",
    "hidden1 = keras.layers.Dense(500, activation=\"relu\")(input_)\n",
    "hidden2 = keras.layers.Dense(300, activation=\"relu\")(hidden1)\n",
    "hidden3 = keras.layers.Dense(100, activation=\"relu\")(hidden2)\n",
    "concat = keras.layers.concatenate([input_, hidden3])\n",
    "\n",
    "output = keras.layers.Dense(1)(hidden3)\n",
    "new_model = keras.models.Model(inputs=[input_], outputs=[output])"
   ]
  },
  {
   "cell_type": "code",
   "execution_count": 34,
   "id": "a01b0b36",
   "metadata": {
    "scrolled": true
   },
   "outputs": [
    {
     "name": "stdout",
     "output_type": "stream",
     "text": [
      "Epoch 1/20\n",
      "455/455 [==============================] - 2s 4ms/step - loss: 13.5634 - val_loss: 13.1655\n",
      "Epoch 2/20\n",
      "455/455 [==============================] - 2s 3ms/step - loss: 13.4684 - val_loss: 13.1120\n",
      "Epoch 3/20\n",
      "455/455 [==============================] - 2s 4ms/step - loss: 13.4423 - val_loss: 13.2681\n",
      "Epoch 4/20\n",
      "455/455 [==============================] - 2s 3ms/step - loss: 13.5819 - val_loss: 14.5956\n",
      "Epoch 5/20\n",
      "455/455 [==============================] - 2s 3ms/step - loss: 13.6252 - val_loss: 13.6613\n",
      "Epoch 6/20\n",
      "455/455 [==============================] - 2s 4ms/step - loss: 13.4387 - val_loss: 13.2089\n",
      "Epoch 7/20\n",
      "455/455 [==============================] - 2s 4ms/step - loss: 13.3906 - val_loss: 13.1924\n",
      "Epoch 8/20\n",
      "455/455 [==============================] - 2s 3ms/step - loss: 13.4324 - val_loss: 13.6797\n",
      "Epoch 9/20\n",
      "455/455 [==============================] - 2s 3ms/step - loss: 13.3767 - val_loss: 13.8193\n",
      "Epoch 10/20\n",
      "455/455 [==============================] - 1s 3ms/step - loss: 13.5658 - val_loss: 13.3093\n",
      "Epoch 11/20\n",
      "455/455 [==============================] - 2s 3ms/step - loss: 13.4969 - val_loss: 13.4522\n",
      "Epoch 12/20\n",
      "455/455 [==============================] - 2s 4ms/step - loss: 13.4167 - val_loss: 14.4475\n",
      "Epoch 13/20\n",
      "455/455 [==============================] - 2s 4ms/step - loss: 13.3731 - val_loss: 13.6391\n",
      "Epoch 14/20\n",
      "455/455 [==============================] - 2s 4ms/step - loss: 13.4223 - val_loss: 13.5329\n",
      "Epoch 15/20\n",
      "455/455 [==============================] - 2s 4ms/step - loss: 13.4113 - val_loss: 13.1735\n",
      "Epoch 16/20\n",
      "455/455 [==============================] - 2s 4ms/step - loss: 13.3190 - val_loss: 13.3183\n",
      "Epoch 17/20\n",
      "455/455 [==============================] - 2s 4ms/step - loss: 13.3541 - val_loss: 13.0812\n",
      "Epoch 18/20\n",
      "455/455 [==============================] - 2s 4ms/step - loss: 13.3455 - val_loss: 13.0949\n",
      "Epoch 19/20\n",
      "455/455 [==============================] - 2s 4ms/step - loss: 13.3164 - val_loss: 13.3139\n",
      "Epoch 20/20\n",
      "455/455 [==============================] - 2s 4ms/step - loss: 13.3586 - val_loss: 13.0342\n"
     ]
    }
   ],
   "source": [
    "new_model.compile(loss=\"mean_absolute_percentage_error\", optimizer=keras.optimizers.Adam())\n",
    "history = new_model.fit(X_features[0], y_labels[0], epochs=20,batch_size=16,\n",
    "                    validation_data=(X_features[0], y_labels[0]))"
   ]
  },
  {
   "cell_type": "code",
   "execution_count": 35,
   "id": "11570a66",
   "metadata": {
    "scrolled": true
   },
   "outputs": [
    {
     "name": "stdout",
     "output_type": "stream",
     "text": [
      "INFO:tensorflow:Assets written to: D:\\python\\partial data\\third\\assets\n"
     ]
    }
   ],
   "source": [
    "new_model.save('D:\\python\\\\partial data\\\\third')\n"
   ]
  },
  {
   "cell_type": "code",
   "execution_count": 11,
   "id": "44b11e39",
   "metadata": {},
   "outputs": [],
   "source": [
    "input_ = keras.layers.Input(shape=X_features[0].shape[1:])\n",
    "hidden1 = keras.layers.Dense(500, activation=\"relu\")(input_)\n",
    "hidden2 = keras.layers.Dense(400, activation=\"relu\")(hidden1)\n",
    "hidden3 = keras.layers.Dense(200, activation=\"relu\")(hidden2)\n",
    "hidden4 =  keras.layers.Dense(100, activation=\"relu\")(hidden3)\n",
    "concat = keras.layers.concatenate([input_, hidden3])\n",
    "\n",
    "output = keras.layers.Dense(1)(hidden4)\n",
    "four_model = keras.models.Model(inputs=[input_], outputs=[output])\n"
   ]
  },
  {
   "cell_type": "code",
   "execution_count": 36,
   "id": "e7499622",
   "metadata": {},
   "outputs": [
    {
     "name": "stdout",
     "output_type": "stream",
     "text": [
      "Epoch 1/20\n",
      "455/455 [==============================] - 2s 4ms/step - loss: 13.1973 - val_loss: 13.7084\n",
      "Epoch 2/20\n",
      "455/455 [==============================] - 2s 3ms/step - loss: 13.2275 - val_loss: 14.3156\n",
      "Epoch 3/20\n",
      "455/455 [==============================] - 2s 3ms/step - loss: 13.3532 - val_loss: 13.9994\n",
      "Epoch 4/20\n",
      "455/455 [==============================] - 2s 4ms/step - loss: 13.2267 - val_loss: 13.7966\n",
      "Epoch 5/20\n",
      "455/455 [==============================] - 2s 3ms/step - loss: 13.2809 - val_loss: 14.4506\n",
      "Epoch 6/20\n",
      "455/455 [==============================] - 2s 3ms/step - loss: 13.2182 - val_loss: 14.4736\n",
      "Epoch 7/20\n",
      "455/455 [==============================] - 1s 3ms/step - loss: 13.2774 - val_loss: 13.9476\n",
      "Epoch 8/20\n",
      "455/455 [==============================] - 1s 3ms/step - loss: 13.2205 - val_loss: 14.0462\n",
      "Epoch 9/20\n",
      "455/455 [==============================] - 1s 3ms/step - loss: 13.1379 - val_loss: 14.3564\n",
      "Epoch 10/20\n",
      "455/455 [==============================] - 1s 3ms/step - loss: 13.2038 - val_loss: 14.2491\n",
      "Epoch 11/20\n",
      "455/455 [==============================] - 1s 3ms/step - loss: 13.0879 - val_loss: 14.5562\n",
      "Epoch 12/20\n",
      "455/455 [==============================] - 1s 3ms/step - loss: 13.1011 - val_loss: 14.8090\n",
      "Epoch 13/20\n",
      "455/455 [==============================] - 1s 3ms/step - loss: 13.2450 - val_loss: 13.8393\n",
      "Epoch 14/20\n",
      "455/455 [==============================] - 1s 3ms/step - loss: 12.9547 - val_loss: 14.1380\n",
      "Epoch 15/20\n",
      "455/455 [==============================] - 1s 3ms/step - loss: 13.0991 - val_loss: 14.1004\n",
      "Epoch 16/20\n",
      "455/455 [==============================] - 1s 3ms/step - loss: 13.0767 - val_loss: 14.7067\n",
      "Epoch 17/20\n",
      "455/455 [==============================] - 1s 3ms/step - loss: 13.0794 - val_loss: 13.9026\n",
      "Epoch 18/20\n",
      "455/455 [==============================] - 1s 3ms/step - loss: 12.9933 - val_loss: 13.6593\n",
      "Epoch 19/20\n",
      "455/455 [==============================] - 1s 3ms/step - loss: 13.1297 - val_loss: 14.3516\n",
      "Epoch 20/20\n",
      "455/455 [==============================] - 1s 3ms/step - loss: 13.0733 - val_loss: 14.0956\n"
     ]
    }
   ],
   "source": [
    "four_model.compile(loss=\"mean_absolute_percentage_error\", optimizer=keras.optimizers.Adam())\n",
    "history = four_model.fit(X_features[0], y_labels[0], epochs=20,batch_size=16, validation_data=(X_features[1], y_labels[1]))"
   ]
  },
  {
   "cell_type": "code",
   "execution_count": 37,
   "id": "84a65b58",
   "metadata": {},
   "outputs": [
    {
     "name": "stdout",
     "output_type": "stream",
     "text": [
      "INFO:tensorflow:Assets written to: D:\\python\\partial data\\fourth\\assets\n"
     ]
    }
   ],
   "source": [
    "four_model.save('D:\\python\\\\partial data\\\\fourth')\n"
   ]
  },
  {
   "cell_type": "code",
   "execution_count": null,
   "id": "a26be1ab",
   "metadata": {},
   "outputs": [],
   "source": []
  }
 ],
 "metadata": {
  "kernelspec": {
   "display_name": "Python 3 (ipykernel)",
   "language": "python",
   "name": "python3"
  },
  "language_info": {
   "codemirror_mode": {
    "name": "ipython",
    "version": 3
   },
   "file_extension": ".py",
   "mimetype": "text/x-python",
   "name": "python",
   "nbconvert_exporter": "python",
   "pygments_lexer": "ipython3",
   "version": "3.10.1"
  }
 },
 "nbformat": 4,
 "nbformat_minor": 5
}
