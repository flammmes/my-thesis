{
 "cells": [
  {
   "cell_type": "code",
   "execution_count": 30,
   "id": "54e2ed7a",
   "metadata": {},
   "outputs": [],
   "source": [
    "import numpy as np\n",
    "import pandas as pd\n",
    "import matplotlib.pyplot as plt\n",
    "import sklearn\n",
    "import joblib\n",
    "import tensorflow as tf\n",
    "from tensorflow import keras\n",
    "from sklearn.metrics import mean_squared_error\n",
    "\n",
    "\n",
    "%store -r X_features_full\n",
    "%store -r X_features_poly_full\n",
    "%store -r y_labels_full\n",
    "X_features = X_features_full\n",
    "X_features_poly = X_features_poly_full\n",
    "y_labels = y_labels_full"
   ]
  },
  {
   "cell_type": "code",
   "execution_count": 31,
   "id": "cdcb1be9",
   "metadata": {},
   "outputs": [],
   "source": [
    "model = keras.models.Sequential([\n",
    "    keras.layers.Dense(500, activation=\"relu\", input_shape=X_features[0].shape[1:]),\n",
    "    keras.layers.Dense(1)\n",
    "])\n",
    "\n"
   ]
  },
  {
   "cell_type": "code",
   "execution_count": 35,
   "id": "a5078987",
   "metadata": {
    "scrolled": true
   },
   "outputs": [
    {
     "name": "stdout",
     "output_type": "stream",
     "text": [
      "Epoch 1/20\n",
      "455/455 [==============================] - 1s 2ms/step - loss: 13.0569 - val_loss: 14.2279\n",
      "Epoch 2/20\n",
      "455/455 [==============================] - 1s 1ms/step - loss: 13.2171 - val_loss: 14.5558\n",
      "Epoch 3/20\n",
      "455/455 [==============================] - 1s 2ms/step - loss: 13.4008 - val_loss: 14.1607\n",
      "Epoch 4/20\n",
      "455/455 [==============================] - 1s 2ms/step - loss: 13.3497 - val_loss: 13.4621\n",
      "Epoch 5/20\n",
      "455/455 [==============================] - 1s 2ms/step - loss: 13.0153 - val_loss: 13.8137\n",
      "Epoch 6/20\n",
      "455/455 [==============================] - 1s 2ms/step - loss: 12.8651 - val_loss: 14.6702\n",
      "Epoch 7/20\n",
      "455/455 [==============================] - 1s 2ms/step - loss: 13.3769 - val_loss: 15.6137\n",
      "Epoch 8/20\n",
      "455/455 [==============================] - 1s 1ms/step - loss: 12.9210 - val_loss: 14.6304\n",
      "Epoch 9/20\n",
      "455/455 [==============================] - 1s 2ms/step - loss: 12.9250 - val_loss: 14.4552\n",
      "Epoch 10/20\n",
      "455/455 [==============================] - 1s 1ms/step - loss: 12.7837 - val_loss: 14.4993\n",
      "Epoch 11/20\n",
      "455/455 [==============================] - 1s 1ms/step - loss: 12.9690 - val_loss: 15.0691\n",
      "Epoch 12/20\n",
      "455/455 [==============================] - 1s 1ms/step - loss: 13.0761 - val_loss: 13.7534\n",
      "Epoch 13/20\n",
      "455/455 [==============================] - 1s 1ms/step - loss: 13.2052 - val_loss: 15.0501\n",
      "Epoch 14/20\n",
      "455/455 [==============================] - 1s 1ms/step - loss: 12.7760 - val_loss: 14.7374\n",
      "Epoch 15/20\n",
      "455/455 [==============================] - 1s 1ms/step - loss: 12.9949 - val_loss: 14.6060\n",
      "Epoch 16/20\n",
      "455/455 [==============================] - 1s 1ms/step - loss: 12.8340 - val_loss: 15.8498\n",
      "Epoch 17/20\n",
      "455/455 [==============================] - 1s 1ms/step - loss: 12.6975 - val_loss: 15.6592\n",
      "Epoch 18/20\n",
      "455/455 [==============================] - 1s 1ms/step - loss: 12.8714 - val_loss: 13.6083\n",
      "Epoch 19/20\n",
      "455/455 [==============================] - 1s 1ms/step - loss: 12.7718 - val_loss: 15.9532\n",
      "Epoch 20/20\n",
      "455/455 [==============================] - 1s 1ms/step - loss: 13.0043 - val_loss: 14.7733\n"
     ]
    }
   ],
   "source": [
    "model.compile(loss=\"mean_absolute_percentage_error\", optimizer=keras.optimizers.Adam())\n",
    "history = model.fit(X_features[0], y_labels[0], epochs=20,batch_size=16, validation_data=(X_features[1], y_labels[1]))"
   ]
  },
  {
   "cell_type": "code",
   "execution_count": 36,
   "id": "eb85cf0f",
   "metadata": {},
   "outputs": [
    {
     "name": "stdout",
     "output_type": "stream",
     "text": [
      "INFO:tensorflow:Assets written to: D:\\python\\full data\\first\\assets\n"
     ]
    }
   ],
   "source": [
    "model.save('D:\\python\\\\full data\\\\first')\n"
   ]
  },
  {
   "cell_type": "code",
   "execution_count": 5,
   "id": "574f624b",
   "metadata": {},
   "outputs": [],
   "source": [
    "input_ = keras.layers.Input(shape=X_features[0].shape[1:])\n",
    "hidden1 = keras.layers.Dense(500, activation=\"relu\")(input_)\n",
    "hidden2 = keras.layers.Dense(200, activation=\"relu\")(hidden1)\n",
    "concat = keras.layers.concatenate([input_, hidden2])\n",
    "output = keras.layers.Dense(1)(hidden2)\n",
    "wd_model = keras.models.Model(inputs=[input_], outputs=[output])"
   ]
  },
  {
   "cell_type": "code",
   "execution_count": 32,
   "id": "1f014078",
   "metadata": {
    "scrolled": true
   },
   "outputs": [
    {
     "name": "stdout",
     "output_type": "stream",
     "text": [
      "Epoch 1/20\n",
      "455/455 [==============================] - 2s 4ms/step - loss: 12.3076 - val_loss: 14.6084\n",
      "Epoch 2/20\n",
      "455/455 [==============================] - 1s 3ms/step - loss: 12.7816 - val_loss: 16.2123\n",
      "Epoch 3/20\n",
      "455/455 [==============================] - 1s 3ms/step - loss: 12.6613 - val_loss: 13.5899\n",
      "Epoch 4/20\n",
      "455/455 [==============================] - 1s 3ms/step - loss: 12.4134 - val_loss: 11.7136\n",
      "Epoch 5/20\n",
      "455/455 [==============================] - 1s 3ms/step - loss: 12.5970 - val_loss: 12.2201\n",
      "Epoch 6/20\n",
      "455/455 [==============================] - 1s 3ms/step - loss: 12.2393 - val_loss: 11.3574\n",
      "Epoch 7/20\n",
      "455/455 [==============================] - 1s 3ms/step - loss: 11.8975 - val_loss: 13.8594\n",
      "Epoch 8/20\n",
      "455/455 [==============================] - 1s 3ms/step - loss: 12.7502 - val_loss: 11.4965\n",
      "Epoch 9/20\n",
      "455/455 [==============================] - 1s 3ms/step - loss: 11.9360 - val_loss: 11.3279\n",
      "Epoch 10/20\n",
      "455/455 [==============================] - 1s 3ms/step - loss: 12.2708 - val_loss: 11.8996\n",
      "Epoch 11/20\n",
      "455/455 [==============================] - 1s 3ms/step - loss: 12.6023 - val_loss: 11.7844\n",
      "Epoch 12/20\n",
      "455/455 [==============================] - 1s 3ms/step - loss: 11.7928 - val_loss: 17.5240\n",
      "Epoch 13/20\n",
      "455/455 [==============================] - 1s 3ms/step - loss: 12.4966 - val_loss: 11.4856\n",
      "Epoch 14/20\n",
      "455/455 [==============================] - 1s 3ms/step - loss: 12.2349 - val_loss: 11.6912\n",
      "Epoch 15/20\n",
      "455/455 [==============================] - 1s 3ms/step - loss: 12.0411 - val_loss: 11.0433\n",
      "Epoch 16/20\n",
      "455/455 [==============================] - 1s 3ms/step - loss: 12.5204 - val_loss: 12.0386\n",
      "Epoch 17/20\n",
      "455/455 [==============================] - 1s 3ms/step - loss: 12.0712 - val_loss: 11.2369\n",
      "Epoch 18/20\n",
      "455/455 [==============================] - 1s 3ms/step - loss: 11.8894 - val_loss: 12.1450\n",
      "Epoch 19/20\n",
      "455/455 [==============================] - 1s 3ms/step - loss: 11.9416 - val_loss: 10.9612\n",
      "Epoch 20/20\n",
      "455/455 [==============================] - 1s 3ms/step - loss: 11.9330 - val_loss: 12.1292\n"
     ]
    }
   ],
   "source": [
    "wd_model.compile(loss=\"mean_absolute_percentage_error\", optimizer=keras.optimizers.Adam())\n",
    "history = wd_model.fit(X_features[0], y_labels[0], epochs=20,batch_size=16,\n",
    "                    validation_data=(X_features[0], y_labels[0]))"
   ]
  },
  {
   "cell_type": "code",
   "execution_count": 33,
   "id": "5d5cf7f3",
   "metadata": {
    "scrolled": false
   },
   "outputs": [
    {
     "name": "stdout",
     "output_type": "stream",
     "text": [
      "INFO:tensorflow:Assets written to: D:\\python\\full data\\second\\assets\n"
     ]
    }
   ],
   "source": [
    "wd_model.save('D:\\python\\\\full data\\\\second')\n"
   ]
  },
  {
   "cell_type": "code",
   "execution_count": 8,
   "id": "95857ab8",
   "metadata": {},
   "outputs": [],
   "source": [
    "input_ = keras.layers.Input(shape=X_features[0].shape[1:])\n",
    "hidden1 = keras.layers.Dense(500, activation=\"relu\")(input_)\n",
    "hidden2 = keras.layers.Dense(300, activation=\"relu\")(hidden1)\n",
    "hidden3 = keras.layers.Dense(100, activation=\"relu\")(hidden2)\n",
    "concat = keras.layers.concatenate([input_, hidden3])\n",
    "\n",
    "output = keras.layers.Dense(1)(hidden3)\n",
    "new_model = keras.models.Model(inputs=[input_], outputs=[output])"
   ]
  },
  {
   "cell_type": "code",
   "execution_count": 34,
   "id": "a01b0b36",
   "metadata": {
    "scrolled": true
   },
   "outputs": [
    {
     "name": "stdout",
     "output_type": "stream",
     "text": [
      "Epoch 1/20\n",
      "455/455 [==============================] - 2s 4ms/step - loss: 12.1061 - val_loss: 12.2382\n",
      "Epoch 2/20\n",
      "455/455 [==============================] - 1s 3ms/step - loss: 12.1628 - val_loss: 12.5720\n",
      "Epoch 3/20\n",
      "455/455 [==============================] - 1s 3ms/step - loss: 11.3374 - val_loss: 11.0516\n",
      "Epoch 4/20\n",
      "455/455 [==============================] - 1s 3ms/step - loss: 12.0310 - val_loss: 11.5029\n",
      "Epoch 5/20\n",
      "455/455 [==============================] - 2s 3ms/step - loss: 11.8103 - val_loss: 12.6619\n",
      "Epoch 6/20\n",
      "455/455 [==============================] - 1s 3ms/step - loss: 12.4262 - val_loss: 11.2592\n",
      "Epoch 7/20\n",
      "455/455 [==============================] - 2s 3ms/step - loss: 11.5830 - val_loss: 11.3384\n",
      "Epoch 8/20\n",
      "455/455 [==============================] - 2s 3ms/step - loss: 13.8855 - val_loss: 13.3515\n",
      "Epoch 9/20\n",
      "455/455 [==============================] - 2s 4ms/step - loss: 12.2250 - val_loss: 12.8760\n",
      "Epoch 10/20\n",
      "455/455 [==============================] - 1s 3ms/step - loss: 11.5434 - val_loss: 11.5445\n",
      "Epoch 11/20\n",
      "455/455 [==============================] - 2s 3ms/step - loss: 11.7463 - val_loss: 12.5748\n",
      "Epoch 12/20\n",
      "455/455 [==============================] - 2s 4ms/step - loss: 11.5324 - val_loss: 11.8694\n",
      "Epoch 13/20\n",
      "455/455 [==============================] - 2s 4ms/step - loss: 11.7246 - val_loss: 12.3693\n",
      "Epoch 14/20\n",
      "455/455 [==============================] - 2s 4ms/step - loss: 11.5954 - val_loss: 11.6391\n",
      "Epoch 15/20\n",
      "455/455 [==============================] - 2s 4ms/step - loss: 11.8807 - val_loss: 10.9652\n",
      "Epoch 16/20\n",
      "455/455 [==============================] - 2s 3ms/step - loss: 12.3114 - val_loss: 14.6380\n",
      "Epoch 17/20\n",
      "455/455 [==============================] - 2s 4ms/step - loss: 12.9091 - val_loss: 13.1044\n",
      "Epoch 18/20\n",
      "455/455 [==============================] - 2s 4ms/step - loss: 11.5799 - val_loss: 11.5476\n",
      "Epoch 19/20\n",
      "455/455 [==============================] - 2s 3ms/step - loss: 11.6720 - val_loss: 10.5916\n",
      "Epoch 20/20\n",
      "455/455 [==============================] - 2s 3ms/step - loss: 11.4098 - val_loss: 11.6726\n"
     ]
    }
   ],
   "source": [
    "new_model.compile(loss=\"mean_absolute_percentage_error\", optimizer=keras.optimizers.Adam())\n",
    "history = new_model.fit(X_features[0], y_labels[0], epochs=20,batch_size=16,\n",
    "                    validation_data=(X_features[0], y_labels[0]))"
   ]
  },
  {
   "cell_type": "code",
   "execution_count": 35,
   "id": "11570a66",
   "metadata": {
    "scrolled": true
   },
   "outputs": [
    {
     "name": "stdout",
     "output_type": "stream",
     "text": [
      "INFO:tensorflow:Assets written to: D:\\python\\full data\\third\\assets\n"
     ]
    }
   ],
   "source": [
    "new_model.save('D:\\python\\\\full data\\\\third')\n"
   ]
  },
  {
   "cell_type": "code",
   "execution_count": 11,
   "id": "44b11e39",
   "metadata": {},
   "outputs": [],
   "source": [
    "input_ = keras.layers.Input(shape=X_features[0].shape[1:])\n",
    "hidden1 = keras.layers.Dense(500, activation=\"relu\")(input_)\n",
    "hidden2 = keras.layers.Dense(400, activation=\"relu\")(hidden1)\n",
    "hidden3 = keras.layers.Dense(200, activation=\"relu\")(hidden2)\n",
    "hidden4 =  keras.layers.Dense(100, activation=\"relu\")(hidden3)\n",
    "concat = keras.layers.concatenate([input_, hidden3])\n",
    "\n",
    "output = keras.layers.Dense(1)(hidden4)\n",
    "four_model = keras.models.Model(inputs=[input_], outputs=[output])\n"
   ]
  },
  {
   "cell_type": "code",
   "execution_count": 36,
   "id": "e7499622",
   "metadata": {},
   "outputs": [
    {
     "name": "stdout",
     "output_type": "stream",
     "text": [
      "Epoch 1/20\n",
      "455/455 [==============================] - 2s 3ms/step - loss: 12.3477 - val_loss: 15.1014\n",
      "Epoch 2/20\n",
      "455/455 [==============================] - 1s 3ms/step - loss: 11.9210 - val_loss: 16.3991\n",
      "Epoch 3/20\n",
      "455/455 [==============================] - 1s 3ms/step - loss: 12.7174 - val_loss: 14.9777\n",
      "Epoch 4/20\n",
      "455/455 [==============================] - 1s 3ms/step - loss: 12.2919 - val_loss: 18.2045\n",
      "Epoch 5/20\n",
      "455/455 [==============================] - 1s 3ms/step - loss: 13.4114 - val_loss: 18.8276\n",
      "Epoch 6/20\n",
      "455/455 [==============================] - 1s 3ms/step - loss: 13.0571 - val_loss: 15.5259\n",
      "Epoch 7/20\n",
      "455/455 [==============================] - 1s 3ms/step - loss: 12.3082 - val_loss: 15.3191\n",
      "Epoch 8/20\n",
      "455/455 [==============================] - 1s 3ms/step - loss: 12.4075 - val_loss: 16.7505\n",
      "Epoch 9/20\n",
      "455/455 [==============================] - 1s 3ms/step - loss: 13.2179 - val_loss: 15.5720\n",
      "Epoch 10/20\n",
      "455/455 [==============================] - 1s 3ms/step - loss: 11.6526 - val_loss: 18.7994\n",
      "Epoch 11/20\n",
      "455/455 [==============================] - 1s 3ms/step - loss: 12.4733 - val_loss: 15.6307\n",
      "Epoch 12/20\n",
      "455/455 [==============================] - 1s 3ms/step - loss: 13.2585 - val_loss: 14.8378\n",
      "Epoch 13/20\n",
      "455/455 [==============================] - 1s 3ms/step - loss: 12.0190 - val_loss: 17.2003\n",
      "Epoch 14/20\n",
      "455/455 [==============================] - 1s 3ms/step - loss: 12.6968 - val_loss: 16.3242\n",
      "Epoch 15/20\n",
      "455/455 [==============================] - 2s 3ms/step - loss: 12.5822 - val_loss: 15.1876\n",
      "Epoch 16/20\n",
      "455/455 [==============================] - 2s 3ms/step - loss: 11.6441 - val_loss: 15.3985\n",
      "Epoch 17/20\n",
      "455/455 [==============================] - 2s 4ms/step - loss: 12.2336 - val_loss: 15.2825\n",
      "Epoch 18/20\n",
      "455/455 [==============================] - 2s 3ms/step - loss: 11.6135 - val_loss: 14.6971\n",
      "Epoch 19/20\n",
      "455/455 [==============================] - 2s 3ms/step - loss: 11.9813 - val_loss: 15.2263\n",
      "Epoch 20/20\n",
      "455/455 [==============================] - 2s 4ms/step - loss: 11.9698 - val_loss: 15.6260\n"
     ]
    }
   ],
   "source": [
    "four_model.compile(loss=\"mean_absolute_percentage_error\", optimizer=keras.optimizers.Adam())\n",
    "history = four_model.fit(X_features[0], y_labels[0], epochs=20,batch_size=16, validation_data=(X_features[1], y_labels[1]))"
   ]
  },
  {
   "cell_type": "code",
   "execution_count": 37,
   "id": "84a65b58",
   "metadata": {},
   "outputs": [
    {
     "name": "stdout",
     "output_type": "stream",
     "text": [
      "INFO:tensorflow:Assets written to: D:\\python\\full data\\fourth\\assets\n"
     ]
    }
   ],
   "source": [
    "four_model.save('D:\\python\\\\full data\\\\fourth')\n"
   ]
  },
  {
   "cell_type": "code",
   "execution_count": null,
   "id": "9c588cd5",
   "metadata": {},
   "outputs": [],
   "source": []
  },
  {
   "cell_type": "code",
   "execution_count": null,
   "id": "3cf49d1a",
   "metadata": {},
   "outputs": [],
   "source": []
  }
 ],
 "metadata": {
  "kernelspec": {
   "display_name": "Python 3 (ipykernel)",
   "language": "python",
   "name": "python3"
  },
  "language_info": {
   "codemirror_mode": {
    "name": "ipython",
    "version": 3
   },
   "file_extension": ".py",
   "mimetype": "text/x-python",
   "name": "python",
   "nbconvert_exporter": "python",
   "pygments_lexer": "ipython3",
   "version": "3.10.1"
  }
 },
 "nbformat": 4,
 "nbformat_minor": 5
}
