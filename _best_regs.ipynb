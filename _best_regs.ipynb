{
 "cells": [
  {
   "cell_type": "code",
   "execution_count": 1,
   "id": "7abbae3e",
   "metadata": {},
   "outputs": [],
   "source": [
    "import numpy as np\n",
    "import pandas as pd\n",
    "import matplotlib.pyplot as plt\n",
    "import sklearn\n",
    "import joblib\n",
    "%store -r X_features\n",
    "%store -r X_features_poly\n",
    "%store -r y_labels\n",
    "\n",
    "from sklearn.metrics import mean_squared_error\n",
    "from sklearn.metrics import mean_absolute_percentage_error\n",
    "from sklearn.svm import SVR\n"
   ]
  },
  {
   "cell_type": "code",
   "execution_count": 2,
   "id": "6625140d",
   "metadata": {},
   "outputs": [
    {
     "data": {
      "text/plain": [
       "0.037746853632213945"
      ]
     },
     "execution_count": 2,
     "metadata": {},
     "output_type": "execute_result"
    }
   ],
   "source": [
    "from sklearn.linear_model import Ridge\n",
    "ridge_reg = Ridge(alpha=0.2, solver=\"cholesky\")\n",
    "ridge_reg.fit(X_features_poly[0], y_labels[0])\n",
    "\n",
    "visc_predictions = np.exp(np.power(ridge_reg.predict(X_features_poly[1]),2))-0.0012\n",
    "ridge_mse = mean_absolute_percentage_error(np.exp(np.power(y_labels[1],2))-0.0012, visc_predictions)\n",
    "ridge_rmse = np.sqrt(ridge_mse)\n",
    "ridge_mse"
   ]
  },
  {
   "cell_type": "code",
   "execution_count": 3,
   "id": "8c062a2e",
   "metadata": {},
   "outputs": [
    {
     "data": {
      "text/plain": [
       "0.035603645297268706"
      ]
     },
     "execution_count": 3,
     "metadata": {},
     "output_type": "execute_result"
    }
   ],
   "source": [
    "svm_rbf_reg = SVR(kernel=\"rbf\",C=1,epsilon=0.001)\n",
    "svm_rbf_reg.fit(X_features[0], y_labels[0])\n",
    "visc_predictions = np.exp(np.power(svm_rbf_reg.predict(X_features[1]),2))-0.0012\n",
    "svm_mse = mean_absolute_percentage_error(np.exp(np.power(y_labels[1],2))-0.0012, visc_predictions)\n",
    "svm_rmse = np.sqrt(svm_mse)\n",
    "svm_mse"
   ]
  },
  {
   "cell_type": "code",
   "execution_count": 4,
   "id": "e6c577a1",
   "metadata": {},
   "outputs": [
    {
     "data": {
      "text/plain": [
       "0.04052138896036612"
      ]
     },
     "execution_count": 4,
     "metadata": {},
     "output_type": "execute_result"
    }
   ],
   "source": [
    "from sklearn.ensemble import RandomForestRegressor\n",
    "\n",
    "forest_reg = RandomForestRegressor(n_estimators=100)\n",
    "forest_reg.fit(X_features[0], y_labels[0])\n",
    "visc_predictions = np.exp(np.power(forest_reg.predict(X_features[1]),2))-0.0012\n",
    "forest_mse = mean_absolute_percentage_error(np.exp(np.power(y_labels[1],2))-0.0012, visc_predictions)\n",
    "forest_rmse = np.sqrt(forest_mse)\n",
    "forest_mse"
   ]
  },
  {
   "cell_type": "code",
   "execution_count": 5,
   "id": "0a46410e",
   "metadata": {},
   "outputs": [
    {
     "data": {
      "text/plain": [
       "0.03702699847426871"
      ]
     },
     "execution_count": 5,
     "metadata": {},
     "output_type": "execute_result"
    }
   ],
   "source": [
    "from sklearn.ensemble import VotingRegressor\n",
    "voting_reg = VotingRegressor(\n",
    "    estimators=[('fr', forest_reg), ('svm', svm_rbf_reg)])\n",
    "voting_reg.fit(X_features[0],y_labels[0])\n",
    "\n",
    "\n",
    "visc_predictions = np.exp(np.power(voting_reg.predict(X_features[1]),2))-0.0012\n",
    "voting_mse = mean_absolute_percentage_error(np.exp(np.power(y_labels[1],2))-0.0012, visc_predictions)\n",
    "voting_rmse = np.sqrt(voting_mse)\n",
    "voting_mse"
   ]
  },
  {
   "cell_type": "code",
   "execution_count": null,
   "id": "b0de7033",
   "metadata": {},
   "outputs": [],
   "source": []
  }
 ],
 "metadata": {
  "kernelspec": {
   "display_name": "Python 3 (ipykernel)",
   "language": "python",
   "name": "python3"
  },
  "language_info": {
   "codemirror_mode": {
    "name": "ipython",
    "version": 3
   },
   "file_extension": ".py",
   "mimetype": "text/x-python",
   "name": "python",
   "nbconvert_exporter": "python",
   "pygments_lexer": "ipython3",
   "version": "3.10.1"
  }
 },
 "nbformat": 4,
 "nbformat_minor": 5
}
