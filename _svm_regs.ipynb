{
 "cells": [
  {
   "cell_type": "code",
   "execution_count": 1,
   "id": "b1b7da97",
   "metadata": {},
   "outputs": [],
   "source": [
    "import numpy as np\n",
    "import pandas as pd\n",
    "import matplotlib.pyplot as plt\n",
    "import sklearn\n",
    "import joblib\n",
    "%store -r X_features\n",
    "%store -r X_features_poly\n",
    "%store -r y_labels\n",
    "from sklearn.metrics import mean_absolute_percentage_error\n"
   ]
  },
  {
   "cell_type": "code",
   "execution_count": 2,
   "id": "b1aa3d47",
   "metadata": {},
   "outputs": [
    {
     "data": {
      "text/plain": [
       "0.03709087835533551"
      ]
     },
     "execution_count": 2,
     "metadata": {},
     "output_type": "execute_result"
    }
   ],
   "source": [
    "from sklearn.svm import SVR\n",
    "from sklearn.metrics import mean_squared_error\n",
    "\n",
    "\n",
    "svm_lin_reg = SVR(kernel=\"linear\",epsilon=0.001,C=10)\n",
    "svm_lin_reg.fit(X_features[0], y_labels[0])\n",
    "visc_predictions = np.exp(np.power(svm_lin_reg.predict(X_features[1]),2))-0.0012\n",
    "svm_mse = mean_absolute_percentage_error(np.exp(np.power(y_labels[1],2))-0.0012, visc_predictions)\n",
    "svm_rmse = np.sqrt(svm_mse)\n",
    "svm_mse"
   ]
  },
  {
   "cell_type": "code",
   "execution_count": 3,
   "id": "30a9d746",
   "metadata": {},
   "outputs": [
    {
     "data": {
      "text/plain": [
       "['svm_lin_reg.pkl']"
      ]
     },
     "execution_count": 3,
     "metadata": {},
     "output_type": "execute_result"
    }
   ],
   "source": [
    "joblib.dump(svm_lin_reg, \"svm_lin_reg.pkl\")"
   ]
  },
  {
   "cell_type": "code",
   "execution_count": 4,
   "id": "db67b43f",
   "metadata": {},
   "outputs": [
    {
     "data": {
      "text/plain": [
       "0.06025053794761864"
      ]
     },
     "execution_count": 4,
     "metadata": {},
     "output_type": "execute_result"
    }
   ],
   "source": [
    "svm_poly2_reg = SVR(kernel=\"poly\",degree=4,epsilon=0.001,C=10)\n",
    "svm_poly2_reg.fit(X_features[0], y_labels[0])\n",
    "visc_predictions = np.exp(np.power(svm_poly2_reg.predict(X_features[1]),2))-0.0012\n",
    "svm_mse = mean_absolute_percentage_error(np.exp(np.power(y_labels[1],2))-0.0012, visc_predictions)\n",
    "svm_rmse = np.sqrt(svm_mse)\n",
    "svm_mse"
   ]
  },
  {
   "cell_type": "code",
   "execution_count": 5,
   "id": "25cef8ab",
   "metadata": {},
   "outputs": [
    {
     "data": {
      "text/plain": [
       "['svm_poly2_reg.pkl']"
      ]
     },
     "execution_count": 5,
     "metadata": {},
     "output_type": "execute_result"
    }
   ],
   "source": [
    "joblib.dump(svm_poly2_reg, \"svm_poly2_reg.pkl\")"
   ]
  },
  {
   "cell_type": "code",
   "execution_count": 6,
   "id": "ba3361ab",
   "metadata": {},
   "outputs": [
    {
     "data": {
      "text/plain": [
       "0.049204712887437524"
      ]
     },
     "execution_count": 6,
     "metadata": {},
     "output_type": "execute_result"
    }
   ],
   "source": [
    "svm_poly3_reg = SVR(kernel=\"poly\",degree=3,epsilon=0.001,C=10)\n",
    "svm_poly3_reg.fit(X_features[0], y_labels[0])\n",
    "visc_predictions = np.exp(np.power(svm_poly3_reg.predict(X_features[1]),2))-0.0012\n",
    "svm_mse = mean_absolute_percentage_error(np.exp(np.power(y_labels[1],2))-0.0012, visc_predictions)\n",
    "svm_rmse = np.sqrt(svm_mse)\n",
    "svm_mse"
   ]
  },
  {
   "cell_type": "code",
   "execution_count": 7,
   "id": "0ba6a96b",
   "metadata": {
    "scrolled": true
   },
   "outputs": [
    {
     "data": {
      "text/plain": [
       "['svm_poly3_reg.pkl']"
      ]
     },
     "execution_count": 7,
     "metadata": {},
     "output_type": "execute_result"
    }
   ],
   "source": [
    "joblib.dump(svm_poly3_reg, \"svm_poly3_reg.pkl\")"
   ]
  },
  {
   "cell_type": "code",
   "execution_count": 8,
   "id": "facda68c",
   "metadata": {},
   "outputs": [
    {
     "data": {
      "text/plain": [
       "0.03556830944932435"
      ]
     },
     "execution_count": 8,
     "metadata": {},
     "output_type": "execute_result"
    }
   ],
   "source": [
    "svm_poly_reg = SVR(kernel=\"linear\",epsilon=0.001,C=10)\n",
    "svm_poly_reg.fit(X_features_poly[0], y_labels[0])\n",
    "visc_predictions = np.exp(np.power(svm_poly_reg.predict(X_features_poly[1]),2))-0.0012\n",
    "svm_mse = mean_absolute_percentage_error(np.exp(np.power(y_labels[1],2))-0.0012, visc_predictions)\n",
    "svm_rmse = np.sqrt(svm_mse)\n",
    "svm_mse"
   ]
  },
  {
   "cell_type": "code",
   "execution_count": 9,
   "id": "181925d8",
   "metadata": {},
   "outputs": [
    {
     "data": {
      "text/plain": [
       "['svm_poly_reg.pkl']"
      ]
     },
     "execution_count": 9,
     "metadata": {},
     "output_type": "execute_result"
    }
   ],
   "source": [
    "joblib.dump(svm_poly_reg, \"svm_poly_reg.pkl\")"
   ]
  },
  {
   "cell_type": "code",
   "execution_count": 10,
   "id": "d39972a5",
   "metadata": {},
   "outputs": [
    {
     "data": {
      "text/plain": [
       "0.03456005538889385"
      ]
     },
     "execution_count": 10,
     "metadata": {},
     "output_type": "execute_result"
    }
   ],
   "source": [
    "svm_rbf_reg = SVR(kernel=\"rbf\",C=1,epsilon=0.001)\n",
    "svm_rbf_reg.fit(X_features[0], y_labels[0])\n",
    "visc_predictions = np.exp(np.power(svm_rbf_reg.predict(X_features[1]),2))-0.0012\n",
    "svm_mse = mean_absolute_percentage_error(np.exp(np.power(y_labels[1],2))-0.0012, visc_predictions)\n",
    "svm_rmse = np.sqrt(svm_mse)\n",
    "svm_mse"
   ]
  },
  {
   "cell_type": "code",
   "execution_count": 11,
   "id": "76f567a6",
   "metadata": {},
   "outputs": [
    {
     "data": {
      "text/plain": [
       "['svm_rbf_reg.pkl']"
      ]
     },
     "execution_count": 11,
     "metadata": {},
     "output_type": "execute_result"
    }
   ],
   "source": [
    "joblib.dump(svm_rbf_reg, \"svm_rbf_reg.pkl\")"
   ]
  },
  {
   "cell_type": "code",
   "execution_count": 12,
   "id": "b440e01a",
   "metadata": {},
   "outputs": [
    {
     "data": {
      "text/plain": [
       "0.03500197466223391"
      ]
     },
     "execution_count": 12,
     "metadata": {},
     "output_type": "execute_result"
    }
   ],
   "source": [
    "svm_rbf_poly_reg = SVR(kernel=\"rbf\",C=1,epsilon=0.001)\n",
    "svm_rbf_poly_reg.fit(X_features_poly[0], y_labels[0])\n",
    "visc_predictions = np.exp(np.power(svm_rbf_poly_reg.predict(X_features_poly[1]),2))-0.0012\n",
    "svm_mse = mean_absolute_percentage_error(np.exp(np.power(y_labels[1],2))-0.0012, visc_predictions)\n",
    "svm_rmse = np.sqrt(svm_mse)\n",
    "svm_mse"
   ]
  },
  {
   "cell_type": "code",
   "execution_count": 13,
   "id": "ad9ee27e",
   "metadata": {},
   "outputs": [
    {
     "data": {
      "text/plain": [
       "['svm_rbf_poly_reg.pkl']"
      ]
     },
     "execution_count": 13,
     "metadata": {},
     "output_type": "execute_result"
    }
   ],
   "source": [
    "joblib.dump(svm_rbf_poly_reg, \"svm_rbf_poly_reg.pkl\")"
   ]
  },
  {
   "cell_type": "code",
   "execution_count": 14,
   "id": "1a6d7fd8",
   "metadata": {},
   "outputs": [
    {
     "name": "stdout",
     "output_type": "stream",
     "text": [
      "Fitting 1 folds for each of 39 candidates, totalling 39 fits\n",
      "[CV] END ...............................C=0.1, kernel=linear; total time=   0.3s\n",
      "[CV] END ...............................C=1.0, kernel=linear; total time=   0.6s\n",
      "[CV] END ..............................C=10.0, kernel=linear; total time=   2.1s\n",
      "[CV] END ..............................C=30.0, kernel=linear; total time=   5.6s\n",
      "[CV] END ...................C=0.1, epsilon=0.001, kernel=rbf; total time=   3.2s\n",
      "[CV] END ...................C=0.1, epsilon=0.005, kernel=rbf; total time=   3.2s\n",
      "[CV] END ....................C=0.1, epsilon=0.01, kernel=rbf; total time=   2.9s\n",
      "[CV] END ....................C=0.1, epsilon=0.05, kernel=rbf; total time=   1.4s\n",
      "[CV] END .....................C=0.1, epsilon=0.1, kernel=rbf; total time=   0.4s\n",
      "[CV] END .......................C=0.1, epsilon=1, kernel=rbf; total time=   0.0s\n",
      "[CV] END .....................C=0.1, epsilon=1.5, kernel=rbf; total time=   0.0s\n",
      "[CV] END ...................C=1.0, epsilon=0.001, kernel=rbf; total time=   3.3s\n",
      "[CV] END ...................C=1.0, epsilon=0.005, kernel=rbf; total time=   3.1s\n",
      "[CV] END ....................C=1.0, epsilon=0.01, kernel=rbf; total time=   2.9s\n",
      "[CV] END ....................C=1.0, epsilon=0.05, kernel=rbf; total time=   1.2s\n",
      "[CV] END .....................C=1.0, epsilon=0.1, kernel=rbf; total time=   0.4s\n",
      "[CV] END .......................C=1.0, epsilon=1, kernel=rbf; total time=   0.0s\n",
      "[CV] END .....................C=1.0, epsilon=1.5, kernel=rbf; total time=   0.0s\n",
      "[CV] END ...................C=3.0, epsilon=0.001, kernel=rbf; total time=   3.4s\n",
      "[CV] END ...................C=3.0, epsilon=0.005, kernel=rbf; total time=   3.3s\n",
      "[CV] END ....................C=3.0, epsilon=0.01, kernel=rbf; total time=   3.1s\n",
      "[CV] END ....................C=3.0, epsilon=0.05, kernel=rbf; total time=   1.3s\n",
      "[CV] END .....................C=3.0, epsilon=0.1, kernel=rbf; total time=   0.4s\n",
      "[CV] END .......................C=3.0, epsilon=1, kernel=rbf; total time=   0.0s\n",
      "[CV] END .....................C=3.0, epsilon=1.5, kernel=rbf; total time=   0.0s\n",
      "[CV] END ..................C=10.0, epsilon=0.001, kernel=rbf; total time=   4.1s\n",
      "[CV] END ..................C=10.0, epsilon=0.005, kernel=rbf; total time=   4.0s\n",
      "[CV] END ...................C=10.0, epsilon=0.01, kernel=rbf; total time=   3.8s\n",
      "[CV] END ...................C=10.0, epsilon=0.05, kernel=rbf; total time=   1.9s\n",
      "[CV] END ....................C=10.0, epsilon=0.1, kernel=rbf; total time=   0.5s\n",
      "[CV] END ......................C=10.0, epsilon=1, kernel=rbf; total time=   0.0s\n",
      "[CV] END ....................C=10.0, epsilon=1.5, kernel=rbf; total time=   0.0s\n",
      "[CV] END ..................C=30.0, epsilon=0.001, kernel=rbf; total time=   6.2s\n",
      "[CV] END ..................C=30.0, epsilon=0.005, kernel=rbf; total time=   5.7s\n",
      "[CV] END ...................C=30.0, epsilon=0.01, kernel=rbf; total time=   5.2s\n",
      "[CV] END ...................C=30.0, epsilon=0.05, kernel=rbf; total time=   2.5s\n",
      "[CV] END ....................C=30.0, epsilon=0.1, kernel=rbf; total time=   0.8s\n",
      "[CV] END ......................C=30.0, epsilon=1, kernel=rbf; total time=   0.0s\n",
      "[CV] END ....................C=30.0, epsilon=1.5, kernel=rbf; total time=   0.0s\n"
     ]
    },
    {
     "data": {
      "text/html": [
       "<style>#sk-container-id-1 {color: black;background-color: white;}#sk-container-id-1 pre{padding: 0;}#sk-container-id-1 div.sk-toggleable {background-color: white;}#sk-container-id-1 label.sk-toggleable__label {cursor: pointer;display: block;width: 100%;margin-bottom: 0;padding: 0.3em;box-sizing: border-box;text-align: center;}#sk-container-id-1 label.sk-toggleable__label-arrow:before {content: \"▸\";float: left;margin-right: 0.25em;color: #696969;}#sk-container-id-1 label.sk-toggleable__label-arrow:hover:before {color: black;}#sk-container-id-1 div.sk-estimator:hover label.sk-toggleable__label-arrow:before {color: black;}#sk-container-id-1 div.sk-toggleable__content {max-height: 0;max-width: 0;overflow: hidden;text-align: left;background-color: #f0f8ff;}#sk-container-id-1 div.sk-toggleable__content pre {margin: 0.2em;color: black;border-radius: 0.25em;background-color: #f0f8ff;}#sk-container-id-1 input.sk-toggleable__control:checked~div.sk-toggleable__content {max-height: 200px;max-width: 100%;overflow: auto;}#sk-container-id-1 input.sk-toggleable__control:checked~label.sk-toggleable__label-arrow:before {content: \"▾\";}#sk-container-id-1 div.sk-estimator input.sk-toggleable__control:checked~label.sk-toggleable__label {background-color: #d4ebff;}#sk-container-id-1 div.sk-label input.sk-toggleable__control:checked~label.sk-toggleable__label {background-color: #d4ebff;}#sk-container-id-1 input.sk-hidden--visually {border: 0;clip: rect(1px 1px 1px 1px);clip: rect(1px, 1px, 1px, 1px);height: 1px;margin: -1px;overflow: hidden;padding: 0;position: absolute;width: 1px;}#sk-container-id-1 div.sk-estimator {font-family: monospace;background-color: #f0f8ff;border: 1px dotted black;border-radius: 0.25em;box-sizing: border-box;margin-bottom: 0.5em;}#sk-container-id-1 div.sk-estimator:hover {background-color: #d4ebff;}#sk-container-id-1 div.sk-parallel-item::after {content: \"\";width: 100%;border-bottom: 1px solid gray;flex-grow: 1;}#sk-container-id-1 div.sk-label:hover label.sk-toggleable__label {background-color: #d4ebff;}#sk-container-id-1 div.sk-serial::before {content: \"\";position: absolute;border-left: 1px solid gray;box-sizing: border-box;top: 0;bottom: 0;left: 50%;z-index: 0;}#sk-container-id-1 div.sk-serial {display: flex;flex-direction: column;align-items: center;background-color: white;padding-right: 0.2em;padding-left: 0.2em;position: relative;}#sk-container-id-1 div.sk-item {position: relative;z-index: 1;}#sk-container-id-1 div.sk-parallel {display: flex;align-items: stretch;justify-content: center;background-color: white;position: relative;}#sk-container-id-1 div.sk-item::before, #sk-container-id-1 div.sk-parallel-item::before {content: \"\";position: absolute;border-left: 1px solid gray;box-sizing: border-box;top: 0;bottom: 0;left: 50%;z-index: -1;}#sk-container-id-1 div.sk-parallel-item {display: flex;flex-direction: column;z-index: 1;position: relative;background-color: white;}#sk-container-id-1 div.sk-parallel-item:first-child::after {align-self: flex-end;width: 50%;}#sk-container-id-1 div.sk-parallel-item:last-child::after {align-self: flex-start;width: 50%;}#sk-container-id-1 div.sk-parallel-item:only-child::after {width: 0;}#sk-container-id-1 div.sk-dashed-wrapped {border: 1px dashed gray;margin: 0 0.4em 0.5em 0.4em;box-sizing: border-box;padding-bottom: 0.4em;background-color: white;}#sk-container-id-1 div.sk-label label {font-family: monospace;font-weight: bold;display: inline-block;line-height: 1.2em;}#sk-container-id-1 div.sk-label-container {text-align: center;}#sk-container-id-1 div.sk-container {/* jupyter's `normalize.less` sets `[hidden] { display: none; }` but bootstrap.min.css set `[hidden] { display: none !important; }` so we also need the `!important` here to be able to override the default hidden behavior on the sphinx rendered scikit-learn.org. See: https://github.com/scikit-learn/scikit-learn/issues/21755 */display: inline-block !important;position: relative;}#sk-container-id-1 div.sk-text-repr-fallback {display: none;}</style><div id=\"sk-container-id-1\" class=\"sk-top-container\"><div class=\"sk-text-repr-fallback\"><pre>GridSearchCV(cv=PredefinedSplit(test_fold=array([-1, -1, ...,  0,  0])),\n",
       "             estimator=SVR(),\n",
       "             param_grid=[{&#x27;C&#x27;: [0.1, 1.0, 10.0, 30.0], &#x27;kernel&#x27;: [&#x27;linear&#x27;]},\n",
       "                         {&#x27;C&#x27;: [0.1, 1.0, 3.0, 10.0, 30.0],\n",
       "                          &#x27;epsilon&#x27;: [0.001, 0.005, 0.01, 0.05, 0.1, 1, 1.5],\n",
       "                          &#x27;kernel&#x27;: [&#x27;rbf&#x27;]}],\n",
       "             scoring=&#x27;neg_mean_squared_error&#x27;, verbose=2)</pre><b>In a Jupyter environment, please rerun this cell to show the HTML representation or trust the notebook. <br />On GitHub, the HTML representation is unable to render, please try loading this page with nbviewer.org.</b></div><div class=\"sk-container\" hidden><div class=\"sk-item sk-dashed-wrapped\"><div class=\"sk-label-container\"><div class=\"sk-label sk-toggleable\"><input class=\"sk-toggleable__control sk-hidden--visually\" id=\"sk-estimator-id-1\" type=\"checkbox\" ><label for=\"sk-estimator-id-1\" class=\"sk-toggleable__label sk-toggleable__label-arrow\">GridSearchCV</label><div class=\"sk-toggleable__content\"><pre>GridSearchCV(cv=PredefinedSplit(test_fold=array([-1, -1, ...,  0,  0])),\n",
       "             estimator=SVR(),\n",
       "             param_grid=[{&#x27;C&#x27;: [0.1, 1.0, 10.0, 30.0], &#x27;kernel&#x27;: [&#x27;linear&#x27;]},\n",
       "                         {&#x27;C&#x27;: [0.1, 1.0, 3.0, 10.0, 30.0],\n",
       "                          &#x27;epsilon&#x27;: [0.001, 0.005, 0.01, 0.05, 0.1, 1, 1.5],\n",
       "                          &#x27;kernel&#x27;: [&#x27;rbf&#x27;]}],\n",
       "             scoring=&#x27;neg_mean_squared_error&#x27;, verbose=2)</pre></div></div></div><div class=\"sk-parallel\"><div class=\"sk-parallel-item\"><div class=\"sk-item\"><div class=\"sk-label-container\"><div class=\"sk-label sk-toggleable\"><input class=\"sk-toggleable__control sk-hidden--visually\" id=\"sk-estimator-id-2\" type=\"checkbox\" ><label for=\"sk-estimator-id-2\" class=\"sk-toggleable__label sk-toggleable__label-arrow\">estimator: SVR</label><div class=\"sk-toggleable__content\"><pre>SVR()</pre></div></div></div><div class=\"sk-serial\"><div class=\"sk-item\"><div class=\"sk-estimator sk-toggleable\"><input class=\"sk-toggleable__control sk-hidden--visually\" id=\"sk-estimator-id-3\" type=\"checkbox\" ><label for=\"sk-estimator-id-3\" class=\"sk-toggleable__label sk-toggleable__label-arrow\">SVR</label><div class=\"sk-toggleable__content\"><pre>SVR()</pre></div></div></div></div></div></div></div></div></div></div>"
      ],
      "text/plain": [
       "GridSearchCV(cv=PredefinedSplit(test_fold=array([-1, -1, ...,  0,  0])),\n",
       "             estimator=SVR(),\n",
       "             param_grid=[{'C': [0.1, 1.0, 10.0, 30.0], 'kernel': ['linear']},\n",
       "                         {'C': [0.1, 1.0, 3.0, 10.0, 30.0],\n",
       "                          'epsilon': [0.001, 0.005, 0.01, 0.05, 0.1, 1, 1.5],\n",
       "                          'kernel': ['rbf']}],\n",
       "             scoring='neg_mean_squared_error', verbose=2)"
      ]
     },
     "execution_count": 14,
     "metadata": {},
     "output_type": "execute_result"
    }
   ],
   "source": [
    "from sklearn.model_selection import GridSearchCV\n",
    "from sklearn.model_selection import PredefinedSplit\n",
    "\n",
    "\n",
    "split_index = [-1]*len(X_features[0]) + [0]*len(X_features[1])\n",
    "X = np.concatenate((X_features[0], X_features[1]), axis=0)\n",
    "y = np.concatenate((y_labels[0], y_labels[1]), axis=0)\n",
    "pds = PredefinedSplit(test_fold = split_index)\n",
    "\n",
    "param_grid = [\n",
    "        {'kernel': ['linear'], 'C': [0.1,1.,10., 30.]},\n",
    "        {'kernel': ['rbf'], 'C': [0.1,1.0, 3.0, 10., 30.],\n",
    "         'epsilon': [0.001, 0.005, 0.01, 0.05, 0.1, 1,1.5]},\n",
    "    ]\n",
    "\n",
    "svm_reg = SVR()\n",
    "grid_search = GridSearchCV(svm_reg, param_grid, cv=pds, scoring='neg_mean_squared_error', verbose=2)\n",
    "grid_search.fit(X, y)"
   ]
  },
  {
   "cell_type": "code",
   "execution_count": 15,
   "id": "287a2de5",
   "metadata": {},
   "outputs": [
    {
     "data": {
      "text/html": [
       "<style>#sk-container-id-2 {color: black;background-color: white;}#sk-container-id-2 pre{padding: 0;}#sk-container-id-2 div.sk-toggleable {background-color: white;}#sk-container-id-2 label.sk-toggleable__label {cursor: pointer;display: block;width: 100%;margin-bottom: 0;padding: 0.3em;box-sizing: border-box;text-align: center;}#sk-container-id-2 label.sk-toggleable__label-arrow:before {content: \"▸\";float: left;margin-right: 0.25em;color: #696969;}#sk-container-id-2 label.sk-toggleable__label-arrow:hover:before {color: black;}#sk-container-id-2 div.sk-estimator:hover label.sk-toggleable__label-arrow:before {color: black;}#sk-container-id-2 div.sk-toggleable__content {max-height: 0;max-width: 0;overflow: hidden;text-align: left;background-color: #f0f8ff;}#sk-container-id-2 div.sk-toggleable__content pre {margin: 0.2em;color: black;border-radius: 0.25em;background-color: #f0f8ff;}#sk-container-id-2 input.sk-toggleable__control:checked~div.sk-toggleable__content {max-height: 200px;max-width: 100%;overflow: auto;}#sk-container-id-2 input.sk-toggleable__control:checked~label.sk-toggleable__label-arrow:before {content: \"▾\";}#sk-container-id-2 div.sk-estimator input.sk-toggleable__control:checked~label.sk-toggleable__label {background-color: #d4ebff;}#sk-container-id-2 div.sk-label input.sk-toggleable__control:checked~label.sk-toggleable__label {background-color: #d4ebff;}#sk-container-id-2 input.sk-hidden--visually {border: 0;clip: rect(1px 1px 1px 1px);clip: rect(1px, 1px, 1px, 1px);height: 1px;margin: -1px;overflow: hidden;padding: 0;position: absolute;width: 1px;}#sk-container-id-2 div.sk-estimator {font-family: monospace;background-color: #f0f8ff;border: 1px dotted black;border-radius: 0.25em;box-sizing: border-box;margin-bottom: 0.5em;}#sk-container-id-2 div.sk-estimator:hover {background-color: #d4ebff;}#sk-container-id-2 div.sk-parallel-item::after {content: \"\";width: 100%;border-bottom: 1px solid gray;flex-grow: 1;}#sk-container-id-2 div.sk-label:hover label.sk-toggleable__label {background-color: #d4ebff;}#sk-container-id-2 div.sk-serial::before {content: \"\";position: absolute;border-left: 1px solid gray;box-sizing: border-box;top: 0;bottom: 0;left: 50%;z-index: 0;}#sk-container-id-2 div.sk-serial {display: flex;flex-direction: column;align-items: center;background-color: white;padding-right: 0.2em;padding-left: 0.2em;position: relative;}#sk-container-id-2 div.sk-item {position: relative;z-index: 1;}#sk-container-id-2 div.sk-parallel {display: flex;align-items: stretch;justify-content: center;background-color: white;position: relative;}#sk-container-id-2 div.sk-item::before, #sk-container-id-2 div.sk-parallel-item::before {content: \"\";position: absolute;border-left: 1px solid gray;box-sizing: border-box;top: 0;bottom: 0;left: 50%;z-index: -1;}#sk-container-id-2 div.sk-parallel-item {display: flex;flex-direction: column;z-index: 1;position: relative;background-color: white;}#sk-container-id-2 div.sk-parallel-item:first-child::after {align-self: flex-end;width: 50%;}#sk-container-id-2 div.sk-parallel-item:last-child::after {align-self: flex-start;width: 50%;}#sk-container-id-2 div.sk-parallel-item:only-child::after {width: 0;}#sk-container-id-2 div.sk-dashed-wrapped {border: 1px dashed gray;margin: 0 0.4em 0.5em 0.4em;box-sizing: border-box;padding-bottom: 0.4em;background-color: white;}#sk-container-id-2 div.sk-label label {font-family: monospace;font-weight: bold;display: inline-block;line-height: 1.2em;}#sk-container-id-2 div.sk-label-container {text-align: center;}#sk-container-id-2 div.sk-container {/* jupyter's `normalize.less` sets `[hidden] { display: none; }` but bootstrap.min.css set `[hidden] { display: none !important; }` so we also need the `!important` here to be able to override the default hidden behavior on the sphinx rendered scikit-learn.org. See: https://github.com/scikit-learn/scikit-learn/issues/21755 */display: inline-block !important;position: relative;}#sk-container-id-2 div.sk-text-repr-fallback {display: none;}</style><div id=\"sk-container-id-2\" class=\"sk-top-container\"><div class=\"sk-text-repr-fallback\"><pre>SVR(C=30.0, epsilon=0.05)</pre><b>In a Jupyter environment, please rerun this cell to show the HTML representation or trust the notebook. <br />On GitHub, the HTML representation is unable to render, please try loading this page with nbviewer.org.</b></div><div class=\"sk-container\" hidden><div class=\"sk-item\"><div class=\"sk-estimator sk-toggleable\"><input class=\"sk-toggleable__control sk-hidden--visually\" id=\"sk-estimator-id-4\" type=\"checkbox\" checked><label for=\"sk-estimator-id-4\" class=\"sk-toggleable__label sk-toggleable__label-arrow\">SVR</label><div class=\"sk-toggleable__content\"><pre>SVR(C=30.0, epsilon=0.05)</pre></div></div></div></div></div>"
      ],
      "text/plain": [
       "SVR(C=30.0, epsilon=0.05)"
      ]
     },
     "execution_count": 15,
     "metadata": {},
     "output_type": "execute_result"
    }
   ],
   "source": [
    "grid_search.best_estimator_"
   ]
  },
  {
   "cell_type": "code",
   "execution_count": 16,
   "id": "b3f83177",
   "metadata": {},
   "outputs": [
    {
     "data": {
      "text/plain": [
       "['optimized_svm_regressor.pkl']"
      ]
     },
     "execution_count": 16,
     "metadata": {},
     "output_type": "execute_result"
    }
   ],
   "source": [
    "joblib.dump(grid_search.best_estimator_, \"optimized_svm_regressor.pkl\")"
   ]
  },
  {
   "cell_type": "code",
   "execution_count": 17,
   "id": "4f1486a4",
   "metadata": {},
   "outputs": [
    {
     "name": "stdout",
     "output_type": "stream",
     "text": [
      "Fitting 1 folds for each of 50 candidates, totalling 50 fits\n",
      "[CV] END C=4.448478363023492, epsilon=0.3189055896114785, kernel=linear; total time=   0.1s\n",
      "[CV] END C=4.256719172504229, epsilon=0.31618465502254717, kernel=rbf; total time=   0.0s\n",
      "[CV] END C=95.94832998399855, epsilon=0.4235539599430035, kernel=rbf; total time=   0.0s\n",
      "[CV] END C=94.27853249102334, epsilon=0.6937056284491532, kernel=linear; total time=   0.0s\n",
      "[CV] END C=1.9357529569406178, epsilon=0.14296815426373755, kernel=rbf; total time=   0.2s\n",
      "[CV] END C=55.93956203193279, epsilon=0.7538287447500297, kernel=linear; total time=   0.0s\n",
      "[CV] END C=22.269542191528515, epsilon=1.8893525005106941, kernel=linear; total time=   0.0s\n",
      "[CV] END C=67.76746148509858, epsilon=0.16261066265423987, kernel=linear; total time=   1.7s\n",
      "[CV] END C=22.45070936322433, epsilon=0.09236881442270906, kernel=rbf; total time=   0.9s\n",
      "[CV] END C=41.87786014729522, epsilon=0.05595908327634237, kernel=rbf; total time=   2.8s\n",
      "[CV] END C=2.0386142917469834, epsilon=0.5533279859221077, kernel=linear; total time=   0.0s\n",
      "[CV] END C=32.58774961152325, epsilon=1.6189361688660255, kernel=linear; total time=   0.0s\n",
      "[CV] END C=24.315745732529443, epsilon=0.6081566607800301, kernel=rbf; total time=   0.0s\n",
      "[CV] END C=9.014168869870588, epsilon=0.23871476868888417, kernel=linear; total time=   0.1s\n",
      "[CV] END C=99.28918638369134, epsilon=0.25196218043582447, kernel=linear; total time=   1.2s\n",
      "[CV] END C=38.93254828225669, epsilon=0.20612122458088983, kernel=rbf; total time=   0.1s\n",
      "[CV] END C=26.040829272298364, epsilon=1.0510263401481061, kernel=linear; total time=   0.0s\n",
      "[CV] END C=5.188585023282207, epsilon=1.2980598178333935, kernel=linear; total time=   0.0s\n",
      "[CV] END C=22.62446367806719, epsilon=0.6471672893206307, kernel=linear; total time=   0.0s\n",
      "[CV] END C=8.328576746550072, epsilon=0.55500392070002, kernel=rbf; total time=   0.0s\n",
      "[CV] END C=7.048650258326238, epsilon=0.8379196387053951, kernel=linear; total time=   0.0s\n",
      "[CV] END C=1.0144050698280391, epsilon=0.5947481124425886, kernel=rbf; total time=   0.0s\n",
      "[CV] END C=2.3371201565225403, epsilon=0.006363101751282718, kernel=rbf; total time=   3.3s\n",
      "[CV] END C=4.7593481197795775, epsilon=2.446072707268676, kernel=linear; total time=   0.0s\n",
      "[CV] END C=27.174549870444583, epsilon=0.23528251326062857, kernel=rbf; total time=   0.0s\n",
      "[CV] END C=47.61945777917271, epsilon=1.909689062000406, kernel=linear; total time=   0.0s\n",
      "[CV] END C=2.142332768400886, epsilon=1.2464832780726212, kernel=linear; total time=   0.0s\n",
      "[CV] END C=1.2448437071082714, epsilon=0.995807771421809, kernel=linear; total time=   0.0s\n",
      "[CV] END C=1.3021160819337358, epsilon=0.4044649451471203, kernel=rbf; total time=   0.0s\n",
      "[CV] END C=48.66761681647488, epsilon=1.4068229229600477, kernel=rbf; total time=   0.0s\n",
      "[CV] END C=52.06597413793538, epsilon=0.8506975728529508, kernel=linear; total time=   0.0s\n",
      "[CV] END C=2.9299719119757066, epsilon=0.45700800739052505, kernel=rbf; total time=   0.0s\n",
      "[CV] END C=5.867623078619789, epsilon=3.4654640068476477, kernel=rbf; total time=   0.0s\n",
      "[CV] END C=1.0814696874559693, epsilon=3.0147787803413792, kernel=rbf; total time=   0.0s\n",
      "[CV] END C=3.6368795522302846, epsilon=0.5691088909523877, kernel=linear; total time=   0.0s\n",
      "[CV] END C=28.03665032059146, epsilon=0.6738965435092993, kernel=linear; total time=   0.0s\n",
      "[CV] END C=13.928453902007421, epsilon=0.8897365118705582, kernel=rbf; total time=   0.0s\n",
      "[CV] END C=3.6273042832365343, epsilon=0.25067755238942946, kernel=linear; total time=   0.1s\n",
      "[CV] END C=1.6846828329322103, epsilon=0.3024941828334514, kernel=linear; total time=   0.0s\n",
      "[CV] END C=42.250887902694025, epsilon=0.25146093930948704, kernel=rbf; total time=   0.0s\n",
      "[CV] END C=11.70899352316447, epsilon=0.9303101449992718, kernel=linear; total time=   0.0s\n",
      "[CV] END C=4.736408769346074, epsilon=0.30201557065821966, kernel=linear; total time=   0.0s\n",
      "[CV] END C=3.001986167784471, epsilon=2.50744194061234, kernel=linear; total time=   0.0s\n",
      "[CV] END C=1.2089051213015578, epsilon=1.1409720199791429, kernel=linear; total time=   0.0s\n",
      "[CV] END C=21.891825808629484, epsilon=2.50499336264835, kernel=linear; total time=   0.0s\n",
      "[CV] END C=4.322057463473158, epsilon=0.39798008824800146, kernel=linear; total time=   0.0s\n",
      "[CV] END C=7.853780765239662, epsilon=0.22911664606117138, kernel=rbf; total time=   0.0s\n",
      "[CV] END C=6.58826763992163, epsilon=1.8890966188745015, kernel=rbf; total time=   0.0s\n",
      "[CV] END C=2.5595366629692617, epsilon=0.7078706611301914, kernel=rbf; total time=   0.0s\n",
      "[CV] END C=12.660998823775161, epsilon=0.4938841215440206, kernel=linear; total time=   0.0s\n"
     ]
    },
    {
     "data": {
      "text/html": [
       "<style>#sk-container-id-3 {color: black;background-color: white;}#sk-container-id-3 pre{padding: 0;}#sk-container-id-3 div.sk-toggleable {background-color: white;}#sk-container-id-3 label.sk-toggleable__label {cursor: pointer;display: block;width: 100%;margin-bottom: 0;padding: 0.3em;box-sizing: border-box;text-align: center;}#sk-container-id-3 label.sk-toggleable__label-arrow:before {content: \"▸\";float: left;margin-right: 0.25em;color: #696969;}#sk-container-id-3 label.sk-toggleable__label-arrow:hover:before {color: black;}#sk-container-id-3 div.sk-estimator:hover label.sk-toggleable__label-arrow:before {color: black;}#sk-container-id-3 div.sk-toggleable__content {max-height: 0;max-width: 0;overflow: hidden;text-align: left;background-color: #f0f8ff;}#sk-container-id-3 div.sk-toggleable__content pre {margin: 0.2em;color: black;border-radius: 0.25em;background-color: #f0f8ff;}#sk-container-id-3 input.sk-toggleable__control:checked~div.sk-toggleable__content {max-height: 200px;max-width: 100%;overflow: auto;}#sk-container-id-3 input.sk-toggleable__control:checked~label.sk-toggleable__label-arrow:before {content: \"▾\";}#sk-container-id-3 div.sk-estimator input.sk-toggleable__control:checked~label.sk-toggleable__label {background-color: #d4ebff;}#sk-container-id-3 div.sk-label input.sk-toggleable__control:checked~label.sk-toggleable__label {background-color: #d4ebff;}#sk-container-id-3 input.sk-hidden--visually {border: 0;clip: rect(1px 1px 1px 1px);clip: rect(1px, 1px, 1px, 1px);height: 1px;margin: -1px;overflow: hidden;padding: 0;position: absolute;width: 1px;}#sk-container-id-3 div.sk-estimator {font-family: monospace;background-color: #f0f8ff;border: 1px dotted black;border-radius: 0.25em;box-sizing: border-box;margin-bottom: 0.5em;}#sk-container-id-3 div.sk-estimator:hover {background-color: #d4ebff;}#sk-container-id-3 div.sk-parallel-item::after {content: \"\";width: 100%;border-bottom: 1px solid gray;flex-grow: 1;}#sk-container-id-3 div.sk-label:hover label.sk-toggleable__label {background-color: #d4ebff;}#sk-container-id-3 div.sk-serial::before {content: \"\";position: absolute;border-left: 1px solid gray;box-sizing: border-box;top: 0;bottom: 0;left: 50%;z-index: 0;}#sk-container-id-3 div.sk-serial {display: flex;flex-direction: column;align-items: center;background-color: white;padding-right: 0.2em;padding-left: 0.2em;position: relative;}#sk-container-id-3 div.sk-item {position: relative;z-index: 1;}#sk-container-id-3 div.sk-parallel {display: flex;align-items: stretch;justify-content: center;background-color: white;position: relative;}#sk-container-id-3 div.sk-item::before, #sk-container-id-3 div.sk-parallel-item::before {content: \"\";position: absolute;border-left: 1px solid gray;box-sizing: border-box;top: 0;bottom: 0;left: 50%;z-index: -1;}#sk-container-id-3 div.sk-parallel-item {display: flex;flex-direction: column;z-index: 1;position: relative;background-color: white;}#sk-container-id-3 div.sk-parallel-item:first-child::after {align-self: flex-end;width: 50%;}#sk-container-id-3 div.sk-parallel-item:last-child::after {align-self: flex-start;width: 50%;}#sk-container-id-3 div.sk-parallel-item:only-child::after {width: 0;}#sk-container-id-3 div.sk-dashed-wrapped {border: 1px dashed gray;margin: 0 0.4em 0.5em 0.4em;box-sizing: border-box;padding-bottom: 0.4em;background-color: white;}#sk-container-id-3 div.sk-label label {font-family: monospace;font-weight: bold;display: inline-block;line-height: 1.2em;}#sk-container-id-3 div.sk-label-container {text-align: center;}#sk-container-id-3 div.sk-container {/* jupyter's `normalize.less` sets `[hidden] { display: none; }` but bootstrap.min.css set `[hidden] { display: none !important; }` so we also need the `!important` here to be able to override the default hidden behavior on the sphinx rendered scikit-learn.org. See: https://github.com/scikit-learn/scikit-learn/issues/21755 */display: inline-block !important;position: relative;}#sk-container-id-3 div.sk-text-repr-fallback {display: none;}</style><div id=\"sk-container-id-3\" class=\"sk-top-container\"><div class=\"sk-text-repr-fallback\"><pre>RandomizedSearchCV(cv=PredefinedSplit(test_fold=array([-1, -1, ...,  0,  0])),\n",
       "                   estimator=SVR(), n_iter=50,\n",
       "                   param_distributions={&#x27;C&#x27;: &lt;scipy.stats._distn_infrastructure.rv_frozen object at 0x000001A50B2B3160&gt;,\n",
       "                                        &#x27;epsilon&#x27;: &lt;scipy.stats._distn_infrastructure.rv_frozen object at 0x000001A50B2B1300&gt;,\n",
       "                                        &#x27;kernel&#x27;: [&#x27;linear&#x27;, &#x27;rbf&#x27;]},\n",
       "                   scoring=&#x27;neg_mean_squared_error&#x27;, verbose=2)</pre><b>In a Jupyter environment, please rerun this cell to show the HTML representation or trust the notebook. <br />On GitHub, the HTML representation is unable to render, please try loading this page with nbviewer.org.</b></div><div class=\"sk-container\" hidden><div class=\"sk-item sk-dashed-wrapped\"><div class=\"sk-label-container\"><div class=\"sk-label sk-toggleable\"><input class=\"sk-toggleable__control sk-hidden--visually\" id=\"sk-estimator-id-5\" type=\"checkbox\" ><label for=\"sk-estimator-id-5\" class=\"sk-toggleable__label sk-toggleable__label-arrow\">RandomizedSearchCV</label><div class=\"sk-toggleable__content\"><pre>RandomizedSearchCV(cv=PredefinedSplit(test_fold=array([-1, -1, ...,  0,  0])),\n",
       "                   estimator=SVR(), n_iter=50,\n",
       "                   param_distributions={&#x27;C&#x27;: &lt;scipy.stats._distn_infrastructure.rv_frozen object at 0x000001A50B2B3160&gt;,\n",
       "                                        &#x27;epsilon&#x27;: &lt;scipy.stats._distn_infrastructure.rv_frozen object at 0x000001A50B2B1300&gt;,\n",
       "                                        &#x27;kernel&#x27;: [&#x27;linear&#x27;, &#x27;rbf&#x27;]},\n",
       "                   scoring=&#x27;neg_mean_squared_error&#x27;, verbose=2)</pre></div></div></div><div class=\"sk-parallel\"><div class=\"sk-parallel-item\"><div class=\"sk-item\"><div class=\"sk-label-container\"><div class=\"sk-label sk-toggleable\"><input class=\"sk-toggleable__control sk-hidden--visually\" id=\"sk-estimator-id-6\" type=\"checkbox\" ><label for=\"sk-estimator-id-6\" class=\"sk-toggleable__label sk-toggleable__label-arrow\">estimator: SVR</label><div class=\"sk-toggleable__content\"><pre>SVR()</pre></div></div></div><div class=\"sk-serial\"><div class=\"sk-item\"><div class=\"sk-estimator sk-toggleable\"><input class=\"sk-toggleable__control sk-hidden--visually\" id=\"sk-estimator-id-7\" type=\"checkbox\" ><label for=\"sk-estimator-id-7\" class=\"sk-toggleable__label sk-toggleable__label-arrow\">SVR</label><div class=\"sk-toggleable__content\"><pre>SVR()</pre></div></div></div></div></div></div></div></div></div></div>"
      ],
      "text/plain": [
       "RandomizedSearchCV(cv=PredefinedSplit(test_fold=array([-1, -1, ...,  0,  0])),\n",
       "                   estimator=SVR(), n_iter=50,\n",
       "                   param_distributions={'C': <scipy.stats._distn_infrastructure.rv_frozen object at 0x000001A50B2B3160>,\n",
       "                                        'epsilon': <scipy.stats._distn_infrastructure.rv_frozen object at 0x000001A50B2B1300>,\n",
       "                                        'kernel': ['linear', 'rbf']},\n",
       "                   scoring='neg_mean_squared_error', verbose=2)"
      ]
     },
     "execution_count": 17,
     "metadata": {},
     "output_type": "execute_result"
    }
   ],
   "source": [
    "from sklearn.model_selection import RandomizedSearchCV\n",
    "from scipy.stats import expon, reciprocal\n",
    "\n",
    "split_index = [-1]*len(X_features[0]) + [0]*len(X_features[1])\n",
    "X = np.concatenate((X_features[0], X_features[1]), axis=0)\n",
    "y = np.concatenate((y_labels[0], y_labels[1]), axis=0)\n",
    "pds = PredefinedSplit(test_fold = split_index)\n",
    "# see https://docs.scipy.org/doc/scipy/reference/stats.html\n",
    "# for `expon()` and `reciprocal()` documentation and more probability distribution functions.\n",
    "\n",
    "# Note: gamma is ignored when kernel is \"linear\"\n",
    "param_distribs = {\n",
    "        'kernel': ['linear', 'rbf'],\n",
    "        'C': reciprocal(1, 100),\n",
    "        'epsilon': expon(scale=1.0),\n",
    "    }\n",
    "\n",
    "svm_reg = SVR()\n",
    "rnd_search = RandomizedSearchCV(svm_reg, param_distributions=param_distribs,\n",
    "                                n_iter=50, cv=pds, scoring='neg_mean_squared_error',\n",
    "                                verbose=2)\n",
    "rnd_search.fit(X, y)"
   ]
  },
  {
   "cell_type": "code",
   "execution_count": 18,
   "id": "fe00877e",
   "metadata": {},
   "outputs": [
    {
     "data": {
      "text/plain": [
       "['_randomly_optimized_svm_regressor.pkl']"
      ]
     },
     "execution_count": 18,
     "metadata": {},
     "output_type": "execute_result"
    }
   ],
   "source": [
    "joblib.dump(rnd_search.best_estimator_, \"_randomly_optimized_svm_regressor.pkl\")"
   ]
  },
  {
   "cell_type": "code",
   "execution_count": 19,
   "id": "faed6f1b",
   "metadata": {},
   "outputs": [
    {
     "data": {
      "text/html": [
       "<style>#sk-container-id-4 {color: black;background-color: white;}#sk-container-id-4 pre{padding: 0;}#sk-container-id-4 div.sk-toggleable {background-color: white;}#sk-container-id-4 label.sk-toggleable__label {cursor: pointer;display: block;width: 100%;margin-bottom: 0;padding: 0.3em;box-sizing: border-box;text-align: center;}#sk-container-id-4 label.sk-toggleable__label-arrow:before {content: \"▸\";float: left;margin-right: 0.25em;color: #696969;}#sk-container-id-4 label.sk-toggleable__label-arrow:hover:before {color: black;}#sk-container-id-4 div.sk-estimator:hover label.sk-toggleable__label-arrow:before {color: black;}#sk-container-id-4 div.sk-toggleable__content {max-height: 0;max-width: 0;overflow: hidden;text-align: left;background-color: #f0f8ff;}#sk-container-id-4 div.sk-toggleable__content pre {margin: 0.2em;color: black;border-radius: 0.25em;background-color: #f0f8ff;}#sk-container-id-4 input.sk-toggleable__control:checked~div.sk-toggleable__content {max-height: 200px;max-width: 100%;overflow: auto;}#sk-container-id-4 input.sk-toggleable__control:checked~label.sk-toggleable__label-arrow:before {content: \"▾\";}#sk-container-id-4 div.sk-estimator input.sk-toggleable__control:checked~label.sk-toggleable__label {background-color: #d4ebff;}#sk-container-id-4 div.sk-label input.sk-toggleable__control:checked~label.sk-toggleable__label {background-color: #d4ebff;}#sk-container-id-4 input.sk-hidden--visually {border: 0;clip: rect(1px 1px 1px 1px);clip: rect(1px, 1px, 1px, 1px);height: 1px;margin: -1px;overflow: hidden;padding: 0;position: absolute;width: 1px;}#sk-container-id-4 div.sk-estimator {font-family: monospace;background-color: #f0f8ff;border: 1px dotted black;border-radius: 0.25em;box-sizing: border-box;margin-bottom: 0.5em;}#sk-container-id-4 div.sk-estimator:hover {background-color: #d4ebff;}#sk-container-id-4 div.sk-parallel-item::after {content: \"\";width: 100%;border-bottom: 1px solid gray;flex-grow: 1;}#sk-container-id-4 div.sk-label:hover label.sk-toggleable__label {background-color: #d4ebff;}#sk-container-id-4 div.sk-serial::before {content: \"\";position: absolute;border-left: 1px solid gray;box-sizing: border-box;top: 0;bottom: 0;left: 50%;z-index: 0;}#sk-container-id-4 div.sk-serial {display: flex;flex-direction: column;align-items: center;background-color: white;padding-right: 0.2em;padding-left: 0.2em;position: relative;}#sk-container-id-4 div.sk-item {position: relative;z-index: 1;}#sk-container-id-4 div.sk-parallel {display: flex;align-items: stretch;justify-content: center;background-color: white;position: relative;}#sk-container-id-4 div.sk-item::before, #sk-container-id-4 div.sk-parallel-item::before {content: \"\";position: absolute;border-left: 1px solid gray;box-sizing: border-box;top: 0;bottom: 0;left: 50%;z-index: -1;}#sk-container-id-4 div.sk-parallel-item {display: flex;flex-direction: column;z-index: 1;position: relative;background-color: white;}#sk-container-id-4 div.sk-parallel-item:first-child::after {align-self: flex-end;width: 50%;}#sk-container-id-4 div.sk-parallel-item:last-child::after {align-self: flex-start;width: 50%;}#sk-container-id-4 div.sk-parallel-item:only-child::after {width: 0;}#sk-container-id-4 div.sk-dashed-wrapped {border: 1px dashed gray;margin: 0 0.4em 0.5em 0.4em;box-sizing: border-box;padding-bottom: 0.4em;background-color: white;}#sk-container-id-4 div.sk-label label {font-family: monospace;font-weight: bold;display: inline-block;line-height: 1.2em;}#sk-container-id-4 div.sk-label-container {text-align: center;}#sk-container-id-4 div.sk-container {/* jupyter's `normalize.less` sets `[hidden] { display: none; }` but bootstrap.min.css set `[hidden] { display: none !important; }` so we also need the `!important` here to be able to override the default hidden behavior on the sphinx rendered scikit-learn.org. See: https://github.com/scikit-learn/scikit-learn/issues/21755 */display: inline-block !important;position: relative;}#sk-container-id-4 div.sk-text-repr-fallback {display: none;}</style><div id=\"sk-container-id-4\" class=\"sk-top-container\"><div class=\"sk-text-repr-fallback\"><pre>SVR(C=41.87786014729522, epsilon=0.05595908327634237)</pre><b>In a Jupyter environment, please rerun this cell to show the HTML representation or trust the notebook. <br />On GitHub, the HTML representation is unable to render, please try loading this page with nbviewer.org.</b></div><div class=\"sk-container\" hidden><div class=\"sk-item\"><div class=\"sk-estimator sk-toggleable\"><input class=\"sk-toggleable__control sk-hidden--visually\" id=\"sk-estimator-id-8\" type=\"checkbox\" checked><label for=\"sk-estimator-id-8\" class=\"sk-toggleable__label sk-toggleable__label-arrow\">SVR</label><div class=\"sk-toggleable__content\"><pre>SVR(C=41.87786014729522, epsilon=0.05595908327634237)</pre></div></div></div></div></div>"
      ],
      "text/plain": [
       "SVR(C=41.87786014729522, epsilon=0.05595908327634237)"
      ]
     },
     "execution_count": 19,
     "metadata": {},
     "output_type": "execute_result"
    }
   ],
   "source": [
    "rnd_search.best_estimator_"
   ]
  },
  {
   "cell_type": "code",
   "execution_count": null,
   "id": "92500fcb",
   "metadata": {},
   "outputs": [],
   "source": []
  }
 ],
 "metadata": {
  "kernelspec": {
   "display_name": "Python 3 (ipykernel)",
   "language": "python",
   "name": "python3"
  },
  "language_info": {
   "codemirror_mode": {
    "name": "ipython",
    "version": 3
   },
   "file_extension": ".py",
   "mimetype": "text/x-python",
   "name": "python",
   "nbconvert_exporter": "python",
   "pygments_lexer": "ipython3",
   "version": "3.10.1"
  }
 },
 "nbformat": 4,
 "nbformat_minor": 5
}
