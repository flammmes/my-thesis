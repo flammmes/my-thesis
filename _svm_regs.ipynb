{
 "cells": [
  {
   "cell_type": "code",
   "execution_count": 1,
   "id": "b1b7da97",
   "metadata": {},
   "outputs": [],
   "source": [
    "import numpy as np\n",
    "import pandas as pd\n",
    "import matplotlib.pyplot as plt\n",
    "import sklearn\n",
    "import joblib\n",
    "%store -r X_features_full\n",
    "%store -r X_features_poly_full\n",
    "%store -r y_labels_full\n",
    "\n",
    "X_features = X_features_full\n",
    "X_features_poly = X_features_poly_full\n",
    "y_labels = y_labels_full\n",
    "from sklearn.metrics import mean_absolute_percentage_error\n"
   ]
  },
  {
   "cell_type": "code",
   "execution_count": 2,
   "id": "b1aa3d47",
   "metadata": {},
   "outputs": [
    {
     "data": {
      "text/plain": [
       "0.03916463599574806"
      ]
     },
     "execution_count": 2,
     "metadata": {},
     "output_type": "execute_result"
    }
   ],
   "source": [
    "from sklearn.svm import SVR\n",
    "from sklearn.metrics import mean_squared_error\n",
    "\n",
    "\n",
    "svm_lin_reg = SVR(kernel=\"linear\",epsilon=0.001,C=10)\n",
    "svm_lin_reg.fit(X_features[0], y_labels[0])\n",
    "visc_predictions = np.exp(np.power(svm_lin_reg.predict(X_features[1]),2))-0.0012\n",
    "svm_mse = mean_absolute_percentage_error(np.exp(np.power(y_labels[1],2))-0.0012, visc_predictions)\n",
    "svm_rmse = np.sqrt(svm_mse)\n",
    "svm_mse"
   ]
  },
  {
   "cell_type": "code",
   "execution_count": 3,
   "id": "30a9d746",
   "metadata": {},
   "outputs": [
    {
     "data": {
      "text/plain": [
       "['svm_lin_reg.pkl']"
      ]
     },
     "execution_count": 3,
     "metadata": {},
     "output_type": "execute_result"
    }
   ],
   "source": [
    "joblib.dump(svm_lin_reg, \"svm_lin_reg.pkl\")"
   ]
  },
  {
   "cell_type": "code",
   "execution_count": 4,
   "id": "db67b43f",
   "metadata": {},
   "outputs": [
    {
     "data": {
      "text/plain": [
       "0.08264127584439501"
      ]
     },
     "execution_count": 4,
     "metadata": {},
     "output_type": "execute_result"
    }
   ],
   "source": [
    "svm_poly2_reg = SVR(kernel=\"poly\",degree=4,epsilon=0.001,C=10)\n",
    "svm_poly2_reg.fit(X_features[0], y_labels[0])\n",
    "visc_predictions = np.exp(np.power(svm_poly2_reg.predict(X_features[1]),2))-0.0012\n",
    "svm_mse = mean_absolute_percentage_error(np.exp(np.power(y_labels[1],2))-0.0012, visc_predictions)\n",
    "svm_rmse = np.sqrt(svm_mse)\n",
    "svm_mse"
   ]
  },
  {
   "cell_type": "code",
   "execution_count": 5,
   "id": "25cef8ab",
   "metadata": {},
   "outputs": [
    {
     "data": {
      "text/plain": [
       "['svm_poly2_reg.pkl']"
      ]
     },
     "execution_count": 5,
     "metadata": {},
     "output_type": "execute_result"
    }
   ],
   "source": [
    "joblib.dump(svm_poly2_reg, \"svm_poly2_reg.pkl\")"
   ]
  },
  {
   "cell_type": "code",
   "execution_count": 6,
   "id": "ba3361ab",
   "metadata": {},
   "outputs": [
    {
     "data": {
      "text/plain": [
       "0.05839869114548517"
      ]
     },
     "execution_count": 6,
     "metadata": {},
     "output_type": "execute_result"
    }
   ],
   "source": [
    "svm_poly3_reg = SVR(kernel=\"poly\",degree=3,epsilon=0.001,C=10)\n",
    "svm_poly3_reg.fit(X_features[0], y_labels[0])\n",
    "visc_predictions = np.exp(np.power(svm_poly3_reg.predict(X_features[1]),2))-0.0012\n",
    "svm_mse = mean_absolute_percentage_error(np.exp(np.power(y_labels[1],2))-0.0012, visc_predictions)\n",
    "svm_rmse = np.sqrt(svm_mse)\n",
    "svm_mse"
   ]
  },
  {
   "cell_type": "code",
   "execution_count": 7,
   "id": "0ba6a96b",
   "metadata": {
    "scrolled": true
   },
   "outputs": [
    {
     "data": {
      "text/plain": [
       "['svm_poly3_reg.pkl']"
      ]
     },
     "execution_count": 7,
     "metadata": {},
     "output_type": "execute_result"
    }
   ],
   "source": [
    "joblib.dump(svm_poly3_reg, \"svm_poly3_reg.pkl\")"
   ]
  },
  {
   "cell_type": "code",
   "execution_count": 8,
   "id": "facda68c",
   "metadata": {},
   "outputs": [
    {
     "data": {
      "text/plain": [
       "0.03816509570093616"
      ]
     },
     "execution_count": 8,
     "metadata": {},
     "output_type": "execute_result"
    }
   ],
   "source": [
    "svm_poly_reg = SVR(kernel=\"linear\",epsilon=0.001,C=10)\n",
    "svm_poly_reg.fit(X_features_poly[0], y_labels[0])\n",
    "visc_predictions = np.exp(np.power(svm_poly_reg.predict(X_features_poly[1]),2))-0.0012\n",
    "svm_mse = mean_absolute_percentage_error(np.exp(np.power(y_labels[1],2))-0.0012, visc_predictions)\n",
    "svm_rmse = np.sqrt(svm_mse)\n",
    "svm_mse"
   ]
  },
  {
   "cell_type": "code",
   "execution_count": 9,
   "id": "181925d8",
   "metadata": {},
   "outputs": [
    {
     "data": {
      "text/plain": [
       "['svm_poly_reg.pkl']"
      ]
     },
     "execution_count": 9,
     "metadata": {},
     "output_type": "execute_result"
    }
   ],
   "source": [
    "joblib.dump(svm_poly_reg, \"svm_poly_reg.pkl\")"
   ]
  },
  {
   "cell_type": "code",
   "execution_count": 10,
   "id": "d39972a5",
   "metadata": {},
   "outputs": [
    {
     "data": {
      "text/plain": [
       "0.03594178376013724"
      ]
     },
     "execution_count": 10,
     "metadata": {},
     "output_type": "execute_result"
    }
   ],
   "source": [
    "svm_rbf_reg = SVR(kernel=\"rbf\",C=1,epsilon=0.001)\n",
    "svm_rbf_reg.fit(X_features[0], y_labels[0])\n",
    "visc_predictions = np.exp(np.power(svm_rbf_reg.predict(X_features[1]),2))-0.0012\n",
    "svm_mse = mean_absolute_percentage_error(np.exp(np.power(y_labels[1],2))-0.0012, visc_predictions)\n",
    "svm_rmse = np.sqrt(svm_mse)\n",
    "svm_mse"
   ]
  },
  {
   "cell_type": "code",
   "execution_count": 11,
   "id": "76f567a6",
   "metadata": {},
   "outputs": [
    {
     "data": {
      "text/plain": [
       "['svm_rbf_reg.pkl']"
      ]
     },
     "execution_count": 11,
     "metadata": {},
     "output_type": "execute_result"
    }
   ],
   "source": [
    "joblib.dump(svm_rbf_reg, \"svm_rbf_reg.pkl\")"
   ]
  },
  {
   "cell_type": "code",
   "execution_count": 12,
   "id": "b440e01a",
   "metadata": {},
   "outputs": [
    {
     "data": {
      "text/plain": [
       "0.03701918637687342"
      ]
     },
     "execution_count": 12,
     "metadata": {},
     "output_type": "execute_result"
    }
   ],
   "source": [
    "svm_rbf_poly_reg = SVR(kernel=\"rbf\",C=1,epsilon=0.001)\n",
    "svm_rbf_poly_reg.fit(X_features_poly[0], y_labels[0])\n",
    "visc_predictions = np.exp(np.power(svm_rbf_poly_reg.predict(X_features_poly[1]),2))-0.0012\n",
    "svm_mse = mean_absolute_percentage_error(np.exp(np.power(y_labels[1],2))-0.0012, visc_predictions)\n",
    "svm_rmse = np.sqrt(svm_mse)\n",
    "svm_mse"
   ]
  },
  {
   "cell_type": "code",
   "execution_count": 13,
   "id": "ad9ee27e",
   "metadata": {},
   "outputs": [
    {
     "data": {
      "text/plain": [
       "['svm_rbf_poly_reg.pkl']"
      ]
     },
     "execution_count": 13,
     "metadata": {},
     "output_type": "execute_result"
    }
   ],
   "source": [
    "joblib.dump(svm_rbf_poly_reg, \"svm_rbf_poly_reg.pkl\")"
   ]
  },
  {
   "cell_type": "code",
   "execution_count": 14,
   "id": "1a6d7fd8",
   "metadata": {},
   "outputs": [
    {
     "name": "stdout",
     "output_type": "stream",
     "text": [
      "Fitting 1 folds for each of 39 candidates, totalling 39 fits\n",
      "[CV] END ...............................C=0.1, kernel=linear; total time=   0.4s\n",
      "[CV] END ...............................C=1.0, kernel=linear; total time=   1.0s\n",
      "[CV] END ..............................C=10.0, kernel=linear; total time=   4.9s\n",
      "[CV] END ..............................C=30.0, kernel=linear; total time=  11.9s\n",
      "[CV] END ...................C=0.1, epsilon=0.001, kernel=rbf; total time=   3.6s\n",
      "[CV] END ...................C=0.1, epsilon=0.005, kernel=rbf; total time=   3.3s\n",
      "[CV] END ....................C=0.1, epsilon=0.01, kernel=rbf; total time=   2.8s\n",
      "[CV] END ....................C=0.1, epsilon=0.05, kernel=rbf; total time=   1.3s\n",
      "[CV] END .....................C=0.1, epsilon=0.1, kernel=rbf; total time=   0.5s\n",
      "[CV] END .......................C=0.1, epsilon=1, kernel=rbf; total time=   0.0s\n",
      "[CV] END .....................C=0.1, epsilon=1.5, kernel=rbf; total time=   0.0s\n",
      "[CV] END ...................C=1.0, epsilon=0.001, kernel=rbf; total time=   3.8s\n",
      "[CV] END ...................C=1.0, epsilon=0.005, kernel=rbf; total time=   3.5s\n",
      "[CV] END ....................C=1.0, epsilon=0.01, kernel=rbf; total time=   3.6s\n",
      "[CV] END ....................C=1.0, epsilon=0.05, kernel=rbf; total time=   1.3s\n",
      "[CV] END .....................C=1.0, epsilon=0.1, kernel=rbf; total time=   0.5s\n",
      "[CV] END .......................C=1.0, epsilon=1, kernel=rbf; total time=   0.0s\n",
      "[CV] END .....................C=1.0, epsilon=1.5, kernel=rbf; total time=   0.0s\n",
      "[CV] END ...................C=3.0, epsilon=0.001, kernel=rbf; total time=   5.1s\n",
      "[CV] END ...................C=3.0, epsilon=0.005, kernel=rbf; total time=   4.0s\n",
      "[CV] END ....................C=3.0, epsilon=0.01, kernel=rbf; total time=   3.7s\n",
      "[CV] END ....................C=3.0, epsilon=0.05, kernel=rbf; total time=   1.6s\n",
      "[CV] END .....................C=3.0, epsilon=0.1, kernel=rbf; total time=   0.7s\n",
      "[CV] END .......................C=3.0, epsilon=1, kernel=rbf; total time=   0.0s\n",
      "[CV] END .....................C=3.0, epsilon=1.5, kernel=rbf; total time=   0.0s\n",
      "[CV] END ..................C=10.0, epsilon=0.001, kernel=rbf; total time=   6.0s\n",
      "[CV] END ..................C=10.0, epsilon=0.005, kernel=rbf; total time=   5.0s\n",
      "[CV] END ...................C=10.0, epsilon=0.01, kernel=rbf; total time=   4.4s\n",
      "[CV] END ...................C=10.0, epsilon=0.05, kernel=rbf; total time=   1.9s\n",
      "[CV] END ....................C=10.0, epsilon=0.1, kernel=rbf; total time=   0.6s\n",
      "[CV] END ......................C=10.0, epsilon=1, kernel=rbf; total time=   0.0s\n",
      "[CV] END ....................C=10.0, epsilon=1.5, kernel=rbf; total time=   0.0s\n",
      "[CV] END ..................C=30.0, epsilon=0.001, kernel=rbf; total time=  10.3s\n",
      "[CV] END ..................C=30.0, epsilon=0.005, kernel=rbf; total time=   8.5s\n",
      "[CV] END ...................C=30.0, epsilon=0.01, kernel=rbf; total time=   7.2s\n",
      "[CV] END ...................C=30.0, epsilon=0.05, kernel=rbf; total time=   3.3s\n",
      "[CV] END ....................C=30.0, epsilon=0.1, kernel=rbf; total time=   0.9s\n",
      "[CV] END ......................C=30.0, epsilon=1, kernel=rbf; total time=   0.0s\n",
      "[CV] END ....................C=30.0, epsilon=1.5, kernel=rbf; total time=   0.0s\n"
     ]
    },
    {
     "data": {
      "text/html": [
       "<style>#sk-container-id-1 {color: black;background-color: white;}#sk-container-id-1 pre{padding: 0;}#sk-container-id-1 div.sk-toggleable {background-color: white;}#sk-container-id-1 label.sk-toggleable__label {cursor: pointer;display: block;width: 100%;margin-bottom: 0;padding: 0.3em;box-sizing: border-box;text-align: center;}#sk-container-id-1 label.sk-toggleable__label-arrow:before {content: \"▸\";float: left;margin-right: 0.25em;color: #696969;}#sk-container-id-1 label.sk-toggleable__label-arrow:hover:before {color: black;}#sk-container-id-1 div.sk-estimator:hover label.sk-toggleable__label-arrow:before {color: black;}#sk-container-id-1 div.sk-toggleable__content {max-height: 0;max-width: 0;overflow: hidden;text-align: left;background-color: #f0f8ff;}#sk-container-id-1 div.sk-toggleable__content pre {margin: 0.2em;color: black;border-radius: 0.25em;background-color: #f0f8ff;}#sk-container-id-1 input.sk-toggleable__control:checked~div.sk-toggleable__content {max-height: 200px;max-width: 100%;overflow: auto;}#sk-container-id-1 input.sk-toggleable__control:checked~label.sk-toggleable__label-arrow:before {content: \"▾\";}#sk-container-id-1 div.sk-estimator input.sk-toggleable__control:checked~label.sk-toggleable__label {background-color: #d4ebff;}#sk-container-id-1 div.sk-label input.sk-toggleable__control:checked~label.sk-toggleable__label {background-color: #d4ebff;}#sk-container-id-1 input.sk-hidden--visually {border: 0;clip: rect(1px 1px 1px 1px);clip: rect(1px, 1px, 1px, 1px);height: 1px;margin: -1px;overflow: hidden;padding: 0;position: absolute;width: 1px;}#sk-container-id-1 div.sk-estimator {font-family: monospace;background-color: #f0f8ff;border: 1px dotted black;border-radius: 0.25em;box-sizing: border-box;margin-bottom: 0.5em;}#sk-container-id-1 div.sk-estimator:hover {background-color: #d4ebff;}#sk-container-id-1 div.sk-parallel-item::after {content: \"\";width: 100%;border-bottom: 1px solid gray;flex-grow: 1;}#sk-container-id-1 div.sk-label:hover label.sk-toggleable__label {background-color: #d4ebff;}#sk-container-id-1 div.sk-serial::before {content: \"\";position: absolute;border-left: 1px solid gray;box-sizing: border-box;top: 0;bottom: 0;left: 50%;z-index: 0;}#sk-container-id-1 div.sk-serial {display: flex;flex-direction: column;align-items: center;background-color: white;padding-right: 0.2em;padding-left: 0.2em;position: relative;}#sk-container-id-1 div.sk-item {position: relative;z-index: 1;}#sk-container-id-1 div.sk-parallel {display: flex;align-items: stretch;justify-content: center;background-color: white;position: relative;}#sk-container-id-1 div.sk-item::before, #sk-container-id-1 div.sk-parallel-item::before {content: \"\";position: absolute;border-left: 1px solid gray;box-sizing: border-box;top: 0;bottom: 0;left: 50%;z-index: -1;}#sk-container-id-1 div.sk-parallel-item {display: flex;flex-direction: column;z-index: 1;position: relative;background-color: white;}#sk-container-id-1 div.sk-parallel-item:first-child::after {align-self: flex-end;width: 50%;}#sk-container-id-1 div.sk-parallel-item:last-child::after {align-self: flex-start;width: 50%;}#sk-container-id-1 div.sk-parallel-item:only-child::after {width: 0;}#sk-container-id-1 div.sk-dashed-wrapped {border: 1px dashed gray;margin: 0 0.4em 0.5em 0.4em;box-sizing: border-box;padding-bottom: 0.4em;background-color: white;}#sk-container-id-1 div.sk-label label {font-family: monospace;font-weight: bold;display: inline-block;line-height: 1.2em;}#sk-container-id-1 div.sk-label-container {text-align: center;}#sk-container-id-1 div.sk-container {/* jupyter's `normalize.less` sets `[hidden] { display: none; }` but bootstrap.min.css set `[hidden] { display: none !important; }` so we also need the `!important` here to be able to override the default hidden behavior on the sphinx rendered scikit-learn.org. See: https://github.com/scikit-learn/scikit-learn/issues/21755 */display: inline-block !important;position: relative;}#sk-container-id-1 div.sk-text-repr-fallback {display: none;}</style><div id=\"sk-container-id-1\" class=\"sk-top-container\"><div class=\"sk-text-repr-fallback\"><pre>GridSearchCV(cv=PredefinedSplit(test_fold=array([-1, -1, ...,  0,  0])),\n",
       "             estimator=SVR(),\n",
       "             param_grid=[{&#x27;C&#x27;: [0.1, 1.0, 10.0, 30.0], &#x27;kernel&#x27;: [&#x27;linear&#x27;]},\n",
       "                         {&#x27;C&#x27;: [0.1, 1.0, 3.0, 10.0, 30.0],\n",
       "                          &#x27;epsilon&#x27;: [0.001, 0.005, 0.01, 0.05, 0.1, 1, 1.5],\n",
       "                          &#x27;kernel&#x27;: [&#x27;rbf&#x27;]}],\n",
       "             scoring=&#x27;neg_mean_squared_error&#x27;, verbose=2)</pre><b>In a Jupyter environment, please rerun this cell to show the HTML representation or trust the notebook. <br />On GitHub, the HTML representation is unable to render, please try loading this page with nbviewer.org.</b></div><div class=\"sk-container\" hidden><div class=\"sk-item sk-dashed-wrapped\"><div class=\"sk-label-container\"><div class=\"sk-label sk-toggleable\"><input class=\"sk-toggleable__control sk-hidden--visually\" id=\"sk-estimator-id-1\" type=\"checkbox\" ><label for=\"sk-estimator-id-1\" class=\"sk-toggleable__label sk-toggleable__label-arrow\">GridSearchCV</label><div class=\"sk-toggleable__content\"><pre>GridSearchCV(cv=PredefinedSplit(test_fold=array([-1, -1, ...,  0,  0])),\n",
       "             estimator=SVR(),\n",
       "             param_grid=[{&#x27;C&#x27;: [0.1, 1.0, 10.0, 30.0], &#x27;kernel&#x27;: [&#x27;linear&#x27;]},\n",
       "                         {&#x27;C&#x27;: [0.1, 1.0, 3.0, 10.0, 30.0],\n",
       "                          &#x27;epsilon&#x27;: [0.001, 0.005, 0.01, 0.05, 0.1, 1, 1.5],\n",
       "                          &#x27;kernel&#x27;: [&#x27;rbf&#x27;]}],\n",
       "             scoring=&#x27;neg_mean_squared_error&#x27;, verbose=2)</pre></div></div></div><div class=\"sk-parallel\"><div class=\"sk-parallel-item\"><div class=\"sk-item\"><div class=\"sk-label-container\"><div class=\"sk-label sk-toggleable\"><input class=\"sk-toggleable__control sk-hidden--visually\" id=\"sk-estimator-id-2\" type=\"checkbox\" ><label for=\"sk-estimator-id-2\" class=\"sk-toggleable__label sk-toggleable__label-arrow\">estimator: SVR</label><div class=\"sk-toggleable__content\"><pre>SVR()</pre></div></div></div><div class=\"sk-serial\"><div class=\"sk-item\"><div class=\"sk-estimator sk-toggleable\"><input class=\"sk-toggleable__control sk-hidden--visually\" id=\"sk-estimator-id-3\" type=\"checkbox\" ><label for=\"sk-estimator-id-3\" class=\"sk-toggleable__label sk-toggleable__label-arrow\">SVR</label><div class=\"sk-toggleable__content\"><pre>SVR()</pre></div></div></div></div></div></div></div></div></div></div>"
      ],
      "text/plain": [
       "GridSearchCV(cv=PredefinedSplit(test_fold=array([-1, -1, ...,  0,  0])),\n",
       "             estimator=SVR(),\n",
       "             param_grid=[{'C': [0.1, 1.0, 10.0, 30.0], 'kernel': ['linear']},\n",
       "                         {'C': [0.1, 1.0, 3.0, 10.0, 30.0],\n",
       "                          'epsilon': [0.001, 0.005, 0.01, 0.05, 0.1, 1, 1.5],\n",
       "                          'kernel': ['rbf']}],\n",
       "             scoring='neg_mean_squared_error', verbose=2)"
      ]
     },
     "execution_count": 14,
     "metadata": {},
     "output_type": "execute_result"
    }
   ],
   "source": [
    "from sklearn.model_selection import GridSearchCV\n",
    "from sklearn.model_selection import PredefinedSplit\n",
    "\n",
    "\n",
    "split_index = [-1]*len(X_features[0]) + [0]*len(X_features[1])\n",
    "X = np.concatenate((X_features[0], X_features[1]), axis=0)\n",
    "y = np.concatenate((y_labels[0], y_labels[1]), axis=0)\n",
    "pds = PredefinedSplit(test_fold = split_index)\n",
    "\n",
    "param_grid = [\n",
    "        {'kernel': ['linear'], 'C': [0.1,1.,10., 30.]},\n",
    "        {'kernel': ['rbf'], 'C': [0.1,1.0, 3.0, 10., 30.],\n",
    "         'epsilon': [0.001, 0.005, 0.01, 0.05, 0.1, 1,1.5]},\n",
    "    ]\n",
    "\n",
    "svm_reg = SVR()\n",
    "grid_search = GridSearchCV(svm_reg, param_grid, cv=pds, scoring='neg_mean_squared_error', verbose=2)\n",
    "grid_search.fit(X, y)"
   ]
  },
  {
   "cell_type": "code",
   "execution_count": 15,
   "id": "6ff41139",
   "metadata": {},
   "outputs": [
    {
     "data": {
      "text/html": [
       "<style>#sk-container-id-2 {color: black;background-color: white;}#sk-container-id-2 pre{padding: 0;}#sk-container-id-2 div.sk-toggleable {background-color: white;}#sk-container-id-2 label.sk-toggleable__label {cursor: pointer;display: block;width: 100%;margin-bottom: 0;padding: 0.3em;box-sizing: border-box;text-align: center;}#sk-container-id-2 label.sk-toggleable__label-arrow:before {content: \"▸\";float: left;margin-right: 0.25em;color: #696969;}#sk-container-id-2 label.sk-toggleable__label-arrow:hover:before {color: black;}#sk-container-id-2 div.sk-estimator:hover label.sk-toggleable__label-arrow:before {color: black;}#sk-container-id-2 div.sk-toggleable__content {max-height: 0;max-width: 0;overflow: hidden;text-align: left;background-color: #f0f8ff;}#sk-container-id-2 div.sk-toggleable__content pre {margin: 0.2em;color: black;border-radius: 0.25em;background-color: #f0f8ff;}#sk-container-id-2 input.sk-toggleable__control:checked~div.sk-toggleable__content {max-height: 200px;max-width: 100%;overflow: auto;}#sk-container-id-2 input.sk-toggleable__control:checked~label.sk-toggleable__label-arrow:before {content: \"▾\";}#sk-container-id-2 div.sk-estimator input.sk-toggleable__control:checked~label.sk-toggleable__label {background-color: #d4ebff;}#sk-container-id-2 div.sk-label input.sk-toggleable__control:checked~label.sk-toggleable__label {background-color: #d4ebff;}#sk-container-id-2 input.sk-hidden--visually {border: 0;clip: rect(1px 1px 1px 1px);clip: rect(1px, 1px, 1px, 1px);height: 1px;margin: -1px;overflow: hidden;padding: 0;position: absolute;width: 1px;}#sk-container-id-2 div.sk-estimator {font-family: monospace;background-color: #f0f8ff;border: 1px dotted black;border-radius: 0.25em;box-sizing: border-box;margin-bottom: 0.5em;}#sk-container-id-2 div.sk-estimator:hover {background-color: #d4ebff;}#sk-container-id-2 div.sk-parallel-item::after {content: \"\";width: 100%;border-bottom: 1px solid gray;flex-grow: 1;}#sk-container-id-2 div.sk-label:hover label.sk-toggleable__label {background-color: #d4ebff;}#sk-container-id-2 div.sk-serial::before {content: \"\";position: absolute;border-left: 1px solid gray;box-sizing: border-box;top: 0;bottom: 0;left: 50%;z-index: 0;}#sk-container-id-2 div.sk-serial {display: flex;flex-direction: column;align-items: center;background-color: white;padding-right: 0.2em;padding-left: 0.2em;position: relative;}#sk-container-id-2 div.sk-item {position: relative;z-index: 1;}#sk-container-id-2 div.sk-parallel {display: flex;align-items: stretch;justify-content: center;background-color: white;position: relative;}#sk-container-id-2 div.sk-item::before, #sk-container-id-2 div.sk-parallel-item::before {content: \"\";position: absolute;border-left: 1px solid gray;box-sizing: border-box;top: 0;bottom: 0;left: 50%;z-index: -1;}#sk-container-id-2 div.sk-parallel-item {display: flex;flex-direction: column;z-index: 1;position: relative;background-color: white;}#sk-container-id-2 div.sk-parallel-item:first-child::after {align-self: flex-end;width: 50%;}#sk-container-id-2 div.sk-parallel-item:last-child::after {align-self: flex-start;width: 50%;}#sk-container-id-2 div.sk-parallel-item:only-child::after {width: 0;}#sk-container-id-2 div.sk-dashed-wrapped {border: 1px dashed gray;margin: 0 0.4em 0.5em 0.4em;box-sizing: border-box;padding-bottom: 0.4em;background-color: white;}#sk-container-id-2 div.sk-label label {font-family: monospace;font-weight: bold;display: inline-block;line-height: 1.2em;}#sk-container-id-2 div.sk-label-container {text-align: center;}#sk-container-id-2 div.sk-container {/* jupyter's `normalize.less` sets `[hidden] { display: none; }` but bootstrap.min.css set `[hidden] { display: none !important; }` so we also need the `!important` here to be able to override the default hidden behavior on the sphinx rendered scikit-learn.org. See: https://github.com/scikit-learn/scikit-learn/issues/21755 */display: inline-block !important;position: relative;}#sk-container-id-2 div.sk-text-repr-fallback {display: none;}</style><div id=\"sk-container-id-2\" class=\"sk-top-container\"><div class=\"sk-text-repr-fallback\"><pre>SVR(C=10.0, epsilon=0.005)</pre><b>In a Jupyter environment, please rerun this cell to show the HTML representation or trust the notebook. <br />On GitHub, the HTML representation is unable to render, please try loading this page with nbviewer.org.</b></div><div class=\"sk-container\" hidden><div class=\"sk-item\"><div class=\"sk-estimator sk-toggleable\"><input class=\"sk-toggleable__control sk-hidden--visually\" id=\"sk-estimator-id-4\" type=\"checkbox\" checked><label for=\"sk-estimator-id-4\" class=\"sk-toggleable__label sk-toggleable__label-arrow\">SVR</label><div class=\"sk-toggleable__content\"><pre>SVR(C=10.0, epsilon=0.005)</pre></div></div></div></div></div>"
      ],
      "text/plain": [
       "SVR(C=10.0, epsilon=0.005)"
      ]
     },
     "execution_count": 15,
     "metadata": {},
     "output_type": "execute_result"
    }
   ],
   "source": [
    "grid_search.best_estimator_"
   ]
  },
  {
   "cell_type": "code",
   "execution_count": 16,
   "id": "ef73fca2",
   "metadata": {},
   "outputs": [
    {
     "data": {
      "text/plain": [
       "['optimized_svm_regressor.pkl']"
      ]
     },
     "execution_count": 16,
     "metadata": {},
     "output_type": "execute_result"
    }
   ],
   "source": [
    "joblib.dump(grid_search.best_estimator_, \"optimized_svm_regressor.pkl\")"
   ]
  },
  {
   "cell_type": "code",
   "execution_count": 17,
   "id": "9b46a018",
   "metadata": {},
   "outputs": [
    {
     "name": "stdout",
     "output_type": "stream",
     "text": [
      "Fitting 1 folds for each of 50 candidates, totalling 50 fits\n",
      "[CV] END C=84.90194657973237, epsilon=1.2756678902824727, kernel=linear; total time=   0.0s\n",
      "[CV] END C=7.030422251370759, epsilon=0.41160269354109286, kernel=rbf; total time=   0.0s\n",
      "[CV] END C=3.834404803127021, epsilon=0.31820970869944004, kernel=linear; total time=   0.0s\n",
      "[CV] END C=7.063159572316437, epsilon=0.35700874037643077, kernel=linear; total time=   0.0s\n",
      "[CV] END C=39.99033508341051, epsilon=2.278984893522787, kernel=linear; total time=   0.0s\n",
      "[CV] END C=15.437925583860988, epsilon=0.6118034250925121, kernel=rbf; total time=   0.0s\n",
      "[CV] END C=1.4116002704670323, epsilon=0.7574061050399753, kernel=linear; total time=   0.0s\n",
      "[CV] END C=71.7143173830146, epsilon=0.44413943258292754, kernel=rbf; total time=   0.0s\n",
      "[CV] END C=1.6600481046794247, epsilon=0.9285108718222016, kernel=linear; total time=   0.0s\n",
      "[CV] END C=82.94271478050182, epsilon=0.5008870094855961, kernel=linear; total time=   0.0s\n",
      "[CV] END C=1.352435712367913, epsilon=0.5449989555395376, kernel=rbf; total time=   0.0s\n",
      "[CV] END C=51.91188929859486, epsilon=1.3244959762319601, kernel=rbf; total time=   0.0s\n",
      "[CV] END C=4.065987460686469, epsilon=0.07550362554685489, kernel=rbf; total time=   1.0s\n",
      "[CV] END C=11.483217636819315, epsilon=0.042289755561297646, kernel=rbf; total time=   2.6s\n",
      "[CV] END C=1.88726758275071, epsilon=0.24933499475144943, kernel=rbf; total time=   0.0s\n",
      "[CV] END C=10.406597155691076, epsilon=1.1096167749491586, kernel=linear; total time=   0.0s\n",
      "[CV] END C=10.740363587048318, epsilon=0.12531898721294804, kernel=linear; total time=   2.0s\n",
      "[CV] END C=71.82101064198308, epsilon=1.1796013300141208, kernel=rbf; total time=   0.0s\n",
      "[CV] END C=54.18657382241558, epsilon=1.5094722615878413, kernel=rbf; total time=   0.0s\n",
      "[CV] END C=59.8372882425425, epsilon=0.6151492051571119, kernel=linear; total time=   0.0s\n",
      "[CV] END C=2.5796217523480527, epsilon=1.3896111155398156, kernel=linear; total time=   0.0s\n",
      "[CV] END C=54.76474469751113, epsilon=0.21335064339982796, kernel=linear; total time=   2.4s\n",
      "[CV] END C=26.538824034305296, epsilon=0.8727057610951897, kernel=linear; total time=   0.0s\n",
      "[CV] END C=16.72012641006634, epsilon=1.8666237928863183, kernel=linear; total time=   0.0s\n",
      "[CV] END C=33.25986003930329, epsilon=0.35062563170120054, kernel=rbf; total time=   0.0s\n",
      "[CV] END C=1.3105801176222132, epsilon=0.4575638849900646, kernel=rbf; total time=   0.0s\n",
      "[CV] END C=1.2196618226764016, epsilon=1.2231651718886858, kernel=rbf; total time=   0.0s\n",
      "[CV] END C=10.667229485955794, epsilon=0.8735301266148107, kernel=linear; total time=   0.0s\n",
      "[CV] END C=1.2913912444756348, epsilon=0.8383511687579146, kernel=rbf; total time=   0.0s\n",
      "[CV] END C=2.38524529323978, epsilon=0.638098822037418, kernel=linear; total time=   0.0s\n",
      "[CV] END C=1.0801858084765814, epsilon=1.6781549386369738, kernel=linear; total time=   0.0s\n",
      "[CV] END C=7.70655906603831, epsilon=0.2279977768883196, kernel=rbf; total time=   0.0s\n",
      "[CV] END C=15.666620807655185, epsilon=1.552112314879006, kernel=linear; total time=   0.0s\n",
      "[CV] END C=39.44441051554702, epsilon=0.6244168120994673, kernel=linear; total time=   0.0s\n",
      "[CV] END C=76.68190269258787, epsilon=0.3036250282235896, kernel=rbf; total time=   0.0s\n",
      "[CV] END C=57.483077185406934, epsilon=2.7740145556647544, kernel=rbf; total time=   0.0s\n",
      "[CV] END C=38.9604478278487, epsilon=0.5444932384462692, kernel=linear; total time=   0.0s\n",
      "[CV] END C=1.7775331451111882, epsilon=1.2103932856048571, kernel=linear; total time=   0.0s\n",
      "[CV] END C=7.311378626782807, epsilon=1.280280343380333, kernel=rbf; total time=   0.0s\n",
      "[CV] END C=3.706819338613789, epsilon=0.9606483440394346, kernel=rbf; total time=   0.0s\n",
      "[CV] END C=1.1131454056564523, epsilon=0.03402375218287339, kernel=linear; total time=   4.0s\n",
      "[CV] END C=8.003388257597196, epsilon=1.8835948343667201, kernel=linear; total time=   0.0s\n",
      "[CV] END C=4.331827788051523, epsilon=1.2596735680383966, kernel=linear; total time=   0.0s\n",
      "[CV] END C=12.906124231404721, epsilon=0.2184676447299202, kernel=rbf; total time=   0.0s\n",
      "[CV] END C=1.6830076770506102, epsilon=0.30958499010941115, kernel=rbf; total time=   0.0s\n",
      "[CV] END C=33.42904495557047, epsilon=4.533027721000005, kernel=rbf; total time=   0.0s\n",
      "[CV] END C=22.893881990144553, epsilon=0.4971391268966244, kernel=rbf; total time=   0.0s\n",
      "[CV] END C=5.693017368931539, epsilon=0.9684602531838529, kernel=linear; total time=   0.0s\n",
      "[CV] END C=6.347811296919975, epsilon=0.20391935525886853, kernel=linear; total time=   0.8s\n",
      "[CV] END C=1.2136490617838847, epsilon=0.21694081141319235, kernel=linear; total time=   0.2s\n"
     ]
    },
    {
     "data": {
      "text/html": [
       "<style>#sk-container-id-3 {color: black;background-color: white;}#sk-container-id-3 pre{padding: 0;}#sk-container-id-3 div.sk-toggleable {background-color: white;}#sk-container-id-3 label.sk-toggleable__label {cursor: pointer;display: block;width: 100%;margin-bottom: 0;padding: 0.3em;box-sizing: border-box;text-align: center;}#sk-container-id-3 label.sk-toggleable__label-arrow:before {content: \"▸\";float: left;margin-right: 0.25em;color: #696969;}#sk-container-id-3 label.sk-toggleable__label-arrow:hover:before {color: black;}#sk-container-id-3 div.sk-estimator:hover label.sk-toggleable__label-arrow:before {color: black;}#sk-container-id-3 div.sk-toggleable__content {max-height: 0;max-width: 0;overflow: hidden;text-align: left;background-color: #f0f8ff;}#sk-container-id-3 div.sk-toggleable__content pre {margin: 0.2em;color: black;border-radius: 0.25em;background-color: #f0f8ff;}#sk-container-id-3 input.sk-toggleable__control:checked~div.sk-toggleable__content {max-height: 200px;max-width: 100%;overflow: auto;}#sk-container-id-3 input.sk-toggleable__control:checked~label.sk-toggleable__label-arrow:before {content: \"▾\";}#sk-container-id-3 div.sk-estimator input.sk-toggleable__control:checked~label.sk-toggleable__label {background-color: #d4ebff;}#sk-container-id-3 div.sk-label input.sk-toggleable__control:checked~label.sk-toggleable__label {background-color: #d4ebff;}#sk-container-id-3 input.sk-hidden--visually {border: 0;clip: rect(1px 1px 1px 1px);clip: rect(1px, 1px, 1px, 1px);height: 1px;margin: -1px;overflow: hidden;padding: 0;position: absolute;width: 1px;}#sk-container-id-3 div.sk-estimator {font-family: monospace;background-color: #f0f8ff;border: 1px dotted black;border-radius: 0.25em;box-sizing: border-box;margin-bottom: 0.5em;}#sk-container-id-3 div.sk-estimator:hover {background-color: #d4ebff;}#sk-container-id-3 div.sk-parallel-item::after {content: \"\";width: 100%;border-bottom: 1px solid gray;flex-grow: 1;}#sk-container-id-3 div.sk-label:hover label.sk-toggleable__label {background-color: #d4ebff;}#sk-container-id-3 div.sk-serial::before {content: \"\";position: absolute;border-left: 1px solid gray;box-sizing: border-box;top: 0;bottom: 0;left: 50%;z-index: 0;}#sk-container-id-3 div.sk-serial {display: flex;flex-direction: column;align-items: center;background-color: white;padding-right: 0.2em;padding-left: 0.2em;position: relative;}#sk-container-id-3 div.sk-item {position: relative;z-index: 1;}#sk-container-id-3 div.sk-parallel {display: flex;align-items: stretch;justify-content: center;background-color: white;position: relative;}#sk-container-id-3 div.sk-item::before, #sk-container-id-3 div.sk-parallel-item::before {content: \"\";position: absolute;border-left: 1px solid gray;box-sizing: border-box;top: 0;bottom: 0;left: 50%;z-index: -1;}#sk-container-id-3 div.sk-parallel-item {display: flex;flex-direction: column;z-index: 1;position: relative;background-color: white;}#sk-container-id-3 div.sk-parallel-item:first-child::after {align-self: flex-end;width: 50%;}#sk-container-id-3 div.sk-parallel-item:last-child::after {align-self: flex-start;width: 50%;}#sk-container-id-3 div.sk-parallel-item:only-child::after {width: 0;}#sk-container-id-3 div.sk-dashed-wrapped {border: 1px dashed gray;margin: 0 0.4em 0.5em 0.4em;box-sizing: border-box;padding-bottom: 0.4em;background-color: white;}#sk-container-id-3 div.sk-label label {font-family: monospace;font-weight: bold;display: inline-block;line-height: 1.2em;}#sk-container-id-3 div.sk-label-container {text-align: center;}#sk-container-id-3 div.sk-container {/* jupyter's `normalize.less` sets `[hidden] { display: none; }` but bootstrap.min.css set `[hidden] { display: none !important; }` so we also need the `!important` here to be able to override the default hidden behavior on the sphinx rendered scikit-learn.org. See: https://github.com/scikit-learn/scikit-learn/issues/21755 */display: inline-block !important;position: relative;}#sk-container-id-3 div.sk-text-repr-fallback {display: none;}</style><div id=\"sk-container-id-3\" class=\"sk-top-container\"><div class=\"sk-text-repr-fallback\"><pre>RandomizedSearchCV(cv=PredefinedSplit(test_fold=array([-1, -1, ...,  0,  0])),\n",
       "                   estimator=SVR(), n_iter=50,\n",
       "                   param_distributions={&#x27;C&#x27;: &lt;scipy.stats._distn_infrastructure.rv_frozen object at 0x00000221FD1849A0&gt;,\n",
       "                                        &#x27;epsilon&#x27;: &lt;scipy.stats._distn_infrastructure.rv_frozen object at 0x00000221FD184AC0&gt;,\n",
       "                                        &#x27;kernel&#x27;: [&#x27;linear&#x27;, &#x27;rbf&#x27;]},\n",
       "                   scoring=&#x27;neg_mean_squared_error&#x27;, verbose=2)</pre><b>In a Jupyter environment, please rerun this cell to show the HTML representation or trust the notebook. <br />On GitHub, the HTML representation is unable to render, please try loading this page with nbviewer.org.</b></div><div class=\"sk-container\" hidden><div class=\"sk-item sk-dashed-wrapped\"><div class=\"sk-label-container\"><div class=\"sk-label sk-toggleable\"><input class=\"sk-toggleable__control sk-hidden--visually\" id=\"sk-estimator-id-5\" type=\"checkbox\" ><label for=\"sk-estimator-id-5\" class=\"sk-toggleable__label sk-toggleable__label-arrow\">RandomizedSearchCV</label><div class=\"sk-toggleable__content\"><pre>RandomizedSearchCV(cv=PredefinedSplit(test_fold=array([-1, -1, ...,  0,  0])),\n",
       "                   estimator=SVR(), n_iter=50,\n",
       "                   param_distributions={&#x27;C&#x27;: &lt;scipy.stats._distn_infrastructure.rv_frozen object at 0x00000221FD1849A0&gt;,\n",
       "                                        &#x27;epsilon&#x27;: &lt;scipy.stats._distn_infrastructure.rv_frozen object at 0x00000221FD184AC0&gt;,\n",
       "                                        &#x27;kernel&#x27;: [&#x27;linear&#x27;, &#x27;rbf&#x27;]},\n",
       "                   scoring=&#x27;neg_mean_squared_error&#x27;, verbose=2)</pre></div></div></div><div class=\"sk-parallel\"><div class=\"sk-parallel-item\"><div class=\"sk-item\"><div class=\"sk-label-container\"><div class=\"sk-label sk-toggleable\"><input class=\"sk-toggleable__control sk-hidden--visually\" id=\"sk-estimator-id-6\" type=\"checkbox\" ><label for=\"sk-estimator-id-6\" class=\"sk-toggleable__label sk-toggleable__label-arrow\">estimator: SVR</label><div class=\"sk-toggleable__content\"><pre>SVR()</pre></div></div></div><div class=\"sk-serial\"><div class=\"sk-item\"><div class=\"sk-estimator sk-toggleable\"><input class=\"sk-toggleable__control sk-hidden--visually\" id=\"sk-estimator-id-7\" type=\"checkbox\" ><label for=\"sk-estimator-id-7\" class=\"sk-toggleable__label sk-toggleable__label-arrow\">SVR</label><div class=\"sk-toggleable__content\"><pre>SVR()</pre></div></div></div></div></div></div></div></div></div></div>"
      ],
      "text/plain": [
       "RandomizedSearchCV(cv=PredefinedSplit(test_fold=array([-1, -1, ...,  0,  0])),\n",
       "                   estimator=SVR(), n_iter=50,\n",
       "                   param_distributions={'C': <scipy.stats._distn_infrastructure.rv_frozen object at 0x00000221FD1849A0>,\n",
       "                                        'epsilon': <scipy.stats._distn_infrastructure.rv_frozen object at 0x00000221FD184AC0>,\n",
       "                                        'kernel': ['linear', 'rbf']},\n",
       "                   scoring='neg_mean_squared_error', verbose=2)"
      ]
     },
     "execution_count": 17,
     "metadata": {},
     "output_type": "execute_result"
    }
   ],
   "source": [
    "from sklearn.model_selection import RandomizedSearchCV\n",
    "from scipy.stats import expon, reciprocal\n",
    "\n",
    "split_index = [-1]*len(X_features[0]) + [0]*len(X_features[1])\n",
    "X = np.concatenate((X_features[0], X_features[1]), axis=0)\n",
    "y = np.concatenate((y_labels[0], y_labels[1]), axis=0)\n",
    "pds = PredefinedSplit(test_fold = split_index)\n",
    "# see https://docs.scipy.org/doc/scipy/reference/stats.html\n",
    "# for `expon()` and `reciprocal()` documentation and more probability distribution functions.\n",
    "\n",
    "# Note: gamma is ignored when kernel is \"linear\"\n",
    "param_distribs = {\n",
    "        'kernel': ['linear', 'rbf'],\n",
    "        'C': reciprocal(1, 100),\n",
    "        'epsilon': expon(scale=1.0),\n",
    "    }\n",
    "\n",
    "svm_reg = SVR()\n",
    "rnd_search = RandomizedSearchCV(svm_reg, param_distributions=param_distribs,\n",
    "                                n_iter=50, cv=pds, scoring='neg_mean_squared_error',\n",
    "                                verbose=2)\n",
    "rnd_search.fit(X, y)"
   ]
  },
  {
   "cell_type": "code",
   "execution_count": 18,
   "id": "d62708b8",
   "metadata": {},
   "outputs": [
    {
     "data": {
      "text/plain": [
       "['_randomly_optimized_svm_regressor.pkl']"
      ]
     },
     "execution_count": 18,
     "metadata": {},
     "output_type": "execute_result"
    }
   ],
   "source": [
    "joblib.dump(rnd_search.best_estimator_, \"_randomly_optimized_svm_regressor.pkl\")"
   ]
  },
  {
   "cell_type": "code",
   "execution_count": 19,
   "id": "88603a64",
   "metadata": {},
   "outputs": [
    {
     "data": {
      "text/html": [
       "<style>#sk-container-id-4 {color: black;background-color: white;}#sk-container-id-4 pre{padding: 0;}#sk-container-id-4 div.sk-toggleable {background-color: white;}#sk-container-id-4 label.sk-toggleable__label {cursor: pointer;display: block;width: 100%;margin-bottom: 0;padding: 0.3em;box-sizing: border-box;text-align: center;}#sk-container-id-4 label.sk-toggleable__label-arrow:before {content: \"▸\";float: left;margin-right: 0.25em;color: #696969;}#sk-container-id-4 label.sk-toggleable__label-arrow:hover:before {color: black;}#sk-container-id-4 div.sk-estimator:hover label.sk-toggleable__label-arrow:before {color: black;}#sk-container-id-4 div.sk-toggleable__content {max-height: 0;max-width: 0;overflow: hidden;text-align: left;background-color: #f0f8ff;}#sk-container-id-4 div.sk-toggleable__content pre {margin: 0.2em;color: black;border-radius: 0.25em;background-color: #f0f8ff;}#sk-container-id-4 input.sk-toggleable__control:checked~div.sk-toggleable__content {max-height: 200px;max-width: 100%;overflow: auto;}#sk-container-id-4 input.sk-toggleable__control:checked~label.sk-toggleable__label-arrow:before {content: \"▾\";}#sk-container-id-4 div.sk-estimator input.sk-toggleable__control:checked~label.sk-toggleable__label {background-color: #d4ebff;}#sk-container-id-4 div.sk-label input.sk-toggleable__control:checked~label.sk-toggleable__label {background-color: #d4ebff;}#sk-container-id-4 input.sk-hidden--visually {border: 0;clip: rect(1px 1px 1px 1px);clip: rect(1px, 1px, 1px, 1px);height: 1px;margin: -1px;overflow: hidden;padding: 0;position: absolute;width: 1px;}#sk-container-id-4 div.sk-estimator {font-family: monospace;background-color: #f0f8ff;border: 1px dotted black;border-radius: 0.25em;box-sizing: border-box;margin-bottom: 0.5em;}#sk-container-id-4 div.sk-estimator:hover {background-color: #d4ebff;}#sk-container-id-4 div.sk-parallel-item::after {content: \"\";width: 100%;border-bottom: 1px solid gray;flex-grow: 1;}#sk-container-id-4 div.sk-label:hover label.sk-toggleable__label {background-color: #d4ebff;}#sk-container-id-4 div.sk-serial::before {content: \"\";position: absolute;border-left: 1px solid gray;box-sizing: border-box;top: 0;bottom: 0;left: 50%;z-index: 0;}#sk-container-id-4 div.sk-serial {display: flex;flex-direction: column;align-items: center;background-color: white;padding-right: 0.2em;padding-left: 0.2em;position: relative;}#sk-container-id-4 div.sk-item {position: relative;z-index: 1;}#sk-container-id-4 div.sk-parallel {display: flex;align-items: stretch;justify-content: center;background-color: white;position: relative;}#sk-container-id-4 div.sk-item::before, #sk-container-id-4 div.sk-parallel-item::before {content: \"\";position: absolute;border-left: 1px solid gray;box-sizing: border-box;top: 0;bottom: 0;left: 50%;z-index: -1;}#sk-container-id-4 div.sk-parallel-item {display: flex;flex-direction: column;z-index: 1;position: relative;background-color: white;}#sk-container-id-4 div.sk-parallel-item:first-child::after {align-self: flex-end;width: 50%;}#sk-container-id-4 div.sk-parallel-item:last-child::after {align-self: flex-start;width: 50%;}#sk-container-id-4 div.sk-parallel-item:only-child::after {width: 0;}#sk-container-id-4 div.sk-dashed-wrapped {border: 1px dashed gray;margin: 0 0.4em 0.5em 0.4em;box-sizing: border-box;padding-bottom: 0.4em;background-color: white;}#sk-container-id-4 div.sk-label label {font-family: monospace;font-weight: bold;display: inline-block;line-height: 1.2em;}#sk-container-id-4 div.sk-label-container {text-align: center;}#sk-container-id-4 div.sk-container {/* jupyter's `normalize.less` sets `[hidden] { display: none; }` but bootstrap.min.css set `[hidden] { display: none !important; }` so we also need the `!important` here to be able to override the default hidden behavior on the sphinx rendered scikit-learn.org. See: https://github.com/scikit-learn/scikit-learn/issues/21755 */display: inline-block !important;position: relative;}#sk-container-id-4 div.sk-text-repr-fallback {display: none;}</style><div id=\"sk-container-id-4\" class=\"sk-top-container\"><div class=\"sk-text-repr-fallback\"><pre>SVR(C=11.483217636819315, epsilon=0.042289755561297646)</pre><b>In a Jupyter environment, please rerun this cell to show the HTML representation or trust the notebook. <br />On GitHub, the HTML representation is unable to render, please try loading this page with nbviewer.org.</b></div><div class=\"sk-container\" hidden><div class=\"sk-item\"><div class=\"sk-estimator sk-toggleable\"><input class=\"sk-toggleable__control sk-hidden--visually\" id=\"sk-estimator-id-8\" type=\"checkbox\" checked><label for=\"sk-estimator-id-8\" class=\"sk-toggleable__label sk-toggleable__label-arrow\">SVR</label><div class=\"sk-toggleable__content\"><pre>SVR(C=11.483217636819315, epsilon=0.042289755561297646)</pre></div></div></div></div></div>"
      ],
      "text/plain": [
       "SVR(C=11.483217636819315, epsilon=0.042289755561297646)"
      ]
     },
     "execution_count": 19,
     "metadata": {},
     "output_type": "execute_result"
    }
   ],
   "source": [
    "rnd_search.best_estimator_"
   ]
  },
  {
   "cell_type": "code",
   "execution_count": null,
   "id": "6760e561",
   "metadata": {},
   "outputs": [],
   "source": []
  }
 ],
 "metadata": {
  "kernelspec": {
   "display_name": "Python 3 (ipykernel)",
   "language": "python",
   "name": "python3"
  },
  "language_info": {
   "codemirror_mode": {
    "name": "ipython",
    "version": 3
   },
   "file_extension": ".py",
   "mimetype": "text/x-python",
   "name": "python",
   "nbconvert_exporter": "python",
   "pygments_lexer": "ipython3",
   "version": "3.10.1"
  }
 },
 "nbformat": 4,
 "nbformat_minor": 5
}
